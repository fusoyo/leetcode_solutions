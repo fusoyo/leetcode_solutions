class Solution:
    def rob(self, nums) -> int:
        
        return max(nums[0], self.helper(nums[1:]), self.helper(nums[:-1])) 
    
    def helper(self,nums):
        rob1, rob2 = 0, 0
        
        # [rob1, rob2, n, n+1, n+2,...] finally, rob2 will take the biggest value
        for n in nums:
            newRob = max(rob1+n,rob2)
            rob1 = rob2
            rob2 = newRob
        return rob2
# TIME Complexity:O(n) S C:O(1)



s = Solution()
s.rob([2,3,4,5])




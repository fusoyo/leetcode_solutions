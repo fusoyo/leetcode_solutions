{
 "cells": [
  {
   "cell_type": "markdown",
   "metadata": {},
   "source": [
    "# Largest Rectangle in Histogram"
   ]
  },
  {
   "cell_type": "code",
   "execution_count": 15,
   "metadata": {},
   "outputs": [],
   "source": [
    "class Solution:\n",
    "    def largestRectangleArea(self, heights:list) -> int:\n",
    "        maxArea = 0 \n",
    "        stack = []  # pair:(index,height)\n",
    "        \n",
    "        for i,h in enumerate(heights):\n",
    "            start = i \n",
    "            while stack and stack[-1][1] > h:\n",
    "                index, height = stack.pop()\n",
    "                maxArea = max(maxArea, height * (i-index))   # the \n",
    "                start = index  # the start will be equal to the top one. \n",
    "            stack.append((start, h))\n",
    "        \n",
    "        for i,h in stack:\n",
    "            maxArea = max(maxArea, h*(len(heights)-i))\n",
    "        return maxArea\n",
    "        "
   ]
  },
  {
   "cell_type": "code",
   "execution_count": 16,
   "metadata": {},
   "outputs": [
    {
     "name": "stdout",
     "output_type": "stream",
     "text": [
      "[(0, 2)]\n",
      "1 0 2 2\n",
      "[(0, 1)]\n",
      "[(0, 1), (2, 5)]\n",
      "[(0, 1), (2, 5), (3, 6)]\n",
      "4 3 6 6\n",
      "4 2 5 10\n",
      "[(0, 1), (2, 2)]\n",
      "[(0, 1), (2, 2), (5, 3)]\n"
     ]
    },
    {
     "data": {
      "text/plain": [
       "10"
      ]
     },
     "execution_count": 16,
     "metadata": {},
     "output_type": "execute_result"
    }
   ],
   "source": [
    "s = Solution()\n",
    "s.largestRectangleArea([2,1,5,6,2,3])"
   ]
  },
  {
   "cell_type": "code",
   "execution_count": null,
   "metadata": {},
   "outputs": [],
   "source": []
  }
 ],
 "metadata": {
  "kernelspec": {
   "display_name": "Python 3",
   "language": "python",
   "name": "python3"
  },
  "language_info": {
   "codemirror_mode": {
    "name": "ipython",
    "version": 3
   },
   "file_extension": ".py",
   "mimetype": "text/x-python",
   "name": "python",
   "nbconvert_exporter": "python",
   "pygments_lexer": "ipython3",
   "version": "3.8.5"
  },
  "orig_nbformat": 4
 },
 "nbformat": 4,
 "nbformat_minor": 2
}

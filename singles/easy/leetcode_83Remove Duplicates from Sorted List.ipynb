{
 "cells": [
  {
   "cell_type": "markdown",
   "source": [
    "# Remove Duplicates from Sorted List"
   ],
   "metadata": {
    "collapsed": false
   }
  },
  {
   "cell_type": "markdown",
   "source": [
    "Given the head of a sorted linked list, delete all duplicates such that each element appears only once.\n",
    "Return the linked list sorted as well.\n",
    "\n",
    "Input: head = [1,1,2]\n",
    "Output: [1,2]\n",
    "\n",
    "Input: head = [1,1,2,3,3]\n",
    "Output: [1,2,3]\n"
   ],
   "metadata": {
    "collapsed": false
   }
  },
  {
   "cell_type": "code",
   "execution_count": 1,
   "metadata": {
    "collapsed": true
   },
   "outputs": [],
   "source": [
    "# Definition for singly-linked list.\n",
    "# class ListNode:\n",
    "#     def __init__(self, val=0, next=None):\n",
    "#         self.val = val\n",
    "#         self.next = next\n",
    "class Solution:\n",
    "    def deleteDuplicates(self, head: Optional[ListNode]) -> Optional[ListNode]:\n",
    "        if not head:\n",
    "            return None\n",
    "\n",
    "        cur = head.next\n",
    "        dummy = head # do not need to start from a fake head like ListNode(0) ;\n",
    "        prev = head\n",
    "\n",
    "        while cur:\n",
    "\n",
    "            if cur.val != prev.val:\n",
    "                prev.next = cur\n",
    "                prev = prev.next # the prev's moving speed is different from cur, cuz only when cur's val is different from prev's, it updates itself'\n",
    "            elif cur.val == prev.val:\n",
    "                nxt = cur.next\n",
    "                prev.next = nxt\n",
    "\n",
    "            cur = cur.next # but cur should start from the second node and should update and move forward one by one.\n",
    "        return  dummy\n",
    "\n",
    "    def deleteDuplicates2(self, head: Optional[ListNode]) -> Optional[ListNode]:\n",
    "        if not head:\n",
    "            return None\n",
    "\n",
    "        cur = head\n",
    "        dummy = head # do not need to start from a fake head like ListNode(0) ;\n",
    "\n",
    "        while cur:\n",
    "            while cur.next and cur.next.val == cur.val:\n",
    "                cur.next = cur.next.next\n",
    "            cur = cur.next\n",
    "\n",
    "        return  dummy"
   ]
  },
  {
   "cell_type": "code",
   "execution_count": null,
   "outputs": [],
   "source": [],
   "metadata": {
    "collapsed": false,
    "pycharm": {
     "name": "#%%\n"
    }
   }
  }
 ],
 "metadata": {
  "kernelspec": {
   "display_name": "Python 3",
   "language": "python",
   "name": "python3"
  },
  "language_info": {
   "codemirror_mode": {
    "name": "ipython",
    "version": 2
   },
   "file_extension": ".py",
   "mimetype": "text/x-python",
   "name": "python",
   "nbconvert_exporter": "python",
   "pygments_lexer": "ipython2",
   "version": "2.7.6"
  }
 },
 "nbformat": 4,
 "nbformat_minor": 0
}
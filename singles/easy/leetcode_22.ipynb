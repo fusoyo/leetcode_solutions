{
 "cells": [
  {
   "cell_type": "markdown",
   "metadata": {},
   "source": [
    "description: 编写一个函数来判断给定的目标值是否存在于数组中。若存在返回 true，否则返回 false。"
   ]
  },
  {
   "cell_type": "code",
   "execution_count": 39,
   "metadata": {
    "ExecuteTime": {
     "end_time": "2021-06-16T16:07:01.607426Z",
     "start_time": "2021-06-16T16:07:01.594366Z"
    }
   },
   "outputs": [],
   "source": [
    "class Solution:\n",
    "    def search(self,nums,target):\n",
    "        nums.sort()\n",
    "#         binary search\n",
    "        min,max = nums[0],nums[-1]\n",
    "        left = 0\n",
    "        right = len(nums)-1\n",
    "        middle = (left+right)//2\n",
    "        if target < min or target > max:return False\n",
    "        while left<=right:\n",
    "            print(middle)\n",
    "            if target>nums[middle]:\n",
    "                left = middle\n",
    "            if target<nums[middle]:\n",
    "                right = middle\n",
    "            if target==nums[middle]:\n",
    "                print('1',middle)\n",
    "                return True\n",
    "            middle = (left+right)//2\n",
    "            print(middle)\n",
    "        return False\n",
    "\n",
    "            \n",
    "        "
   ]
  },
  {
   "cell_type": "code",
   "execution_count": 40,
   "metadata": {
    "ExecuteTime": {
     "end_time": "2021-06-16T16:07:01.968361Z",
     "start_time": "2021-06-16T16:07:01.965245Z"
    }
   },
   "outputs": [],
   "source": [
    "s = Solution()"
   ]
  },
  {
   "cell_type": "code",
   "execution_count": 41,
   "metadata": {
    "ExecuteTime": {
     "end_time": "2021-06-16T16:07:02.885209Z",
     "start_time": "2021-06-16T16:07:02.878666Z"
    }
   },
   "outputs": [
    {
     "name": "stdout",
     "output_type": "stream",
     "text": [
      "7\n",
      "10\n",
      "10\n",
      "12\n",
      "12\n",
      "1 12\n"
     ]
    },
    {
     "data": {
      "text/plain": [
       "True"
      ]
     },
     "execution_count": 41,
     "metadata": {},
     "output_type": "execute_result"
    }
   ],
   "source": [
    "s.search([1,2,3,4,5,5,6,6,6,6,6,7,7,8,8],7)"
   ]
  },
  {
   "cell_type": "code",
   "execution_count": null,
   "metadata": {},
   "outputs": [],
   "source": []
  }
 ],
 "metadata": {
  "kernelspec": {
   "display_name": "Python 3",
   "language": "python",
   "name": "python3"
  },
  "language_info": {
   "codemirror_mode": {
    "name": "ipython",
    "version": 3
   },
   "file_extension": ".py",
   "mimetype": "text/x-python",
   "name": "python",
   "nbconvert_exporter": "python",
   "pygments_lexer": "ipython3",
   "version": "3.8.5"
  },
  "toc": {
   "base_numbering": 1,
   "nav_menu": {},
   "number_sections": true,
   "sideBar": true,
   "skip_h1_title": false,
   "title_cell": "Table of Contents",
   "title_sidebar": "Contents",
   "toc_cell": false,
   "toc_position": {},
   "toc_section_display": true,
   "toc_window_display": false
  },
  "varInspector": {
   "cols": {
    "lenName": 16,
    "lenType": 16,
    "lenVar": 40
   },
   "kernels_config": {
    "python": {
     "delete_cmd_postfix": "",
     "delete_cmd_prefix": "del ",
     "library": "var_list.py",
     "varRefreshCmd": "print(var_dic_list())"
    },
    "r": {
     "delete_cmd_postfix": ") ",
     "delete_cmd_prefix": "rm(",
     "library": "var_list.r",
     "varRefreshCmd": "cat(var_dic_list()) "
    }
   },
   "types_to_exclude": [
    "module",
    "function",
    "builtin_function_or_method",
    "instance",
    "_Feature"
   ],
   "window_display": false
  }
 },
 "nbformat": 4,
 "nbformat_minor": 4
}

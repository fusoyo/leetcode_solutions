{
 "cells": [
  {
   "cell_type": "markdown",
   "metadata": {
    "collapsed": true,
    "pycharm": {
     "name": "#%% md\n"
    }
   },
   "source": [
    "given a string text, you want to use the characters of text to form as many instances of the word \"balloon\" as possible.\n",
    "\n",
    "You can use each character in text at most once. Return the maximum number of instances that can be formed.\n",
    "\n",
    "\n",
    "\n",
    "Example 1:\n",
    "\n",
    "\n",
    "\n",
    "Input: text = \"nlaebolko\"\n",
    "Output: 1\n",
    "Example 2:\n",
    "\n",
    "\n",
    "\n",
    "Input: text = \"loonbalxballpoon\"\n",
    "Output: 2\n",
    "Example 3:\n",
    "\n",
    "Input: text = \"leetcode\"\n",
    "Output: 0"
   ]
  },
  {
   "cell_type": "code",
   "execution_count": 17,
   "outputs": [],
   "source": [
    "class Solution:\n",
    "    def maxNumberOfBalloons(self, text: str) -> int:\n",
    "        if len(text) < len('balloon'):\n",
    "            return 0\n",
    "\n",
    "        hashTable = {}\n",
    "        for s in text:\n",
    "            if s in 'balloon':\n",
    "                hashTable[s] = 1 + hashTable.get(s, 0)\n",
    "\n",
    "        if len(hashTable) == 5:\n",
    "            return min(hashTable['b'], hashTable['a'], hashTable['n'], hashTable['o'] // 2,\n",
    "                       hashTable['l'] // 2)  # the ratio is 2:1, so there is a bottleneck.\n",
    "\n",
    "        return 0\n",
    "\n"
   ],
   "metadata": {
    "collapsed": false,
    "pycharm": {
     "name": "#%%\n"
    }
   }
  },
  {
   "cell_type": "code",
   "execution_count": null,
   "outputs": [],
   "source": [
    "from collections import Counter\n",
    "# use counter to count the text and then do the  division btw text and 'balloon' under the same character., take the minimum division result"
   ],
   "metadata": {
    "collapsed": false,
    "pycharm": {
     "name": "#%%\n"
    }
   }
  },
  {
   "cell_type": "code",
   "execution_count": 18,
   "outputs": [
    {
     "name": "stdout",
     "output_type": "stream",
     "text": [
      "29 {'b': 37, 'a': 46, 'o': 37, 'l': 29, 'n': 37}\n"
     ]
    },
    {
     "data": {
      "text/plain": "14"
     },
     "execution_count": 18,
     "metadata": {},
     "output_type": "execute_result"
    }
   ],
   "source": [
    "s = Solution()\n",
    "s.maxNumberOfBalloons(\n",
    "    \"mbetypbpefxvviadqaodrbjeoacfomepmzymiudltgnvnpbowwmjgpzzhtiismearuwocsgbiimiqqzaozgeizikrlxmupfzjzmlfttqqbpfblqfkecsdfbsceqjhubfxksivrfwvukapxmuciybfhzlmpeamdxziptxregymqtmgcsujmugissgnlbhxbcxxeoumcqyulvahuianbaaxgzrtmshjguqdaxvxndzoqvwmcjfhpevavnrciqbymnlylbrfkkiceienoarfrzzxtuaqapaeqeqolozadmtgjyhfqzpuaskjuawxqkdqyjqcmbxtvshzrquvegcuyuckznspmrxvqdassidcmrajedsnuuumfwqzvasljlyvfefktiqgvzvdzojtjegsyhbepdkuwvgrfscezvswywmdavpxlekbrlkfnbyvlobazmvgulxrfdranuhomkrlpbfeagfxxxuhjuqhbkhznixquxrxngwimdxdhqbdaouitsvcdmbwxbbaomkgxsqwnexbjjyhtxvkjfqkrrxjghvzqsattubphryqxxdyjkihfnzvjhohnhdlfwoqiwtmwzfgcyhyqtcketvgnbchcxvnhcsoosirfqgdgcsitegzlxdfijzmxnvhrulmgvoqfpzesootscnxenokmmozmoxpaverydbsnimwacjqhrtxkqtvghjyushoctxphxzztukgmnoeycqaeukymvwxcsyvvctflqjhtcvjtxncuvhkptkjnzaetwbzkwnseovewuhpkaxiphdicgacszzdturzgjkzwgkmzzavykancvvzaafgzjhcyicorrblmhsnnkhfkujttbkuuedhwguuaapojmnjdfytdhrepjwcddzsoeutlbbljlikghxefgbqenwamanikmynjcupqpdjnhldaixwygcvsgdkzszmsptqqnroflgozblygtiyaxudwmooiviqcosjfksnevultrf\")"
   ],
   "metadata": {
    "collapsed": false,
    "pycharm": {
     "name": "#%%\n"
    }
   }
  },
  {
   "cell_type": "code",
   "execution_count": 3,
   "outputs": [],
   "source": [
    "a = 1\n",
    "b = 3\n",
    "a //= b"
   ],
   "metadata": {
    "collapsed": false,
    "pycharm": {
     "name": "#%%\n"
    }
   }
  },
  {
   "cell_type": "code",
   "execution_count": 4,
   "outputs": [
    {
     "data": {
      "text/plain": "0"
     },
     "execution_count": 4,
     "metadata": {},
     "output_type": "execute_result"
    }
   ],
   "source": [
    "a"
   ],
   "metadata": {
    "collapsed": false,
    "pycharm": {
     "name": "#%%\n"
    }
   }
  },
  {
   "cell_type": "code",
   "execution_count": 5,
   "outputs": [
    {
     "data": {
      "text/plain": "0"
     },
     "execution_count": 5,
     "metadata": {},
     "output_type": "execute_result"
    }
   ],
   "source": [
    "2 // 3"
   ],
   "metadata": {
    "collapsed": false,
    "pycharm": {
     "name": "#%%\n"
    }
   }
  },
  {
   "cell_type": "code",
   "execution_count": 6,
   "outputs": [
    {
     "data": {
      "text/plain": "13"
     },
     "execution_count": 6,
     "metadata": {},
     "output_type": "execute_result"
    }
   ],
   "source": [
    "10 ^ 7"
   ],
   "metadata": {
    "collapsed": false,
    "pycharm": {
     "name": "#%%\n"
    }
   }
  },
  {
   "cell_type": "code",
   "execution_count": 7,
   "outputs": [
    {
     "data": {
      "text/plain": "15"
     },
     "execution_count": 7,
     "metadata": {},
     "output_type": "execute_result"
    }
   ],
   "source": [
    "10 | 7"
   ],
   "metadata": {
    "collapsed": false,
    "pycharm": {
     "name": "#%%\n"
    }
   }
  },
  {
   "cell_type": "code",
   "execution_count": 8,
   "outputs": [
    {
     "data": {
      "text/plain": "18"
     },
     "execution_count": 8,
     "metadata": {},
     "output_type": "execute_result"
    }
   ],
   "source": [
    "a = 9\n",
    "a << 1"
   ],
   "metadata": {
    "collapsed": false,
    "pycharm": {
     "name": "#%%\n"
    }
   }
  },
  {
   "cell_type": "code",
   "execution_count": 9,
   "outputs": [
    {
     "data": {
      "text/plain": "4"
     },
     "execution_count": 9,
     "metadata": {},
     "output_type": "execute_result"
    }
   ],
   "source": [
    "a >> 1"
   ],
   "metadata": {
    "collapsed": false,
    "pycharm": {
     "name": "#%%\n"
    }
   }
  },
  {
   "cell_type": "code",
   "execution_count": 5,
   "outputs": [],
   "source": [
    "set1 = set()\n",
    "set2 = set()\n",
    "\n",
    "for i in range(5):\n",
    "    set1.add(i)\n",
    "\n",
    "for i in range(6):\n",
    "    set2.add(i)"
   ],
   "metadata": {
    "collapsed": false,
    "pycharm": {
     "name": "#%%\n"
    }
   }
  },
  {
   "cell_type": "code",
   "execution_count": 8,
   "outputs": [],
   "source": [
    "set3 = set2.difference(set1)"
   ],
   "metadata": {
    "collapsed": false,
    "pycharm": {
     "name": "#%%\n"
    }
   }
  },
  {
   "cell_type": "code",
   "execution_count": 9,
   "outputs": [
    {
     "data": {
      "text/plain": "{5}"
     },
     "execution_count": 9,
     "metadata": {},
     "output_type": "execute_result"
    }
   ],
   "source": [
    "set3"
   ],
   "metadata": {
    "collapsed": false,
    "pycharm": {
     "name": "#%%\n"
    }
   }
  },
  {
   "cell_type": "code",
   "execution_count": null,
   "outputs": [],
   "source": [
    "# you can write to stdout for debugging purposes, e.g.\n",
    "# print(\"this is a debug message\")\n",
    "\n",
    "def solution(A):\n",
    "    # write your code in Python 3.6\n",
    "    res = 0\n",
    "    speed = []\n",
    "    for i in range(len(A) - 1):\n",
    "        s = A[i + 1] - A[i]\n",
    "\n",
    "        speed.append(s)\n",
    "\n",
    "    print(len(A), len(speed), speed)\n",
    "    prev = speed[0]\n",
    "    for i in range(1, len(speed)):\n",
    "        curr = speed[i]\n",
    "        if curr == prev:\n",
    "            res += 1\n",
    "        else:\n",
    "            prev = curr\n",
    "\n",
    "    if res > 1000000000:\n",
    "        return -1\n",
    "    else:\n",
    "        return res"
   ],
   "metadata": {
    "collapsed": false,
    "pycharm": {
     "name": "#%%\n"
    }
   }
  },
  {
   "cell_type": "code",
   "execution_count": null,
   "outputs": [],
   "source": [
    "class Solution {\n",
    "public int solution(int[] A) {\n",
    "int ans = 0;\n",
    "for (int i = 1; i < A.length; i++) {\n",
    "int length = 0;\n",
    "int diff = A[i] - A[i - 1];\n",
    "for (int j = i + 1; j < A.length; j++) {\n",
    "if (A[j] - A[j - 1] != diff)\n",
    "\n",
    "\n",
    "break;\n",
    "length + +;\n",
    "}\n",
    "ans += (length * (length + 1)) / 2;\n",
    "i += length;\n",
    "}\n",
    "return ans;\n",
    "}\n",
    "}"
   ],
   "metadata": {
    "collapsed": false,
    "pycharm": {
     "name": "#%%\n"
    }
   }
  },
  {
   "cell_type": "code",
   "execution_count": null,
   "outputs": [],
   "source": [
    "2\n",
    "2\n",
    "0\n",
    "0\n",
    "- 1\n",
    "1\n",
    "- 1\n",
    "- 1"
   ],
   "metadata": {
    "collapsed": false,
    "pycharm": {
     "name": "#%%\n"
    }
   }
  },
  {
   "cell_type": "code",
   "execution_count": null,
   "outputs": [],
   "source": [
    "2\n",
    "0\n",
    "- 1\n",
    "1\n",
    "- 1"
   ],
   "metadata": {
    "collapsed": false,
    "pycharm": {
     "name": "#%%\n"
    }
   }
  },
  {
   "cell_type": "code",
   "execution_count": null,
   "outputs": [],
   "source": [
    "2\n",
    "0\n",
    "0\n",
    "0\n",
    "- 1\n",
    "0\n",
    "1\n",
    "0\n",
    "- 1\n",
    "0"
   ],
   "metadata": {
    "collapsed": false,
    "pycharm": {
     "name": "#%%\n"
    }
   }
  },
  {
   "cell_type": "code",
   "execution_count": null,
   "outputs": [],
   "source": [
    "  int\n",
    "ans = 0;\n",
    "for (int i = 1; i < A.length; i++)\n",
    "{\n",
    "    int\n",
    "length = 0;\n",
    "int\n",
    "diff = A[i] - A[i - 1];\n",
    "\n",
    "for (int j = i + 1; j < A.length; j++)\n",
    "{\n",
    "if (A[j] - A[j - 1] != diff) break;\n",
    "length + +;\n",
    "}\n",
    "ans += (length * (length + 1)) / 2;\n",
    "i += length;\n",
    "System.out.println(diff);\n",
    "System.out.println(length);\n",
    "}\n",
    "return ans;"
   ],
   "metadata": {
    "collapsed": false,
    "pycharm": {
     "name": "#%%\n"
    }
   }
  },
  {
   "cell_type": "code",
   "execution_count": 13,
   "outputs": [],
   "source": [
    "def solution(A):\n",
    "    if len(A) <= 2:\n",
    "        return 0\n",
    "\n",
    "    result, n_same = 0, 1\n",
    "    for i in range(1, len(A) - 1):\n",
    "        diff_1 = A[i] - A[i - 1]\n",
    "        diff_2 = A[i + 1] - A[i]\n",
    "\n",
    "        if diff_1 == diff_2:\n",
    "            n_same += 1\n",
    "        else:\n",
    "            result += arithmetic(n_same)\n",
    "            n_same = 1\n",
    "    result += arithmetic(n_same)\n",
    "    return result\n",
    "\n",
    "\n",
    "def arithmetic(n):\n",
    "    kernal = 2\n",
    "    if n < kernal:\n",
    "        return 0\n",
    "    return int(((n - kernal + 1) + (1)) * (n - kernal + 1) / 2)"
   ],
   "metadata": {
    "collapsed": false,
    "pycharm": {
     "name": "#%%\n"
    }
   }
  },
  {
   "cell_type": "code",
   "execution_count": 14,
   "outputs": [
    {
     "data": {
      "text/plain": "5"
     },
     "execution_count": 14,
     "metadata": {},
     "output_type": "execute_result"
    }
   ],
   "source": [
    "solution([-1, 1, 3, 3, 3, 2, 3, 2, 1, 0])"
   ],
   "metadata": {
    "collapsed": false,
    "pycharm": {
     "name": "#%%\n"
    }
   }
  },
  {
   "cell_type": "code",
   "execution_count": null,
   "outputs": [],
   "source": [
    "\n",
    "\n",
    "def solution(A):\n",
    "    ans = 0\n",
    "    for i in range(1, len(A) - 1):\n",
    "        length = 0\n",
    "        diff = A[i] - A[i - 1]\n",
    "\n",
    "        for j in range(i + 1, len(A) - 1):\n",
    "            diffJ = A[j] - A[j - 1]\n",
    "            if (diffJ != diff):\n",
    "                break\n",
    "            length += 1\n",
    "        ans += (length * (length + 1)) // 2\n",
    "        i += length\n",
    "        print(i, diff, length)\n",
    "\n",
    "    if ans > 1000000000:\n",
    "        return -1\n",
    "    return ans"
   ],
   "metadata": {
    "collapsed": false,
    "pycharm": {
     "name": "#%%\n"
    }
   }
  },
  {
   "cell_type": "code",
   "execution_count": 17,
   "outputs": [],
   "source": [
    "def solution(N):\n",
    "    # write your code in Python 3.6\n",
    "\n",
    "    S = [1]\n",
    "    i2 = 0  # current index in 2S\n",
    "    i3 = 0  # current index in 3S\n",
    "    while len(S) <= 4:\n",
    "        n2 = 2 * S[i2]\n",
    "        n3 = 3 * S[i3]\n",
    "        S.append(min(n2, n3))\n",
    "        i2 += n2 <= n3\n",
    "        i3 += n2 >= n3\n",
    "    print(S)\n",
    "    return S[-1]"
   ],
   "metadata": {
    "collapsed": false,
    "pycharm": {
     "name": "#%%\n"
    }
   }
  },
  {
   "cell_type": "code",
   "execution_count": 19,
   "outputs": [
    {
     "name": "stdout",
     "output_type": "stream",
     "text": [
      "[1, 2, 3, 4, 6]\n"
     ]
    },
    {
     "data": {
      "text/plain": "6"
     },
     "execution_count": 19,
     "metadata": {},
     "output_type": "execute_result"
    }
   ],
   "source": [
    "solution(10)"
   ],
   "metadata": {
    "collapsed": false,
    "pycharm": {
     "name": "#%%\n"
    }
   }
  },
  {
   "cell_type": "code",
   "execution_count": null,
   "outputs": [],
   "source": [
    "# you can write to stdout for debugging purposes, e.g.\n",
    "# print(\"this is a debug message\")\n",
    "\n",
    "def solution(N):\n",
    "    # write your code in Python 3.6\n",
    "\n",
    "    S = [1]\n",
    "    i2 = 0  # current index in 2S\n",
    "    i3 = 0  # current index in 3S\n",
    "    while len(S) <= N:\n",
    "        n2 = 2 * S[i2]\n",
    "        n3 = 3 * S[i3]\n",
    "        S.append(min(n2, n3))\n",
    "        i2 += n2 <= n3\n",
    "        i3 += n2 >= n3\n",
    "\n",
    "    return S[-1]"
   ],
   "metadata": {
    "collapsed": false,
    "pycharm": {
     "name": "#%%\n"
    }
   }
  },
  {
   "cell_type": "code",
   "execution_count": null,
   "outputs": [],
   "source": [],
   "metadata": {
    "collapsed": false,
    "pycharm": {
     "name": "#%%\n"
    }
   }
  },
  {
   "cell_type": "code",
   "execution_count": null,
   "outputs": [],
   "source": [],
   "metadata": {
    "collapsed": false,
    "pycharm": {
     "name": "#%%\n"
    }
   }
  },
  {
   "cell_type": "code",
   "execution_count": null,
   "outputs": [],
   "source": [
    "#TASK2\n",
    "# you can write to stdout for debugging purposes, e.g.\n",
    "# print(\"this is a debug message\")\n",
    "\n",
    "def solution(N):\n",
    "    # write your code in Python 3.6\n",
    "    A = [1]\n",
    "    p = 0  # current index in 2**p\n",
    "    q = 0  # current index in 3**q\n",
    "    while len(A) <= N:\n",
    "        n2 = 2 * A[p]\n",
    "        n3 = 3 * A[q]\n",
    "        A.append(min(n2, n3))  # get the minimum val btw n2 and n3;\n",
    "\n",
    "        # the update condition of p or q\n",
    "        p += n2 <= n3\n",
    "        q += n2 >= n3\n",
    "\n",
    "    return A[-1]"
   ],
   "metadata": {
    "collapsed": false,
    "pycharm": {
     "name": "#%%\n"
    }
   }
  }
 ],
 "metadata": {
  "kernelspec": {
   "display_name": "Python 3",
   "language": "python",
   "name": "python3"
  },
  "language_info": {
   "codemirror_mode": {
    "name": "ipython",
    "version": 2
   },
   "file_extension": ".py",
   "mimetype": "text/x-python",
   "name": "python",
   "nbconvert_exporter": "python",
   "pygments_lexer": "ipython2",
   "version": "2.7.6"
  }
 },
 "nbformat": 4,
 "nbformat_minor": 0
}
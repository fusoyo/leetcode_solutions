{
 "cells": [
  {
   "cell_type": "markdown",
   "metadata": {},
   "source": [
    "# Unique Email Address\n",
    "\n",
    "Every valid email consists of a local name and a domain name, separated by the '@' sign. Besides lowercase letters, the email may contain one or more '.' or '+'.\n",
    "\n",
    "For example, in \"alice@leetcode.com\", \"alice\" is the local name, and \"leetcode.com\" is the domain name.\n",
    "If you add periods '.' between some characters in the local name part of an email address, mail sent there will be forwarded to the same address without dots in the local name. Note that this rule does not apply to domain names.\n",
    "\n",
    "For example, \"alice.z@leetcode.com\" and \"alicez@leetcode.com\" forward to the same email address.\n",
    "If you add a plus '+' in the local name, everything after the first plus sign will be ignored. This allows certain emails to be filtered. Note that this rule does not apply to domain names.\n",
    "\n",
    "For example, \"m.y+name@email.com\" will be forwarded to \"my@email.com\".\n",
    "It is possible to use both of these rules at the same time.\n",
    "\n",
    "Given an array of strings emails where we send one email to each emails[i], return the number of different addresses that actually receive mails.\n",
    "\n",
    " \n",
    "\n",
    "Example 1:\n",
    "\n",
    "Input: emails = [\"test.email+alex@leetcode.com\",\"test.e.mail+bob.cathy@leetcode.com\",\"testemail+david@lee.tcode.com\"]\n",
    "Output: 2\n",
    "Explanation: \"testemail@leetcode.com\" and \"testemail@lee.tcode.com\" actually receive mails.\n",
    "Example 2:\n",
    "\n",
    "Input: emails = [\"a@leetcode.com\",\"b@leetcode.com\",\"c@leetcode.com\"]\n",
    "Output: 3\n",
    " \n",
    "\n",
    "Constraints:\n",
    "\n",
    "1 <= emails.length <= 100\n",
    "1 <= emails[i].length <= 100\n",
    "emails[i] consist of lowercase English letters, '+', '.' and '@'.\n",
    "Each emails[i] contains exactly one '@' character.\n",
    "All local and domain names are non-empty.\n",
    "Local names do not start with a '+' character.\n",
    "Domain names end with the \".com\" suffix."
   ]
  },
  {
   "cell_type": "code",
   "execution_count": 47,
   "metadata": {},
   "outputs": [],
   "source": [
    "class Solution:\n",
    "    def numUniqueEmails(self, emails) -> int:\n",
    "        # use hashset to record unique emails number\n",
    "        unique = set()\n",
    "        \n",
    "        # for e in emails:\n",
    "        #     local, domain = e.split('@')\n",
    "            \n",
    "        #     local  = local.split('+')[0]\n",
    "            \n",
    "        #     local = ''.join(local.split('.'))\n",
    "            \n",
    "        #     email = local +'@' + domain\n",
    "            \n",
    "        #     unique.add(email)\n",
    "        # return len(unique)\n",
    "        \n",
    "        for e in emails:\n",
    "            i,local = 0, \"\"\n",
    "            while e[i] not in [\"@\", \"+\"]:\n",
    "                if e[i] != \".\":\n",
    "                    local = local + e[i]\n",
    "                i +=1\n",
    "            while e[i] != \"@\":\n",
    "                i += 1\n",
    "            domain = e[i+1:]\n",
    "            \n",
    "            unique.add((local,domain))\n",
    "        return len(unique )\n",
    "                \n",
    "        \n",
    "        \n",
    "        "
   ]
  },
  {
   "cell_type": "code",
   "execution_count": 50,
   "metadata": {},
   "outputs": [
    {
     "data": {
      "text/plain": [
       "2"
      ]
     },
     "execution_count": 50,
     "metadata": {},
     "output_type": "execute_result"
    }
   ],
   "source": [
    "s = Solution()\n",
    "s.numUniqueEmails([\"a++++@leetcode.com\",\"b.@leetcode.com\",\"b+c@leetcode.com\"])"
   ]
  },
  {
   "cell_type": "code",
   "execution_count": 43,
   "metadata": {},
   "outputs": [
    {
     "data": {
      "text/plain": [
       "'lkdkll'"
      ]
     },
     "execution_count": 43,
     "metadata": {},
     "output_type": "execute_result"
    }
   ],
   "source": [
    "''.join('lk.dk.ll'.split('.'))\n"
   ]
  },
  {
   "cell_type": "code",
   "execution_count": null,
   "metadata": {},
   "outputs": [],
   "source": []
  }
 ],
 "metadata": {
  "kernelspec": {
   "display_name": "Python 3",
   "language": "python",
   "name": "python3"
  },
  "language_info": {
   "codemirror_mode": {
    "name": "ipython",
    "version": 3
   },
   "file_extension": ".py",
   "mimetype": "text/x-python",
   "name": "python",
   "nbconvert_exporter": "python",
   "pygments_lexer": "ipython3",
   "version": "3.8.5"
  },
  "orig_nbformat": 4
 },
 "nbformat": 4,
 "nbformat_minor": 2
}

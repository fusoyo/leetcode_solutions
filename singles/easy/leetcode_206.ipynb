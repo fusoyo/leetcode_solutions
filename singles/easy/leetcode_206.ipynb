{
 "cells": [
  {
   "cell_type": "markdown",
   "metadata": {},
   "source": [
    "# Reverse List\n",
    "\n",
    "iterably and recursively "
   ]
  },
  {
   "cell_type": "code",
   "execution_count": null,
   "metadata": {},
   "outputs": [],
   "source": [
    "def reverseList(head):\n",
    "    prev, curr = None,head\n",
    "    # iterably\n",
    "    while curr:\n",
    "        nxt = curr.next\n",
    "        curr.next = prev \n",
    "        prev = curr\n",
    "        curr = nxt\n",
    "\n",
    "    return prev\n",
    "        "
   ]
  },
  {
   "cell_type": "code",
   "execution_count": 2,
   "metadata": {},
   "outputs": [],
   "source": [
    "def reverseList(head):\n",
    "    # recursively\n",
    "    if not head:\n",
    "        return None\n",
    "    newHead = head\n",
    "    if head.next:\n",
    "        newHead = self.reverseList(head.next)\n",
    "        head.next.next = head\n",
    "    head,next = None \n",
    "\n",
    "    return newHead"
   ]
  },
  {
   "cell_type": "code",
   "execution_count": 14,
   "outputs": [],
   "source": [
    " class ListNode:\n",
    "     def __init__(self, val=0, next=None):\n",
    "         self.val = val\n",
    "         self.next = next\n",
    "     def __repr__(self):\n",
    "        return str(self.val)\n",
    "class Solution:\n",
    "    def reverseList(self,head):\n",
    "        if head is None or head.next is None:\n",
    "            return head\n",
    "        print('before', head.next)\n",
    "        last = self.reverseList(head.next) # to the next call back\n",
    "        print('after',last,head.next,head,head.next.next)\n",
    "        head.next.next = head # this is flip part\n",
    "        head.next = None\n",
    "\n",
    "        return last\n"
   ],
   "metadata": {
    "collapsed": false,
    "pycharm": {
     "name": "#%%\n"
    }
   }
  },
  {
   "cell_type": "code",
   "execution_count": 15,
   "outputs": [],
   "source": [
    "head = ListNode(0)\n",
    "dummy = head\n",
    "\n",
    "for i in range(1,5):\n",
    "    head.next = ListNode(i)\n",
    "    head = head.next\n",
    "\n",
    "\n"
   ],
   "metadata": {
    "collapsed": false,
    "pycharm": {
     "name": "#%%\n"
    }
   }
  },
  {
   "cell_type": "code",
   "execution_count": 16,
   "outputs": [
    {
     "name": "stdout",
     "output_type": "stream",
     "text": [
      "before 1\n",
      "before 2\n",
      "before 3\n",
      "before 4\n",
      "after 4 4 3 None\n",
      "after 4 3 2 None\n",
      "after 4 2 1 None\n",
      "after 4 1 0 None\n"
     ]
    },
    {
     "data": {
      "text/plain": "4"
     },
     "execution_count": 16,
     "metadata": {},
     "output_type": "execute_result"
    }
   ],
   "source": [
    "s = Solution()\n",
    "s.reverseList(dummy)"
   ],
   "metadata": {
    "collapsed": false,
    "pycharm": {
     "name": "#%%\n"
    }
   }
  },
  {
   "cell_type": "code",
   "execution_count": null,
   "outputs": [],
   "source": [],
   "metadata": {
    "collapsed": false,
    "pycharm": {
     "name": "#%%\n"
    }
   }
  }
 ],
 "metadata": {
  "language_info": {
   "name": "python"
  },
  "orig_nbformat": 4
 },
 "nbformat": 4,
 "nbformat_minor": 2
}
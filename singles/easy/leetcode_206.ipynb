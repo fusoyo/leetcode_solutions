{
 "cells": [
  {
   "cell_type": "markdown",
   "metadata": {},
   "source": [
    "# Reverse List\n",
    "\n",
    "iterably and recursively "
   ]
  },
  {
   "cell_type": "code",
   "execution_count": null,
   "metadata": {},
   "outputs": [],
   "source": [
    "def reverseList(head):\n",
    "    prev, curr = None,head\n",
    "    # iterably\n",
    "    while curr:\n",
    "        nxt = curr.next\n",
    "        curr.next = prev \n",
    "        prev = curr\n",
    "        curr = nxt\n",
    "\n",
    "    return prev\n",
    "        "
   ]
  },
  {
   "cell_type": "code",
   "execution_count": null,
   "metadata": {},
   "outputs": [],
   "source": [
    "def reverseList(head):\n",
    "    # recursively\n",
    "    if not head:\n",
    "        return None\n",
    "    newHead = head\n",
    "    if head.next:\n",
    "        newHead = self.reverseList(head.next)\n",
    "        head.next.next = head\n",
    "    head,next = None \n",
    "\n",
    "    return newHead"
   ]
  }
 ],
 "metadata": {
  "language_info": {
   "name": "python"
  },
  "orig_nbformat": 4
 },
 "nbformat": 4,
 "nbformat_minor": 2
}

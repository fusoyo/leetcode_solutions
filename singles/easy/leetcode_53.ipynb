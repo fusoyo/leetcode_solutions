{
 "cells": [
  {
   "cell_type": "markdown",
   "metadata": {},
   "source": [
    "# Maximum Subarray"
   ]
  },
  {
   "cell_type": "code",
   "execution_count": 11,
   "metadata": {},
   "outputs": [],
   "source": [
    "# class Solution:\n",
    "#     def maxSubArray(self, nums) -> int:\n",
    "#         if len(nums)==1:\n",
    "#             return nums[0]\n",
    "        \n",
    "#         maxsum = -10**4\n",
    "#         # getting subarrays at first is not working;                             \n",
    "#         for i in range(len(nums)-1):\n",
    "#             tmp_sum = nums[i]\n",
    "#             j = i+1\n",
    "#             while j<len(nums):\n",
    "#                 tmp_sum = tmp_sum + nums[j] # this condition should be well covered.\n",
    "#                 if maxsum < tmp_sum:\n",
    "#                     maxsum = tmp_sum\n",
    "#                 j+=1 \n",
    "\n",
    "#         return maxsum\n",
    "\n",
    "class Solution:\n",
    "    def maxSubArray(self, nums) -> int:\n",
    "        best = nums[0]\n",
    "        current = nums[0]\n",
    "        for i in nums[1:]:\n",
    "            current = max(i, current + i)\n",
    "            if best < current:\n",
    "                best = current\n",
    "        return best    \n",
    "\n",
    "class Solution:\n",
    "    def maxSubArray(self, nums) -> int:\n",
    "        if len(nums)==1:\n",
    "            return nums[0]\n",
    "        \n",
    "        best = nums[0]\n",
    "        curr = nums[0]\n",
    "        for i in range(1,len(nums)):\n",
    "            if nums[i] < curr+ nums[i]:\n",
    "                curr = curr + nums[i]\n",
    "            \n",
    "                if best < curr:\n",
    "                    best = curr\n",
    "            else:\n",
    "                curr = nums[i]\n",
    "                if best < curr:\n",
    "                    best = curr\n",
    "         \n",
    "        return best"
   ]
  },
  {
   "cell_type": "code",
   "execution_count": 13,
   "metadata": {},
   "outputs": [
    {
     "data": {
      "text/plain": [
       "1"
      ]
     },
     "execution_count": 13,
     "metadata": {},
     "output_type": "execute_result"
    }
   ],
   "source": [
    "s = Solution()\n",
    "s.maxSubArray([-2,1,])"
   ]
  },
  {
   "cell_type": "code",
   "execution_count": null,
   "metadata": {},
   "outputs": [],
   "source": []
  }
 ],
 "metadata": {
  "interpreter": {
   "hash": "90530115b0fc1967bcca638ed1474a41d3fb7ba0906789120a5cbacdea810315"
  },
  "kernelspec": {
   "display_name": "Python 3.8.6 64-bit",
   "language": "python",
   "name": "python3"
  },
  "language_info": {
   "codemirror_mode": {
    "name": "ipython",
    "version": 3
   },
   "file_extension": ".py",
   "mimetype": "text/x-python",
   "name": "python",
   "nbconvert_exporter": "python",
   "pygments_lexer": "ipython3",
   "version": "3.8.5"
  },
  "orig_nbformat": 4
 },
 "nbformat": 4,
 "nbformat_minor": 2
}

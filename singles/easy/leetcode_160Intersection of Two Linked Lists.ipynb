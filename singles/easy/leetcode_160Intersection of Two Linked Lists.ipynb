{
 "cells": [
  {
   "cell_type": "markdown",
   "metadata": {
    "collapsed": true,
    "pycharm": {
     "name": "#%% md\n"
    }
   },
   "source": [
    "Given the heads of two singly linked-lists headA and headB, return the node at which the two lists intersect. If the two linked lists have no intersection at all, return null.\n",
    "\n",
    "https://leetcode.com/problems/intersection-of-two-linked-lists/"
   ]
  },
  {
   "cell_type": "code",
   "execution_count": 47,
   "outputs": [],
   "source": [
    "# Definition for singly-linked list.\n",
    "class ListNode:\n",
    "    def __init__(self, x):\n",
    "        self.val = x\n",
    "        self.next = None\n",
    "    def __repr__(self):\n",
    "        return str(self.val)\n",
    "class Solution:\n",
    "    def getIntersectionNode(self, headA: ListNode, headB: ListNode):\n",
    "        if headA is None or headB is None:\n",
    "            return None\n",
    "\n",
    "        lengthA = self.getLength(headA)\n",
    "        lengthB = self.getLength(headB)\n",
    "\n",
    "        if lengthA < lengthB:\n",
    "            headA,headB = headB, headA\n",
    "            lengthA,lengthB = lengthB, lengthA\n",
    "\n",
    "        while lengthA > lengthB-1:\n",
    "            headA = headA.next\n",
    "            lengthA = lengthA - 1\n",
    "\n",
    "        headB = headB.next\n",
    "        while headB:\n",
    "            if headA is  headB:  # use is to check whether two nodes euqal ?\n",
    "                return headB\n",
    "            headA= headA.next\n",
    "            headB = headB.next\n",
    "\n",
    "\n",
    "    def getLength(self,root):\n",
    "        count = 0\n",
    "\n",
    "        while root:\n",
    "            count += 1\n",
    "            root = root.next\n",
    "        return count\n",
    "\n",
    "    def getIntersectionNode2(self,headA: ListNode, headB: ListNode):\n",
    "        # two pointers fast and slow\n",
    "        slow = headA\n",
    "        fast = headB\n",
    "\n",
    "\n",
    "\n",
    "        while slow != fast:\n",
    "\n",
    "            if slow is None:\n",
    "                slow = headB\n",
    "            else:\n",
    "                slow =  slow.next\n",
    "\n",
    "            if fast is None:\n",
    "                fast = headA\n",
    "            else:\n",
    "                fast = fast.next\n",
    "\n",
    "        return slow\n",
    "        # time complexity: o(n)"
   ],
   "metadata": {
    "collapsed": false,
    "pycharm": {
     "name": "#%%\n"
    }
   }
  },
  {
   "cell_type": "code",
   "execution_count": 45,
   "outputs": [],
   "source": [
    "a = ListNode(4)\n",
    "b = ListNode(1)\n",
    "c = ListNode(8)\n",
    "d = ListNode(4)\n",
    "e = ListNode(5)\n",
    "\n",
    "a.next = b\n",
    "b.next = c\n",
    "c.next = d\n",
    "d.next = e\n",
    "\n",
    "f =  ListNode(5)\n",
    "g = ListNode(6)\n",
    "h = ListNode(1)\n",
    "\n",
    "f.next = g\n",
    "g.next = h\n",
    "h.next = c\n",
    "c.next = d\n",
    "d.next = e"
   ],
   "metadata": {
    "collapsed": false,
    "pycharm": {
     "name": "#%%\n"
    }
   }
  },
  {
   "cell_type": "code",
   "execution_count": 46,
   "outputs": [
    {
     "data": {
      "text/plain": "8"
     },
     "execution_count": 46,
     "metadata": {},
     "output_type": "execute_result"
    }
   ],
   "source": [
    "s = Solution()\n",
    "s.getIntersectionNode2(a,f)"
   ],
   "metadata": {
    "collapsed": false,
    "pycharm": {
     "name": "#%%\n"
    }
   }
  },
  {
   "cell_type": "code",
   "execution_count": null,
   "outputs": [],
   "source": [],
   "metadata": {
    "collapsed": false,
    "pycharm": {
     "name": "#%%\n"
    }
   }
  }
 ],
 "metadata": {
  "kernelspec": {
   "display_name": "Python 3",
   "language": "python",
   "name": "python3"
  },
  "language_info": {
   "codemirror_mode": {
    "name": "ipython",
    "version": 2
   },
   "file_extension": ".py",
   "mimetype": "text/x-python",
   "name": "python",
   "nbconvert_exporter": "python",
   "pygments_lexer": "ipython2",
   "version": "2.7.6"
  }
 },
 "nbformat": 4,
 "nbformat_minor": 0
}
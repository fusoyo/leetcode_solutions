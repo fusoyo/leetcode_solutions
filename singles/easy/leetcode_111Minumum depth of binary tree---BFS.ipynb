{
 "cells": [
  {
   "cell_type": "markdown",
   "metadata": {},
   "source": [
    "Given a binary tree, find its minimum depth.\n",
    "\n",
    "The minimum depth is the number of nodes along the shortest path from the root node down to the nearest leaf node.\n",
    "\n",
    "Note: A leaf is a node with no children."
   ]
  },
  {
   "cell_type": "code",
   "execution_count": null,
   "metadata": {},
   "outputs": [],
   "source": [
    "# Definition for a binary tree node.\n",
    "# class TreeNode:\n",
    "#     def __init__(self, val=0, left=None, right=None):\n",
    "#         self.val = val\n",
    "#         self.left = left\n",
    "#         self.right = right\n",
    "class Solution:\n",
    "    def minDepth(self, root: Optional[TreeNode]) -> int:\n",
    "        if root is None:return 0\n",
    "        \n",
    "        q = [] #queue\n",
    "        visited = set()\n",
    "\n",
    "        q.append(root)\n",
    "        visited.add(root)\n",
    "        step = 1\n",
    "\n",
    "        while len(q):\n",
    "            size = len(q)\n",
    "\n",
    "            for i in range(0, size):\n",
    "                cur = q.pop(0)\n",
    "\n",
    "                # return condition\n",
    "                if cur.left is None and cur.right is None:\n",
    "                    return step\n",
    "            \n",
    "                left = cur.left\n",
    "                right = cur.right\n",
    "\n",
    "                if left is not None:\n",
    "                    q.append(left)\n",
    "                   \n",
    "\n",
    "                if right is not None:\n",
    "                    q.append(right)\n",
    "\n",
    "            # addition\n",
    "            step+=1\n",
    "            \n",
    "        return step\n",
    "\n"
   ]
  }
 ],
 "metadata": {
  "interpreter": {
   "hash": "4e6cf26dc29581382a1e33c8542cde068fa9296bf834008e769d316a364abf77"
  },
  "kernelspec": {
   "display_name": "Python 3.8.5 ('base')",
   "language": "python",
   "name": "python3"
  },
  "language_info": {
   "name": "python",
   "version": "3.8.5"
  },
  "orig_nbformat": 4
 },
 "nbformat": 4,
 "nbformat_minor": 2
}

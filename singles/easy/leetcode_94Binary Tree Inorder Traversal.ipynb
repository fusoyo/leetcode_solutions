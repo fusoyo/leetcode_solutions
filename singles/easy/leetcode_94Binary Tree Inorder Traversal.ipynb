{
 "cells": [
  {
   "cell_type": "markdown",
   "source": [
    "Given the root of a binary tree, return the inorder traversal of its nodes' values.\n",
    "\n",
    "\n",
    "\n",
    "Example 1:\n",
    "\n",
    "\n",
    "Input: root = [1,null,2,3]\n",
    "Output: [1,3,2]\n",
    "Example 2:\n",
    "\n",
    "Input: root = []\n",
    "Output: []\n",
    "Example 3:\n",
    "\n",
    "Input: root = [1]\n",
    "Output: [1]\n",
    "\n",
    "\n",
    "Constraints:\n",
    "\n",
    "The number of nodes in the tree is in the range [0, 100].\n",
    "-100 <= Node.val <= 100"
   ],
   "metadata": {
    "collapsed": false
   }
  },
  {
   "cell_type": "code",
   "execution_count": 39,
   "metadata": {
    "collapsed": true
   },
   "outputs": [],
   "source": [
    "# Definition for a binary tree node.\n",
    "class TreeNode:\n",
    "    def __init__(self, val=0, left=None, right=None):\n",
    "        self.val = val\n",
    "        self.left = left\n",
    "        self.right = right\n",
    "\n",
    "    def __repr__(self):\n",
    "        return str(self.val)\n",
    "\n",
    "class Solution:\n",
    "    def __init__(self):\n",
    "        self.res = []\n",
    "\n",
    "    def inorderTraversal(self, root: TreeNode) -> list:\n",
    "        if root is None:\n",
    "            return\n",
    "\n",
    "        # this is the inorder traversal\n",
    "        self.inorderTraversal(root.left)\n",
    "        self.res.append(root.val)\n",
    "        self.inorderTraversal(root.right)\n",
    "\n",
    "        return  self.res\n",
    "    def get(self,root):\n",
    "        self.inorderTraversal(root)\n",
    "        return self.res"
   ]
  },
  {
   "cell_type": "code",
   "execution_count": 36,
   "outputs": [],
   "source": [
    "a = TreeNode(1)\n",
    "b = TreeNode(2)\n",
    "a.left = None\n",
    "a.right = b\n",
    "c = TreeNode(3)\n",
    "b.left = c"
   ],
   "metadata": {
    "collapsed": false,
    "pycharm": {
     "name": "#%%\n"
    }
   }
  },
  {
   "cell_type": "code",
   "execution_count": 37,
   "outputs": [],
   "source": [
    "s = Solution()\n",
    "root = s.inorderTraversal(a)"
   ],
   "metadata": {
    "collapsed": false,
    "pycharm": {
     "name": "#%%\n"
    }
   }
  },
  {
   "cell_type": "code",
   "execution_count": 38,
   "outputs": [
    {
     "data": {
      "text/plain": "[1, 3, 2]"
     },
     "execution_count": 38,
     "metadata": {},
     "output_type": "execute_result"
    }
   ],
   "source": [
    "root"
   ],
   "metadata": {
    "collapsed": false,
    "pycharm": {
     "name": "#%%\n"
    }
   }
  },
  {
   "cell_type": "code",
   "execution_count": null,
   "outputs": [],
   "source": [],
   "metadata": {
    "collapsed": false,
    "pycharm": {
     "name": "#%%\n"
    }
   }
  }
 ],
 "metadata": {
  "kernelspec": {
   "display_name": "Python 3",
   "language": "python",
   "name": "python3"
  },
  "language_info": {
   "codemirror_mode": {
    "name": "ipython",
    "version": 2
   },
   "file_extension": ".py",
   "mimetype": "text/x-python",
   "name": "python",
   "nbconvert_exporter": "python",
   "pygments_lexer": "ipython2",
   "version": "2.7.6"
  }
 },
 "nbformat": 4,
 "nbformat_minor": 0
}
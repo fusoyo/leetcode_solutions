{
 "cells": [
  {
   "cell_type": "markdown",
   "metadata": {},
   "source": [
    "# Merge two sorted array\n"
   ]
  },
  {
   "cell_type": "code",
   "execution_count": 1,
   "metadata": {},
   "outputs": [],
   "source": [
    "def merge(nums1,m,nums2,n):\n",
    "    length1 = m+n - 1 \n",
    "    pointer1 = m  - 1 \n",
    "    pointer2 = n - 1\n",
    "\n",
    "    # merge in reverse order\n",
    "    while pointer1 >=0 and pointer2 >=0:\n",
    "       \n",
    "        if nums1[pointer1] < nums2[pointer2]:\n",
    "            nums1[min(length1,len(nums1)-1)] = nums2[pointer2]\n",
    "            pointer2 -= 1\n",
    "        else:\n",
    "            nums1[length1] = nums1[pointer1]\n",
    "            pointer1 -= 1\n",
    "    \n",
    "        length1 -= 1\n",
    "\n",
    "    # fill nums1 with leftover nums elements\n",
    "    while pointer2>=0:\n",
    "        nums1[length1] = nums2[pointer2]\n",
    "        pointer2,length1 = pointer2-1,length1-1\n",
    "        \n",
    "\n",
    "    return nums1\n"
   ]
  },
  {
   "cell_type": "code",
   "execution_count": 2,
   "metadata": {},
   "outputs": [
    {
     "data": {
      "text/plain": [
       "[1, 2, 2, 3, 5, 6]"
      ]
     },
     "execution_count": 2,
     "metadata": {},
     "output_type": "execute_result"
    }
   ],
   "source": [
    "merge([1,2,3,0,0,0],3,[2,5,6],3)"
   ]
  },
  {
   "cell_type": "code",
   "execution_count": null,
   "metadata": {},
   "outputs": [],
   "source": []
  }
 ],
 "metadata": {
  "interpreter": {
   "hash": "b3ba2566441a7c06988d0923437866b63cedc61552a5af99d1f4fb67d367b25f"
  },
  "kernelspec": {
   "display_name": "Python 3.8.5 64-bit ('base': conda)",
   "language": "python",
   "name": "python3"
  },
  "language_info": {
   "codemirror_mode": {
    "name": "ipython",
    "version": 3
   },
   "file_extension": ".py",
   "mimetype": "text/x-python",
   "name": "python",
   "nbconvert_exporter": "python",
   "pygments_lexer": "ipython3",
   "version": "3.8.5"
  },
  "orig_nbformat": 4
 },
 "nbformat": 4,
 "nbformat_minor": 2
}

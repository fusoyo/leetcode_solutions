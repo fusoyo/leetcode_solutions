{
 "cells": [
  {
   "cell_type": "markdown",
   "metadata": {},
   "source": [
    "# Palindorme Linked List\n",
    "\n",
    "https://leetcode.com/problems/palindrome-linked-list/"
   ]
  },
  {
   "cell_type": "markdown",
   "metadata": {},
   "source": [
    "without extra array;"
   ]
  },
  {
   "cell_type": "code",
   "execution_count": null,
   "metadata": {},
   "outputs": [],
   "source": [
    "def isPalindrome(head): \n",
    "    nums = []\n",
    "\n",
    "    while head:\n",
    "        nums.append(head.val)\n",
    "        head = head.next\n",
    "\n",
    "    l,r = 0,len(nums)-1\n",
    "\n",
    "    while l<r:\n",
    "        if nums[l] != nums[r]:\n",
    "            return False\n",
    "        l = l+1\n",
    "        r = r-1\n",
    "    return True"
   ]
  },
  {
   "cell_type": "code",
   "execution_count": null,
   "metadata": {},
   "outputs": [],
   "source": [
    "# method2 -- use stack;\n"
   ]
  },
  {
   "cell_type": "code",
   "execution_count": null,
   "metadata": {},
   "outputs": [],
   "source": [
    "# two pointer fast and slow  speed 2 and 1\n",
    "def isPalindrome(head):\n",
    "    fast = head \n",
    "    slow = head \n",
    "\n",
    "    #find middle( slow) --- this is a trick; \n",
    "    while fast and fast.next:\n",
    "        fast = fast.next.next\n",
    "        slow  = slow.next\n",
    "    \n",
    "    # rever the second half\n",
    "    prev = None \n",
    "    while slow:\n",
    "        tmp = slow.next \n",
    "        slow.next = prev\n",
    "        prev = slow\n",
    "        slow = temp\n",
    "\n",
    "    # check palindrome_num\n",
    "    left , right = head, prev\n",
    "    while right:\n",
    "        if left.val == right.val:\n",
    "            return False  \n",
    "        left = left.next\n",
    "        right = right.next\n",
    "    \n",
    "    return True\n"
   ]
  }
 ],
 "metadata": {
  "language_info": {
   "name": "python"
  },
  "orig_nbformat": 4
 },
 "nbformat": 4,
 "nbformat_minor": 2
}

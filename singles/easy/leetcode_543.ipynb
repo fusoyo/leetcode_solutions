{
 "cells": [
  {
   "cell_type": "markdown",
   "metadata": {},
   "source": [
    "# Diameter of a Binary Tree\n",
    "\n",
    "https://leetcode.com/problems/diameter-of-binary-tree/"
   ]
  },
  {
   "cell_type": "markdown",
   "metadata": {},
   "source": [
    "greedy.  start from the bottom node, define diameter and height. if a child node is null, return -1, "
   ]
  },
  {
   "cell_type": "code",
   "execution_count": 1,
   "metadata": {},
   "outputs": [],
   "source": [
    "def diameterOfBinaryTree(root):\n",
    "    res = [0]\n",
    "\n",
    "    def dfs(root):\n",
    "        if not root:\n",
    "            return -1\n",
    "        left = dfs(root.left)\n",
    "        right = dfs(root.right)\n",
    "\n",
    "        res[0]=max(res[0], 2 + left + right)  # an edge --- 1 two --- 2; none --- -1 , not none --- 0;\n",
    "\n",
    "        return 1 + max(left, right)\n",
    "    \n",
    "    dfs(root)\n",
    "    \n",
    "    return res[0]"
   ]
  },
  {
   "cell_type": "code",
   "execution_count": null,
   "outputs": [],
   "source": [
    "class Solution:\n",
    "    def __init__(self):\n",
    "        self.maxDiameter = 0\n",
    "\n",
    "    def diameterOfBinaryTree(self,root):\n",
    "        self.traverse(root)\n",
    "        return self.maxDiameter\n",
    "\n",
    "\n",
    "    def traverse(self,root):\n",
    "        if root is None:\n",
    "            return\n",
    "\n",
    "        leftMax = self.maxDepth(root.left)\n",
    "        rightMax = self.maxDepth(root.right)\n",
    "\n",
    "        myDiameter = leftMax + rightMax\n",
    "\n",
    "        self.maxDiameter = max(self.maxDiameter, myDiameter)\n",
    "\n",
    "        self.traverse(root.left)\n",
    "        self.traverse(root.right)\n",
    "\n",
    "\n",
    "    def maxDepth(self, root):\n",
    "        if root is None:return 0\n",
    "\n",
    "        leftMax = self.maxDepth(root.left)\n",
    "        rightMax = self.maxDepth(root.right)\n",
    "\n",
    "        return max(leftMax, rightMax) + 1\n",
    "\n",
    "     # time complexity:O(n^2)"
   ],
   "metadata": {
    "collapsed": false,
    "pycharm": {
     "name": "#%%\n"
    }
   }
  },
  {
   "cell_type": "code",
   "execution_count": 2,
   "outputs": [],
   "source": [
    "class Solution:\n",
    "    def __init__(self):\n",
    "        self.maxDiameter = 0\n",
    "\n",
    "    def diameterOfBinaryTree(self,root):\n",
    "        self.maxDepth(root)\n",
    "        return self.maxDiameter\n",
    "\n",
    "\n",
    "    def maxDepth(self, root):\n",
    "        if root is None:return 0\n",
    "\n",
    "        leftMax = self.maxDepth(root.left)\n",
    "        rightMax = self.maxDepth(root.right)\n",
    "\n",
    "        # post-order\n",
    "        self.maxDiameter = max(self.maxDiameter, leftMax + rightMax)\n",
    "\n",
    "        return max(leftMax, rightMax) + 1\n",
    "\n",
    "# time complexity:O(n)"
   ],
   "metadata": {
    "collapsed": false,
    "pycharm": {
     "name": "#%%\n"
    }
   }
  },
  {
   "cell_type": "code",
   "execution_count": null,
   "outputs": [],
   "source": [],
   "metadata": {
    "collapsed": false,
    "pycharm": {
     "name": "#%%\n"
    }
   }
  }
 ],
 "metadata": {
  "language_info": {
   "name": "python"
  },
  "orig_nbformat": 4
 },
 "nbformat": 4,
 "nbformat_minor": 2
}
{
 "cells": [
  {
   "cell_type": "markdown",
   "source": [
    "Given the roots of two binary trees p and q, write a function to check if they are the same or not.\n",
    "\n",
    "Two binary trees are considered the same if they are structurally identical, and the nodes have the same value.\n",
    "\n",
    "\n",
    "\n",
    "Example 1:\n",
    "\n",
    "\n",
    "Input: p = [1,2,3], q = [1,2,3]\n",
    "Output: true\n",
    "Example 2:\n",
    "\n",
    "\n",
    "Input: p = [1,2], q = [1,null,2]\n",
    "Output: false"
   ],
   "metadata": {
    "collapsed": false,
    "pycharm": {
     "name": "#%% md\n"
    }
   }
  },
  {
   "cell_type": "code",
   "execution_count": null,
   "metadata": {
    "collapsed": true
   },
   "outputs": [],
   "source": [
    "# Definition for a binary tree node.\n",
    "# class TreeNode:\n",
    "#     def __init__(self, val=0, left=None, right=None):\n",
    "#         self.val = val\n",
    "#         self.left = left\n",
    "#         self.right = right\n",
    "class Solution:\n",
    "    def isSameTree(self, p: Optional[TreeNode], q: Optional[TreeNode]) -> bool:\n",
    "        if q is None and p is None:\n",
    "            return True\n",
    "\n",
    "        if p is None or q is None:\n",
    "            return False\n",
    "\n",
    "        if p.val != q.val:\n",
    "            return False\n",
    "\n",
    "        l1 = p.left\n",
    "        l2 = q.left\n",
    "        r1 = p.right\n",
    "        r2 = q.right\n",
    "\n",
    "        return self.isSameTree(l1, l2) and self.isSameTree(r1, r2)\n"
   ]
  }
 ],
 "metadata": {
  "kernelspec": {
   "display_name": "Python 3",
   "language": "python",
   "name": "python3"
  },
  "language_info": {
   "codemirror_mode": {
    "name": "ipython",
    "version": 2
   },
   "file_extension": ".py",
   "mimetype": "text/x-python",
   "name": "python",
   "nbconvert_exporter": "python",
   "pygments_lexer": "ipython2",
   "version": "2.7.6"
  }
 },
 "nbformat": 4,
 "nbformat_minor": 0
}
{
 "cells": [
  {
   "cell_type": "markdown",
   "source": [],
   "metadata": {
    "collapsed": false
   }
  },
  {
   "cell_type": "markdown",
   "source": [
    "Given an integer array nums, move all 0's to the end of it while maintaining the relative order of the non-zero elements.\n",
    "\n",
    "Note that you must do this in-place without making a copy of the array.\n",
    "\n",
    "\n",
    "\n",
    "Example 1:\n",
    "\n",
    "Input: nums = [0,1,0,3,12]\n",
    "Output: [1,3,12,0,0]\n",
    "Example 2:\n",
    "\n",
    "Input: nums = [0]\n",
    "Output: [0]\n",
    "\n",
    "\n",
    "Constraints:\n",
    "\n",
    "1 <= nums.length <= 104\n",
    "-231 <= nums[i] <= 231 - 1"
   ],
   "metadata": {
    "collapsed": false,
    "pycharm": {
     "name": "#%% md\n"
    }
   }
  },
  {
   "cell_type": "code",
   "execution_count": 7,
   "metadata": {
    "collapsed": true,
    "pycharm": {
     "name": "#%%\n"
    }
   },
   "outputs": [],
   "source": [
    "class Solution:\n",
    "    def moveZeroes(self, nums) -> None:\n",
    "        \"\"\"\n",
    "        Do not return anything, modify nums in-place instead.\n",
    "        \"\"\"\n",
    "        count = 0\n",
    "\n",
    "        for i,num in enumerate(nums):\n",
    "            if num == 0:\n",
    "                count += 1\n",
    "\n",
    "            if num != 0:\n",
    "                nums[i-count] = num\n",
    "\n",
    "        for i  in range(len(nums)-count,len(nums)):\n",
    "            nums[i] = 0\n",
    "\n",
    "        print(nums)\n",
    "\n",
    "        # method 2\n",
    "        # l = 0\n",
    "        # for r in range(len(nums)):\n",
    "        #     if nums[r]:\n",
    "        #         nums[l],nums[r] = nums[r],nums[l]\n",
    "        #         l += 1\n",
    "\n",
    "    def moveZeroes2(self, nums) -> None:\n",
    "        length = 0\n",
    "        for cur in range(len(nums)):\n",
    "            if nums[cur] != 0 :\n",
    "                nums[length] = nums[cur]\n",
    "                length += 1\n",
    "        for i in range(length,len(nums)):\n",
    "            nums[i] = 0\n",
    "\n",
    "\n"
   ]
  },
  {
   "cell_type": "code",
   "execution_count": 8,
   "outputs": [
    {
     "name": "stdout",
     "output_type": "stream",
     "text": [
      "3 [1, 3, 12, 0, 0]\n",
      "[0]\n"
     ]
    }
   ],
   "source": [
    "s = Solution()\n",
    "s.moveZeroes2([0,1,0,3,12])\n",
    "s.moveZeroes([0])"
   ],
   "metadata": {
    "collapsed": false,
    "pycharm": {
     "name": "#%%\n"
    }
   }
  },
  {
   "cell_type": "code",
   "execution_count": null,
   "outputs": [],
   "source": [],
   "metadata": {
    "collapsed": false,
    "pycharm": {
     "name": "#%%\n"
    }
   }
  }
 ],
 "metadata": {
  "kernelspec": {
   "display_name": "Python 3",
   "language": "python",
   "name": "python3"
  },
  "language_info": {
   "codemirror_mode": {
    "name": "ipython",
    "version": 2
   },
   "file_extension": ".py",
   "mimetype": "text/x-python",
   "name": "python",
   "nbconvert_exporter": "python",
   "pygments_lexer": "ipython2",
   "version": "2.7.6"
  }
 },
 "nbformat": 4,
 "nbformat_minor": 0
}
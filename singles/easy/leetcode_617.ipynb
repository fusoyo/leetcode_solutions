{
 "cells": [
  {
   "cell_type": "markdown",
   "metadata": {},
   "source": [
    "# merge two binary trees\n",
    "\n",
    "https://leetcode.com/problems/merge-two-binary-trees/"
   ]
  },
  {
   "cell_type": "markdown",
   "metadata": {},
   "source": [
    "You are given two binary trees root1 and root2.\n",
    "\n",
    "Imagine that when you put one of them to cover the other, some nodes of the two trees are overlapped while the others are not. You need to merge the two trees into a new binary tree. The merge rule is that if two nodes overlap, then sum node values up as the new value of the merged node. Otherwise, the NOT null node will be used as the node of the new tree.\n",
    "\n",
    "Return the merged tree.\n",
    "\n",
    "Note: The merging process must start from the root nodes of both trees.\n",
    "\n",
    " \n",
    "\n",
    "Example 1:\n",
    "\n",
    "\n",
    "Input: root1 = [1,3,2,5], root2 = [2,1,3,null,4,null,7]\n",
    "Output: [3,4,5,5,4,null,7]\n",
    "Example 2:\n",
    "\n",
    "Input: root1 = [1], root2 = [1,2]\n",
    "Output: [2,2]\n",
    " \n",
    "\n",
    "Constraints:\n",
    "\n",
    "The number of nodes in both trees is in the range [0, 2000].\n",
    "-104 <= Node.val <= 104"
   ]
  },
  {
   "cell_type": "code",
   "execution_count": null,
   "metadata": {},
   "outputs": [],
   "source": [
    "class Solution:\n",
    "    def mergeTrees(self,root1,root2):\n",
    "        if not root1 and not root2:\n",
    "            return None\n",
    "\n",
    "        val1 = 0 if not root1 else root1.val\n",
    "        val2 = 0 if not root2 else root2.val\n",
    "\n",
    "        root = TreeNode(val1+val2)  # create a new treenode \n",
    "\n",
    "        root.left = self.mergeTrees(root1.left if root1 else None,root2.left if root2 else None)  # explore left nodes\n",
    "        root.right = self.mergeTrees(root1.right if root1 else None,root2.right if root2 else None) # explore right nodes\n",
    "\n",
    "        return root\n",
    "# O(n+m)\n",
    "     "
   ]
  },
  {
   "cell_type": "code",
   "execution_count": null,
   "metadata": {},
   "outputs": [],
   "source": []
  }
 ],
 "metadata": {
  "language_info": {
   "name": "python"
  },
  "orig_nbformat": 4
 },
 "nbformat": 4,
 "nbformat_minor": 2
}

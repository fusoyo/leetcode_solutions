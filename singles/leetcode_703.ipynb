{
 "cells": [
  {
   "cell_type": "markdown",
   "metadata": {},
   "source": [
    "# Kth Largest Element in a Stream"
   ]
  },
  {
   "cell_type": "markdown",
   "metadata": {},
   "source": [
    "Design a class to find the kth largest element in a stream. Note that it is the kth largest element in the sorted order, not the kth distinct element.\n",
    "\n",
    "Implement KthLargest class:\n",
    "\n",
    "KthLargest(int k, int[] nums) Initializes the object with the integer k and the stream of integers nums.\n",
    "\n",
    "int add(int val) Appends the integer val to the stream and returns the element representing the kth largest element in the stream.\n",
    " \n",
    "\n",
    "Example 1:\n",
    "\n",
    "Input\n",
    "\n",
    "[\"KthLargest\", \"add\", \"add\", \"add\", \"add\", \"add\"]\n",
    "\n",
    "[[3, [4, 5, 8, 2]], [3], [5], [10], [9], [4]]\n",
    "\n",
    "Output\n",
    "\n",
    "[null, 4, 5, 5, 8, 8]\n",
    "\n",
    "Explanation\n",
    "\n",
    "KthLargest kthLargest = new KthLargest(3, [4, 5, 8, 2]);\n",
    "\n",
    "kthLargest.add(3);   // return 4\n",
    "\n",
    "kthLargest.add(5);   // return 5\n",
    "\n",
    "kthLargest.add(10);  // return 5\n",
    "\n",
    "kthLargest.add(9);   // return 8\n",
    "\n",
    "kthLargest.add(4);   // return 8"
   ]
  },
  {
   "cell_type": "markdown",
   "metadata": {},
   "source": [
    "\n",
    "idea: Min Heap of size K ---> add/pop logn time and min takes O(1)"
   ]
  },
  {
   "cell_type": "code",
   "execution_count": null,
   "metadata": {},
   "outputs": [],
   "source": [
    "class KthLargest:\n",
    "    \n",
    "    def __init__(self, k: int, nums: List[int]):\n",
    "        # minHeap with KthLargest intergers\n",
    "        self.minHeap, self.k = nums, k\n",
    "        heapq.heapify(self.minHeap)  # turn an array into a heap\n",
    "        while len(self.minHeap) > k:\n",
    "            heapq.heappop(self.minHeap)\n",
    "\n",
    "    def add(self, val: int) -> int:\n",
    "        heapq.heappush(self.minHeap, val)\n",
    "        if len(self.minHeap) > self.k:\n",
    "            heapq.heappop(self.minHeap) \n",
    "        return self.minHeap[0]      # the smallest element in the heap \n",
    "\n",
    "# Your KthLargest object will be instantiated and called as such:\n",
    "# obj = KthLargest(k, nums)\n",
    "# param_1 = obj.add(val)"
   ]
  }
 ],
 "metadata": {
  "language_info": {
   "name": "python"
  },
  "orig_nbformat": 4
 },
 "nbformat": 4,
 "nbformat_minor": 2
}

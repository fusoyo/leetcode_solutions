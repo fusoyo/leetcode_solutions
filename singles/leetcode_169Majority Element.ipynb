{
 "cells": [
  {
   "cell_type": "markdown",
   "source": [
    "# Majority Element\n",
    "\n",
    "Given an array nums of size n, return the majority element.\n",
    "\n",
    "The majority element is the element that appears more than ⌊n / 2⌋ times. You may assume that the majority element always exists in the array.\n",
    "\n",
    "\n",
    "\n",
    "Example 1:\n",
    "\n",
    "Input: nums = [3,2,3]\n",
    "Output: 3\n",
    "Example 2:\n",
    "\n",
    "Input: nums = [2,2,1,1,1,2,2]\n",
    "Output: 2"
   ],
   "metadata": {
    "collapsed": false
   }
  },
  {
   "cell_type": "code",
   "execution_count": 36,
   "metadata": {
    "collapsed": true
   },
   "outputs": [],
   "source": [
    "class Solution:\n",
    "    def majorityElement(self, nums) -> int:\n",
    "        # method1\n",
    "        # count = {}\n",
    "        #\n",
    "        # i = 0\n",
    "        # maxCount = 0\n",
    "        # val = 0\n",
    "        # while i < len(nums):\n",
    "        #     if nums[i] not in count:\n",
    "        #         count[nums[i]] = 1\n",
    "        #     else:\n",
    "        #         count[nums[i]] += 1\n",
    "        #     maxCount = max(count[nums[i]], maxCount)\n",
    "        #     i += 1\n",
    "        # for key in count:\n",
    "        #     if count[key] == maxCount:\n",
    "        #         val = key\n",
    "        # print(count,max(count))\n",
    "        # return val\n",
    "\n",
    "#         method2\n",
    "        count = {}\n",
    "\n",
    "        res,maxCount = 0,0\n",
    "        for n in nums:\n",
    "            count[n] = 1 + count.get(n,0)  #\n",
    "            res = n if count[n] > maxCount else res\n",
    "            maxCount= max(count[n] , maxCount)\n",
    "        return res"
   ]
  },
  {
   "cell_type": "code",
   "execution_count": 37,
   "outputs": [
    {
     "data": {
      "text/plain": "1"
     },
     "execution_count": 37,
     "metadata": {},
     "output_type": "execute_result"
    }
   ],
   "source": [
    "s = Solution()\n",
    "s.majorityElement([3,2,3,1,1,1,1])"
   ],
   "metadata": {
    "collapsed": false,
    "pycharm": {
     "name": "#%%\n"
    }
   }
  },
  {
   "cell_type": "code",
   "execution_count": null,
   "outputs": [],
   "source": [],
   "metadata": {
    "collapsed": false,
    "pycharm": {
     "name": "#%%\n"
    }
   }
  }
 ],
 "metadata": {
  "kernelspec": {
   "display_name": "Python 3",
   "language": "python",
   "name": "python3"
  },
  "language_info": {
   "codemirror_mode": {
    "name": "ipython",
    "version": 2
   },
   "file_extension": ".py",
   "mimetype": "text/x-python",
   "name": "python",
   "nbconvert_exporter": "python",
   "pygments_lexer": "ipython2",
   "version": "2.7.6"
  }
 },
 "nbformat": 4,
 "nbformat_minor": 0
}
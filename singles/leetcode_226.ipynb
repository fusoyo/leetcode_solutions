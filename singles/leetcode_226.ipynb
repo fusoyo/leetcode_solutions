{
 "cells": [
  {
   "cell_type": "markdown",
   "metadata": {},
   "source": [
    "# Invert a Binary Tree\n",
    "\n",
    "https://leetcode.com/problems/invert-binary-tree/"
   ]
  },
  {
   "cell_type": "code",
   "execution_count": null,
   "metadata": {},
   "outputs": [],
   "source": [
    "def invertBinaryTree(root):\n",
    "    if not root:\n",
    "        return None \n",
    "\n",
    "    tmp = root.left\n",
    "    root.left = root.right\n",
    "    root.right = tmp\n",
    "    \n",
    "    invertBinaryTree(root.left)\n",
    "    invertBinaryTree(root.right)\n",
    "    return root "
   ]
  }
 ],
 "metadata": {
  "language_info": {
   "name": "python"
  },
  "orig_nbformat": 4
 },
 "nbformat": 4,
 "nbformat_minor": 2
}

{
 "cells": [
  {
   "cell_type": "markdown",
   "metadata": {},
   "source": [
    "# Diameter of a Binary Tree\n",
    "\n",
    "https://leetcode.com/problems/diameter-of-binary-tree/"
   ]
  },
  {
   "cell_type": "markdown",
   "metadata": {},
   "source": [
    "greedy.  start from the bottom node, define diameter and height. if a child node is null, return -1, "
   ]
  },
  {
   "cell_type": "code",
   "execution_count": null,
   "metadata": {},
   "outputs": [],
   "source": [
    "def diameterOfBinaryTree(root):\n",
    "    res = [0]\n",
    "\n",
    "    def dfs(root):\n",
    "        if not root:\n",
    "            return -1\n",
    "        left = dfs(root.left)\n",
    "        right = dfs(root.right)\n",
    "\n",
    "        res[0]=max(res[0], 2 + left + right)  # an edge --- 1 two --- 2; none --- -1 , not none --- 0;\n",
    "\n",
    "        return 1 + max(left, right)\n",
    "    \n",
    "    dfs(root)\n",
    "    \n",
    "    return res[0]"
   ]
  }
 ],
 "metadata": {
  "language_info": {
   "name": "python"
  },
  "orig_nbformat": 4
 },
 "nbformat": 4,
 "nbformat_minor": 2
}

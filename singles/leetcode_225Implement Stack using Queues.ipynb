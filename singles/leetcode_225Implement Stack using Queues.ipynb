{
 "cells": [
  {
   "cell_type": "markdown",
   "source": [
    " # Implement Stack using QueuesImplement a last-in-first-out (LIFO) stack using only two queues. The implemented stack should support all the functions of a normal stack (push, top, pop, and empty).\n",
    "\n",
    "Implement the MyStack class:\n",
    "\n",
    "void push(int x) Pushes element x to the top of the stack.\n",
    "int pop() Removes the element on the top of the stack and returns it.\n",
    "int top() Returns the element on the top of the stack.\n",
    "boolean empty() Returns true if the stack is empty, false otherwise.\n",
    "Notes:\n",
    "\n",
    "You must use only standard operations of a queue, which means that only push to back, peek/pop from front, size and is empty operations are valid.\n",
    "Depending on your language, the queue may not be supported natively. You may simulate a queue using a list or deque (double-ended queue) as long as you use only a queue's standard operations.\n",
    "\n",
    "\n",
    "Example 1:\n",
    "\n",
    "Input\n",
    "[\"MyStack\", \"push\", \"push\", \"top\", \"pop\", \"empty\"]\n",
    "[[], [1], [2], [], [], []]\n",
    "Output\n",
    "[null, null, null, 2, 2, false]\n",
    "\n",
    "Explanation\n",
    "MyStack myStack = new MyStack();\n",
    "myStack.push(1);\n",
    "myStack.push(2);\n",
    "myStack.top(); // return 2\n",
    "myStack.pop(); // return 2\n",
    "myStack.empty(); // return False\n",
    "\n",
    "\n",
    "Constraints:\n",
    "\n",
    "1 <= x <= 9\n",
    "At most 100 calls will be made to push, pop, top, and empty.\n",
    "All the calls to pop and top are valid."
   ],
   "metadata": {
    "collapsed": false
   }
  },
  {
   "cell_type": "markdown",
   "source": [
    "idea: add is the same; pop is different. shall shift one and add it to the queue."
   ],
   "metadata": {
    "collapsed": false
   }
  },
  {
   "cell_type": "code",
   "execution_count": null,
   "metadata": {
    "collapsed": true
   },
   "outputs": [],
   "source": [
    "class MyStack:\n",
    "\n",
    "    def __init__(self):\n",
    "        self.q = deque()\n",
    "\n",
    "    def push(self, x: int) -> None:\n",
    "        self.q.append(x)\n",
    "\n",
    "    def pop(self) -> int:\n",
    "        for i in range(len(self.q)-1):\n",
    "            self.push(self.q.popleft())\n",
    "        return self.q.popleft()\n",
    "\n",
    "    def top(self) -> int:\n",
    "        return self.q[-1]\n",
    "\n",
    "    def empty(self) -> bool:\n",
    "        return len(self.q) == 0"
   ]
  }
 ],
 "metadata": {
  "kernelspec": {
   "display_name": "Python 3",
   "language": "python",
   "name": "python3"
  },
  "language_info": {
   "codemirror_mode": {
    "name": "ipython",
    "version": 2
   },
   "file_extension": ".py",
   "mimetype": "text/x-python",
   "name": "python",
   "nbconvert_exporter": "python",
   "pygments_lexer": "ipython2",
   "version": "2.7.6"
  }
 },
 "nbformat": 4,
 "nbformat_minor": 0
}
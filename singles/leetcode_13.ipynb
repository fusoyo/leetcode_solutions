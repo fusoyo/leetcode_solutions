{
 "cells": [
  {
   "cell_type": "code",
   "execution_count": null,
   "metadata": {},
   "outputs": [],
   "source": [
    "class Solution:\n",
    "\n",
    "    def palindrome_num(self, x):\n",
    "        if x < 0:\n",
    "            return False\n",
    "        reversed_x = self.reversed_int(x)\n",
    "\n",
    "        if reversed_x == x:\n",
    "            return True\n",
    "        else:\n",
    "            return False"
   ]
  }
 ],
 "metadata": {
  "language_info": {
   "name": "python"
  },
  "orig_nbformat": 4
 },
 "nbformat": 4,
 "nbformat_minor": 2
}

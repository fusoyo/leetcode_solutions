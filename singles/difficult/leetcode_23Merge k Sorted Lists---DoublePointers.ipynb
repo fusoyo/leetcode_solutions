{
 "cells": [
  {
   "cell_type": "markdown",
   "source": [
    "You are given an array of k linked-lists lists, each linked-list is sorted in ascending order.\n",
    "\n",
    "Merge all the linked-lists into one sorted linked-list and return it.\n",
    "\n",
    "\n",
    "\n",
    "Example 1:\n",
    "\n",
    "Input: lists = [[1,4,5],[1,3,4],[2,6]]\n",
    "Output: [1,1,2,3,4,4,5,6]\n",
    "Explanation: The linked-lists are:\n",
    "[\n",
    "  1->4->5,\n",
    "  1->3->4,\n",
    "  2->6\n",
    "]\n",
    "merging them into one sorted list:\n",
    "1->1->2->3->4->4->5->6\n",
    "Example 2:\n",
    "\n",
    "Input: lists = []\n",
    "Output: []\n",
    "Example 3:\n",
    "\n",
    "Input: lists = [[]]\n",
    "Output: []"
   ],
   "metadata": {
    "collapsed": false
   }
  },
  {
   "cell_type": "markdown",
   "metadata": {
    "collapsed": true,
    "pycharm": {
     "name": "#%% md\n"
    }
   },
   "source": [
    "Use Binary Heap\n",
    "\n",
    "two operations:\n",
    "    sink\n",
    "    swim"
   ]
  },
  {
   "cell_type": "code",
   "execution_count": null,
   "outputs": [],
   "source": [
    "import heapq # this is a min q module ;\n",
    "class ListNode:\n",
    "    def __init__(self, val=0, next=None):\n",
    "        self.val = val\n",
    "        self.next = next\n",
    " class Solution:\n",
    "    def mergeKLists(self, lists: List[Optional[ListNode]]) -> Optional[ListNode]:\n",
    "\n",
    "        push = heapq.heappush #Grab heappush from heapq\n",
    "        pop = heapq.heappop  #Grab heapop from heapq\n",
    "\n",
    "        dummy = ListNode(0) # Use dummy head to avoid edge case errors\n",
    "        head = dummy\n",
    "\n",
    "        heap = []\n",
    "\n",
    "        for idx in range(len(lists)): #use first loop to grab first value from each list\n",
    "            node = lists[idx]\n",
    "            if node: # Only push val into heap if != None\n",
    "                push(heap, (node.val, idx, node)) # Here i push the tuple -> (val, idx, node)\n",
    "\t\t\t\t\t\t\t\t\t\t\t\t   # i added the idx as the 2nd element in the tuple to be used as a\n",
    "\t\t\t\t\t\t\t\t\t\t\t\t   # tiebreaker to avoid the error of comparing 2 ListNode objects\n",
    "        while heap:\n",
    "            val, idx, node = pop(heap) # pop will return tuple containing lowest val\n",
    "            head.next = node # adjust the next node of the result list to be the node containing the lowest val\n",
    "            head = head.next # increment the pointer of the result list up by one\n",
    "            node = node.next # increment the pointer of the node just popped off the heap by one\n",
    "            if node: # check if we've reached the end of the list, if not then add the next node of the node just popped to the heap\n",
    "                push(heap, (node.val, idx, node))\n",
    "        return dummy.next # return the next node of the dummy head, which will be the head of the result list"
   ],
   "metadata": {
    "collapsed": false,
    "pycharm": {
     "name": "#%%\n"
    }
   }
  },
  {
   "cell_type": "markdown",
   "source": [
    "1) getMini(): It returns the root element of Min Heap. Time Complexity of this operation is O(1).\n",
    "\n",
    "2) extractMin(): Removes the minimum element from MinHeap. Time Complexity of this Operation is O(Logn) as this operation needs to maintain the heap property (by calling heapify()) after removing root.\n",
    "\n",
    "3) decreaseKey(): Decreases value of key. The time complexity of this operation is O(Logn). If the decreases key value of a node is greater than the parent of the node, then we don’t need to do anything. Otherwise, we need to traverse up to fix the violated heap property.\n",
    "\n",
    "4) insert(): Inserting a new key takes O(Logn) time. We add a new key at the end of the tree. IF new key is greater than its parent, then we don’t need to do anything. Otherwise, we need to traverse up to fix the violated heap property.\n",
    "\n",
    "5) delete(): Deleting a key also takes O(Logn) time. We replace the key to be deleted with minum infinite by calling decreaseKey(). After decreaseKey(), the minus infinite value must reach root, so we call extractMin() to remove the key."
   ],
   "metadata": {
    "collapsed": false,
    "pycharm": {
     "name": "#%% md\n"
    }
   }
  },
  {
   "cell_type": "code",
   "execution_count": null,
   "outputs": [],
   "source": [],
   "metadata": {
    "collapsed": false,
    "pycharm": {
     "name": "#%%\n"
    }
   }
  }
 ],
 "metadata": {
  "kernelspec": {
   "display_name": "Python 3",
   "language": "python",
   "name": "python3"
  },
  "language_info": {
   "codemirror_mode": {
    "name": "ipython",
    "version": 2
   },
   "file_extension": ".py",
   "mimetype": "text/x-python",
   "name": "python",
   "nbconvert_exporter": "python",
   "pygments_lexer": "ipython2",
   "version": "2.7.6"
  }
 },
 "nbformat": 4,
 "nbformat_minor": 0
}
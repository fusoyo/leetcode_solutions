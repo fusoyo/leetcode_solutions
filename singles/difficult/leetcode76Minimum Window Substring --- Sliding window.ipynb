{
 "cells": [
  {
   "cell_type": "code",
   "execution_count": 12,
   "metadata": {},
   "outputs": [],
   "source": [
    "# a substring should be found by two pointers left and right, and a valid checkout to ensure to shrink the window or not;\n",
    "# the brute force method is followed by a double for loop, which causes time complexity over O(n^2)\n",
    "\n",
    "# step: 1 two pointers left and right, [left,right) is a window; 2. at first enlarge the window until it involes all chacters in T;\n",
    "# 3. stop enlarge right poiter, while increase the left pointer until it does not invole. meantime update the result.\n",
    "# 4. repeat 2,3 until right reaches the end of s.\n",
    "from collections import Counter\n",
    "class Solution:\n",
    "    def minWindow(self, s: str, t: str) -> str:\n",
    "        need = {}\n",
    "        for key,val in Counter(t).items():\n",
    "            need[key] = val\n",
    "        window ={}\n",
    "\n",
    "        left = 0\n",
    "        right = 0\n",
    "        start = 0\n",
    "        length = len(s) + 2\n",
    "        valid = 0\n",
    "\n",
    "        while right<len(s):\n",
    "            c = s[right]\n",
    "            right += 1\n",
    "            \n",
    "            # with right increaing, update window and valid \n",
    "            if (c in need and need[c]):\n",
    "                window[c] = window.setdefault(c,0) + 1\n",
    "                if window[c]==need[c]:\n",
    "                    valid += 1\n",
    "            \n",
    "\n",
    "            # if valid==len(need):\n",
    "            #     return True\n",
    "            # when valid==len(need):stop enlarging the window, and start to shrink the window;\n",
    "            while valid == len(need):\n",
    "                # when right- left<length:update the start and length;\n",
    "                if right - left < length:\n",
    "                    start = left\n",
    "                    length = right - left\n",
    "\n",
    "                d = s[left]\n",
    "                left += 1\n",
    "\n",
    "                if d in need and need[d]:\n",
    "                    if window[d] == need[d]:\n",
    "                        valid -= 1\n",
    "                    window[d] -= 1\n",
    "        print(start,length)\n",
    "\n",
    "        return '' if length==len(s)+2 else s[start:(start+length)]\n",
    "\n",
    "    def method2(self, s: str, t: str):\n",
    "        if len(s)<len(t):return ''\n",
    "        left, right = 0, len(s)\n",
    "        need = Counter(t)\n",
    "        r= None\n",
    "        result = {}\n",
    "\n",
    "        while left <= right:\n",
    "            r = left\n",
    "          \n",
    "            while r<=right:\n",
    "                cur = Counter(s[left:r])\n",
    "                intersection = cur & need\n",
    "                if len(intersection)>=len(need):\n",
    "                    valid = 0\n",
    "                    for key,val in intersection.items():\n",
    "                        if intersection[key]>=need[key]:\n",
    "                            valid += 1\n",
    "                    if valid == len(need):\n",
    "                        result[r-left] = s[left:r]\n",
    "                r += 1\n",
    "            left += 1\n",
    "        print(result)\n",
    "        if result=={}:\n",
    "            return ''\n",
    "        return result[min(result.keys())]\n",
    "        # return s[start:end]\n",
    "\n",
    "        \n",
    "        \n"
   ]
  },
  {
   "cell_type": "code",
   "execution_count": 13,
   "metadata": {},
   "outputs": [
    {
     "name": "stdout",
     "output_type": "stream",
     "text": [
      "length 4\n"
     ]
    },
    {
     "data": {
      "text/plain": [
       "'BANC'"
      ]
     },
     "execution_count": 13,
     "metadata": {},
     "output_type": "execute_result"
    }
   ],
   "source": [
    "\n",
    "s = Solution()\n",
    "# s.method2(\"ADOBECODEBANC\", \"ABC\")\n",
    "s.minWindow(\"ADOBECODEBANC\", \"ABC\")\n"
   ]
  },
  {
   "cell_type": "code",
   "execution_count": 14,
   "metadata": {},
   "outputs": [
    {
     "name": "stdout",
     "output_type": "stream",
     "text": [
      "length 3\n"
     ]
    },
    {
     "data": {
      "text/plain": [
       "''"
      ]
     },
     "execution_count": 14,
     "metadata": {},
     "output_type": "execute_result"
    }
   ],
   "source": [
    "s.minWindow(s = \"a\", t = \"aa\")\n"
   ]
  },
  {
   "cell_type": "code",
   "execution_count": 15,
   "metadata": {},
   "outputs": [
    {
     "name": "stdout",
     "output_type": "stream",
     "text": [
      "{1: 'a'}\n"
     ]
    },
    {
     "data": {
      "text/plain": [
       "'a'"
      ]
     },
     "execution_count": 15,
     "metadata": {},
     "output_type": "execute_result"
    }
   ],
   "source": [
    "s.method2(s = \"a\", t = \"a\")\n"
   ]
  },
  {
   "cell_type": "code",
   "execution_count": 16,
   "metadata": {},
   "outputs": [
    {
     "name": "stdout",
     "output_type": "stream",
     "text": [
      "length 2\n"
     ]
    },
    {
     "data": {
      "text/plain": [
       "'bb'"
      ]
     },
     "execution_count": 16,
     "metadata": {},
     "output_type": "execute_result"
    }
   ],
   "source": [
    "s.minWindow(s = \"bb\", t = \"bb\")\n"
   ]
  },
  {
   "cell_type": "code",
   "execution_count": 372,
   "metadata": {},
   "outputs": [
    {
     "name": "stdout",
     "output_type": "stream",
     "text": [
      "{5: 'aefgc', 6: 'aefgcf', 7: 'waefgcf', 8: 'cwaefgcf', 9: 'wcwaefgcf', 10: 'ewcwaefgcf', 11: 'gewcwaefgcf', 12: 'fgewcwaefgcf', 13: 'efgewcwaefgcf', 14: 'wefgewcwaefgcf', 15: 'bwefgewcwaefgcf', 16: 'abwefgewcwaefgcf', 17: 'cabwefgewcwaefgcf', 4: 'cwae'}\n"
     ]
    },
    {
     "data": {
      "text/plain": [
       "'cwae'"
      ]
     },
     "execution_count": 372,
     "metadata": {},
     "output_type": "execute_result"
    }
   ],
   "source": [
    "s.method2(\"cabwefgewcwaefgcf\"\n",
    ",\"cae\")"
   ]
  },
  {
   "cell_type": "code",
   "execution_count": null,
   "metadata": {},
   "outputs": [],
   "source": []
  },
  {
   "cell_type": "code",
   "execution_count": null,
   "metadata": {},
   "outputs": [],
   "source": []
  }
 ],
 "metadata": {
  "interpreter": {
   "hash": "4e6cf26dc29581382a1e33c8542cde068fa9296bf834008e769d316a364abf77"
  },
  "kernelspec": {
   "display_name": "Python 3.8.5 ('base')",
   "language": "python",
   "name": "python3"
  },
  "language_info": {
   "codemirror_mode": {
    "name": "ipython",
    "version": 3
   },
   "file_extension": ".py",
   "mimetype": "text/x-python",
   "name": "python",
   "nbconvert_exporter": "python",
   "pygments_lexer": "ipython3",
   "version": "3.8.5"
  },
  "orig_nbformat": 4
 },
 "nbformat": 4,
 "nbformat_minor": 2
}

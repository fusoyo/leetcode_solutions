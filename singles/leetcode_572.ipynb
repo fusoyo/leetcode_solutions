{
 "cells": [
  {
   "cell_type": "markdown",
   "metadata": {},
   "source": [
    "# Subtree of Another Tree\n",
    "\n",
    "Given the roots of two binary trees root and subRoot, return true if there is a subtree of root with the same structure and node values of subRoot and false otherwise.\n",
    "\n",
    "A subtree of a binary tree tree is a tree that consists of a node in tree and all of this node's descendants. The tree tree could also be considered as a subtree of itself.\n",
    "\n",
    "Example 1:\n",
    "\n",
    "\n",
    "Input: root = [3,4,5,1,2], subRoot = [4,1,2]\n",
    "\n",
    "Output: true\n",
    "\n",
    "Example 2:\n",
    "\n",
    "\n",
    "Input: root = [3,4,5,1,2,null,null,null,null,0], subRoot = [4,1,2]\n",
    "\n",
    "Output: false"
   ]
  },
  {
   "cell_type": "markdown",
   "metadata": {},
   "source": [
    "shall confirm what is the definition of  the sub-tree"
   ]
  },
  {
   "cell_type": "code",
   "execution_count": null,
   "metadata": {},
   "outputs": [],
   "source": [
    "# Definition for a binary tree node.\n",
    "# class TreeNode:\n",
    "#     def __init__(self, val=0, left=None, right=None):\n",
    "#         self.val = val\n",
    "#         self.left = left\n",
    "#         self.right = right\n",
    "class Solution:\n",
    "    def isSubtree(self, root: Optional[TreeNode], subRoot: Optional[TreeNode]) -> bool:\n",
    "        if (not root):\n",
    "            return False\n",
    "        if (not subRoot):\n",
    "            return True\n",
    "        \n",
    "        if self.isEqual(root,subRoot):\n",
    "            return True\n",
    "        return self.isSubtree(root.left,subRoot) or   self.isSubtree(root.right,subRoot)\n",
    "     \n",
    "    \n",
    "    def isEqual(self, root1, root2):\n",
    "        \n",
    "        if not root1 and not root2:\n",
    "            return True\n",
    "\n",
    "        if  root1 and root2 and (root1.val == root2.val):\n",
    "            return self.isEqual(root1.left,root2.left)  and  self.isEqual(root1.right,root2.right)\n",
    "        \n",
    "        return False\n"
   ]
  }
 ],
 "metadata": {
  "language_info": {
   "name": "python"
  },
  "orig_nbformat": 4
 },
 "nbformat": 4,
 "nbformat_minor": 2
}

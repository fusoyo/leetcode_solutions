{
 "cells": [
  {
   "cell_type": "markdown",
   "metadata": {},
   "source": [
    "# House robber\n",
    "\n",
    "python dynamic problem"
   ]
  },
  {
   "cell_type": "code",
   "execution_count": 15,
   "metadata": {},
   "outputs": [],
   "source": [
    "def rob(nums)->int: \n",
    "    rob1, rob2 = 0 , 0 \n",
    "\n",
    "    #[rob1, rob2, n,n+1,...]\n",
    "    for n in nums:\n",
    "        print(rob1,rob2, n)\n",
    "        temp = max(rob1+n,rob2)\n",
    "        rob1 = rob2\n",
    "        rob2 = temp\n",
    "        \n",
    "    return rob2\n"
   ]
  },
  {
   "cell_type": "code",
   "execution_count": 16,
   "metadata": {},
   "outputs": [
    {
     "name": "stdout",
     "output_type": "stream",
     "text": [
      "0 0 1\n",
      "0 1 2\n",
      "1 2 3\n",
      "2 4 1\n",
      "4 4 5\n",
      "4 9 1\n",
      "9 9 3\n",
      "9 12 2\n",
      "12 12 2\n",
      "12 14 2\n",
      "14 14 3\n"
     ]
    },
    {
     "data": {
      "text/plain": [
       "17"
      ]
     },
     "execution_count": 16,
     "metadata": {},
     "output_type": "execute_result"
    }
   ],
   "source": [
    "rob([1,2,3,1,5,1,3,2,2,2,3])"
   ]
  },
  {
   "cell_type": "code",
   "execution_count": null,
   "metadata": {},
   "outputs": [],
   "source": []
  }
 ],
 "metadata": {
  "interpreter": {
   "hash": "90530115b0fc1967bcca638ed1474a41d3fb7ba0906789120a5cbacdea810315"
  },
  "kernelspec": {
   "display_name": "Python 3.8.6 64-bit",
   "language": "python",
   "name": "python3"
  },
  "language_info": {
   "codemirror_mode": {
    "name": "ipython",
    "version": 3
   },
   "file_extension": ".py",
   "mimetype": "text/x-python",
   "name": "python",
   "nbconvert_exporter": "python",
   "pygments_lexer": "ipython3",
   "version": "3.8.5"
  },
  "orig_nbformat": 4
 },
 "nbformat": 4,
 "nbformat_minor": 2
}

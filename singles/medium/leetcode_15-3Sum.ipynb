{
 "cells": [
  {
   "cell_type": "markdown",
   "source": [
    "Given an integer array nums, return all the triplets [nums[i], nums[j], nums[k]] such that i != j, i != k, and j != k, and nums[i] + nums[j] + nums[k] == 0.\n",
    "\n",
    "Notice that the solution set must not contain duplicate triplets.\n",
    "\n",
    "\n",
    "\n",
    "Example 1:\n",
    "\n",
    "Input: nums = [-1,0,1,2,-1,-4]\n",
    "Output: [[-1,-1,2],[-1,0,1]]\n",
    "Example 2:\n",
    "\n",
    "Input: nums = []\n",
    "Output: []\n",
    "Example 3:\n",
    "\n",
    "Input: nums = [0]\n",
    "Output: []"
   ],
   "metadata": {
    "collapsed": false
   }
  },
  {
   "cell_type": "code",
   "execution_count": 105,
   "outputs": [],
   "source": [
    "import re\n",
    "\n",
    "\n",
    "class Solution:\n",
    "    def threeSum(self, nums):\n",
    "        if len(nums) < 3:\n",
    "            return []\n",
    "        result = []\n",
    "        for i in range(len(nums) - 2):\n",
    "            for j in range(i + 1, len(nums) - 1):\n",
    "\n",
    "                for k in range(j + 1, len(nums)):\n",
    "                    temp = [nums[i], nums[j], nums[k]]\n",
    "                    temp.sort()\n",
    "                    temp = ','.join([str(t) for t in temp])\n",
    "                    if nums[i] + nums[j] + nums[k] == 0 and temp not in result:\n",
    "                        result.append(temp)\n",
    "\n",
    "        result = [[int(i) for i in s.split(',')] for s in result]\n",
    "        return result\n",
    "        # this method time complexity O(n**3) and not approved;\n",
    "\n",
    "    def method2(self, nums):\n",
    "        if len(nums) < 3:\n",
    "            return []\n",
    "\n",
    "        # sort the nums\n",
    "        nums.sort()\n",
    "        results = []\n",
    "        for i in range(len(nums) - 2):\n",
    "            if i> 0 and nums[i-1] == nums[i]:\n",
    "                continue\n",
    "            l, r = i + 1, len(nums) - 1  # two pointers\n",
    "            while l < r:\n",
    "                if nums[i] + nums[l] + nums[r] > 0:\n",
    "                    r -= 1\n",
    "                elif nums[i] + nums[l] + nums[r] < 0:\n",
    "                    l += 1\n",
    "                else:\n",
    "                    results.append([nums[i], nums[l], nums[r]])\n",
    "                    # deal with duplicates\n",
    "                    l += 1\n",
    "                    while nums[l] == nums[l-1] and l<r:\n",
    "                        l +=1\n",
    "\n",
    "\n",
    "        return results\n",
    "\n",
    "\n",
    "\n"
   ],
   "metadata": {
    "collapsed": false,
    "pycharm": {
     "name": "#%%\n"
    }
   }
  },
  {
   "cell_type": "code",
   "execution_count": 106,
   "outputs": [
    {
     "data": {
      "text/plain": "[[-15, 1, 14],\n [-15, 2, 13],\n [-15, 3, 12],\n [-15, 4, 11],\n [-15, 5, 10],\n [-15, 6, 9],\n [-14, 0, 14],\n [-14, 1, 13],\n [-14, 2, 12],\n [-14, 3, 11],\n [-14, 4, 10],\n [-14, 5, 9],\n [-14, 7, 7],\n [-13, -1, 14],\n [-13, 0, 13],\n [-13, 1, 12],\n [-13, 2, 11],\n [-13, 3, 10],\n [-13, 4, 9],\n [-13, 6, 7],\n [-12, -2, 14],\n [-12, -1, 13],\n [-12, 0, 12],\n [-12, 1, 11],\n [-12, 2, 10],\n [-12, 3, 9],\n [-12, 5, 7],\n [-12, 6, 6],\n [-11, -3, 14],\n [-11, -2, 13],\n [-11, -1, 12],\n [-11, 0, 11],\n [-11, 1, 10],\n [-11, 2, 9],\n [-11, 4, 7],\n [-11, 5, 6],\n [-10, -4, 14],\n [-10, -3, 13],\n [-10, -2, 12],\n [-10, -1, 11],\n [-10, 0, 10],\n [-10, 1, 9],\n [-10, 3, 7],\n [-10, 4, 6],\n [-10, 5, 5],\n [-9, -5, 14],\n [-9, -4, 13],\n [-9, -3, 12],\n [-9, -2, 11],\n [-9, -1, 10],\n [-9, 0, 9],\n [-9, 2, 7],\n [-9, 3, 6],\n [-9, 4, 5],\n [-8, -6, 14],\n [-8, -5, 13],\n [-8, -4, 12],\n [-8, -3, 11],\n [-8, -2, 10],\n [-8, -1, 9],\n [-8, 1, 7],\n [-8, 2, 6],\n [-8, 3, 5],\n [-8, 4, 4],\n [-7, -7, 14],\n [-7, -6, 13],\n [-7, -5, 12],\n [-7, -4, 11],\n [-7, -3, 10],\n [-7, -2, 9],\n [-7, 0, 7],\n [-7, 1, 6],\n [-7, 2, 5],\n [-7, 3, 4],\n [-6, -6, 12],\n [-6, -5, 11],\n [-6, -4, 10],\n [-6, -3, 9],\n [-6, -1, 7],\n [-6, 0, 6],\n [-6, 1, 5],\n [-6, 2, 4],\n [-6, 3, 3],\n [-5, -5, 10],\n [-5, -4, 9],\n [-5, -2, 7],\n [-5, -1, 6],\n [-5, 0, 5],\n [-5, 1, 4],\n [-5, 2, 3],\n [-4, -3, 7],\n [-4, -2, 6],\n [-4, -1, 5],\n [-4, 0, 4],\n [-4, 1, 3],\n [-4, 2, 2],\n [-3, -3, 6],\n [-3, -2, 5],\n [-3, -1, 4],\n [-3, 0, 3],\n [-3, 1, 2],\n [-2, -2, 4],\n [-2, -1, 3],\n [-2, 0, 2],\n [-2, 1, 1],\n [-1, -1, 2],\n [-1, 0, 1]]"
     },
     "execution_count": 106,
     "metadata": {},
     "output_type": "execute_result"
    }
   ],
   "source": [
    "s = Solution()\n",
    "s.method2(\n",
    "    [13, 5, -4, -9, 1, -3, 10, -7, 7, 3, 1, -13, -11, 7, -10, 12, -15, 13, 5, -8, -11, -12, -15, -13, -3, -13, 5, -4, 6,\n",
    "     1, -10, 4, 13, -7, 3, -9, -3, -2, -1, 12, 9, -15, 14, 5, 0, -10, -5, -8, -12, -15, -1, -8, 11, -9, -14, -7, -6, 7,\n",
    "     -4, -15, -15, -7, -4, 14, 1, 6, 12, 14, 12, -11, 11, -2, 11, 2, -12, -4, 7, -2, -5, 10, -9, 10, 9, -13, -14, 11,\n",
    "     -13, -13, 3, -1, 9, 3, 7, -9, -6, -14, 4, -8, 7, 1, -12, -5, 14, 14, 12, 10, -12, -3, -7, -2, -8, -9, -7, 9, -7,\n",
    "     -13, 5, -12, -11, -7, 2, 14, 3, -14])"
   ],
   "metadata": {
    "collapsed": false,
    "pycharm": {
     "name": "#%%\n"
    }
   }
  },
  {
   "cell_type": "code",
   "execution_count": 47,
   "outputs": [],
   "source": [
    "a = set()\n",
    "a.add((1, 2, 3))"
   ],
   "metadata": {
    "collapsed": false,
    "pycharm": {
     "name": "#%%\n"
    }
   }
  },
  {
   "cell_type": "code",
   "execution_count": 59,
   "outputs": [
    {
     "data": {
      "text/plain": "['-1-12']"
     },
     "execution_count": 59,
     "metadata": {},
     "output_type": "execute_result"
    }
   ],
   "source": [
    "'-1-12'.split()"
   ],
   "metadata": {
    "collapsed": false,
    "pycharm": {
     "name": "#%%\n"
    }
   }
  },
  {
   "cell_type": "code",
   "execution_count": 77,
   "outputs": [
    {
     "data": {
      "text/plain": "False"
     },
     "execution_count": 77,
     "metadata": {},
     "output_type": "execute_result"
    }
   ],
   "source": [
    "(1, 2, 3) in {(3, 2, 1)}"
   ],
   "metadata": {
    "collapsed": false,
    "pycharm": {
     "name": "#%%\n"
    }
   }
  },
  {
   "cell_type": "code",
   "execution_count": 79,
   "outputs": [
    {
     "data": {
      "text/plain": "[['-1', '-2', '3'], ['1', '2', '3']]"
     },
     "execution_count": 79,
     "metadata": {},
     "output_type": "execute_result"
    }
   ],
   "source": [
    "[s.split(',') for s in {'1,2,3', '-1,-2,3'}]"
   ],
   "metadata": {
    "collapsed": false,
    "pycharm": {
     "name": "#%%\n"
    }
   }
  },
  {
   "cell_type": "code",
   "execution_count": null,
   "outputs": [],
   "source": [],
   "metadata": {
    "collapsed": false,
    "pycharm": {
     "name": "#%%\n"
    }
   }
  }
 ],
 "metadata": {
  "kernelspec": {
   "display_name": "Python 3",
   "language": "python",
   "name": "python3"
  },
  "language_info": {
   "codemirror_mode": {
    "name": "ipython",
    "version": 2
   },
   "file_extension": ".py",
   "mimetype": "text/x-python",
   "name": "python",
   "nbconvert_exporter": "python",
   "pygments_lexer": "ipython2",
   "version": "2.7.6"
  }
 },
 "nbformat": 4,
 "nbformat_minor": 0
}
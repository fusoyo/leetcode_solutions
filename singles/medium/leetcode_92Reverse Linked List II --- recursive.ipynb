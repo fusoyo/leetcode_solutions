{
 "cells": [
  {
   "cell_type": "markdown",
   "source": [
    "Given the head of a singly linked list and two integers left and right where left <= right, reverse the nodes of the list from position left to position right, and return the reversed list.\n",
    "\n",
    "\n",
    "\n",
    "Example 1:\n",
    "\n",
    "\n",
    "Input: head = [1,2,3,4,5], left = 2, right = 4\n",
    "Output: [1,4,3,2,5]\n",
    "Example 2:\n",
    "\n",
    "Input: head = [5], left = 1, right = 1\n",
    "Output: [5]"
   ],
   "metadata": {
    "collapsed": false
   }
  },
  {
   "cell_type": "code",
   "execution_count": 2,
   "metadata": {
    "collapsed": true
   },
   "outputs": [],
   "source": [
    "# Definition for singly-linked list.\n",
    "# class ListNode:\n",
    "#     def __init__(self, val=0, next=None):\n",
    "#         self.val = val\n",
    "#         self.next = next\n",
    "class Solution:\n",
    "    def __init__(self):\n",
    "        self.successor = None\n",
    "\n",
    "    def reverseN(self, head, n):\n",
    "        if n == 1:\n",
    "            self.successor = head.next\n",
    "            return head\n",
    "        # flip the first n-1 nodes cuz starts from head.next;\n",
    "        last = self.reverseN(head.next, n - 1)\n",
    "        head.next.next = head\n",
    "        head.next = self.successor # get the nodes before head and after head concatenated.\n",
    "        return last\n",
    "\n",
    "    def reverseBetween(self, head: Optional[ListNode], left: int, right: int) -> Optional[ListNode]:\n",
    "        # base case\n",
    "        if left == 1:\n",
    "            return self.reverseN(head, right)\n",
    "\n",
    "        # get back to base case where flip has to start;\n",
    "        head.next = self.reverseBetween(head.next, left-1, right-1)\n",
    "        return head\n",
    "\n",
    "    # recursive func takes Time Complexity:O(n), Space Complexity:o(1); while using stack gets the opposite"
   ]
  }
 ],
 "metadata": {
  "kernelspec": {
   "display_name": "Python 3",
   "language": "python",
   "name": "python3"
  },
  "language_info": {
   "codemirror_mode": {
    "name": "ipython",
    "version": 2
   },
   "file_extension": ".py",
   "mimetype": "text/x-python",
   "name": "python",
   "nbconvert_exporter": "python",
   "pygments_lexer": "ipython2",
   "version": "2.7.6"
  }
 },
 "nbformat": 4,
 "nbformat_minor": 0
}
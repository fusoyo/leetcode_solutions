{
 "cells": [
  {
   "cell_type": "markdown",
   "source": [
    "Given two integer arrays, preorder and postorder where preorder is the preorder traversal of a binary tree of distinct values and postorder is the postorder traversal of the same tree, reconstruct and return the binary tree.\n",
    "\n",
    "If there exist multiple answers, you can return any of them.\n",
    "\n",
    "\n",
    "\n",
    "Example 1:\n",
    "\n",
    "\n",
    "Input: preorder = [1,2,4,5,3,6,7], postorder = [4,5,2,6,7,3,1]\n",
    "Output: [1,2,3,4,5,6,7]\n",
    "Example 2:\n",
    "\n",
    "Input: preorder = [1], postorder = [1]\n",
    "Output: [1]\n",
    "\n",
    "\n",
    "Constraints:\n",
    "\n",
    "1 <= preorder.length <= 30\n",
    "1 <= preorder[i] <= preorder.length\n",
    "All the values of preorder are unique.\n",
    "postorder.length == preorder.length\n",
    "1 <= postorder[i] <= postorder.length\n",
    "All the values of postorder are unique.\n",
    "It is guaranteed that preorder and postorder are the preorder traversal and postorder traversal of the same binary tree."
   ],
   "metadata": {
    "collapsed": false
   }
  },
  {
   "cell_type": "code",
   "execution_count": null,
   "metadata": {
    "collapsed": true
   },
   "outputs": [],
   "source": [
    "# Definition for a binary tree node.\n",
    "# class TreeNode:\n",
    "#     def __init__(self, val=0, left=None, right=None):\n",
    "#         self.val = val\n",
    "#         self.left = left\n",
    "#         self.right = right\n",
    "class Solution:\n",
    "    def constructFromPrePost(self, preorder: List[int], postorder: List[int]) -> Optional[TreeNode]:\n",
    "        if not preorder or not postorder:\n",
    "            return None\n",
    "\n",
    "        root = TreeNode(preorder[0])\n",
    "        if len(preorder)>1 and len(postorder)>1:\n",
    "            leftInd = postorder.index(preorder[1])\n",
    "            left_len = len(postorder[:leftInd+1])\n",
    "\n",
    "            root.left = self.constructFromPrePost(preorder[1:left_len+1],postorder[:left_len])\n",
    "            root.right = self.constructFromPrePost(preorder[left_len+1:],postorder[left_len:-1])\n",
    "\n",
    "        return root"
   ]
  }
 ],
 "metadata": {
  "kernelspec": {
   "display_name": "Python 3",
   "language": "python",
   "name": "python3"
  },
  "language_info": {
   "codemirror_mode": {
    "name": "ipython",
    "version": 2
   },
   "file_extension": ".py",
   "mimetype": "text/x-python",
   "name": "python",
   "nbconvert_exporter": "python",
   "pygments_lexer": "ipython2",
   "version": "2.7.6"
  }
 },
 "nbformat": 4,
 "nbformat_minor": 0
}
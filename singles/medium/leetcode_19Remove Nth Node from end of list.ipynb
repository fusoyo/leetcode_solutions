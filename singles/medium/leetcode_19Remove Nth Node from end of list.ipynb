{
 "cells": [
  {
   "cell_type": "markdown",
   "metadata": {},
   "source": [
    "some ideas: 1 reverse and then remove;\n",
    "\n",
    "use two poiters; left start from dummy ;"
   ]
  },
  {
   "cell_type": "code",
   "execution_count": null,
   "metadata": {},
   "outputs": [],
   "source": [
    "class Solution:\n",
    "    def removeNthFromEnd(self, head,n):     \n",
    "        dummy = ListNode(0,head)\n",
    "        left = dummy\n",
    "        right = head \n",
    "\n",
    "        # move right pointer before target node;\n",
    "        while n >0 and right:\n",
    "            right = right.next\n",
    "            n-=1 \n",
    "        \n",
    "        while right: \n",
    "            left = left.next \n",
    "            right = right.next\n",
    "\n",
    "        #delete \n",
    "        left.next = left.next.next\n",
    "        return dummy.next "
   ]
  }
 ],
 "metadata": {
  "language_info": {
   "name": "python"
  },
  "orig_nbformat": 4
 },
 "nbformat": 4,
 "nbformat_minor": 2
}

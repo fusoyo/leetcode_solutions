{
 "cells": [
  {
   "cell_type": "markdown",
   "metadata": {},
   "source": [
    "Given two strings s1 and s2, return true if s2 contains a permutation of s1, or false otherwise.\n",
    "\n",
    "In other words, return true if one of s1's permutations is the substring of s2.\n",
    "\n",
    " \n",
    "\n",
    "Example 1:\n",
    "\n",
    "Input: s1 = \"ab\", s2 = \"eidbaooo\"\n",
    "Output: true\n",
    "Explanation: s2 contains one permutation of s1 (\"ba\").\n",
    "Example 2:\n",
    "\n",
    "Input: s1 = \"ab\", s2 = \"eidboaoo\"\n",
    "Output: false"
   ]
  },
  {
   "cell_type": "code",
   "execution_count": 17,
   "metadata": {},
   "outputs": [],
   "source": [
    "from collections import Counter\n",
    "class Solution:\n",
    "    def checkInclusion(self, s1: str, s2: str) -> bool:\n",
    "        s = s2\n",
    "        t = s1\n",
    "        need = {}\n",
    "        for key,val in Counter(t).items():\n",
    "            need[key] = val\n",
    "        window ={}\n",
    "\n",
    "        left = 0\n",
    "        right = 0\n",
    "        start = 0\n",
    "        length = len(s) + 2\n",
    "        valid = 0\n",
    "\n",
    "        while right<len(s):\n",
    "            c = s[right]\n",
    "            right += 1\n",
    "            \n",
    "            # with right increaing, update window and valid \n",
    "            if (c in need and need[c]):\n",
    "                window[c] = window.setdefault(c,0) + 1\n",
    "                if window[c]==need[c]:\n",
    "                    valid += 1\n",
    "            \n",
    "\n",
    "           \n",
    "            while right - left>=len(t):\n",
    "                # return \n",
    "                if valid==len(need):\n",
    "                    return True\n",
    "\n",
    "                # when right- left<length:update the start and length;\n",
    "                start = left\n",
    "                length = right - left\n",
    "                print(left)\n",
    "                d = s[left]\n",
    "                left += 1\n",
    "\n",
    "                if d in need and need[d]:\n",
    "                    if window[d] == need[d]:\n",
    "                        valid -= 1\n",
    "                    window[d] -= 1\n",
    "\n",
    "        return False\n"
   ]
  },
  {
   "cell_type": "code",
   "execution_count": 18,
   "metadata": {},
   "outputs": [
    {
     "name": "stdout",
     "output_type": "stream",
     "text": [
      "0\n",
      "1\n",
      "2\n",
      "3\n",
      "4\n",
      "5\n",
      "6\n",
      "7\n",
      "8\n",
      "8 2\n"
     ]
    },
    {
     "data": {
      "text/plain": [
       "False"
      ]
     },
     "execution_count": 18,
     "metadata": {},
     "output_type": "execute_result"
    }
   ],
   "source": [
    "s  = Solution()\n",
    "s.checkInclusion('ab','aceidcaooo')"
   ]
  },
  {
   "cell_type": "code",
   "execution_count": null,
   "metadata": {},
   "outputs": [],
   "source": []
  }
 ],
 "metadata": {
  "interpreter": {
   "hash": "4e6cf26dc29581382a1e33c8542cde068fa9296bf834008e769d316a364abf77"
  },
  "kernelspec": {
   "display_name": "Python 3.8.5 ('base')",
   "language": "python",
   "name": "python3"
  },
  "language_info": {
   "codemirror_mode": {
    "name": "ipython",
    "version": 3
   },
   "file_extension": ".py",
   "mimetype": "text/x-python",
   "name": "python",
   "nbconvert_exporter": "python",
   "pygments_lexer": "ipython3",
   "version": "3.8.5"
  },
  "orig_nbformat": 4
 },
 "nbformat": 4,
 "nbformat_minor": 2
}

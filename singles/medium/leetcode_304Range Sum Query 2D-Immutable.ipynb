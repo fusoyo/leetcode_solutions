{
 "cells": [
  {
   "cell_type": "markdown",
   "metadata": {},
   "source": [
    "Given a 2D matrix matrix, handle multiple queries of the following type:\n",
    "\n",
    "Calculate the sum of the elements of matrix inside the rectangle defined by its upper left corner (row1, col1) and lower right corner (row2, col2).\n",
    "Implement the NumMatrix class:\n",
    "\n",
    "NumMatrix(int[][] matrix) Initializes the object with the integer matrix matrix.\n",
    "int sumRegion(int row1, int col1, int row2, int col2) Returns the sum of the elements of matrix inside the rectangle defined by its upper left corner (row1, col1) and lower right corner (row2, col2).\n",
    " \n",
    "\n",
    "Example 1:\n",
    "\n",
    "\n",
    "Input\n",
    "[\"NumMatrix\", \"sumRegion\", \"sumRegion\", \"sumRegion\"]\n",
    "[[[[3, 0, 1, 4, 2], [5, 6, 3, 2, 1], [1, 2, 0, 1, 5], [4, 1, 0, 1, 7], [1, 0, 3, 0, 5]]], [2, 1, 4, 3], [1, 1, 2, 2], [1, 2, 2, 4]]\n",
    "Output\n",
    "[null, 8, 11, 12]\n",
    "\n",
    "Explanation\n",
    "NumMatrix numMatrix = new NumMatrix([[3, 0, 1, 4, 2], [5, 6, 3, 2, 1], [1, 2, 0, 1, 5], [4, 1, 0, 1, 7], [1, 0, 3, 0, 5]]);\n",
    "numMatrix.sumRegion(2, 1, 4, 3); // return 8 (i.e sum of the red rectangle)\n",
    "numMatrix.sumRegion(1, 1, 2, 2); // return 11 (i.e sum of the green rectangle)\n",
    "numMatrix.sumRegion(1, 2, 2, 4); // return 12 (i.e sum of the blue rectangle)"
   ]
  },
  {
   "cell_type": "code",
   "execution_count": 42,
   "metadata": {},
   "outputs": [],
   "source": [
    "class NumMatrix:\n",
    "\n",
    "    def __init__(self, matrix):\n",
    "        self.matrix = matrix\n",
    "        self.perSum = [[0]*(1+len(matrix[0]) )for _ in range(len(matrix)+1)]\n",
    "\n",
    "        for i in range(1,len(self.perSum)):\n",
    "            for j in range(1,len(self.perSum[0])):\n",
    "                self.perSum[i][j] = self.perSum[i-1][j] + self.matrix[i-1][j-1] + self.perSum[i][j-1] - self.perSum[i-1][j-1] # avoid duplicated addition\n",
    "        \n",
    "\n",
    "    def sumRegion(self, row1: int, col1: int, row2: int, col2: int) -> int:\n",
    "        # four matrixes\n",
    "        return self.perSum[row2+1][col2+1] - self.perSum[row2+1][col1] -self.perSum[row1][col2+1] + self.perSum[row1][col1]\n",
    "\n",
    "\n",
    "# Your NumMatrix object will be instantiated and called as such:\n",
    "# obj = NumMatrix(matrix)\n",
    "# param_1 = obj.sumRegion(row1,col1,row2,col2)"
   ]
  },
  {
   "cell_type": "code",
   "execution_count": 40,
   "metadata": {},
   "outputs": [
    {
     "name": "stdout",
     "output_type": "stream",
     "text": [
      "[[0, 0, 0, 0, 0, 0], [0, 3, 3, 4, 8, 10], [0, 8, 14, 18, 24, 27], [0, 9, 17, 21, 28, 36], [0, 13, 22, 26, 34, 49], [0, 14, 23, 30, 38, 58]]\n"
     ]
    }
   ],
   "source": [
    "s = NumMatrix([[3, 0, 1, 4, 2], [5, 6, 3, 2, 1], [1, 2, 0, 1, 5], [4, 1, 0, 1, 7], [1, 0, 3, 0, 5]])"
   ]
  },
  {
   "cell_type": "code",
   "execution_count": null,
   "metadata": {},
   "outputs": [],
   "source": []
  },
  {
   "cell_type": "code",
   "execution_count": null,
   "metadata": {},
   "outputs": [],
   "source": []
  }
 ],
 "metadata": {
  "interpreter": {
   "hash": "4e6cf26dc29581382a1e33c8542cde068fa9296bf834008e769d316a364abf77"
  },
  "kernelspec": {
   "display_name": "Python 3.8.5 ('base')",
   "language": "python",
   "name": "python3"
  },
  "language_info": {
   "codemirror_mode": {
    "name": "ipython",
    "version": 3
   },
   "file_extension": ".py",
   "mimetype": "text/x-python",
   "name": "python",
   "nbconvert_exporter": "python",
   "pygments_lexer": "ipython3",
   "version": "3.8.5"
  },
  "orig_nbformat": 4
 },
 "nbformat": 4,
 "nbformat_minor": 2
}

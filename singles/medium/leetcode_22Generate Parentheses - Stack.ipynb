{
 "cells": [
  {
   "cell_type": "markdown",
   "source": [
    "Given n pairs of parentheses, write a function to generate all combinations of well-formed parentheses."
   ],
   "metadata": {
    "collapsed": false
   }
  },
  {
   "cell_type": "code",
   "execution_count": 21,
   "outputs": [],
   "source": [
    "class Solution:\n",
    "    def generateParenthesis(self, n: int):\n",
    "        # 1 only add open paranthesis if open<n\n",
    "        # 2 only add a closing paranthesis if closed < open\n",
    "        # 3 valid if open == closed == n\n",
    "\n",
    "        stack = []\n",
    "        res = []\n",
    "\n",
    "        def backtrack(openN, closedN):\n",
    "            if openN == closedN == n:\n",
    "\n",
    "                res.append(\"\".join(stack))\n",
    "                return # stop the current searching;\n",
    "            print('0', stack)\n",
    "            if openN < n:\n",
    "                stack.append(\"(\")\n",
    "                print('1', stack, openN,closedN)\n",
    "                backtrack(openN + 1, closedN)\n",
    "                stack.pop()\n",
    "\n",
    "            if closedN < openN:\n",
    "                stack.append(\")\")\n",
    "                print(stack,openN,closedN)\n",
    "                backtrack(openN, closedN + 1)\n",
    "                stack.pop()\n",
    "\n",
    "        backtrack(0, 0)\n",
    "\n",
    "        return res\n",
    "\n",
    "\n"
   ],
   "metadata": {
    "collapsed": false,
    "pycharm": {
     "name": "#%%\n"
    }
   }
  },
  {
   "cell_type": "code",
   "execution_count": 22,
   "outputs": [
    {
     "name": "stdout",
     "output_type": "stream",
     "text": [
      "0 []\n",
      "1 ['('] 0 0\n",
      "0 ['(']\n",
      "1 ['(', '('] 1 0\n",
      "0 ['(', '(']\n",
      "1 ['(', '(', '('] 2 0\n",
      "0 ['(', '(', '(']\n",
      "['(', '(', '(', ')'] 3 0\n",
      "0 ['(', '(', '(', ')']\n",
      "['(', '(', '(', ')', ')'] 3 1\n",
      "0 ['(', '(', '(', ')', ')']\n",
      "['(', '(', '(', ')', ')', ')'] 3 2\n",
      "['(', '(', ')'] 2 0\n",
      "0 ['(', '(', ')']\n",
      "1 ['(', '(', ')', '('] 2 1\n",
      "0 ['(', '(', ')', '(']\n",
      "['(', '(', ')', '(', ')'] 3 1\n",
      "0 ['(', '(', ')', '(', ')']\n",
      "['(', '(', ')', '(', ')', ')'] 3 2\n",
      "['(', '(', ')', ')'] 2 1\n",
      "0 ['(', '(', ')', ')']\n",
      "1 ['(', '(', ')', ')', '('] 2 2\n",
      "0 ['(', '(', ')', ')', '(']\n",
      "['(', '(', ')', ')', '(', ')'] 3 2\n",
      "['(', ')'] 1 0\n",
      "0 ['(', ')']\n",
      "1 ['(', ')', '('] 1 1\n",
      "0 ['(', ')', '(']\n",
      "1 ['(', ')', '(', '('] 2 1\n",
      "0 ['(', ')', '(', '(']\n",
      "['(', ')', '(', '(', ')'] 3 1\n",
      "0 ['(', ')', '(', '(', ')']\n",
      "['(', ')', '(', '(', ')', ')'] 3 2\n",
      "['(', ')', '(', ')'] 2 1\n",
      "0 ['(', ')', '(', ')']\n",
      "1 ['(', ')', '(', ')', '('] 2 2\n",
      "0 ['(', ')', '(', ')', '(']\n",
      "['(', ')', '(', ')', '(', ')'] 3 2\n"
     ]
    },
    {
     "data": {
      "text/plain": "['((()))', '(()())', '(())()', '()(())', '()()()']"
     },
     "execution_count": 22,
     "metadata": {},
     "output_type": "execute_result"
    }
   ],
   "source": [
    "s = Solution()\n",
    "s.generateParenthesis(3)"
   ],
   "metadata": {
    "collapsed": false,
    "pycharm": {
     "name": "#%%\n"
    }
   }
  },
  {
   "cell_type": "code",
   "execution_count": 5,
   "metadata": {
    "collapsed": true
   },
   "outputs": [],
   "source": [
    "def bitStr(n, s):\n",
    "    print(s)\n",
    "    if n == 1:\n",
    "        return s\n",
    "\n",
    "    return [digit + bits for digit in bitStr(1, s) for bits in bitStr(n - 1, s)]"
   ]
  },
  {
   "cell_type": "code",
   "execution_count": 6,
   "outputs": [
    {
     "name": "stdout",
     "output_type": "stream",
     "text": [
      "abc\n",
      "abc\n",
      "abc\n",
      "abc\n",
      "abc\n",
      "abc\n",
      "abc\n",
      "abc\n",
      "abc\n",
      "abc\n",
      "abc\n",
      "abc\n",
      "abc\n",
      "abc\n",
      "abc\n",
      "abc\n",
      "abc\n"
     ]
    },
    {
     "data": {
      "text/plain": "['aaa',\n 'aab',\n 'aac',\n 'aba',\n 'abb',\n 'abc',\n 'aca',\n 'acb',\n 'acc',\n 'baa',\n 'bab',\n 'bac',\n 'bba',\n 'bbb',\n 'bbc',\n 'bca',\n 'bcb',\n 'bcc',\n 'caa',\n 'cab',\n 'cac',\n 'cba',\n 'cbb',\n 'cbc',\n 'cca',\n 'ccb',\n 'ccc']"
     },
     "execution_count": 6,
     "metadata": {},
     "output_type": "execute_result"
    }
   ],
   "source": [
    "bitStr(3, 'abc')"
   ],
   "metadata": {
    "collapsed": false,
    "pycharm": {
     "name": "#%%\n"
    }
   }
  },
  {
   "cell_type": "code",
   "execution_count": null,
   "outputs": [],
   "source": [],
   "metadata": {
    "collapsed": false,
    "pycharm": {
     "name": "#%%\n"
    }
   }
  }
 ],
 "metadata": {
  "kernelspec": {
   "display_name": "Python 3",
   "language": "python",
   "name": "python3"
  },
  "language_info": {
   "codemirror_mode": {
    "name": "ipython",
    "version": 2
   },
   "file_extension": ".py",
   "mimetype": "text/x-python",
   "name": "python",
   "nbconvert_exporter": "python",
   "pygments_lexer": "ipython2",
   "version": "2.7.6"
  }
 },
 "nbformat": 4,
 "nbformat_minor": 0
}
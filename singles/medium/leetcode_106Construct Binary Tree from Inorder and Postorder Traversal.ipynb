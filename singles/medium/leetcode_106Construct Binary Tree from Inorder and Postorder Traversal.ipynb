{
 "cells": [
  {
   "cell_type": "markdown",
   "source": [
    "Given two integer arrays inorder and postorder where inorder is the inorder traversal of a binary tree and postorder is the postorder traversal of the same tree, construct and return the binary tree.\n",
    "\n",
    "\n",
    "\n",
    "Example 1:\n",
    "\n",
    "\n",
    "Input: inorder = [9,3,15,20,7], postorder = [9,15,7,20,3]\n",
    "Output: [3,9,20,null,null,15,7]\n",
    "Example 2:\n",
    "\n",
    "Input: inorder = [-1], postorder = [-1]\n",
    "Output: [-1]\n",
    "\n",
    "\n",
    "Constraints:\n",
    "\n",
    "1 <= inorder.length <= 3000\n",
    "\n",
    "postorder.length == inorder.length\n",
    "\n",
    "-3000 <= inorder[i], postorder[i] <= 3000\n",
    "\n",
    "inorder and postorder consist of unique values.\n",
    "\n",
    "Each value of postorder also appears in inorder.\n",
    "\n",
    "inorder is guaranteed to be the inorder traversal of the tree.\n",
    "\n",
    "postorder is guaranteed to be the postorder traversal of the tree."
   ],
   "metadata": {
    "collapsed": false
   }
  },
  {
   "cell_type": "code",
   "execution_count": null,
   "outputs": [],
   "source": [
    "# Definition for a binary tree node.\n",
    "# class TreeNode:\n",
    "#     def __init__(self, val=0, left=None, right=None):\n",
    "#         self.val = val\n",
    "#         self.left = left\n",
    "#         self.right = right\n",
    "class Solution:\n",
    "    def buildTree(self, inorder: List[int], postorder: List[int]) -> Optional[TreeNode]:\n",
    "        if not postorder or not inorder:\n",
    "            return None\n",
    "\n",
    "        root = TreeNode(postorder[-1])\n",
    "        mid = inorder.index(postorder[-1])\n",
    "        right_len = len(inorder[mid+1:])\n",
    "        left_len = len(inorder[:mid])\n",
    "\n",
    "        root.left = self.buildTree(inorder[:mid],postorder[:left_len])\n",
    "        root.right = self.buildTree(inorder[mid+1:],postorder[left_len:-1])\n",
    "\n",
    "        return root"
   ],
   "metadata": {
    "collapsed": false,
    "pycharm": {
     "name": "#%%\n"
    }
   }
  },
  {
   "cell_type": "code",
   "execution_count": null,
   "metadata": {
    "collapsed": true
   },
   "outputs": [],
   "source": []
  }
 ],
 "metadata": {
  "kernelspec": {
   "display_name": "Python 3",
   "language": "python",
   "name": "python3"
  },
  "language_info": {
   "codemirror_mode": {
    "name": "ipython",
    "version": 2
   },
   "file_extension": ".py",
   "mimetype": "text/x-python",
   "name": "python",
   "nbconvert_exporter": "python",
   "pygments_lexer": "ipython2",
   "version": "2.7.6"
  }
 },
 "nbformat": 4,
 "nbformat_minor": 0
}
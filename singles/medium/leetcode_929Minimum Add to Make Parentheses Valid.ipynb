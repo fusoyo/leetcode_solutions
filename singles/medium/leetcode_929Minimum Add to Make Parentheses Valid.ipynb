{
 "cells": [
  {
   "cell_type": "markdown",
   "source": [
    "A parentheses string is valid if and only if:\n",
    "\n",
    "It is the empty string,\n",
    "It can be written as AB (A concatenated with B), where A and B are valid strings, or\n",
    "It can be written as (A), where A is a valid string.\n",
    "You are given a parentheses string s. In one move, you can insert a parenthesis at any position of the string.\n",
    "\n",
    "For example, if s = \"()))\", you can insert an opening parenthesis to be \"(()))\" or a closing parenthesis to be \"())))\".\n",
    "Return the minimum number of moves required to make s valid."
   ],
   "metadata": {
    "collapsed": false
   }
  },
  {
   "cell_type": "code",
   "execution_count": 6,
   "outputs": [],
   "source": [
    "class Solution:\n",
    "    def minAddToMakeValid(self, s: str) -> int:\n",
    "        res = 0 # insertion number\n",
    "        need = 0 # record the number of needed closing parentheses\n",
    "        for c in s:\n",
    "            if c=='(':\n",
    "                need += 1\n",
    "            if c==')':\n",
    "                need -= 1\n",
    "\n",
    "                if need == -1:\n",
    "                    need = 0\n",
    "                    res +=1\n",
    "        return res + need"
   ],
   "metadata": {
    "collapsed": false,
    "pycharm": {
     "name": "#%%\n"
    }
   }
  },
  {
   "cell_type": "code",
   "execution_count": 7,
   "outputs": [
    {
     "data": {
      "text/plain": "4"
     },
     "execution_count": 7,
     "metadata": {},
     "output_type": "execute_result"
    }
   ],
   "source": [
    "s = Solution()\n",
    "s.minAddToMakeValid('())')\n",
    "s.minAddToMakeValid('))))')"
   ],
   "metadata": {
    "collapsed": false,
    "pycharm": {
     "name": "#%%\n"
    }
   }
  },
  {
   "cell_type": "code",
   "execution_count": null,
   "outputs": [],
   "source": [],
   "metadata": {
    "collapsed": false,
    "pycharm": {
     "name": "#%%\n"
    }
   }
  }
 ],
 "metadata": {
  "kernelspec": {
   "display_name": "Python 3",
   "language": "python",
   "name": "python3"
  },
  "language_info": {
   "codemirror_mode": {
    "name": "ipython",
    "version": 2
   },
   "file_extension": ".py",
   "mimetype": "text/x-python",
   "name": "python",
   "nbconvert_exporter": "python",
   "pygments_lexer": "ipython2",
   "version": "2.7.6"
  }
 },
 "nbformat": 4,
 "nbformat_minor": 0
}
{
 "cells": [
  {
   "cell_type": "markdown",
   "source": [
    "Given an array nums of distinct integers, return all the possible permutations. You can return the answer in any order.\n",
    "\n",
    "\n",
    "\n",
    "Example 1:\n",
    "\n",
    "Input: nums = [1,2,3]\n",
    "Output: [[1,2,3],[1,3,2],[2,1,3],[2,3,1],[3,1,2],[3,2,1]]\n",
    "Example 2:\n",
    "\n",
    "Input: nums = [0,1]\n",
    "Output: [[0,1],[1,0]]\n",
    "Example 3:\n",
    "\n",
    "Input: nums = [1]\n",
    "Output: [[1]]"
   ],
   "metadata": {
    "collapsed": false,
    "pycharm": {
     "name": "#%% md\n"
    }
   }
  },
  {
   "cell_type": "code",
   "execution_count": 48,
   "outputs": [],
   "source": [
    "# a child node number decreasing tree; --- turn to recursive; this is a backtracking problem\n",
    "class Solution:\n",
    "    def permute(self, nums):\n",
    "        if len(nums) == 1:\n",
    "            return [nums[:]] # for the sake of list's loop\n",
    "\n",
    "        res = []\n",
    "        for i in range(len(nums)):\n",
    "            remainder = [num for num in nums if num != nums[i]]\n",
    "            temp =  self.permute(remainder)\n",
    "            for t in temp:\n",
    "                t.append(nums[i])\n",
    "            res.extend(temp) # extend is different from append;\n",
    "        print(res)\n",
    "        return res"
   ],
   "metadata": {
    "collapsed": false,
    "pycharm": {
     "name": "#%%\n"
    }
   }
  },
  {
   "cell_type": "code",
   "execution_count": 49,
   "metadata": {
    "collapsed": true
   },
   "outputs": [
    {
     "name": "stdout",
     "output_type": "stream",
     "text": [
      "[[4, 3], [3, 4]]\n",
      "[[4, 2], [2, 4]]\n",
      "[[3, 2], [2, 3]]\n",
      "[[4, 3, 2], [3, 4, 2], [4, 2, 3], [2, 4, 3], [3, 2, 4], [2, 3, 4]]\n",
      "[[4, 3], [3, 4]]\n",
      "[[4, 1], [1, 4]]\n",
      "[[3, 1], [1, 3]]\n",
      "[[4, 3, 1], [3, 4, 1], [4, 1, 3], [1, 4, 3], [3, 1, 4], [1, 3, 4]]\n",
      "[[4, 2], [2, 4]]\n",
      "[[4, 1], [1, 4]]\n",
      "[[2, 1], [1, 2]]\n",
      "[[4, 2, 1], [2, 4, 1], [4, 1, 2], [1, 4, 2], [2, 1, 4], [1, 2, 4]]\n",
      "[[3, 2], [2, 3]]\n",
      "[[3, 1], [1, 3]]\n",
      "[[2, 1], [1, 2]]\n",
      "[[3, 2, 1], [2, 3, 1], [3, 1, 2], [1, 3, 2], [2, 1, 3], [1, 2, 3]]\n",
      "[[4, 3, 2, 1], [3, 4, 2, 1], [4, 2, 3, 1], [2, 4, 3, 1], [3, 2, 4, 1], [2, 3, 4, 1], [4, 3, 1, 2], [3, 4, 1, 2], [4, 1, 3, 2], [1, 4, 3, 2], [3, 1, 4, 2], [1, 3, 4, 2], [4, 2, 1, 3], [2, 4, 1, 3], [4, 1, 2, 3], [1, 4, 2, 3], [2, 1, 4, 3], [1, 2, 4, 3], [3, 2, 1, 4], [2, 3, 1, 4], [3, 1, 2, 4], [1, 3, 2, 4], [2, 1, 3, 4], [1, 2, 3, 4]]\n"
     ]
    },
    {
     "data": {
      "text/plain": "[[4, 3, 2, 1],\n [3, 4, 2, 1],\n [4, 2, 3, 1],\n [2, 4, 3, 1],\n [3, 2, 4, 1],\n [2, 3, 4, 1],\n [4, 3, 1, 2],\n [3, 4, 1, 2],\n [4, 1, 3, 2],\n [1, 4, 3, 2],\n [3, 1, 4, 2],\n [1, 3, 4, 2],\n [4, 2, 1, 3],\n [2, 4, 1, 3],\n [4, 1, 2, 3],\n [1, 4, 2, 3],\n [2, 1, 4, 3],\n [1, 2, 4, 3],\n [3, 2, 1, 4],\n [2, 3, 1, 4],\n [3, 1, 2, 4],\n [1, 3, 2, 4],\n [2, 1, 3, 4],\n [1, 2, 3, 4]]"
     },
     "execution_count": 49,
     "metadata": {},
     "output_type": "execute_result"
    }
   ],
   "source": [
    "s = Solution()\n",
    "s.permute([1, 2, 3,4])"
   ]
  },
  {
   "cell_type": "code",
   "execution_count": 41,
   "outputs": [
    {
     "name": "stdout",
     "output_type": "stream",
     "text": [
      "x,y,z\n"
     ]
    }
   ],
   "source": [
    "lst = ['x','y','z']\n",
    "print(*lst, sep = ',')"
   ],
   "metadata": {
    "collapsed": false,
    "pycharm": {
     "name": "#%%\n"
    }
   }
  },
  {
   "cell_type": "markdown",
   "source": [
    "difference btw append and extend"
   ],
   "metadata": {
    "collapsed": false
   }
  },
  {
   "cell_type": "code",
   "execution_count": 43,
   "outputs": [
    {
     "name": "stdout",
     "output_type": "stream",
     "text": [
      "[1, 2, 3, [4, 5]]\n"
     ]
    }
   ],
   "source": [
    "x = [1, 2, 3]\n",
    "x.append([4, 5])\n",
    "print (x)"
   ],
   "metadata": {
    "collapsed": false,
    "pycharm": {
     "name": "#%%\n"
    }
   }
  },
  {
   "cell_type": "code",
   "execution_count": 44,
   "outputs": [
    {
     "name": "stdout",
     "output_type": "stream",
     "text": [
      "[1, 2, 3, 4, 5]\n"
     ]
    }
   ],
   "source": [
    "x = [1, 2, 3]\n",
    "x.extend([4, 5])\n",
    "print (x)"
   ],
   "metadata": {
    "collapsed": false,
    "pycharm": {
     "name": "#%%\n"
    }
   }
  },
  {
   "cell_type": "code",
   "execution_count": null,
   "outputs": [],
   "source": [],
   "metadata": {
    "collapsed": false,
    "pycharm": {
     "name": "#%%\n"
    }
   }
  }
 ],
 "metadata": {
  "kernelspec": {
   "display_name": "Python 3",
   "language": "python",
   "name": "python3"
  },
  "language_info": {
   "codemirror_mode": {
    "name": "ipython",
    "version": 2
   },
   "file_extension": ".py",
   "mimetype": "text/x-python",
   "name": "python",
   "nbconvert_exporter": "python",
   "pygments_lexer": "ipython2",
   "version": "2.7.6"
  }
 },
 "nbformat": 4,
 "nbformat_minor": 0
}
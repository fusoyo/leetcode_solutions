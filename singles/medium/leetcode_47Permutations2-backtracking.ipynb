{
 "cells": [
  {
   "cell_type": "markdown",
   "metadata": {},
   "source": [
    "Given a collection of numbers, nums, that might contain duplicates, return all possible unique permutations in any order.\n",
    "\n",
    " \n",
    "\n",
    "Example 1:\n",
    "\n",
    "Input: nums = [1,1,2]\n",
    "Output:\n",
    "[[1,1,2],\n",
    " [1,2,1],\n",
    " [2,1,1]]\n",
    "Example 2:\n",
    "\n",
    "Input: nums = [1,2,3]\n",
    "Output: [[1,2,3],[1,3,2],[2,1,3],[2,3,1],[3,1,2],[3,2,1]]\n"
   ]
  },
  {
   "cell_type": "code",
   "execution_count": 32,
   "metadata": {},
   "outputs": [],
   "source": [
    "class Solution:\n",
    "    def permuteUnique(self, nums):\n",
    "        # use hashmap \n",
    "\n",
    "        res = []  \n",
    "\n",
    "        def dfs(i,cur, count): \n",
    "            if len(cur) == len(nums): \n",
    "                res.append(cur.copy())\n",
    "                return \n",
    "            \n",
    "            if i>= len(nums) or count>= len(nums):return \n",
    "\n",
    "            cur.append(nums[i]) \n",
    "            dfs(i+1,cur,count+1)\n",
    "\n",
    "            # cur.pop() \n",
    "            # dfs(i, cur, count+1)\n",
    "        \n",
    "        dfs(0, [], 0) \n",
    "        return res \n",
    "    \n",
    "    def method2(self,nums):\n",
    "        if len(nums) == 1:\n",
    "            return [nums[:]] # for the sake of list's loop\n",
    "\n",
    "        res = []\n",
    "        for i in range(len(nums)):\n",
    "            tmp = nums[i]\n",
    "            remainder = nums.copy()\n",
    "            remainder.remove(nums[i])\n",
    "            temp =  self.method2(remainder)\n",
    "            for t in temp:\n",
    "                t.append(tmp)\n",
    "            for t in temp:\n",
    "                if t not in res: res.append(t) # extend is different from append;\n",
    "        return res\n",
    "        "
   ]
  },
  {
   "cell_type": "code",
   "execution_count": 33,
   "metadata": {},
   "outputs": [
    {
     "data": {
      "text/plain": [
       "[[1, 2, 1], [2, 1, 1], [1, 1, 2]]"
      ]
     },
     "execution_count": 33,
     "metadata": {},
     "output_type": "execute_result"
    }
   ],
   "source": [
    "s = Solution()\n",
    "# s.permuteUnique([1,1,2])\n",
    "s.method2([1,2,1])"
   ]
  },
  {
   "cell_type": "code",
   "execution_count": null,
   "metadata": {},
   "outputs": [],
   "source": []
  }
 ],
 "metadata": {
  "interpreter": {
   "hash": "4e6cf26dc29581382a1e33c8542cde068fa9296bf834008e769d316a364abf77"
  },
  "kernelspec": {
   "display_name": "Python 3.8.5 ('base')",
   "language": "python",
   "name": "python3"
  },
  "language_info": {
   "codemirror_mode": {
    "name": "ipython",
    "version": 3
   },
   "file_extension": ".py",
   "mimetype": "text/x-python",
   "name": "python",
   "nbconvert_exporter": "python",
   "pygments_lexer": "ipython3",
   "version": "3.8.5"
  },
  "orig_nbformat": 4
 },
 "nbformat": 4,
 "nbformat_minor": 2
}

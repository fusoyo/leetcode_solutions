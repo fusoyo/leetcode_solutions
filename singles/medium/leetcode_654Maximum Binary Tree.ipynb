{
 "cells": [
  {
   "cell_type": "markdown",
   "source": [
    "You are given an integer array nums with no duplicates. A maximum binary tree can be built recursively from nums using the following algorithm:\n",
    "\n",
    "Create a root node whose value is the maximum value in nums.\n",
    "Recursively build the left subtree on the subarray prefix to the left of the maximum value.\n",
    "Recursively build the right subtree on the subarray suffix to the right of the maximum value.\n",
    "Return the maximum binary tree built from nums.\n",
    "\n",
    "\n",
    "\n",
    "Example 1:\n",
    "\n",
    "\n",
    "Input: nums = [3,2,1,6,0,5]\n",
    "Output: [6,3,5,null,2,0,null,null,1]\n",
    "Explanation: The recursive calls are as follow:\n",
    "- The largest value in [3,2,1,6,0,5] is 6. Left prefix is [3,2,1] and right suffix is [0,5].\n",
    "    - The largest value in [3,2,1] is 3. Left prefix is [] and right suffix is [2,1].\n",
    "        - Empty array, so no child.\n",
    "        - The largest value in [2,1] is 2. Left prefix is [] and right suffix is [1].\n",
    "            - Empty array, so no child.\n",
    "            - Only one element, so child is a node with value 1.\n",
    "    - The largest value in [0,5] is 5. Left prefix is [0] and right suffix is [].\n",
    "        - Only one element, so child is a node with value 0.\n",
    "        - Empty array, so no child.\n",
    "Example 2:\n",
    "\n",
    "\n",
    "Input: nums = [3,2,1]\n",
    "Output: [3,null,2,null,1]\n",
    "\n",
    "\n",
    "Constraints:\n",
    "\n",
    "1 <= nums.length <= 1000\n",
    "0 <= nums[i] <= 1000\n",
    "All integers in nums are unique."
   ],
   "metadata": {
    "collapsed": false
   }
  },
  {
   "cell_type": "code",
   "execution_count": null,
   "metadata": {
    "collapsed": true
   },
   "outputs": [],
   "source": [
    "# Definition for a binary tree node.\n",
    "# class TreeNode:\n",
    "#     def __init__(self, val=0, left=None, right=None):\n",
    "#         self.val = val\n",
    "#         self.left = left\n",
    "#         self.right = right\n",
    "class Solution:\n",
    "    def constructMaximumBinaryTree(self, nums: List[int]) -> Optional[TreeNode]:\n",
    "        if len(nums) == 0:\n",
    "            return None\n",
    "\n",
    "        maxValInd = nums.index(max(nums))\n",
    "        maxVal = max(nums)\n",
    "        root = TreeNode(maxVal)\n",
    "        root.left = self.constructMaximumBinaryTree(nums[:maxValInd])\n",
    "        root.right = self.constructMaximumBinaryTree(nums[maxValInd+1:])\n",
    "\n",
    "        return root\n",
    "\n"
   ]
  }
 ],
 "metadata": {
  "kernelspec": {
   "display_name": "Python 3",
   "language": "python",
   "name": "python3"
  },
  "language_info": {
   "codemirror_mode": {
    "name": "ipython",
    "version": 2
   },
   "file_extension": ".py",
   "mimetype": "text/x-python",
   "name": "python",
   "nbconvert_exporter": "python",
   "pygments_lexer": "ipython2",
   "version": "2.7.6"
  }
 },
 "nbformat": 4,
 "nbformat_minor": 0
}
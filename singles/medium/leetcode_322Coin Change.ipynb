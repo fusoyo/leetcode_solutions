{
 "cells": [
  {
   "cell_type": "markdown",
   "metadata": {
    "collapsed": true,
    "pycharm": {
     "name": "#%% md\n"
    }
   },
   "source": [
    "## Dynamic Programming problem\n",
    "\n",
    "You are given an integer array coins representing coins of different denominations and an integer amount representing a total amount of money.\n",
    "\n",
    "Return the fewest number of coins that you need to make up that amount. If that amount of money cannot be made up by any combination of the coins, return -1.\n",
    "\n",
    "You may assume that you have an infinite number of each kind of coin.\n",
    "\n",
    "\n",
    "\n",
    "Example 1:\n",
    "\n",
    "Input: coins = [1,2,5], amount = 11\n",
    "Output: 3\n",
    "Explanation: 11 = 5 + 5 + 1\n",
    "Example 2:\n",
    "\n",
    "Input: coins = [2], amount = 3\n",
    "Output: -1\n",
    "Example 3:\n",
    "\n",
    "Input: coins = [1], amount = 0\n",
    "Output: 0\n"
   ]
  },
  {
   "cell_type": "markdown",
   "source": [
    "it needs backtracking solution\n",
    "\n",
    "bottom up"
   ],
   "metadata": {
    "collapsed": false
   }
  },
  {
   "cell_type": "code",
   "execution_count": 13,
   "outputs": [],
   "source": [
    "class Solution:\n",
    "    def coinChange(self, coins: list, amount: int) -> int:\n",
    "\n",
    "        dp = [amount + 1] * (\n",
    "                    amount + 1)  # this dp its index means the sum, here it means from 0 to amount the dp goes over/ amount + 1 is the max values for each index or default val;\n",
    "        dp[0] = 0\n",
    "        for a in range(1, amount + 1):\n",
    "            for c in coins:\n",
    "                if a - c >= 0:\n",
    "                    dp[a] = min(dp[a], 1 + dp[a - c])\n",
    "        return dp[amount] if dp[amount] != amount + 1 else -1\n",
    "\n",
    "        # a method of using tabulation this is how sum\n",
    "    def method2(self, coins: list, amount: int) -> int:\n",
    "        table = [False] * (amount + 1)\n",
    "        table[0] = True\n",
    "\n",
    "        for i in range(amount):\n",
    "            if table[i]:\n",
    "                for coin in coins:\n",
    "                    if i + coin < len(table):\n",
    "                        table[i + coin] = True\n",
    "        print(table)\n",
    "        return table[-1] if table[-1] else -1\n",
    "\n",
    "\n",
    "\n",
    "\n"
   ],
   "metadata": {
    "collapsed": false,
    "pycharm": {
     "name": "#%%\n"
    }
   }
  },
  {
   "cell_type": "code",
   "execution_count": 12,
   "outputs": [
    {
     "name": "stdout",
     "output_type": "stream",
     "text": [
      "[True, False, False, True, False, True, True, False, True, True, True, True]\n"
     ]
    },
    {
     "data": {
      "text/plain": "True"
     },
     "execution_count": 12,
     "metadata": {},
     "output_type": "execute_result"
    }
   ],
   "source": [
    "s = Solution()\n",
    "s.method2([3,5],11)"
   ],
   "metadata": {
    "collapsed": false,
    "pycharm": {
     "name": "#%%\n"
    }
   }
  },
  {
   "cell_type": "code",
   "execution_count": 16,
   "outputs": [
    {
     "name": "stdout",
     "output_type": "stream",
     "text": [
      "[0, 12, 12, 12, 12, 12, 12, 12, 12, 12, 12, 12]\n",
      "1 1\n",
      "2 1\n",
      "2 2\n",
      "3 1\n",
      "3 2\n",
      "4 1\n",
      "4 2\n",
      "5 1\n",
      "5 2\n",
      "5 5\n",
      "6 1\n",
      "6 2\n",
      "6 5\n",
      "7 1\n",
      "7 2\n",
      "7 5\n",
      "8 1\n",
      "8 2\n",
      "8 5\n",
      "9 1\n",
      "9 2\n",
      "9 5\n",
      "10 1\n",
      "10 2\n",
      "10 5\n",
      "11 1\n",
      "11 2\n",
      "11 5\n",
      "[0, 1, 1, 2, 2, 1, 2, 2, 3, 3, 2, 3]\n"
     ]
    },
    {
     "data": {
      "text/plain": "3"
     },
     "execution_count": 16,
     "metadata": {},
     "output_type": "execute_result"
    }
   ],
   "source": [
    "s = Solution()\n",
    "s.coinChange([1, 2, 5], 11)"
   ],
   "metadata": {
    "collapsed": false,
    "pycharm": {
     "name": "#%%\n"
    }
   }
  },
  {
   "cell_type": "code",
   "execution_count": null,
   "outputs": [],
   "source": [],
   "metadata": {
    "collapsed": false,
    "pycharm": {
     "name": "#%%\n"
    }
   }
  }
 ],
 "metadata": {
  "kernelspec": {
   "display_name": "Python 3",
   "language": "python",
   "name": "python3"
  },
  "language_info": {
   "codemirror_mode": {
    "name": "ipython",
    "version": 2
   },
   "file_extension": ".py",
   "mimetype": "text/x-python",
   "name": "python",
   "nbconvert_exporter": "python",
   "pygments_lexer": "ipython2",
   "version": "2.7.6"
  }
 },
 "nbformat": 4,
 "nbformat_minor": 0
}
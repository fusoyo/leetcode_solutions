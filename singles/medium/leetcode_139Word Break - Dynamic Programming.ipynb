{
 "cells": [
  {
   "cell_type": "markdown",
   "source": [
    "Given a string s and a dictionary of strings wordDict, return true if s can be segmented into a space-separated sequence of one or more dictionary words.\n",
    "\n",
    "Note that the same word in the dictionary may be reused multiple times in the segmentation.\n",
    "\n",
    "\n",
    "\n",
    "Example 1:\n",
    "\n",
    "Input: s = \"leetcode\", wordDict = [\"leet\",\"code\"]\n",
    "Output: true\n",
    "Explanation: Return true because \"leetcode\" can be segmented as \"leet code\".\n",
    "Example 2:\n",
    "\n",
    "Input: s = \"applepenapple\", wordDict = [\"apple\",\"pen\"]\n",
    "Output: true\n",
    "Explanation: Return true because \"applepenapple\" can be segmented as \"apple pen apple\".\n",
    "Note that you are allowed to reuse a dictionary word.\n",
    "Example 3:\n",
    "\n",
    "Input: s = \"catsandog\", wordDict = [\"cats\",\"dog\",\"sand\",\"and\",\"cat\"]\n",
    "Output: false"
   ],
   "metadata": {
    "collapsed": false
   }
  },
  {
   "cell_type": "code",
   "execution_count": 144,
   "metadata": {
    "collapsed": true
   },
   "outputs": [],
   "source": [
    "# decision tree ---> dynamic programming\n",
    "class Solution:\n",
    "    def wordBreak(self, s: str, wordDict: list) -> bool:\n",
    "        # from back to beginning\n",
    "        dp = [False] * (len(s)+1)\n",
    "        dp[len(s)] = True # base case\n",
    "\n",
    "        for i in range(len(s)-1,-1,-1):\n",
    "            for w in wordDict:\n",
    "                if (i+len(w)) <= len(s) and s[i:i+len(w)]==w:\n",
    "                    dp[i] = dp[i+len(w)]\n",
    "                if dp[i]:\n",
    "                    break\n",
    "        return dp[0]\n"
   ]
  },
  {
   "cell_type": "code",
   "execution_count": 145,
   "outputs": [
    {
     "name": "stdout",
     "output_type": "stream",
     "text": [
      "False 12\n",
      "False 12\n",
      "False 11\n",
      "False 11\n",
      "False 10\n",
      "False 10\n",
      "False 9\n",
      "False 9\n",
      "8 13 True apple\n",
      "True 8\n",
      "False 7\n",
      "False 7\n",
      "False 6\n",
      "False 6\n",
      "False 5\n",
      "5 8 True pen\n",
      "True 5\n",
      "False 4\n",
      "False 4\n",
      "False 3\n",
      "False 3\n",
      "False 2\n",
      "False 2\n",
      "False 1\n",
      "False 1\n",
      "0 5 True apple\n",
      "True 0\n"
     ]
    },
    {
     "data": {
      "text/plain": "True"
     },
     "execution_count": 145,
     "metadata": {},
     "output_type": "execute_result"
    }
   ],
   "source": [
    "s = Solution()\n",
    "s.wordBreak(\"applepenapple\", [\"apple\", \"pen\"])"
   ],
   "metadata": {
    "collapsed": false,
    "pycharm": {
     "name": "#%%\n"
    }
   }
  },
  {
   "cell_type": "code",
   "execution_count": 147,
   "outputs": [
    {
     "name": "stdout",
     "output_type": "stream",
     "text": [
      "False 8\n",
      "False 8\n",
      "False 8\n",
      "False 8\n",
      "False 8\n",
      "False 7\n",
      "False 7\n",
      "False 7\n",
      "False 7\n",
      "False 7\n",
      "False 6\n",
      "6 9 True dog\n",
      "True 6\n",
      "False 5\n",
      "False 5\n",
      "False 5\n",
      "False 5\n",
      "False 5\n",
      "False 4\n",
      "False 4\n",
      "False 4\n",
      "4 7 False and\n",
      "False 4\n",
      "False 4\n",
      "False 3\n",
      "False 3\n",
      "3 7 False sand\n",
      "False 3\n",
      "False 3\n",
      "False 3\n",
      "False 2\n",
      "False 2\n",
      "False 2\n",
      "False 2\n",
      "False 2\n",
      "False 1\n",
      "False 1\n",
      "False 1\n",
      "False 1\n",
      "False 1\n",
      "0 4 False cats\n",
      "False 0\n",
      "False 0\n",
      "False 0\n",
      "False 0\n",
      "0 3 False cat\n",
      "False 0\n"
     ]
    },
    {
     "data": {
      "text/plain": "False"
     },
     "execution_count": 147,
     "metadata": {},
     "output_type": "execute_result"
    }
   ],
   "source": [
    "s.wordBreak(\"catsandog\", [\"cats\", \"dog\", \"sand\", \"and\", \"cat\"])\n",
    "\n",
    "\n",
    "\n",
    "\n",
    "\n"
   ],
   "metadata": {
    "collapsed": false,
    "pycharm": {
     "name": "#%%\n"
    }
   }
  },
  {
   "cell_type": "code",
   "execution_count": 127,
   "outputs": [
    {
     "data": {
      "text/plain": "True"
     },
     "execution_count": 127,
     "metadata": {},
     "output_type": "execute_result"
    }
   ],
   "source": [
    "s.wordBreak(\"leetcode\", [\"leet\",\"code\"])"
   ],
   "metadata": {
    "collapsed": false,
    "pycharm": {
     "name": "#%%\n"
    }
   }
  },
  {
   "cell_type": "code",
   "execution_count": 128,
   "outputs": [
    {
     "data": {
      "text/plain": "True"
     },
     "execution_count": 128,
     "metadata": {},
     "output_type": "execute_result"
    }
   ],
   "source": [
    "s.wordBreak('a',['a'])"
   ],
   "metadata": {
    "collapsed": false,
    "pycharm": {
     "name": "#%%\n"
    }
   }
  },
  {
   "cell_type": "code",
   "execution_count": 129,
   "outputs": [
    {
     "data": {
      "text/plain": "False"
     },
     "execution_count": 129,
     "metadata": {},
     "output_type": "execute_result"
    }
   ],
   "source": [
    "s.wordBreak('a',['b'])"
   ],
   "metadata": {
    "collapsed": false,
    "pycharm": {
     "name": "#%%\n"
    }
   }
  },
  {
   "cell_type": "code",
   "execution_count": 130,
   "outputs": [
    {
     "data": {
      "text/plain": "True"
     },
     "execution_count": 130,
     "metadata": {},
     "output_type": "execute_result"
    }
   ],
   "source": [
    "s.wordBreak(\n",
    "\n",
    "\"goalspecial\",\n",
    "[\"go\",\"goal\",\"goals\",\"special\"])"
   ],
   "metadata": {
    "collapsed": false,
    "pycharm": {
     "name": "#%%\n"
    }
   }
  },
  {
   "cell_type": "code",
   "execution_count": null,
   "outputs": [],
   "source": [],
   "metadata": {
    "collapsed": false,
    "pycharm": {
     "name": "#%%\n"
    }
   }
  }
 ],
 "metadata": {
  "kernelspec": {
   "display_name": "Python 3",
   "language": "python",
   "name": "python3"
  },
  "language_info": {
   "codemirror_mode": {
    "name": "ipython",
    "version": 2
   },
   "file_extension": ".py",
   "mimetype": "text/x-python",
   "name": "python",
   "nbconvert_exporter": "python",
   "pygments_lexer": "ipython2",
   "version": "2.7.6"
  }
 },
 "nbformat": 4,
 "nbformat_minor": 0
}
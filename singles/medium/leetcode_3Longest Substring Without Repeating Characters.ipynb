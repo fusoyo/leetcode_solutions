{
 "cells": [
  {
   "cell_type": "markdown",
   "metadata": {
    "collapsed": false
   },
   "source": [
    "Given a string s, find the length of the longest substring without repeating characters.\n",
    "\n",
    "\n",
    "\n",
    "Example 1:\n",
    "\n",
    "Input: s = \"abcabcbb\"\n",
    "Output: 3\n",
    "Explanation: The answer is \"abc\", with the length of 3.\n",
    "Example 2:\n",
    "\n",
    "Input: s = \"bbbbb\"\n",
    "Output: 1\n",
    "Explanation: The answer is \"b\", with the length of 1.\n",
    "Example 3:\n",
    "\n",
    "Input: s = \"pwwkew\"\n",
    "Output: 3\n",
    "Explanation: The answer is \"wke\", with the length of 3.\n",
    "Notice that the answer must be a substring, \"pwke\" is a subsequence and not a substring."
   ]
  },
  {
   "cell_type": "code",
   "execution_count": 61,
   "metadata": {
    "collapsed": true
   },
   "outputs": [],
   "source": [
    "class Solution:\n",
    "    def lengthOfLongestSubstring(self, s: str) -> int:\n",
    "        if len(s)<=1:\n",
    "            return len(s)\n",
    "        longestS = ''\n",
    "        for i in range(len(s)-1):\n",
    "            length = 1\n",
    "            tmp = s[i]\n",
    "            while i+length<len(s):\n",
    "                if s[i+length] in tmp:\n",
    "                    break\n",
    "                else:\n",
    "                    tmp += s[i+length]\n",
    "                    length += 1\n",
    "            if len(tmp) > len(longestS):\n",
    "                    longestS = tmp\n",
    "        return len(longestS)\n",
    "#         time complexity: O(n**2)"
   ]
  },
  {
   "cell_type": "code",
   "execution_count": 47,
   "metadata": {},
   "outputs": [],
   "source": [
    "from collections import Counter\n",
    "class Solution:\n",
    "    def lengthOfLongestSubstring(self, s):\n",
    "        if len(s)<= 1:\n",
    "            return len(s)\n",
    "        window ={}\n",
    "\n",
    "        res = 0\n",
    "        left = 0\n",
    "        right = 0\n",
    "\n",
    "        while right<len(s):\n",
    "            c = s[right]\n",
    "            right += 1\n",
    "            \n",
    "            # with right increaing, update window\n",
    "            window[c] = window.setdefault(c,0) + 1    \n",
    "            while window[c]>1: # when to update left \n",
    "                d = s[left]\n",
    "                left += 1\n",
    "                window[d] -=1\n",
    "            res = max(res,right-left)\n",
    "        return res\n"
   ]
  },
  {
   "cell_type": "code",
   "execution_count": 48,
   "metadata": {
    "collapsed": false,
    "pycharm": {
     "name": "#%%\n"
    }
   },
   "outputs": [
    {
     "data": {
      "text/plain": [
       "2"
      ]
     },
     "execution_count": 48,
     "metadata": {},
     "output_type": "execute_result"
    }
   ],
   "source": [
    "s = Solution()\n",
    "# s.lengthOfLongestSubstring('abcabcbb')\n",
    "# s.lengthOfLongestSubstring('bb')\n",
    "s.lengthOfLongestSubstring(\"au\")"
   ]
  },
  {
   "cell_type": "code",
   "execution_count": null,
   "metadata": {
    "collapsed": false,
    "pycharm": {
     "name": "#%%\n"
    }
   },
   "outputs": [],
   "source": []
  }
 ],
 "metadata": {
  "kernelspec": {
   "display_name": "Python 3",
   "language": "python",
   "name": "python3"
  },
  "language_info": {
   "codemirror_mode": {
    "name": "ipython",
    "version": 3
   },
   "file_extension": ".py",
   "mimetype": "text/x-python",
   "name": "python",
   "nbconvert_exporter": "python",
   "pygments_lexer": "ipython3",
   "version": "3.8.5"
  }
 },
 "nbformat": 4,
 "nbformat_minor": 0
}

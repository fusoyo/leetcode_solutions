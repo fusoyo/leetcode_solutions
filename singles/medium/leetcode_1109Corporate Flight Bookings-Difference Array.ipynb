{
 "cells": [
  {
   "cell_type": "markdown",
   "metadata": {},
   "source": [
    "There are n flights that are labeled from 1 to n.\n",
    "\n",
    "You are given an array of flight bookings bookings, where bookings[i] = [firsti, lasti, seatsi] represents a booking for flights firsti through lasti (inclusive) with seatsi seats reserved for each flight in the range.\n",
    "\n",
    "Return an array answer of length n, where answer[i] is the total number of seats reserved for flight i.\n",
    "\n",
    " \n",
    "\n",
    "Example 1:\n",
    "\n",
    "Input: bookings = [[1,2,10],[2,3,20],[2,5,25]], n = 5\n",
    "Output: [10,55,45,25,25]\n",
    "Explanation:\n",
    "Flight labels:        1   2   3   4   5\n",
    "Booking 1 reserved:  10  10\n",
    "Booking 2 reserved:      20  20\n",
    "Booking 3 reserved:      25  25  25  25\n",
    "Total seats:         10  55  45  25  25\n",
    "Hence, answer = [10,55,45,25,25]"
   ]
  },
  {
   "cell_type": "markdown",
   "metadata": {},
   "source": [
    "first make a Differece class;\n",
    "and then solve the problem with the difference instance"
   ]
  },
  {
   "cell_type": "code",
   "execution_count": 1,
   "metadata": {},
   "outputs": [
    {
     "data": {
      "text/plain": [
       "1"
      ]
     },
     "execution_count": 1,
     "metadata": {},
     "output_type": "execute_result"
    }
   ],
   "source": [
    "1"
   ]
  },
  {
   "cell_type": "code",
   "execution_count": 9,
   "metadata": {},
   "outputs": [],
   "source": [
    "class Difference:\n",
    "    def __init__(self, nums):\n",
    "        self.diff = [0] * len(nums)\n",
    "        self.difference(nums)\n",
    "\n",
    "    def difference(self,nums):\n",
    "        assert len(nums)>0\n",
    "\n",
    "        self.diff[0] = nums[0]\n",
    "        for i in range(1, len(nums)): \n",
    "            self.diff[i] = nums[i] - nums[i-1]\n",
    "    \n",
    "    def increment(self,i,j,val):\n",
    "        self.diff[i] += val\n",
    "        if (j+1<len(self.diff)):\n",
    "            self.diff[j+1] -= val\n",
    "        print(self.diff)\n",
    "    \n",
    "    def result(self):\n",
    "        res = [0]*len(self.diff)\n",
    "        res[0] = self.diff[0]\n",
    "\n",
    "        for i in range(1, len(self.diff)):\n",
    "            res[i] = self.diff[i] +res[i-1]\n",
    "            print(res)\n",
    "        \n",
    "        return res\n",
    "class Solution: \n",
    "    def corpFlightBookings(self,bookings,n):\n",
    "        nums = [0] * n\n",
    "\n",
    "        df = Difference(nums)\n",
    "\n",
    "        for booking in bookings:\n",
    "            i = booking[0]-1 \n",
    "            j = booking[1]-1\n",
    "            val = booking[2]\n",
    "            df.increment(i,j,val)\n",
    "\n",
    "        return df.result()"
   ]
  },
  {
   "cell_type": "code",
   "execution_count": 10,
   "metadata": {},
   "outputs": [
    {
     "name": "stdout",
     "output_type": "stream",
     "text": [
      "[10, 0, -10, 0, 0]\n",
      "[10, 20, -10, -20, 0]\n",
      "[10, 45, -10, -20, 0]\n",
      "[10, 55, 0, 0, 0]\n",
      "[10, 55, 45, 0, 0]\n",
      "[10, 55, 45, 25, 0]\n",
      "[10, 55, 45, 25, 25]\n"
     ]
    },
    {
     "data": {
      "text/plain": [
       "[10, 55, 45, 25, 25]"
      ]
     },
     "execution_count": 10,
     "metadata": {},
     "output_type": "execute_result"
    }
   ],
   "source": [
    "s =Solution()\n",
    "s.corpFlightBookings([[1,2,10],[2,3,20],[2,5,25]], 5)"
   ]
  },
  {
   "cell_type": "code",
   "execution_count": null,
   "metadata": {},
   "outputs": [],
   "source": []
  }
 ],
 "metadata": {
  "interpreter": {
   "hash": "bf530cf1f718aa25470822cc609ef77e8c91a13ee1f50061e6693778a401ac9f"
  },
  "kernelspec": {
   "display_name": "Python 3.8.5 64-bit ('jupyterlab-debugger': conda)",
   "language": "python",
   "name": "python3"
  },
  "language_info": {
   "codemirror_mode": {
    "name": "ipython",
    "version": 3
   },
   "file_extension": ".py",
   "mimetype": "text/x-python",
   "name": "python",
   "nbconvert_exporter": "python",
   "pygments_lexer": "ipython3",
   "version": "3.8.5"
  },
  "orig_nbformat": 4
 },
 "nbformat": 4,
 "nbformat_minor": 2
}

{
 "cells": [
  {
   "cell_type": "markdown",
   "metadata": {},
   "source": [
    "Given a string s, partition s such that every substring of the partition is a palindrome. Return all possible palindrome partitioning of s.\n",
    "\n",
    "A palindrome string is a string that reads the same backward as forward.\n",
    "\n",
    " \n",
    "\n",
    "Example 1:\n",
    "\n",
    "Input: s = \"aab\"\n",
    "Output: [[\"a\",\"a\",\"b\"],[\"aa\",\"b\"]]\n",
    "Example 2:\n",
    "\n",
    "Input: s = \"a\"\n",
    "Output: [[\"a\"]]\n",
    " \n",
    "\n",
    "Constraints:\n",
    "\n",
    "1 <= s.length <= 16\n",
    "s contains only lowercase English letters."
   ]
  },
  {
   "cell_type": "code",
   "execution_count": 2,
   "metadata": {},
   "outputs": [],
   "source": [
    "\n",
    "class Solution:\n",
    "    def partition(self, s: str):\n",
    "        res = []\n",
    "        \n",
    "        part = []\n",
    "        def dfs(i):\n",
    "            # base case \n",
    "            if i >= len(s):\n",
    "                res.append(part.copy())\n",
    "                return \n",
    "            \n",
    "            for j in range(i,len(s)):\n",
    "                if self.isPali(s,i,j):\n",
    "                    # add\n",
    "                    part.append(s[i:j+1])\n",
    "                    # call recursively\n",
    "                    dfs(j+1)\n",
    "                    # pop\n",
    "                    part.pop()\n",
    "        \n",
    "        dfs(0)\n",
    "        return res \n",
    "    \n",
    "    def isPali(self,s: str, l: int, r: int) -> bool:\n",
    "        while l<r:\n",
    "            if s[l] != s[r]:\n",
    "                return False \n",
    "            \n",
    "            l, r = l+1, r-1\n",
    "        \n",
    "        return True \n",
    "# TIME complexity: O(2^n)\n"
   ]
  },
  {
   "cell_type": "code",
   "execution_count": null,
   "metadata": {},
   "outputs": [],
   "source": []
  }
 ],
 "metadata": {
  "interpreter": {
   "hash": "b3ba2566441a7c06988d0923437866b63cedc61552a5af99d1f4fb67d367b25f"
  },
  "kernelspec": {
   "display_name": "Python 3.8.5 ('base')",
   "language": "python",
   "name": "python3"
  },
  "language_info": {
   "codemirror_mode": {
    "name": "ipython",
    "version": 3
   },
   "file_extension": ".py",
   "mimetype": "text/x-python",
   "name": "python",
   "nbconvert_exporter": "python",
   "pygments_lexer": "ipython3",
   "version": "3.8.5"
  },
  "orig_nbformat": 4
 },
 "nbformat": 4,
 "nbformat_minor": 2
}

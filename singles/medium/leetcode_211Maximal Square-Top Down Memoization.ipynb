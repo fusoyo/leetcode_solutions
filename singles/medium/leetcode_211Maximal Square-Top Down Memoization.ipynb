{
 "cells": [
  {
   "cell_type": "markdown",
   "metadata": {},
   "source": [
    "Given an m x n binary matrix filled with 0's and 1's, find the largest square containing only 1's and return its area."
   ]
  },
  {
   "cell_type": "code",
   "execution_count": null,
   "metadata": {},
   "outputs": [],
   "source": [
    "class Solution:\n",
    "    def maximalSquare(self, matrix: List[List[str]]) -> int:\n",
    "        ROWS, COLS = len(matrix), len(matrix[0])\n",
    "        cache = {} # map each (r,c) -> maxLength of square\n",
    "        \n",
    "        def helper(r, c):\n",
    "            if r>=len(matrix) or c>=len(matrix[0]):\n",
    "                return 0 # fake border\n",
    "            if (r,c) not in cache:\n",
    "                down = helper(r+1, c)\n",
    "                right = helper(r, c+1)\n",
    "                diag = helper(r+1,c+1)\n",
    "                \n",
    "                cache[(r,c)] = 0\n",
    "                if matrix[r][c] == \"1\":\n",
    "                    cache[(r,c)] = 1 + min(down, right,diag)\n",
    "                \n",
    "            return cache[(r,c)]\n",
    "        helper(0,0)\n",
    "        return max(cache.values())**2\n",
    "\n",
    "# T: O(m*n); M:O(m*n)"
   ]
  }
 ],
 "metadata": {
  "language_info": {
   "name": "python"
  },
  "orig_nbformat": 4
 },
 "nbformat": 4,
 "nbformat_minor": 2
}

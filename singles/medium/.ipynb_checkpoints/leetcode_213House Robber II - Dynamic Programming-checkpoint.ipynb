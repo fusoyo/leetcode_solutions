{
 "cells": [
  {
   "cell_type": "markdown",
   "metadata": {},
   "source": [
    "You are a professional robber planning to rob houses along a street. Each house has a certain amount of money stashed. All houses at this place are arranged in a circle. That means the first house is the neighbor of the last one. Meanwhile, adjacent houses have a security system connected, and it will automatically contact the police if two adjacent houses were broken into on the same night.\n",
    "\n",
    "Given an integer array nums representing the amount of money of each house, return the maximum amount of money you can rob tonight without alerting the police.\n",
    "\n",
    " \n",
    "\n",
    "Example 1:\n",
    "\n",
    "Input: nums = [2,3,2]\n",
    "Output: 3\n",
    "Explanation: You cannot rob house 1 (money = 2) and then rob house 3 (money = 2), because they are adjacent houses.\n",
    "Example 2:\n",
    "\n",
    "Input: nums = [1,2,3,1]\n",
    "Output: 4\n",
    "Explanation: Rob house 1 (money = 1) and then rob house 3 (money = 3).\n",
    "Total amount you can rob = 1 + 3 = 4.\n",
    "Example 3:\n",
    "\n",
    "Input: nums = [1,2,3]\n",
    "Output: 3"
   ]
  },
  {
   "cell_type": "markdown",
   "metadata": {},
   "source": [
    "two sub arrays expluding the first one and the last one respectively"
   ]
  },
  {
   "cell_type": "code",
   "execution_count": 4,
   "metadata": {},
   "outputs": [],
   "source": [
    "class Solution:\n",
    "    def rob(self, nums) -> int:\n",
    "        \n",
    "        return max(nums[0], self.helper(nums[1:]), self.helper(nums[:-1])) \n",
    "    \n",
    "    def helper(self,nums):\n",
    "        rob1, rob2 = 0, 0\n",
    "        \n",
    "        for n in nums:\n",
    "            newRob = max(rob1+n,rob2)\n",
    "            rob1 = rob2\n",
    "            rob2 = newRob\n",
    "        return rob2\n",
    "# TIME Complexity:O(n) S C:O(1)\n"
   ]
  },
  {
   "cell_type": "code",
   "execution_count": 5,
   "metadata": {},
   "outputs": [
    {
     "data": {
      "text/plain": [
       "8"
      ]
     },
     "execution_count": 5,
     "metadata": {},
     "output_type": "execute_result"
    }
   ],
   "source": [
    "s = Solution()\n",
    "s.rob([2,3,4,5])"
   ]
  },
  {
   "cell_type": "code",
   "execution_count": null,
   "metadata": {},
   "outputs": [],
   "source": []
  }
 ],
 "metadata": {
  "kernelspec": {
   "display_name": "Python 3.8.5 64-bit ('base': conda)",
   "language": "python",
   "name": "python385jvsc74a57bd04e6cf26dc29581382a1e33c8542cde068fa9296bf834008e769d316a364abf77"
  },
  "language_info": {
   "codemirror_mode": {
    "name": "ipython",
    "version": 3
   },
   "file_extension": ".py",
   "mimetype": "text/x-python",
   "name": "python",
   "nbconvert_exporter": "python",
   "pygments_lexer": "ipython3",
   "version": "3.8.5"
  }
 },
 "nbformat": 4,
 "nbformat_minor": 4
}

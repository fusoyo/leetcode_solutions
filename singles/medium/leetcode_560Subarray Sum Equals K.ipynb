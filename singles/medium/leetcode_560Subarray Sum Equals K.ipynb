{
 "cells": [
  {
   "cell_type": "markdown",
   "metadata": {},
   "source": [
    "Given an array of integers nums and an integer k, return the total number of subarrays whose sum equals to k.\n",
    "\n",
    " \n",
    "\n",
    "Example 1:\n",
    "\n",
    "Input: nums = [1,1,1], k = 2\n",
    "Output: 2\n",
    "Example 2:\n",
    "\n",
    "Input: nums = [1,2,3], k = 3\n",
    "Output: 2\n",
    " \n",
    "\n",
    "Constraints:\n",
    "\n",
    "1 <= nums.length <= 2 * 104\n",
    "-1000 <= nums[i] <= 1000\n",
    "-107 <= k <= 107"
   ]
  },
  {
   "cell_type": "code",
   "execution_count": 8,
   "metadata": {},
   "outputs": [],
   "source": [
    "class Solution:\n",
    "    def subarraySum(self, nums, k: int) -> int:\n",
    "        perSum = [0] * (len(nums)+1)  # prefix sum\n",
    "        \n",
    "        # initialize prefix sum\n",
    "        for i in range(1,len(perSum)):\n",
    "            perSum[i] = perSum[i-1] + nums[i-1]\n",
    "\n",
    "        res = 0\n",
    "        # count\n",
    "        for i in range(1,len(perSum)):\n",
    "            for j in range(i):\n",
    "                if (perSum[i] - perSum[j]) == k:\n",
    "                    res += 1\n",
    "        return res \n",
    "\n",
    "    # time limit exceeded; \n",
    "\n",
    "    def method2(self,nums,k: int) -> int:\n",
    "        perSum = {}  # prefix hash set to record \n",
    "\n",
    "        res = 0\n",
    "        sum0_i = 0\n",
    "        perSum[0] = 1 \n",
    "\n",
    "        for i in range(0,len(nums)):\n",
    "            sum0_i+= nums[i]\n",
    "\n",
    "            sum0_j = sum0_i - k\n",
    "            if sum0_j in perSum:\n",
    "                print('j',sum0_j,sum0_i)\n",
    "                res += perSum.get(sum0_j)\n",
    "            perSum.update({sum0_i:perSum.setdefault(sum0_i,0)+1})\n",
    "        print(perSum)\n",
    "        return res  \n",
    "        # Time: O(n)\n",
    "\n"
   ]
  },
  {
   "cell_type": "code",
   "execution_count": 10,
   "metadata": {},
   "outputs": [
    {
     "name": "stdout",
     "output_type": "stream",
     "text": [
      "j 0 2\n",
      "j 1 3\n",
      "j 2 4\n",
      "j 3 5\n",
      "j 4 6\n",
      "j 5 7\n",
      "j 6 8\n",
      "{0: 1, 1: 1, 2: 1, 3: 1, 4: 1, 5: 1, 6: 1, 7: 1, 8: 1}\n"
     ]
    },
    {
     "data": {
      "text/plain": [
       "7"
      ]
     },
     "execution_count": 10,
     "metadata": {},
     "output_type": "execute_result"
    }
   ],
   "source": [
    "s = Solution() \n",
    "s.method2([1,1,1,1,1,1,1,1],2)"
   ]
  },
  {
   "cell_type": "code",
   "execution_count": null,
   "metadata": {},
   "outputs": [],
   "source": []
  }
 ],
 "metadata": {
  "interpreter": {
   "hash": "4e6cf26dc29581382a1e33c8542cde068fa9296bf834008e769d316a364abf77"
  },
  "kernelspec": {
   "display_name": "Python 3.8.5 ('base')",
   "language": "python",
   "name": "python3"
  },
  "language_info": {
   "codemirror_mode": {
    "name": "ipython",
    "version": 3
   },
   "file_extension": ".py",
   "mimetype": "text/x-python",
   "name": "python",
   "nbconvert_exporter": "python",
   "pygments_lexer": "ipython3",
   "version": "3.8.5"
  },
  "orig_nbformat": 4
 },
 "nbformat": 4,
 "nbformat_minor": 2
}

{
 "cells": [
  {
   "cell_type": "markdown",
   "metadata": {},
   "source": [
    "Given an integer n, return the number of structurally unique BST's (binary search trees) which has exactly n nodes of unique values from 1 to n.\n",
    "\n",
    " \n",
    "\n",
    "Example 1:\n",
    "\n",
    "\n",
    "Input: n = 3\n",
    "Output: 5\n",
    "Example 2:\n",
    "\n",
    "Input: n = 1\n",
    "Output: 1\n",
    " \n",
    "\n",
    "Constraints:\n",
    "\n",
    "1 <= n <= 19"
   ]
  },
  {
   "cell_type": "markdown",
   "metadata": {},
   "source": [
    "dynamic programming <--- sub problem consists of the whole problem.\n",
    "\n",
    "leftSubtree * rightSubtree\n",
    "\n",
    "Time Complexity O(n^2)\n",
    "\n",
    "Space:O(n)"
   ]
  },
  {
   "cell_type": "code",
   "execution_count": null,
   "metadata": {},
   "outputs": [],
   "source": [
    "class Solution:\n",
    "    def numTrees(self, n: int) -> int:\n",
    "        \n",
    "        numTree = [1] * (n + 1)\n",
    "        # start from the index of 2;\n",
    "        for nodes in range(2, n + 1):\n",
    "            total = 0\n",
    "            for root in range(1, nodes + 1):\n",
    "                left = root - 1\n",
    "                right = nodes - root \n",
    "                total+=numTree[left] * numTree[right]\n",
    "            numTree[nodes] = total\n",
    "        \n",
    "        return numTree[n]        "
   ]
  },
  {
   "cell_type": "code",
   "execution_count": null,
   "metadata": {},
   "outputs": [],
   "source": []
  }
 ],
 "metadata": {
  "language_info": {
   "name": "python"
  },
  "orig_nbformat": 4
 },
 "nbformat": 4,
 "nbformat_minor": 2
}

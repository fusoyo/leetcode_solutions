{
 "cells": [
  {
   "cell_type": "code",
   "execution_count": null,
   "metadata": {},
   "outputs": [],
   "source": [
    "class Solution:\n",
    "    def searchInsert(self, nums: List[int], target: int) -> int:\n",
    "        length = -1\n",
    "        insert_index = 0\n",
    "        for num in nums:\n",
    "            if num< target:\n",
    "                insert_index += 1\n",
    "            if num != target:\n",
    "                length += 1  \n",
    "            if num == target:\n",
    "                length += 1  \n",
    "                return length\n",
    "        return insert_index\n",
    "                "
   ]
  }
 ],
 "metadata": {
  "language_info": {
   "name": "python"
  },
  "orig_nbformat": 4
 },
 "nbformat": 4,
 "nbformat_minor": 2
}

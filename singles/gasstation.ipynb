{
 "cells": [
  {
   "cell_type": "code",
   "execution_count": 2,
   "metadata": {},
   "outputs": [],
   "source": [
    "def can_traverse(gas, cost, start):\n",
    "    n = len(gas)\n",
    "    remaining = 0 # how much gas remains\n",
    "    i = start\n",
    "    started = False\n",
    "    while i != start or not started:\n",
    "        started = True\n",
    "        remaining += gas[i] - cost[i]\n",
    "        if remaining < 0:\n",
    "            return False\n",
    "        i = (i+1) % n\n",
    "    return True\n",
    "\n",
    "def gas_station(gas, cost):\n",
    "    remaining = 0 \n",
    "    candidate = 0 \n",
    "    for i in range(len(gas)):\n",
    "        remaining += gas[i] - cost[i]\n",
    "        if remaining < 0:\n",
    "            candidate = i +1\n",
    "            remaining = 0  # start again\n",
    "    prev_remaining = sum(gas[:candidate]) - sum(cost[:candidate])\n",
    "    if candidate == len(gas) or remaining + prev_remaining < 0:\n",
    "        return -1 \n",
    "    else:\n",
    "        return candidate"
   ]
  },
  {
   "cell_type": "code",
   "execution_count": 3,
   "metadata": {},
   "outputs": [
    {
     "data": {
      "text/plain": [
       "8"
      ]
     },
     "execution_count": 3,
     "metadata": {},
     "output_type": "execute_result"
    }
   ],
   "source": [
    "gas = [1,5,3,3,5,3,1,3,4,5]\n",
    "cost = [5,2,2,8,2,4,2,5,1,2]\n",
    "gas_station(gas, cost)"
   ]
  },
  {
   "cell_type": "code",
   "execution_count": 5,
   "metadata": {},
   "outputs": [
    {
     "name": "stdout",
     "output_type": "stream",
     "text": [
      "False\n",
      "False\n",
      "False\n",
      "False\n",
      "False\n",
      "False\n",
      "False\n",
      "False\n",
      "True\n",
      "False\n"
     ]
    }
   ],
   "source": [
    "for i in range(len(gas)):\n",
    "    print(can_traverse(gas,cost, i))"
   ]
  },
  {
   "cell_type": "code",
   "execution_count": null,
   "metadata": {},
   "outputs": [],
   "source": []
  }
 ],
 "metadata": {
  "interpreter": {
   "hash": "90530115b0fc1967bcca638ed1474a41d3fb7ba0906789120a5cbacdea810315"
  },
  "kernelspec": {
   "display_name": "Python 3.8.6 64-bit",
   "language": "python",
   "name": "python3"
  },
  "language_info": {
   "codemirror_mode": {
    "name": "ipython",
    "version": 3
   },
   "file_extension": ".py",
   "mimetype": "text/x-python",
   "name": "python",
   "nbconvert_exporter": "python",
   "pygments_lexer": "ipython3",
   "version": "3.7.10"
  },
  "orig_nbformat": 4
 },
 "nbformat": 4,
 "nbformat_minor": 2
}

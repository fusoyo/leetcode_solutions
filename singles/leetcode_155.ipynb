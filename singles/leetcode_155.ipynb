{
 "cells": [
  {
   "cell_type": "markdown",
   "metadata": {},
   "source": [
    "# Mini Stack\n",
    "Design a stack that supports push, pop, top, and retrieving the minimum element in constant time.<br/>\n",
    "\n",
    "Implement the MinStack class:<br/>\n",
    "\n",
    "MinStack() initializes the stack object.<br/>\n",
    "void push(int val) pushes the element val onto the stack.<br/>\n",
    "void pop() removes the element on the top of the stack.<br/>\n",
    "int top() gets the top element of the stack.<br/>\n",
    "int getMin() retrieves the minimum element in the stack.<br/>\n",
    " \n",
    "\n",
    "Example 1:\n",
    "\n",
    "Input\n",
    "[\"MinStack\",\"push\",\"push\",\"push\",\"getMin\",\"pop\",\"top\",\"getMin\"]<br/>\n",
    "[[],[-2],[0],[-3],[],[],[],[]]<br/>\n",
    "\n",
    "Output<br/>\n",
    "[null,null,null,null,-3,null,0,-2]<br/>\n",
    "\n",
    "Explanation\n",
    "MinStack minStack = new MinStack();<br/>\n",
    "minStack.push(-2);<br/>\n",
    "minStack.push(0);<br/>\n",
    "minStack.push(-3);<br/>\n",
    "minStack.getMin(); // return -3<br/>\n",
    "minStack.pop();<br/>\n",
    "minStack.top();    // return 0<br/>\n",
    "minStack.getMin(); // return -2<br/>\n",
    " \n",
    "\n",
    "Constraints:<br/>\n",
    "\n",
    "-231 <= val <= 231 - 1<br/>\n",
    "Methods pop, top and getMin operations will always be called on non-empty stacks.<br/>\n",
    "At most 3 * 104 calls will be made to push, pop, top, and getMin.<br/>"
   ]
  },
  {
   "cell_type": "code",
   "execution_count": 20,
   "metadata": {},
   "outputs": [],
   "source": [
    "# a wrong try\n",
    "# class MinStack:\n",
    "    \n",
    "#     def __init__(self):\n",
    "#         self.minVal = None \n",
    "#         self.stack = []\n",
    "        \n",
    "\n",
    "#     def push(self, val: int) -> None:\n",
    "#         if self.minVal is None:\n",
    "#             self.minVal = val\n",
    "#         elif self.minVal > val:\n",
    "#             self.minVal = val\n",
    "#         self.stack.append(val)\n",
    "\n",
    "#     def pop(self) -> None:\n",
    "#         self.stack.pop()\n",
    "\n",
    "#     def top(self) -> int:\n",
    "#         return self.stack[-1]\n",
    "        \n",
    "#     def getMin(self) -> int:\n",
    "#         if self.stack:\n",
    "#             return self.minVal\n",
    "#         else:\n",
    "#             return None\n",
    "        "
   ]
  },
  {
   "cell_type": "code",
   "execution_count": null,
   "metadata": {},
   "outputs": [],
   "source": [
    "class MinStack:\n",
    "    \n",
    "    def __init__(self):\n",
    "        self.stack = [] \n",
    "        self.minStack = []\n",
    "\n",
    "    def push(self, val: int) -> None:\n",
    "        self.stack.append(val)\n",
    "        val = min(val,self.minStack[-] if self.minStack else val)\n",
    "        self.minStack.append(val)\n",
    "\n",
    "    def pop(self) -> None:\n",
    "        self.stack.pop()\n",
    "        self.minStack.pop()\n",
    "\n",
    "    def top(self) -> int:\n",
    "        return self.stack[-1]\n",
    "    \n",
    "    def getMin(self) -> int:\n",
    "        return self.minStack[-1]"
   ]
  },
  {
   "cell_type": "code",
   "execution_count": 21,
   "metadata": {},
   "outputs": [],
   "source": [
    "# Your MinStack object will be instantiated and called as such:\n",
    "obj = MinStack()\n",
    "obj.push(10)\n",
    "obj.push(11)\n",
    "obj.push(12)\n",
    "obj.push(2)\n",
    "obj.pop()\n",
    "param_3 = obj.top()\n",
    "param_4 = obj.getMin()"
   ]
  },
  {
   "cell_type": "code",
   "execution_count": 22,
   "metadata": {},
   "outputs": [
    {
     "data": {
      "text/plain": [
       "2"
      ]
     },
     "execution_count": 22,
     "metadata": {},
     "output_type": "execute_result"
    }
   ],
   "source": [
    "param_4"
   ]
  },
  {
   "cell_type": "code",
   "execution_count": null,
   "metadata": {},
   "outputs": [],
   "source": []
  }
 ],
 "metadata": {
  "kernelspec": {
   "display_name": "Python 3",
   "language": "python",
   "name": "python3"
  },
  "language_info": {
   "codemirror_mode": {
    "name": "ipython",
    "version": 3
   },
   "file_extension": ".py",
   "mimetype": "text/x-python",
   "name": "python",
   "nbconvert_exporter": "python",
   "pygments_lexer": "ipython3",
   "version": "3.8.5"
  },
  "orig_nbformat": 4
 },
 "nbformat": 4,
 "nbformat_minor": 2
}

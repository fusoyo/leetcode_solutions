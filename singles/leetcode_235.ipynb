{
 "cells": [
  {
   "cell_type": "markdown",
   "metadata": {},
   "source": [
    "#  Lowest Common Ancestor of a Binary Search Tree\n",
    "Given a binary search tree (BST), find the lowest common ancestor (LCA) of two given nodes in the BST.\n",
    "\n",
    "According to the definition of LCA on Wikipedia: “The lowest common ancestor is defined between two nodes p and q as the lowest node in T that has both p and q as descendants (where we allow a node to be a descendant of itself).”"
   ]
  },
  {
   "cell_type": "markdown",
   "metadata": {},
   "source": [
    "left < root < right, so that p and q are bigger than the root node val, no need to traverse the left sub tree any more, vice versa <br/>\n",
    "time complexity: O(log n)<br/>\n",
    "space complexity: O(1)<br/>"
   ]
  },
  {
   "cell_type": "code",
   "execution_count": null,
   "metadata": {},
   "outputs": [],
   "source": [
    "# Definition for a binary tree node.\n",
    "# class TreeNode:\n",
    "#     def __init__(self, x):\n",
    "#         self.val = x\n",
    "#         self.left = None\n",
    "#         self.right = None\n",
    "\n",
    "class Solution:\n",
    "    def lowestCommonAncestor(self, root: 'TreeNode', p: 'TreeNode', q: 'TreeNode') -> 'TreeNode':\n",
    "        cur = root\n",
    "     \n",
    "        while cur:\n",
    "            if p.val > cur.val and q.val>cur.val:\n",
    "                cur = cur.right\n",
    "            elif p.val < cur.val and q.val<cur.val:\n",
    "                cur = cur.left\n",
    "            else:\n",
    "                return cur\n",
    "        # while True:\n",
    "        #     if p.val > cur.val and q.val>cur.val:\n",
    "        #         cur = cur.right\n",
    "        #     elif p.val < cur.val and q.val<cur.val:\n",
    "        #         cur = cur.left\n",
    "        #     else:\n",
    "        #         return cur\n"
   ]
  },
  {
   "cell_type": "code",
   "execution_count": null,
   "metadata": {},
   "outputs": [],
   "source": []
  }
 ],
 "metadata": {
  "language_info": {
   "name": "python"
  },
  "orig_nbformat": 4
 },
 "nbformat": 4,
 "nbformat_minor": 2
}

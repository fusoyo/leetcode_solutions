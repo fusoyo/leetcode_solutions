{
 "cells": [
  {
   "cell_type": "code",
   "execution_count": null,
   "metadata": {},
   "outputs": [],
   "source": [
    "class Solution:\n",
    "    def strStr(self, haystack: str, needle: str) -> int:\n",
    "        if len(needle)==0:\n",
    "            return 0   \n",
    "        for i in range(len(haystack)-len(needle)+1):\n",
    "            if haystack[i:(i+len(needle))]==needle:\n",
    "                return i\n",
    "        return -1\n",
    "        "
   ]
  }
 ],
 "metadata": {
  "language_info": {
   "name": "python"
  },
  "orig_nbformat": 4
 },
 "nbformat": 4,
 "nbformat_minor": 2
}

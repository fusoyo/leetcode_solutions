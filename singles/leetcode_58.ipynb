{
 "cells": [
  {
   "cell_type": "markdown",
   "metadata": {},
   "source": [
    "Given a string s consisting of some words separated by some number of spaces, return the length of the last word in the string.\n",
    "\n",
    "A word is a maximal substring consisting of non-space characters only.\n",
    "\n",
    " \n",
    "\n",
    "Example 1:\n",
    "\n",
    "Input: s = \"Hello World\"\n",
    "\n",
    "Output: 5\n",
    "\n",
    "Explanation: The last word is \"World\" with length 5.\n",
    "\n",
    "Example 2:\n",
    "\n",
    "Input: s = \"   fly me   to   the moon  \"\n",
    "\n",
    "Output: 4\n",
    "\n",
    "Explanation: The last word is \"moon\" with length 4.\n",
    "\n",
    "Example 3:\n",
    "\n",
    "Input: s = \"luffy is still joyboy\"\n",
    "\n",
    "Output: 6\n",
    "\n",
    "Explanation: The last word is \"joyboy\" with length 6."
   ]
  },
  {
   "cell_type": "code",
   "execution_count": 41,
   "metadata": {},
   "outputs": [],
   "source": [
    "# here start from the end;\n",
    "\n",
    "class Solution:\n",
    "    def lengthOfLastWord(self, s: str) -> int:\n",
    "        last_word_length = 0\n",
    "        space_length = 0\n",
    "        for i in range(len(s) - 1,-1, -1): \n",
    "            # deal with ends with space \n",
    "            if s[i] == ' ' and i == len(s) - 1 -space_length:\n",
    "                space_length += 1\n",
    "            elif s[i] == ' ' and i != len(s) - 1 -space_length:\n",
    "                return last_word_length\n",
    "            \n",
    "            # ends with non space \n",
    "            if s[i] != ' ':\n",
    "                last_word_length += 1  \n",
    "            \n",
    "        return last_word_length\n",
    "    \n",
    "        # method 2\n",
    "        # i,length = len(s)-1, 0 \n",
    "        # while s[i] == ' ':\n",
    "        #     i -= 1\n",
    "        # while s[i] != ' ' and i>= 0:\n",
    "        #     length += 1\n",
    "        #     i -=1\n",
    "        # return length\n",
    "            "
   ]
  },
  {
   "cell_type": "code",
   "execution_count": 42,
   "metadata": {},
   "outputs": [
    {
     "data": {
      "text/plain": [
       "6"
      ]
     },
     "execution_count": 42,
     "metadata": {},
     "output_type": "execute_result"
    }
   ],
   "source": [
    "s = Solution()\n",
    "s.lengthOfLastWord(\"luffy is still joyboy \")"
   ]
  },
  {
   "cell_type": "code",
   "execution_count": null,
   "metadata": {},
   "outputs": [],
   "source": []
  }
 ],
 "metadata": {
  "kernelspec": {
   "display_name": "Python 3",
   "language": "python",
   "name": "python3"
  },
  "orig_nbformat": 4
 },
 "nbformat": 4,
 "nbformat_minor": 2
}

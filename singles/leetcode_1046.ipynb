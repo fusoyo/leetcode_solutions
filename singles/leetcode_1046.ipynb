{
 "cells": [
  {
   "cell_type": "markdown",
   "metadata": {},
   "source": [
    "# 1046. Last Stone Weight\n",
    "\n",
    "Add to List\n",
    "\n",
    "Share\n",
    "You are given an array of integers stones where stones[i] is the weight of the ith stone.\n",
    "\n",
    "We are playing a game with the stones. On each turn, we choose the heaviest two stones and smash them together. <br/>Suppose the heaviest two stones have weights x and y with x <= y. The result of this smash is:<br/>\n",
    "\n",
    "If x == y, both stones are destroyed, and\n",
    "If x != y, the stone of weight x is destroyed, and the stone of weight y has new weight y - x.\n",
    "At the end of the game, there is at most one stone left.\n",
    "\n",
    "Return the smallest possible weight of the left stone. If there are no stones left, return 0.\n",
    "\n",
    " \n",
    "<br/>\n",
    "Example 1:<br/>\n",
    "\n",
    "Input: stones = [2,7,4,1,8,1] <br/>\n",
    "Output: 1<br/>\n",
    "Explanation: <br/>\n",
    "We combine 7 and 8 to get 1 so the array converts to [2,4,1,1,1] then,<br/>\n",
    "we combine 2 and 4 to get 2 so the array converts to [2,1,1,1] then,<br/>\n",
    "we combine 2 and 1 to get 1 so the array converts to [1,1,1] then,<br/>\n",
    "we combine 1 and 1 to get 0 so the array converts to [1] then that's the value of the last stone.<br/>\n",
    "Example 2:<br/>\n",
    "\n",
    "Input: stones = [1]<br/>\n",
    "Output: 1<br/>\n",
    " <br/>\n",
    "\n",
    "Constraints:<br/>\n",
    "\n",
    "1 <= stones.length <= 30<br/>\n",
    "1 <= stones[i] <= 1000"
   ]
  },
  {
   "cell_type": "markdown",
   "metadata": {},
   "source": [
    "use max heap but in python there is only min heap, so that convert all ints into negative ints.\n"
   ]
  },
  {
   "cell_type": "code",
   "execution_count": 1,
   "metadata": {},
   "outputs": [],
   "source": [
    "import heapq\n",
    "class Solution:\n",
    "    def lastStoneWeight(self, stones) -> int:\n",
    "        stones = [-s for s in stones]\n",
    "        heapq.heapify(stones)\n",
    "        while len(stones)>1:\n",
    "            first = heapq.heappop(stones )\n",
    "            second = heapq.heappop(stones )\n",
    "            if second > first:\n",
    "                heapq.heappush(stones, first - second )\n",
    "        stones.append(0)\n",
    "        return abs(stones[0])\n",
    "        "
   ]
  },
  {
   "cell_type": "code",
   "execution_count": 5,
   "metadata": {},
   "outputs": [
    {
     "data": {
      "text/plain": [
       "0"
      ]
     },
     "execution_count": 5,
     "metadata": {},
     "output_type": "execute_result"
    }
   ],
   "source": [
    "s = Solution()\n",
    "s.lastStoneWeight([2,1,1])"
   ]
  },
  {
   "cell_type": "code",
   "execution_count": null,
   "metadata": {},
   "outputs": [],
   "source": []
  }
 ],
 "metadata": {
  "kernelspec": {
   "display_name": "Python 3",
   "language": "python",
   "name": "python3"
  },
  "language_info": {
   "codemirror_mode": {
    "name": "ipython",
    "version": 3
   },
   "file_extension": ".py",
   "mimetype": "text/x-python",
   "name": "python",
   "nbconvert_exporter": "python",
   "pygments_lexer": "ipython3",
   "version": "3.8.5"
  },
  "orig_nbformat": 4
 },
 "nbformat": 4,
 "nbformat_minor": 2
}

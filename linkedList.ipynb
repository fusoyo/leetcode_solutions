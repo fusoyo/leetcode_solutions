{
 "cells": [
  {
   "cell_type": "markdown",
   "metadata": {},
   "source": [
    "1. whether there is a cycle in a linked list;\n",
    "2. Reversed linked list\n"
   ]
  },
  {
   "cell_type": "code",
   "execution_count": 1,
   "metadata": {},
   "outputs": [],
   "source": [
    "# Definition for singly-linked list.\n",
    "class ListNode(object):\n",
    "    def __init__(self, x):\n",
    "        self.val = x\n",
    "        self.next = None"
   ]
  },
  {
   "cell_type": "code",
   "execution_count": 2,
   "metadata": {},
   "outputs": [],
   "source": [
    "class Solution(object):\n",
    "    def has_cycle(self,head):\n",
    "        \"\"\"\n",
    "        :param head: ListNode\n",
    "        :return boolean;\n",
    "        \"\"\"\n",
    "        if head == None:\n",
    "            return False\n",
    "        \n",
    "        else:\n",
    "            # while loop to sovle the problem;\n",
    "            prev = head\n",
    "            next = head\n",
    "            # update 1x speed and 2x speed;\n",
    "            while next != None and next.next != None:\n",
    "                next = next.next.next\n",
    "                prev = prev.next\n",
    "\n",
    "                if next == prev:\n",
    "                    break\n",
    "\n",
    "            if next == prev:\n",
    "                return True\n",
    "    \n",
    "            return False"
   ]
  },
  {
   "cell_type": "code",
   "execution_count": null,
   "metadata": {},
   "outputs": [],
   "source": [
    "class Solution(object):\n",
    "    def reversedLists(self,head):\n",
    "        \"\"\"\n",
    "        :param head: ListNode\n",
    "        :return ListNode;\n",
    "        \"\"\"\n",
    "        if head == None:\n",
    "            return None\n",
    "        else:\n",
    "            prev = None\n",
    "            while head != None:\n",
    "                next_node = head.next\n",
    "                head.next = prev \n",
    "                prev = head \n",
    "                head = next_node\n",
    "            return prev\n"
   ]
  },
  {
   "cell_type": "markdown",
   "metadata": {},
   "source": [
    "# 3. delete node in a linked list\n",
    " \n",
    "Delete Node in a Linked List\n",
    "Write a function to delete a node (except the tail) in a singly linked list, given onlyaccess to that node.Supposed the linked list is 1 -> 2 -> 3 -> 4 and you are given the third node withvalue 3, the linked list should become 1 -> 2 -> 4 after calling your function"
   ]
  },
  {
   "cell_type": "markdown",
   "metadata": {},
   "source": [
    "notes：\n",
    "when we look into deleting in listnode, deleting is more like break the old one-side connection and meanwhile make a new one where a spot is spliced.\n"
   ]
  },
  {
   "cell_type": "code",
   "execution_count": null,
   "metadata": {},
   "outputs": [],
   "source": [
    "class Solution(object):\n",
    "    def deleteNode(self, node):\n",
    "        \"\"\"\n",
    "        \"\"\"\n",
    "        if node == None:\n",
    "            pass\n",
    "        \n",
    "        node.val = node.next.val\n",
    "        node.next= node.next.next\n",
    "        "
   ]
  },
  {
   "cell_type": "markdown",
   "metadata": {},
   "source": [
    "# 4 Merge two sorted lists\n",
    "\n",
    "Merge two sorted linked lists and return it as a new list. The new list should bemade by splicing together the nodes of the first two lists\n",
    "\n",
    "Input: list1 = [1,2,4], list2 = [1,3,4]\n",
    "Output: [1,1,2,3,4,4]"
   ]
  },
  {
   "cell_type": "code",
   "execution_count": null,
   "metadata": {},
   "outputs": [],
   "source": [
    "class Solution(object):\n",
    "    def mergeTwoLists(self,l1,l2):\n",
    "        \"\"\"\n",
    "        :param l1: the first list node\n",
    "        :param l2: the second list node\n",
    "        :return: the merged list\n",
    "        \"\"\"\n",
    "        if l1 == None and l2 == None:\n",
    "            return None\n",
    "        elif l1 != None and l2== None:\n",
    "            return l1\n",
    "        elif l1 == None and l2!= None:\n",
    "            return l2\n",
    "\n",
    "        # A dummy node to store the result\n",
    "        dummyNode = ListNode(0)\n",
    "    \n",
    "        # Tail stores the last node\n",
    "        tail = dummyNode\n",
    "        \n",
    "        while l1 != None and l2 != None:\n",
    "            if l1.val <l2.val:\n",
    "                tail.next = l1\n",
    "                l1 = l1.next #update\n",
    "            else:\n",
    "                tail.next = l2\n",
    "                l2 = l2.next #update\n",
    "            \n",
    "            tail = tail.next #update\n",
    "        \n",
    "        if l1 != None:\n",
    "            tail.next = l1\n",
    "        if l2 != None:\n",
    "            tail.next = l2\n",
    "        \n",
    "        return dummyNode.next\n"
   ]
  },
  {
   "cell_type": "markdown",
   "metadata": {},
   "source": [
    "# 5 Intersection of Two Linked Lists\n",
    "Write a program to find the node at which the intersection of two singly linked listsbegins.For example, the following two linked lists: A: a1 → a2\n",
    "↘\n",
    " c1 → c2 → c3\n",
    "↗\n",
    "B: b1 → b2 → b3 begin to intersect at node c1.Notes:If the two linked lists have no intersection at all, return null. The linked lists mustretain their original structure after the function returns. You may assume there areno cycles anywhere in the entire linked structure. Your code should preferably runin O(n) time and use only O(1) memory"
   ]
  },
  {
   "cell_type": "code",
   "execution_count": null,
   "metadata": {},
   "outputs": [],
   "source": [
    "# Definition for singly-linked list.\n",
    "# class ListNode:\n",
    "#     def __init__(self, x):\n",
    "#         self.val = x\n",
    "#         self.next = None\n",
    "\n",
    "class Solution:\n",
    "    def getIntersectionNode(self, headA: ListNode, headB: ListNode) -> Optional[ListNode]:\n",
    "        def _getIntersectionNode(d, head1,head2):\n",
    "            curr_a = head1\n",
    "            curr_b = head2\n",
    "\n",
    "            for _ in range(d):\n",
    "                if curr_a is None:\n",
    "                    return -1\n",
    "                curr_a = curr_a.next\n",
    "           \n",
    "\n",
    "            # while curr_a is not None and curr_b is not None :\n",
    "            while curr_a is not None and curr_b is not None:\n",
    "                if curr_a is curr_b:\n",
    "                    return curr_a\n",
    "\n",
    "                curr_a = curr_a.next\n",
    "                curr_b = curr_b.next\n",
    "        \n",
    "        if headA == None or headB == None: \n",
    "            return None\n",
    "\n",
    "        len_a = getCount(headA)   \n",
    "        len_b = getCount(headB)\n",
    "        \n",
    "        \n",
    "        if len_a > len_b:\n",
    "            d = len_a - len_b\n",
    "            return _getIntersectionNode(d, headA,headB)\n",
    "        else:\n",
    "            d = len_b - len_a\n",
    "            return _getIntersectionNode(d, headB,headA)\n",
    "        \n",
    "\n",
    "\n",
    "        return -1\n",
    "\n",
    "    \n",
    "def getCount(node):\n",
    "    cur = node\n",
    "    count = 0\n",
    "    while cur is not None:\n",
    "        cur = cur.next\n",
    "        count += 1\n",
    "    return count\n",
    "        "
   ]
  },
  {
   "cell_type": "markdown",
   "metadata": {},
   "source": [
    "# 6 Palindrome Linked List\n",
    "\n",
    "Given the head of a singly linked list, return true if it is a palindrome.\n",
    " </br>\n",
    "Constraints: </br>\n",
    "The number of nodes in the list is in the range [1, 105]. </br>\n",
    "0 <= Node.val <= 9"
   ]
  },
  {
   "cell_type": "markdown",
   "metadata": {},
   "source": [
    "1) idea1:  </br>\n",
    "count and cut the linked list intot two equal length parts \n",
    "and reverse? and \n",
    "2) METHOD 1 (Use a Stack) \n",
    "\n"
   ]
  },
  {
   "cell_type": "code",
   "execution_count": null,
   "metadata": {},
   "outputs": [],
   "source": [
    "# Definition for singly-linked list.\n",
    "# class ListNode:\n",
    "#     def __init__(self, val=0, next=None):\n",
    "#         self.val = val\n",
    "#         self.next = next\n",
    "class Solution:\n",
    "    def isPalindrome(self, head: Optional[ListNode]) -> bool:\n",
    "        if head is None:\n",
    "            return False\n",
    "        \n",
    "        slow = head \n",
    "\n",
    "        stack = []\n",
    "\n",
    "        while slow != None:\n",
    "            stack.append(slow.val)\n",
    "\n",
    "            slow = slow.next\n",
    "\n",
    "        while head != None:\n",
    "\n",
    "            # from the last of the stack to do comparison\n",
    "            i = stack.pop()\n",
    "\n",
    "            if head.val == i:\n",
    "                isPalindrome = True\n",
    "            else:\n",
    "                isPalindrome = False\n",
    "                break\n",
    "            head = head.next\n",
    "        return isPalindrome\n",
    "        \n"
   ]
  },
  {
   "cell_type": "markdown",
   "metadata": {},
   "source": []
  },
  {
   "cell_type": "markdown",
   "metadata": {},
   "source": [
    "# 7 Remove Linked List Elements\n",
    "\n",
    "Remove all elements from a linked list of integers that have value val."
   ]
  },
  {
   "cell_type": "code",
   "execution_count": null,
   "metadata": {},
   "outputs": [],
   "source": [
    "class Solution:\n",
    "    def removeElements(self, head: Optional[ListNode], val: int) -> Optional[ListNode]:\n",
    "        # pointer\n",
    "        dummy  = head\n",
    "        prev = head\n",
    "        \n",
    "        while head != None:\n",
    "            # prevent leaving-out of the  first element\n",
    "            if dummy.val ==val:\n",
    "                dummy = dummy.next\n",
    "            if head.val == val:\n",
    "                prev.next = head.next\n",
    "                head = prev\n",
    "\n",
    "            prev = head\n",
    "            head= head.next\n",
    "                \n",
    "        return dummy"
   ]
  },
  {
   "cell_type": "markdown",
   "metadata": {},
   "source": [
    " \n",
    "# 8 Remove Duplicates from Sorted LinkedList\n",
    "Given a sorted linked list, delete all duplicates such that each element appear onlyonce.For example, Given 1->1->2, return 1->2. Given 1->1->2->3->3, return 1->2->3"
   ]
  },
  {
   "cell_type": "code",
   "execution_count": null,
   "metadata": {},
   "outputs": [],
   "source": [
    "# Definition for singly-linked list.\n",
    "# class ListNode:\n",
    "#     def __init__(self, val=0, next=None):\n",
    "#         self.val = val\n",
    "#         self.next = next\n",
    "class Solution:\n",
    "    def deleteDuplicates(self, head: Optional[ListNode]) -> Optional[ListNode]:\n",
    "        dummy = head\n",
    "        if head == None:\n",
    "            return head\n",
    "        next_node = head.next\n",
    "        if next_node==None:\n",
    "            return dummy\n",
    "    \n",
    "        while next_node!=None:\n",
    "            if head.val == next_node.val:\n",
    "                head.next = next_node.next\n",
    "            else:\n",
    "                head = head.next\n",
    "            next_node = next_node.next\n",
    "        return dummy"
   ]
  }
 ],
 "metadata": {
  "interpreter": {
   "hash": "4e6cf26dc29581382a1e33c8542cde068fa9296bf834008e769d316a364abf77"
  },
  "kernelspec": {
   "display_name": "Python 3.8.5 64-bit ('base': conda)",
   "language": "python",
   "name": "python3"
  },
  "language_info": {
   "codemirror_mode": {
    "name": "ipython",
    "version": 3
   },
   "file_extension": ".py",
   "mimetype": "text/x-python",
   "name": "python",
   "nbconvert_exporter": "python",
   "pygments_lexer": "ipython3",
   "version": "3.8.5"
  },
  "orig_nbformat": 4
 },
 "nbformat": 4,
 "nbformat_minor": 2
}

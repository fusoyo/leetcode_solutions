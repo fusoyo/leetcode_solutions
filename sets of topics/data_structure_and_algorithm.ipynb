{
 "cells": [
  {
   "cell_type": "markdown",
   "metadata": {},
   "source": [
    "# Data Structure"
   ]
  },
  {
   "cell_type": "markdown",
   "metadata": {},
   "source": [
    "## Array"
   ]
  },
  {
   "cell_type": "code",
   "execution_count": 1,
   "metadata": {},
   "outputs": [],
   "source": [
    "new_list = [1, 2, 3, 4, 5, 6, 7, 8, 9]"
   ]
  },
  {
   "cell_type": "code",
   "execution_count": 2,
   "metadata": {},
   "outputs": [
    {
     "data": {
      "text/plain": [
       "9"
      ]
     },
     "execution_count": 2,
     "metadata": {},
     "output_type": "execute_result"
    }
   ],
   "source": [
    "new_list[-1]"
   ]
  },
  {
   "cell_type": "code",
   "execution_count": 3,
   "metadata": {},
   "outputs": [
    {
     "name": "stdout",
     "output_type": "stream",
     "text": [
      "True\n",
      "0.000997781753540039\n"
     ]
    }
   ],
   "source": [
    "import time\n",
    "\n",
    "start = time.time()\n",
    "if 1 in new_list:\n",
    "    print(True)\n",
    "print(time.time() - start)"
   ]
  },
  {
   "cell_type": "code",
   "execution_count": 7,
   "metadata": {},
   "outputs": [
    {
     "name": "stdout",
     "output_type": "stream",
     "text": [
      "True\n",
      "0.0\n"
     ]
    }
   ],
   "source": [
    "start = time.time()\n",
    "for i in range(len(new_list)):\n",
    "    if new_list[i] == 6:\n",
    "        print(True)\n",
    "\n",
    "print(time.time() - start)"
   ]
  },
  {
   "cell_type": "markdown",
   "source": [
    "The basic operations supported by an array are as stated below −\n",
    "\n",
    "Traverse − print all the array elements one by one.\n",
    "\n",
    "Insertion − Adds an element at the given index.\n",
    "\n",
    "Deletion − Deletes an element at the given index.\n",
    "\n",
    "Search − Searches an element using the given index or by the value.\n",
    "\n",
    "Update − Updates an element at the given index.\n",
    "\n",
    "Array is created in Python by importing array module to the python program. Then, the array is declared as shown below −\n",
    "\n",
    "from array import *\n",
    "\n",
    "arrayName = array(typecode, [Initializers])"
   ],
   "metadata": {
    "collapsed": false
   }
  },
  {
   "cell_type": "code",
   "execution_count": 2,
   "outputs": [
    {
     "name": "stdout",
     "output_type": "stream",
     "text": [
      "10\n",
      "20\n",
      "30\n",
      "40\n"
     ]
    }
   ],
   "source": [
    "from array import *\n",
    "\n",
    "array1 = array('i', [10,20,30,40])\n",
    "for x in array1:\n",
    "    print(x)"
   ],
   "metadata": {
    "collapsed": false,
    "pycharm": {
     "name": "#%%\n"
    }
   }
  },
  {
   "cell_type": "code",
   "execution_count": 4,
   "outputs": [
    {
     "name": "stdout",
     "output_type": "stream",
     "text": [
      "array('i', [10, 200, 20, 30, 40])\n"
     ]
    }
   ],
   "source": [
    "array1.insert(1,200)\n",
    "print(array1)"
   ],
   "metadata": {
    "collapsed": false,
    "pycharm": {
     "name": "#%%\n"
    }
   }
  },
  {
   "cell_type": "code",
   "execution_count": 5,
   "outputs": [
    {
     "name": "stdout",
     "output_type": "stream",
     "text": [
      "array('i', [10, 200, 20, 30])\n"
     ]
    }
   ],
   "source": [
    "# delete\n",
    "array1.remove(40)\n",
    "print(array1)"
   ],
   "metadata": {
    "collapsed": false,
    "pycharm": {
     "name": "#%%\n"
    }
   }
  },
  {
   "cell_type": "code",
   "execution_count": 8,
   "outputs": [
    {
     "name": "stdout",
     "output_type": "stream",
     "text": [
      "40 is not in the array1\n"
     ]
    }
   ],
   "source": [
    "# search\n",
    "try:\n",
    "    print(array1.index(40))\n",
    "except:\n",
    "    print('40 is not in the array1')"
   ],
   "metadata": {
    "collapsed": false,
    "pycharm": {
     "name": "#%%\n"
    }
   }
  },
  {
   "cell_type": "code",
   "execution_count": 9,
   "outputs": [
    {
     "name": "stdout",
     "output_type": "stream",
     "text": [
      "array('i', [10, 200, 60, 30])\n"
     ]
    }
   ],
   "source": [
    "# update operation\n",
    "array1[2] = 60\n",
    "print(array1)"
   ],
   "metadata": {
    "collapsed": false,
    "pycharm": {
     "name": "#%%\n"
    }
   }
  },
  {
   "cell_type": "code",
   "execution_count": 17,
   "outputs": [
    {
     "name": "stdout",
     "output_type": "stream",
     "text": [
      "[[11, 12, 5, 2], [15, 6, 10], [1, 2], [10, 8, 12, 5], [12, 15, 8, 6]]\n"
     ]
    }
   ],
   "source": [
    "\n",
    "T.insert(2, [1,2])\n",
    "print(T)"
   ],
   "metadata": {
    "collapsed": false,
    "pycharm": {
     "name": "#%%\n"
    }
   }
  },
  {
   "cell_type": "code",
   "execution_count": 18,
   "outputs": [
    {
     "name": "stdout",
     "output_type": "stream",
     "text": [
      "[[11, 12, 5, 2], [15, 6, 10], [1, 2], [12, 15, 8, 6]]\n"
     ]
    }
   ],
   "source": [
    "del T[3]\n",
    "print(T)"
   ],
   "metadata": {
    "collapsed": false,
    "pycharm": {
     "name": "#%%\n"
    }
   }
  },
  {
   "cell_type": "markdown",
   "source": [
    "# 2D Array"
   ],
   "metadata": {
    "collapsed": false
   }
  },
  {
   "cell_type": "code",
   "execution_count": 15,
   "outputs": [
    {
     "name": "stdout",
     "output_type": "stream",
     "text": [
      "[11, 12, 5, 2]\n",
      "10\n",
      "<class 'list'>\n"
     ]
    }
   ],
   "source": [
    "from array import *\n",
    "\n",
    "T = [[11, 12, 5, 2], [15, 6,10], [10, 8, 12, 5], [12,15,8,6]]\n",
    "\n",
    "print(T[0])\n",
    "\n",
    "print(T[1][2])\n",
    "\n",
    "print(type(T))"
   ],
   "metadata": {
    "collapsed": false,
    "pycharm": {
     "name": "#%%\n"
    }
   }
  },
  {
   "cell_type": "markdown",
   "source": [
    "# List"
   ],
   "metadata": {
    "collapsed": false
   }
  },
  {
   "cell_type": "markdown",
   "source": [
    "Python Expression\tResults\tDescription\n",
    "len([1, 2, 3])\t3\tLength\n",
    "[1, 2, 3] + [4, 5, 6]\t[1, 2, 3, 4, 5, 6]\tConcatenation\n",
    "['Hi!'] * 4\t['Hi!', 'Hi!', 'Hi!', 'Hi!']\tRepetition\n",
    "3 in [1, 2, 3]\tTrue\tMembership\n",
    "for x in [1, 2, 3]: print x,\t1 2 3\tIteration"
   ],
   "metadata": {
    "collapsed": false
   }
  },
  {
   "cell_type": "code",
   "execution_count": null,
   "outputs": [],
   "source": [],
   "metadata": {
    "collapsed": false,
    "pycharm": {
     "name": "#%%\n"
    }
   }
  },
  {
   "cell_type": "markdown",
   "source": [
    "# Tuple\n",
    "\n",
    "A tuple is a sequence of immutable Python objects. Tuples are sequences, just like lists. The differences between tuples and lists are, the tuples cannot be changed unlike lists and tuples use parentheses, whereas lists use square brackets.\n",
    "\n",
    "Creating a tuple is as simple as putting different comma-separated values. Optionally you can put these comma-separated values between parentheses also.\n"
   ],
   "metadata": {
    "collapsed": false
   }
  },
  {
   "cell_type": "code",
   "execution_count": 10,
   "outputs": [
    {
     "name": "stdout",
     "output_type": "stream",
     "text": [
      "('physics', 'chemistry', 1997, 2000)\n",
      "After deleting tup : \n"
     ]
    },
    {
     "ename": "NameError",
     "evalue": "name 'tup' is not defined",
     "output_type": "error",
     "traceback": [
      "\u001B[0;31m---------------------------------------------------------------------------\u001B[0m",
      "\u001B[0;31mNameError\u001B[0m                                 Traceback (most recent call last)",
      "\u001B[0;32m<ipython-input-10-ef736c7f1e1f>\u001B[0m in \u001B[0;36m<module>\u001B[0;34m\u001B[0m\n\u001B[1;32m      3\u001B[0m \u001B[0;32mdel\u001B[0m \u001B[0mtup\u001B[0m\u001B[0;34m;\u001B[0m\u001B[0;34m\u001B[0m\u001B[0;34m\u001B[0m\u001B[0m\n\u001B[1;32m      4\u001B[0m \u001B[0mprint\u001B[0m\u001B[0;34m(\u001B[0m\u001B[0;34m\"After deleting tup : \"\u001B[0m\u001B[0;34m)\u001B[0m\u001B[0;34m;\u001B[0m\u001B[0;34m\u001B[0m\u001B[0;34m\u001B[0m\u001B[0m\n\u001B[0;32m----> 5\u001B[0;31m \u001B[0mprint\u001B[0m\u001B[0;34m(\u001B[0m\u001B[0mtup\u001B[0m\u001B[0;34m)\u001B[0m\u001B[0;34m;\u001B[0m\u001B[0;34m\u001B[0m\u001B[0;34m\u001B[0m\u001B[0m\n\u001B[0m",
      "\u001B[0;31mNameError\u001B[0m: name 'tup' is not defined"
     ]
    }
   ],
   "source": [
    "tup = ('physics', 'chemistry', 1997, 2000);\n",
    "print(tup);\n",
    "del tup;\n",
    "print(\"After deleting tup : \");\n",
    "print(tup);"
   ],
   "metadata": {
    "collapsed": false,
    "pycharm": {
     "name": "#%%\n"
    }
   }
  },
  {
   "cell_type": "markdown",
   "source": [
    "Basic Tuples Operations\n",
    "Tuples respond to the + and * operators much like strings; they mean concatenation and repetition here too, except that the result is a new tuple, not a string.\n",
    "\n",
    "In fact, tuples respond to all of the general sequence operations we used on strings in the prior chapter.\n",
    "\n",
    "Python Expression\tResults\tDescription\n",
    "len((1, 2, 3))\t3\tLength\n",
    "(1, 2, 3) + (4, 5, 6)\t(1, 2, 3, 4, 5, 6)\tConcatenation\n",
    "('Hi!',) * 4\t('Hi!', 'Hi!', 'Hi!', 'Hi!')\tRepetition\n",
    "3 in (1, 2, 3)\tTrue\tMembership\n",
    "for x in (1, 2, 3): print x,\t1 2 3\tIteration"
   ],
   "metadata": {
    "collapsed": false
   }
  },
  {
   "cell_type": "markdown",
   "source": [
    "# Dictionary\n",
    "\n",
    "In Dictionary each key is separated from its value by a colon (:), the items are separated by commas, and the whole thing is enclosed in curly braces. An empty dictionary without any items is written with just two curly braces, like this − {}.\n",
    "\n",
    "Keys are unique within a dictionary while values may not be. The values of a dictionary can be of any type, but the keys must be of an immutable data type such as strings, numbers, or tuples."
   ],
   "metadata": {
    "collapsed": false
   }
  },
  {
   "cell_type": "markdown",
   "source": [
    "Accessing Values in Dictionary\n",
    "To access dictionary elements, you can use the familiar square brackets along with the key to obtain its value.\n",
    "\n",
    "Example\n",
    "A simple example is as follows −"
   ],
   "metadata": {
    "collapsed": false
   }
  },
  {
   "cell_type": "code",
   "execution_count": 11,
   "outputs": [
    {
     "name": "stdout",
     "output_type": "stream",
     "text": [
      "dict['Name']:  Zara\n",
      "dict['Age']:  7\n"
     ]
    }
   ],
   "source": [
    "dict = {'Name': 'Zara', 'Age': 7, 'Class': 'First'}\n",
    "print(\"dict['Name']: \", dict['Name'])\n",
    "print(\"dict['Age']: \", dict['Age'])"
   ],
   "metadata": {
    "collapsed": false,
    "pycharm": {
     "name": "#%%\n"
    }
   }
  },
  {
   "cell_type": "code",
   "execution_count": 12,
   "outputs": [
    {
     "data": {
      "text/plain": "{'Name': 'Zara', 'Age': 7, 'Class': 'First', 9: 10}"
     },
     "execution_count": 12,
     "metadata": {},
     "output_type": "execute_result"
    }
   ],
   "source": [
    "dict[9] = 10\n",
    "dict"
   ],
   "metadata": {
    "collapsed": false,
    "pycharm": {
     "name": "#%%\n"
    }
   }
  },
  {
   "cell_type": "code",
   "execution_count": 13,
   "outputs": [
    {
     "data": {
      "text/plain": "{'Name': 'Zara', 'Age': 7, 'Class': 'First', 9: 10, (0, 10): 1}"
     },
     "execution_count": 13,
     "metadata": {},
     "output_type": "execute_result"
    }
   ],
   "source": [
    "dict[(0,10)] = 1\n",
    "dict"
   ],
   "metadata": {
    "collapsed": false,
    "pycharm": {
     "name": "#%%\n"
    }
   }
  },
  {
   "cell_type": "markdown",
   "source": [
    "Delete Dictionary Elements\n",
    "You can either remove individual dictionary elements or clear the entire contents of a dictionary. You can also delete entire dictionary in a single operation."
   ],
   "metadata": {
    "collapsed": false
   }
  },
  {
   "cell_type": "code",
   "execution_count": 14,
   "outputs": [
    {
     "name": "stdout",
     "output_type": "stream",
     "text": [
      "{'Name': 'Zara', 'Age': 7, 'Class': 'First', (0, 10): 1}\n",
      "<class 'dict'>\n"
     ]
    }
   ],
   "source": [
    "del dict[9]\n",
    "print(dict)\n",
    "del dict\n",
    "print(dict)"
   ],
   "metadata": {
    "collapsed": false,
    "pycharm": {
     "name": "#%%\n"
    }
   }
  },
  {
   "cell_type": "markdown",
   "metadata": {},
   "source": [
    "## Linked List"
   ]
  },
  {
   "cell_type": "code",
   "execution_count": 6,
   "metadata": {},
   "outputs": [],
   "source": [
    "class Node:\n",
    "    data = None\n",
    "    next_node = None\n",
    "\n",
    "    def __init__(self, data):\n",
    "        self.data = data\n",
    "\n",
    "    def __repr__(self):\n",
    "        return \"<Node data:{}>\".format(self.data)"
   ]
  },
  {
   "cell_type": "code",
   "execution_count": 15,
   "metadata": {},
   "outputs": [],
   "source": [
    "N1 = Node(10)"
   ]
  },
  {
   "cell_type": "code",
   "execution_count": 16,
   "metadata": {},
   "outputs": [
    {
     "name": "stdout",
     "output_type": "stream",
     "text": [
      "<Node data:10>\n"
     ]
    }
   ],
   "source": [
    "print(N1)"
   ]
  },
  {
   "cell_type": "code",
   "execution_count": 17,
   "metadata": {},
   "outputs": [],
   "source": [
    "N2 = Node(12)\n",
    "N1.next_node = N2"
   ]
  },
  {
   "cell_type": "code",
   "execution_count": 18,
   "metadata": {},
   "outputs": [
    {
     "data": {
      "text/plain": [
       "<Node data:12>"
      ]
     },
     "execution_count": 18,
     "metadata": {},
     "output_type": "execute_result"
    }
   ],
   "source": [
    "N1.next_node"
   ]
  },
  {
   "cell_type": "code",
   "execution_count": 81,
   "metadata": {},
   "outputs": [],
   "source": [
    "class LinkedList:\n",
    "    \"\"\"\n",
    "    \"\"\"\n",
    "\n",
    "    def __init__(self):\n",
    "        self.head = None\n",
    "\n",
    "    def is_empty(self):\n",
    "        return self.head == None\n",
    "\n",
    "    def size(self):\n",
    "        \"\"\"takes O(n) time\"\"\"\n",
    "        current = self.head\n",
    "        count = 0\n",
    "        while current != None:\n",
    "            count += 1\n",
    "            current = current.next_node\n",
    "        return count\n",
    "\n",
    "    def add(self, data):\n",
    "        \"\"\"add new Node containing data at head of the list\"\"\"\n",
    "        new_node = Node(data)\n",
    "        new_node.next_node = self.head\n",
    "        self.head = new_node\n",
    "\n",
    "    def search(self, key):\n",
    "        current = self.head\n",
    "        while current:\n",
    "            if current.data == key:\n",
    "                return current\n",
    "            else:\n",
    "                current = current.next_node\n",
    "        return None\n",
    "\n",
    "    def insert(self, data, index):\n",
    "        if index == 0:\n",
    "            self.add(data)\n",
    "\n",
    "        if index > 0:\n",
    "            count = 0\n",
    "            current = self.head\n",
    "\n",
    "            while current:\n",
    "\n",
    "                if count == index - 1:\n",
    "                    next_node = current.next_node\n",
    "                    current.next_node = Node(data)\n",
    "                    current.next_node.next_node = next_node\n",
    "                    break\n",
    "                count += 1\n",
    "                current = current.next_node\n",
    "\n",
    "    def remove(self, key):\n",
    "        current = self.head\n",
    "        found = False\n",
    "        previous = None\n",
    "\n",
    "        while current and not found:\n",
    "            if current.data == key and current is self.head:\n",
    "                found = True\n",
    "                self.head = current.next_node\n",
    "            elif current.data == key:\n",
    "                found = True\n",
    "                previous.next_node = current.next_node\n",
    "            else:\n",
    "                previous = current\n",
    "                current = current.next_node\n",
    "\n",
    "    def __repr__(self):\n",
    "        nodes = []\n",
    "        current = self.head\n",
    "        while current != None:\n",
    "            if current is self.head:\n",
    "                nodes.append(\"[Head: %s]\" % current.data)\n",
    "            elif current.next_node is None:\n",
    "                nodes.append(\"[Tail: %s]\" % current.data)\n",
    "            else:\n",
    "                nodes.append(\"[%s]\" % current.data)\n",
    "            current = current.next_node\n",
    "        return '-> '.join(nodes)\n",
    "\n"
   ]
  },
  {
   "cell_type": "code",
   "execution_count": 83,
   "metadata": {},
   "outputs": [],
   "source": [
    "l = LinkedList()"
   ]
  },
  {
   "cell_type": "code",
   "execution_count": 84,
   "metadata": {},
   "outputs": [
    {
     "data": {
      "text/plain": [
       "0"
      ]
     },
     "execution_count": 84,
     "metadata": {},
     "output_type": "execute_result"
    }
   ],
   "source": [
    "l.size()"
   ]
  },
  {
   "cell_type": "code",
   "execution_count": 87,
   "metadata": {},
   "outputs": [],
   "source": [
    "l.add(3)\n",
    "l.add(14)\n",
    "l.add(15)"
   ]
  },
  {
   "cell_type": "code",
   "execution_count": 88,
   "metadata": {},
   "outputs": [
    {
     "data": {
      "text/plain": [
       "<Node data:15>"
      ]
     },
     "execution_count": 88,
     "metadata": {},
     "output_type": "execute_result"
    }
   ],
   "source": [
    "l.search(15)"
   ]
  },
  {
   "cell_type": "code",
   "execution_count": 89,
   "metadata": {},
   "outputs": [
    {
     "data": {
      "text/plain": [
       "3"
      ]
     },
     "execution_count": 89,
     "metadata": {},
     "output_type": "execute_result"
    }
   ],
   "source": [
    "l.size()"
   ]
  },
  {
   "cell_type": "code",
   "execution_count": 91,
   "metadata": {},
   "outputs": [],
   "source": [
    "l.insert(2, 1)\n"
   ]
  },
  {
   "cell_type": "code",
   "execution_count": 92,
   "metadata": {},
   "outputs": [
    {
     "data": {
      "text/plain": [
       "[Head: 15]-> [2]-> [2]-> [14]-> [Tail: 3]"
      ]
     },
     "execution_count": 92,
     "metadata": {},
     "output_type": "execute_result"
    }
   ],
   "source": [
    "l"
   ]
  },
  {
   "cell_type": "code",
   "execution_count": 95,
   "metadata": {},
   "outputs": [],
   "source": [
    "l.remove(2)"
   ]
  },
  {
   "cell_type": "code",
   "execution_count": 96,
   "metadata": {},
   "outputs": [
    {
     "data": {
      "text/plain": [
       "[Head: 15]-> [14]-> [Tail: 3]"
      ]
     },
     "execution_count": 96,
     "metadata": {},
     "output_type": "execute_result"
    }
   ],
   "source": [
    "l"
   ]
  },
  {
   "cell_type": "markdown",
   "metadata": {},
   "source": [
    "## Merge sort \n",
    "\n",
    "divide and conquer and combine\n",
    "\n",
    "cost: "
   ]
  },
  {
   "cell_type": "code",
   "execution_count": 97,
   "metadata": {},
   "outputs": [],
   "source": [
    "def merge_sort(list):\n",
    "    \"\"\"sorts a list in ascending order, returns a new sorted list.\n",
    "        Divide: \n",
    "        Conquer:\n",
    "        Combine:\n",
    "    \"\"\"\n",
    "    if len(list) <= 1:\n",
    "        return list\n",
    "\n",
    "    left_half, right_half = split(list)\n",
    "\n",
    "    left = merge_sort(left_half)\n",
    "    right = merge_sort(right_half)\n",
    "\n",
    "    return merge(left, right)\n",
    "\n",
    "\n",
    "def merge(left, right):\n",
    "    l = []\n",
    "    i = 0\n",
    "    j = 0\n",
    "    while i < len(left) and j < len(right):\n",
    "        if left[i] <= right[j]:\n",
    "            l.append(left[i])\n",
    "            i += 1\n",
    "        else:\n",
    "            l.append(right[j])\n",
    "            j += 1\n",
    "    while i < len(left):\n",
    "        l.append(left[i])\n",
    "        i += 1\n",
    "    while j < len(right):\n",
    "        l.append(right[j])\n",
    "        j += 1\n",
    "\n",
    "    return l\n",
    "\n",
    "\n",
    "def split(list):\n",
    "    \"\"\"sublists of lists\"\"\"\n",
    "    mid = len(list) // 2\n",
    "    left = list[:mid]\n",
    "    right = list[mid:]\n",
    "\n",
    "    return left, right\n",
    "\n",
    "\n",
    "\n"
   ]
  },
  {
   "cell_type": "code",
   "execution_count": 99,
   "metadata": {},
   "outputs": [
    {
     "data": {
      "text/plain": [
       "[1, 1, 2, 2, 3, 3, 4, 4, 6, 9, 23, 45, 65, 67, 344]"
      ]
     },
     "execution_count": 99,
     "metadata": {},
     "output_type": "execute_result"
    }
   ],
   "source": [
    "l = [4, 23, 4, 6, 1, 2, 9, 3, 2, 3, 67, 1, 65, 45, 344]\n",
    "merge_sort(l)"
   ]
  },
  {
   "cell_type": "code",
   "execution_count": 2,
   "metadata": {
    "collapsed": false,
    "pycharm": {
     "name": "#%%\n"
    }
   },
   "outputs": [],
   "source": [
    "class Node:\n",
    "    data = None\n",
    "    next_node = None\n",
    "\n",
    "    def __init__(self, data):\n",
    "        self.data = data\n",
    "\n",
    "    def __repr__(self):\n",
    "        return \"<Node data:{}>\".format(self.data)\n",
    "\n",
    "\n",
    "class LinkedList:\n",
    "    \"\"\"\n",
    "    \"\"\"\n",
    "\n",
    "    def __init__(self):\n",
    "        self.head = None\n",
    "\n",
    "    def is_empty(self):\n",
    "        return self.head == None\n",
    "\n",
    "    def size(self):\n",
    "        \"\"\"takes O(n) time\"\"\"\n",
    "        current = self.head\n",
    "        count = 0\n",
    "        while current != None:\n",
    "            count += 1\n",
    "            current = current.next_node\n",
    "        return count\n",
    "\n",
    "    def add(self, data):\n",
    "        \"\"\"add new Node containing data at head of the list\"\"\"\n",
    "        new_node = Node(data)\n",
    "        new_node.next_node = self.head\n",
    "        self.head = new_node\n",
    "\n",
    "    def search(self, key):\n",
    "        current = self.head\n",
    "        while current:\n",
    "            if current.data == key:\n",
    "                return current\n",
    "            else:\n",
    "                current = current.next_node\n",
    "        return None\n",
    "\n",
    "    def insert(self, data, index):\n",
    "        if index == 0:\n",
    "            self.add(data)\n",
    "\n",
    "        if index > 0:\n",
    "            count = 0\n",
    "            current = self.head\n",
    "\n",
    "            while current:\n",
    "\n",
    "                if count == index - 1:\n",
    "                    next_node = current.next_node\n",
    "                    current.next_node = Node(data)\n",
    "                    current.next_node.next_node = next_node\n",
    "                    break\n",
    "                count += 1\n",
    "                current = current.next_node\n",
    "\n",
    "    def remove(self, key):\n",
    "        current = self.head\n",
    "        found = False\n",
    "        previous = None\n",
    "\n",
    "        while current and not found:\n",
    "            if current.data == key and current is self.head:\n",
    "                found = True\n",
    "                self.head = current.next_node\n",
    "            elif current.data == key:\n",
    "                found = True\n",
    "                previous.next_node = current.next_node\n",
    "            else:\n",
    "                previous = current\n",
    "                current = current.next_node\n",
    "\n",
    "    def node_at_index(self, index):\n",
    "        if index == 0:\n",
    "            return self.head\n",
    "        else:\n",
    "            current = self.head\n",
    "            position = 0\n",
    "            while position < index:\n",
    "                current = current.next_node\n",
    "                position = position + 1\n",
    "            return current\n",
    "\n",
    "    def __repr__(self):\n",
    "        nodes = []\n",
    "        current = self.head\n",
    "        while current != None:\n",
    "            if current is self.head:\n",
    "                nodes.append(\"[Head: %s]\" % current.data)\n",
    "            elif current.next_node is None:\n",
    "                nodes.append(\"[Tail: %s]\" % current.data)\n",
    "            else:\n",
    "                nodes.append(\"[%s]\" % current.data)\n",
    "            current = current.next_node\n",
    "        return '-> '.join(nodes)\n",
    "\n"
   ]
  },
  {
   "cell_type": "code",
   "execution_count": 69,
   "metadata": {},
   "outputs": [],
   "source": [
    "def linkedlist_merge_sort(linked_list):\n",
    "    \"\"\"\n",
    "    sorts a linked list in ascending order.\n",
    "    -- recursively divide the linked list into sublists containing a single node\n",
    "    -- repeatedly merge the sublists to produce sorted sublists until one remains\n",
    "    :param linkedlist:\n",
    "    :return:\n",
    "    \"\"\"\n",
    "    if linked_list.size() == 1:\n",
    "        return linked_list\n",
    "    elif linked_list is None:\n",
    "        return linked_list\n",
    "\n",
    "    left_half, right_half = split(linked_list)\n",
    "    left = linkedlist_merge_sort(left_half)\n",
    "    right = linkedlist_merge_sort(right_half)\n",
    "\n",
    "    return merge(left, right)\n",
    "\n",
    "\n",
    "def split(linked_list):\n",
    "    \"\"\"\n",
    "    divde\n",
    "    :param linked_list:\n",
    "    :return:\n",
    "    \"\"\"\n",
    "    if linked_list == None or linked_list.head == None:\n",
    "        left_half = linked_list\n",
    "        right_half = None\n",
    "\n",
    "        return left_half, right_half\n",
    "    else:\n",
    "        size = linked_list.size()\n",
    "        mid = size // 2\n",
    "        mid_node = linked_list.node_at_index(mid - 1)\n",
    "        left_half = linked_list\n",
    "        # cut off the connection\n",
    "        right_half = LinkedList()\n",
    "        right_half.head = mid_node.next_node\n",
    "        mid_node.next_node = None\n",
    "\n",
    "        return left_half, right_half\n",
    "\n",
    "\n",
    "def merge(left, right):\n",
    "    \"\"\"\n",
    "    merge two linked list\n",
    "    :param left:\n",
    "    :param right:\n",
    "    :return:\n",
    "    \"\"\"\n",
    "    merged = LinkedList()\n",
    "    merged.add(8)\n",
    "\n",
    "    current = merged.head\n",
    "\n",
    "    current_left = left.head\n",
    "    current_right = right.head\n",
    "\n",
    "    while current_left or current_right:\n",
    "        # deal with tail\n",
    "        if current_left is None:\n",
    "            current.next_node = current_right\n",
    "            # call next on right to set loop condition to false;\n",
    "            current_right = current_right.next_node\n",
    "        elif current_right is None:\n",
    "            current.next_node = current_left\n",
    "            # call next on left to set loop condition to false\n",
    "            current_left = current_left.next_node\n",
    "        else:\n",
    "            left_data = current_left.data\n",
    "            right_data = current_right.data\n",
    "            if left_data < right_data:\n",
    "                current.next_node = current_left\n",
    "                current_left = current_left.next_node\n",
    "            else:\n",
    "                current.next_node = current_right\n",
    "                current_right = current_right.next_node\n",
    "            current = current.next_node\n",
    "    head = merged.head.next_node\n",
    "    merged.head = head\n",
    "\n",
    "    return merged\n",
    "\n"
   ]
  },
  {
   "cell_type": "code",
   "execution_count": 70,
   "metadata": {
    "collapsed": false,
    "pycharm": {
     "name": "#%%\n"
    }
   },
   "outputs": [],
   "source": [
    "import random\n",
    "\n",
    "linked_list = LinkedList()\n",
    "for _ in range(10):\n",
    "    linked_list.add(random.randint(0, 100))"
   ]
  },
  {
   "cell_type": "code",
   "execution_count": 71,
   "metadata": {
    "collapsed": false,
    "pycharm": {
     "name": "#%%\n"
    }
   },
   "outputs": [
    {
     "data": {
      "text/plain": [
       "[Head: 82]-> [7]-> [92]-> [17]-> [81]-> [40]-> [38]-> [91]-> [50]-> [Tail: 100]"
      ]
     },
     "execution_count": 71,
     "metadata": {},
     "output_type": "execute_result"
    }
   ],
   "source": [
    "linked_list"
   ]
  },
  {
   "cell_type": "code",
   "execution_count": 72,
   "metadata": {
    "collapsed": false,
    "pycharm": {
     "name": "#%%\n"
    }
   },
   "outputs": [
    {
     "data": {
      "text/plain": [
       "[Head: 7]-> [17]-> [38]-> [40]-> [81]-> [82]-> [92]-> [Tail: 100]"
      ]
     },
     "execution_count": 72,
     "metadata": {},
     "output_type": "execute_result"
    }
   ],
   "source": [
    "linkedlist_merge_sort(linked_list)"
   ]
  },
  {
   "cell_type": "markdown",
   "metadata": {},
   "source": [
    "## Stack"
   ]
  },
  {
   "cell_type": "code",
   "execution_count": 9,
   "metadata": {
    "collapsed": false,
    "pycharm": {
     "name": "#%%\n"
    }
   },
   "outputs": [],
   "source": [
    "from sys import maxsize\n",
    "\n",
    "class Stack:\n",
    "    def __init__(self):\n",
    "        self.stack = []\n",
    "    \n",
    "    def push(self, item):\n",
    "        self.stack.append(item)\n",
    "    \n",
    "    def pop(self):\n",
    "        if self.isEmpty():\n",
    "            return str(-maxsize-1)\n",
    "        self.stack.pop()\n",
    "\n",
    "    def isEmpty(self):\n",
    "        return len(self.stack) == 0\n",
    "\n",
    "    def peek(self):\n",
    "        if self.isEmpty():\n",
    "            return str(-maxsize-1)\n",
    "        top = len(self.stack)-1\n",
    "        return self.stack[top]\n",
    "        \n",
    "    def __repr__(self):\n",
    "        return \" \".join(self.stack)\n"
   ]
  },
  {
   "cell_type": "code",
   "execution_count": 10,
   "metadata": {},
   "outputs": [],
   "source": [
    "stack = Stack()\n",
    "stack.push(str(10))"
   ]
  },
  {
   "cell_type": "code",
   "execution_count": 11,
   "metadata": {},
   "outputs": [],
   "source": [
    "stack.push(str(11))\n",
    "stack.push(str(12))\n",
    "stack.push(str(13))\n"
   ]
  },
  {
   "cell_type": "code",
   "execution_count": 12,
   "metadata": {},
   "outputs": [
    {
     "data": {
      "text/plain": [
       "10 11 12 13"
      ]
     },
     "execution_count": 12,
     "metadata": {},
     "output_type": "execute_result"
    }
   ],
   "source": [
    "stack"
   ]
  },
  {
   "cell_type": "code",
   "execution_count": 14,
   "metadata": {},
   "outputs": [],
   "source": [
    "stack.pop()"
   ]
  },
  {
   "cell_type": "code",
   "execution_count": 15,
   "metadata": {},
   "outputs": [
    {
     "data": {
      "text/plain": [
       "10 11 12"
      ]
     },
     "execution_count": 15,
     "metadata": {},
     "output_type": "execute_result"
    }
   ],
   "source": [
    "stack"
   ]
  },
  {
   "cell_type": "markdown",
   "metadata": {},
   "source": [
    "## Stack using Linked List"
   ]
  },
  {
   "cell_type": "code",
   "execution_count": 18,
   "metadata": {},
   "outputs": [],
   "source": [
    "class StackNode:\n",
    "    # constructor\n",
    "    def __init__(self,data=0):\n",
    "        self.data = data\n",
    "        self.next = None\n",
    "\n",
    "class Stack:\n",
    "    def __init__(self):\n",
    "        self.root = None  \n",
    "\n",
    "    def isEmpty(self):\n",
    "        return True if self.root == None else False\n",
    "    \n",
    "    def pop(self):\n",
    "        if (self.isEmpty()):\n",
    "            return float(\"-inf\") \n",
    "        # make root none to remove the top\n",
    "        temp = self.root\n",
    "        self.root = self.root.next\n",
    "    def push(self,data):\n",
    "        new_node = StackNode(data)\n",
    "        new_node.next = self.root\n",
    "        self.root = new_node\n",
    "        print (\"% d pushed to stack\" % (data))\n",
    "    \n",
    "    def peek(self):\n",
    "        if self.isEmpty():\n",
    "            return float(\"-inf\")\n",
    "        return self.root.data\n",
    "        \n"
   ]
  },
  {
   "cell_type": "code",
   "execution_count": 19,
   "metadata": {},
   "outputs": [
    {
     "name": "stdout",
     "output_type": "stream",
     "text": [
      " 10 pushed to stack\n",
      " 20 pushed to stack\n",
      " 30 pushed to stack\n"
     ]
    }
   ],
   "source": [
    "stack = Stack()\n",
    "stack.push(10)\n",
    "stack.push(20)\n",
    "stack.push(30)"
   ]
  },
  {
   "cell_type": "code",
   "execution_count": 20,
   "metadata": {},
   "outputs": [
    {
     "name": "stdout",
     "output_type": "stream",
     "text": [
      "Top element is  30 \n"
     ]
    }
   ],
   "source": [
    "print (\"Top element is % d \" % (stack.peek()))"
   ]
  },
  {
   "cell_type": "code",
   "execution_count": 21,
   "metadata": {},
   "outputs": [],
   "source": [
    "stack.pop()"
   ]
  },
  {
   "cell_type": "code",
   "execution_count": 22,
   "metadata": {},
   "outputs": [
    {
     "name": "stdout",
     "output_type": "stream",
     "text": [
      "Top element is  20 \n"
     ]
    }
   ],
   "source": [
    "print (\"Top element is % d \" % (stack.peek()))"
   ]
  },
  {
   "cell_type": "markdown",
   "metadata": {},
   "source": [
    "### Valid Parentheses"
   ]
  },
  {
   "cell_type": "code",
   "execution_count": 32,
   "metadata": {},
   "outputs": [],
   "source": [
    "def is_valid_parentheses(s):\n",
    "    stack = []\n",
    "\n",
    "    closeToOpen = {')':'(',']':'[','}':'{'}\n",
    "\n",
    "    for c in s:\n",
    "        if c  not in closeToOpen:\n",
    "            stack.append(c)\n",
    "        else:\n",
    "            # add from the beginning of the string\n",
    "\n",
    "            if stack and stack[-1] == closeToOpen[c]:\n",
    "                stack.pop()\n",
    "            else:\n",
    "                return False\n",
    "    return True if not stack else False\n"
   ]
  },
  {
   "cell_type": "code",
   "execution_count": 33,
   "metadata": {},
   "outputs": [
    {
     "data": {
      "text/plain": [
       "True"
      ]
     },
     "execution_count": 33,
     "metadata": {},
     "output_type": "execute_result"
    }
   ],
   "source": [
    "is_valid_parentheses('((())){}')"
   ]
  },
  {
   "cell_type": "markdown",
   "metadata": {},
   "source": [
    "simplify path"
   ]
  },
  {
   "cell_type": "code",
   "execution_count": 67,
   "metadata": {},
   "outputs": [],
   "source": [
    "def simplifyPath(path: str):\n",
    "    stack = [] \n",
    "    cur = ''\n",
    "\n",
    "    for p in path+'/':\n",
    "        if p == '/':\n",
    "            if cur!='' and cur!='.' and cur!='..':\n",
    "                stack.append(cur)\n",
    "            if cur =='..':\n",
    "                print('popped')\n",
    "                if stack:\n",
    "                    print('poped')\n",
    "                    stack.pop()\n",
    "            cur = ''\n",
    "        else:\n",
    "            cur += p\n",
    "        \n",
    "    return '/' + '/'.join(stack)\n"
   ]
  },
  {
   "cell_type": "code",
   "execution_count": 68,
   "metadata": {},
   "outputs": [
    {
     "name": "stdout",
     "output_type": "stream",
     "text": [
      ".\n",
      "..\n",
      "...\n"
     ]
    },
    {
     "data": {
      "text/plain": [
       "'/...'"
      ]
     },
     "execution_count": 68,
     "metadata": {},
     "output_type": "execute_result"
    }
   ],
   "source": [
    "simplifyPath('/...')"
   ]
  },
  {
   "cell_type": "code",
   "execution_count": null,
   "metadata": {},
   "outputs": [],
   "source": []
  },
  {
   "cell_type": "markdown",
   "metadata": {},
   "source": [
    "# About sorting methods"
   ]
  },
  {
   "cell_type": "markdown",
   "metadata": {},
   "source": [
    "##  bogo sort"
   ]
  },
  {
   "cell_type": "code",
   "execution_count": 12,
   "metadata": {},
   "outputs": [
    {
     "data": {
      "text/plain": [
       "[3, 13, 23, 34, 40, 52, 59, 74, 79, 96]"
      ]
     },
     "execution_count": 12,
     "metadata": {},
     "output_type": "execute_result"
    }
   ],
   "source": [
    "import random\n",
    "\n",
    "nums = [random.randint(0,100) for _ in range(10)]\n",
    "\n",
    "def is_sorted(values):\n",
    "    for index in range(len(values)-1):\n",
    "        \n",
    "        if values[index] > values[(index+1)]:\n",
    "            return False\n",
    "    return True\n",
    "\n",
    "def bogo_sort(values):\n",
    "    while not is_sorted(values):\n",
    "        random.shuffle(values)\n",
    "    return values\n",
    "\n",
    "bogo_sort(nums)\n",
    "        \n"
   ]
  },
  {
   "cell_type": "markdown",
   "metadata": {},
   "source": [
    "an awkward method"
   ]
  },
  {
   "cell_type": "markdown",
   "metadata": {},
   "source": [
    "## Selection Sort\n",
    "\n",
    "create a new array to store selections of the minimum from unsorted array which is dynamically popping the smallest value"
   ]
  },
  {
   "cell_type": "code",
   "execution_count": 17,
   "metadata": {},
   "outputs": [
    {
     "data": {
      "text/plain": [
       "[2,\n",
       " 15,\n",
       " 46,\n",
       " 56,\n",
       " 65,\n",
       " 78,\n",
       " 80,\n",
       " 80,\n",
       " 81,\n",
       " 89,\n",
       " 89,\n",
       " 96,\n",
       " 102,\n",
       " 106,\n",
       " 113,\n",
       " 132,\n",
       " 135,\n",
       " 145,\n",
       " 155,\n",
       " 157,\n",
       " 157,\n",
       " 158,\n",
       " 174,\n",
       " 176,\n",
       " 193,\n",
       " 200,\n",
       " 209,\n",
       " 215,\n",
       " 228,\n",
       " 259,\n",
       " 261,\n",
       " 276,\n",
       " 280,\n",
       " 299,\n",
       " 315,\n",
       " 316,\n",
       " 318,\n",
       " 319,\n",
       " 320,\n",
       " 320,\n",
       " 337,\n",
       " 339,\n",
       " 346,\n",
       " 364,\n",
       " 387,\n",
       " 412,\n",
       " 413,\n",
       " 434,\n",
       " 434,\n",
       " 438,\n",
       " 444,\n",
       " 446,\n",
       " 452,\n",
       " 461,\n",
       " 465,\n",
       " 476,\n",
       " 480,\n",
       " 483,\n",
       " 488,\n",
       " 535,\n",
       " 542,\n",
       " 542,\n",
       " 544,\n",
       " 546,\n",
       " 576,\n",
       " 581,\n",
       " 585,\n",
       " 593,\n",
       " 596,\n",
       " 610,\n",
       " 615,\n",
       " 616,\n",
       " 617,\n",
       " 622,\n",
       " 638,\n",
       " 644,\n",
       " 660,\n",
       " 670,\n",
       " 676,\n",
       " 697,\n",
       " 714,\n",
       " 730,\n",
       " 742,\n",
       " 746,\n",
       " 762,\n",
       " 763,\n",
       " 771,\n",
       " 794,\n",
       " 798,\n",
       " 807,\n",
       " 819,\n",
       " 837,\n",
       " 851,\n",
       " 853,\n",
       " 866,\n",
       " 874,\n",
       " 875,\n",
       " 888,\n",
       " 903,\n",
       " 906,\n",
       " 926,\n",
       " 936,\n",
       " 936,\n",
       " 937,\n",
       " 945,\n",
       " 946,\n",
       " 949,\n",
       " 953,\n",
       " 991,\n",
       " 999,\n",
       " 1003,\n",
       " 1009,\n",
       " 1016,\n",
       " 1030,\n",
       " 1036,\n",
       " 1040,\n",
       " 1051,\n",
       " 1055,\n",
       " 1061,\n",
       " 1067,\n",
       " 1102,\n",
       " 1104,\n",
       " 1108,\n",
       " 1108,\n",
       " 1121,\n",
       " 1129,\n",
       " 1133,\n",
       " 1142,\n",
       " 1143,\n",
       " 1145,\n",
       " 1148,\n",
       " 1148,\n",
       " 1173,\n",
       " 1183,\n",
       " 1190,\n",
       " 1200,\n",
       " 1201,\n",
       " 1205,\n",
       " 1210,\n",
       " 1225,\n",
       " 1233,\n",
       " 1245,\n",
       " 1257,\n",
       " 1268,\n",
       " 1270,\n",
       " 1277,\n",
       " 1278,\n",
       " 1282,\n",
       " 1290,\n",
       " 1302,\n",
       " 1320,\n",
       " 1340,\n",
       " 1351,\n",
       " 1360,\n",
       " 1367,\n",
       " 1378,\n",
       " 1379,\n",
       " 1381,\n",
       " 1382,\n",
       " 1409,\n",
       " 1420,\n",
       " 1424,\n",
       " 1430,\n",
       " 1439,\n",
       " 1444,\n",
       " 1463,\n",
       " 1464,\n",
       " 1477,\n",
       " 1489,\n",
       " 1496,\n",
       " 1521,\n",
       " 1523,\n",
       " 1529,\n",
       " 1567,\n",
       " 1571,\n",
       " 1573,\n",
       " 1585,\n",
       " 1589,\n",
       " 1602,\n",
       " 1603,\n",
       " 1622,\n",
       " 1624,\n",
       " 1624,\n",
       " 1639,\n",
       " 1643,\n",
       " 1664,\n",
       " 1686,\n",
       " 1696,\n",
       " 1699,\n",
       " 1711,\n",
       " 1717,\n",
       " 1726,\n",
       " 1737,\n",
       " 1740,\n",
       " 1756,\n",
       " 1763,\n",
       " 1776,\n",
       " 1779,\n",
       " 1794,\n",
       " 1822,\n",
       " 1846,\n",
       " 1850,\n",
       " 1865,\n",
       " 1866,\n",
       " 1876,\n",
       " 1881,\n",
       " 1914,\n",
       " 1926,\n",
       " 1928,\n",
       " 1960,\n",
       " 1983,\n",
       " 1990,\n",
       " 2008,\n",
       " 2017,\n",
       " 2023,\n",
       " 2027,\n",
       " 2030,\n",
       " 2030,\n",
       " 2044,\n",
       " 2050,\n",
       " 2071,\n",
       " 2131,\n",
       " 2134,\n",
       " 2160,\n",
       " 2166,\n",
       " 2174,\n",
       " 2184,\n",
       " 2210,\n",
       " 2236,\n",
       " 2241,\n",
       " 2242,\n",
       " 2266,\n",
       " 2275,\n",
       " 2292,\n",
       " 2307,\n",
       " 2342,\n",
       " 2356,\n",
       " 2367,\n",
       " 2381,\n",
       " 2417,\n",
       " 2418,\n",
       " 2449,\n",
       " 2467,\n",
       " 2472,\n",
       " 2474,\n",
       " 2489,\n",
       " 2498,\n",
       " 2499,\n",
       " 2514,\n",
       " 2514,\n",
       " 2520,\n",
       " 2544,\n",
       " 2576,\n",
       " 2592,\n",
       " 2596,\n",
       " 2613,\n",
       " 2614,\n",
       " 2618,\n",
       " 2618,\n",
       " 2624,\n",
       " 2646,\n",
       " 2650,\n",
       " 2660,\n",
       " 2704,\n",
       " 2711,\n",
       " 2730,\n",
       " 2785,\n",
       " 2794,\n",
       " 2808,\n",
       " 2808,\n",
       " 2835,\n",
       " 2861,\n",
       " 2877,\n",
       " 2884,\n",
       " 2901,\n",
       " 2902,\n",
       " 2934,\n",
       " 2949,\n",
       " 2956,\n",
       " 2965,\n",
       " 2979,\n",
       " 2989,\n",
       " 2995,\n",
       " 2999,\n",
       " 3026,\n",
       " 3039,\n",
       " 3059,\n",
       " 3068,\n",
       " 3083,\n",
       " 3086,\n",
       " 3095,\n",
       " 3100,\n",
       " 3112,\n",
       " 3119,\n",
       " 3121,\n",
       " 3128,\n",
       " 3137,\n",
       " 3141,\n",
       " 3148,\n",
       " 3179,\n",
       " 3183,\n",
       " 3195,\n",
       " 3212,\n",
       " 3257,\n",
       " 3268,\n",
       " 3289,\n",
       " 3289,\n",
       " 3294,\n",
       " 3322,\n",
       " 3331,\n",
       " 3333,\n",
       " 3347,\n",
       " 3353,\n",
       " 3355,\n",
       " 3355,\n",
       " 3365,\n",
       " 3375,\n",
       " 3387,\n",
       " 3401,\n",
       " 3450,\n",
       " 3475,\n",
       " 3480,\n",
       " 3483,\n",
       " 3506,\n",
       " 3510,\n",
       " 3523,\n",
       " 3530,\n",
       " 3532,\n",
       " 3537,\n",
       " 3542,\n",
       " 3549,\n",
       " 3551,\n",
       " 3553,\n",
       " 3559,\n",
       " 3562,\n",
       " 3564,\n",
       " 3594,\n",
       " 3601,\n",
       " 3602,\n",
       " 3603,\n",
       " 3612,\n",
       " 3652,\n",
       " 3664,\n",
       " 3670,\n",
       " 3678,\n",
       " 3685,\n",
       " 3689,\n",
       " 3696,\n",
       " 3708,\n",
       " 3716,\n",
       " 3725,\n",
       " 3726,\n",
       " 3728,\n",
       " 3735,\n",
       " 3743,\n",
       " 3752,\n",
       " 3779,\n",
       " 3788,\n",
       " 3800,\n",
       " 3821,\n",
       " 3827,\n",
       " 3835,\n",
       " 3836,\n",
       " 3847,\n",
       " 3874,\n",
       " 3878,\n",
       " 3880,\n",
       " 3883,\n",
       " 3886,\n",
       " 3894,\n",
       " 3902,\n",
       " 3908,\n",
       " 3910,\n",
       " 3919,\n",
       " 3923,\n",
       " 3928,\n",
       " 3930,\n",
       " 3935,\n",
       " 3940,\n",
       " 3950,\n",
       " 3959,\n",
       " 3979,\n",
       " 3985,\n",
       " 3986,\n",
       " 4009,\n",
       " 4012,\n",
       " 4019,\n",
       " 4024,\n",
       " 4050,\n",
       " 4059,\n",
       " 4063,\n",
       " 4068,\n",
       " 4070,\n",
       " 4078,\n",
       " 4082,\n",
       " 4091,\n",
       " 4093,\n",
       " 4104,\n",
       " 4126,\n",
       " 4147,\n",
       " 4149,\n",
       " 4163,\n",
       " 4174,\n",
       " 4193,\n",
       " 4194,\n",
       " 4198,\n",
       " 4204,\n",
       " 4219,\n",
       " 4220,\n",
       " 4223,\n",
       " 4225,\n",
       " 4232,\n",
       " 4237,\n",
       " 4242,\n",
       " 4273,\n",
       " 4276,\n",
       " 4312,\n",
       " 4323,\n",
       " 4330,\n",
       " 4345,\n",
       " 4349,\n",
       " 4368,\n",
       " 4372,\n",
       " 4375,\n",
       " 4382,\n",
       " 4393,\n",
       " 4412,\n",
       " 4423,\n",
       " 4434,\n",
       " 4438,\n",
       " 4444,\n",
       " 4449,\n",
       " 4454,\n",
       " 4466,\n",
       " 4469,\n",
       " 4477,\n",
       " 4488,\n",
       " 4506,\n",
       " 4509,\n",
       " 4512,\n",
       " 4519,\n",
       " 4539,\n",
       " 4543,\n",
       " 4549,\n",
       " 4556,\n",
       " 4563,\n",
       " 4565,\n",
       " 4577,\n",
       " 4602,\n",
       " 4604,\n",
       " 4606,\n",
       " 4609,\n",
       " 4638,\n",
       " 4657,\n",
       " 4664,\n",
       " 4669,\n",
       " 4672,\n",
       " 4676,\n",
       " 4677,\n",
       " 4683,\n",
       " 4690,\n",
       " 4692,\n",
       " 4709,\n",
       " 4712,\n",
       " 4716,\n",
       " 4719,\n",
       " 4722,\n",
       " 4725,\n",
       " 4729,\n",
       " 4730,\n",
       " 4735,\n",
       " 4749,\n",
       " 4765,\n",
       " 4768,\n",
       " 4774,\n",
       " 4799,\n",
       " 4816,\n",
       " 4820,\n",
       " 4829,\n",
       " 4831,\n",
       " 4855,\n",
       " 4858,\n",
       " 4860,\n",
       " 4878,\n",
       " 4879,\n",
       " 4880,\n",
       " 4903,\n",
       " 4908,\n",
       " 4911,\n",
       " 4924,\n",
       " 4925,\n",
       " 4930,\n",
       " 4933,\n",
       " 4944,\n",
       " 4947,\n",
       " 4987,\n",
       " 4992,\n",
       " 4997,\n",
       " 5003,\n",
       " 5011,\n",
       " 5018,\n",
       " 5026,\n",
       " 5033,\n",
       " 5045,\n",
       " 5055,\n",
       " 5060,\n",
       " 5069,\n",
       " 5077,\n",
       " 5079,\n",
       " 5094,\n",
       " 5100,\n",
       " 5103,\n",
       " 5113,\n",
       " 5124,\n",
       " 5129,\n",
       " 5154,\n",
       " 5160,\n",
       " 5160,\n",
       " 5163,\n",
       " 5169,\n",
       " 5176,\n",
       " 5177,\n",
       " 5201,\n",
       " 5258,\n",
       " 5275,\n",
       " 5282,\n",
       " 5282,\n",
       " 5290,\n",
       " 5291,\n",
       " 5292,\n",
       " 5295,\n",
       " 5297,\n",
       " 5340,\n",
       " 5348,\n",
       " 5349,\n",
       " 5352,\n",
       " 5358,\n",
       " 5378,\n",
       " 5404,\n",
       " 5405,\n",
       " 5410,\n",
       " 5422,\n",
       " 5469,\n",
       " 5480,\n",
       " 5501,\n",
       " 5516,\n",
       " 5519,\n",
       " 5524,\n",
       " 5544,\n",
       " 5572,\n",
       " 5593,\n",
       " 5603,\n",
       " 5615,\n",
       " 5621,\n",
       " 5638,\n",
       " 5651,\n",
       " 5653,\n",
       " 5664,\n",
       " 5679,\n",
       " 5682,\n",
       " 5692,\n",
       " 5693,\n",
       " 5694,\n",
       " 5696,\n",
       " 5700,\n",
       " 5702,\n",
       " 5702,\n",
       " 5714,\n",
       " 5715,\n",
       " 5740,\n",
       " 5745,\n",
       " 5755,\n",
       " 5763,\n",
       " 5770,\n",
       " 5774,\n",
       " 5777,\n",
       " 5781,\n",
       " 5803,\n",
       " 5822,\n",
       " 5839,\n",
       " 5840,\n",
       " 5890,\n",
       " 5903,\n",
       " 5917,\n",
       " 5917,\n",
       " 5919,\n",
       " 5919,\n",
       " 5922,\n",
       " 5923,\n",
       " 5929,\n",
       " 5934,\n",
       " 5942,\n",
       " 5948,\n",
       " 5976,\n",
       " 5987,\n",
       " 5995,\n",
       " 6008,\n",
       " 6010,\n",
       " 6044,\n",
       " 6063,\n",
       " 6063,\n",
       " 6078,\n",
       " 6088,\n",
       " 6089,\n",
       " 6090,\n",
       " 6094,\n",
       " 6109,\n",
       " 6111,\n",
       " 6111,\n",
       " 6111,\n",
       " 6111,\n",
       " 6133,\n",
       " 6133,\n",
       " 6151,\n",
       " 6164,\n",
       " 6202,\n",
       " 6204,\n",
       " 6206,\n",
       " 6215,\n",
       " 6215,\n",
       " 6215,\n",
       " 6235,\n",
       " 6236,\n",
       " 6236,\n",
       " 6240,\n",
       " 6245,\n",
       " 6247,\n",
       " 6269,\n",
       " 6270,\n",
       " 6279,\n",
       " 6283,\n",
       " 6295,\n",
       " 6305,\n",
       " 6307,\n",
       " 6317,\n",
       " 6322,\n",
       " 6327,\n",
       " 6327,\n",
       " 6331,\n",
       " 6335,\n",
       " 6343,\n",
       " 6344,\n",
       " 6352,\n",
       " 6354,\n",
       " 6355,\n",
       " 6364,\n",
       " 6386,\n",
       " 6404,\n",
       " 6419,\n",
       " 6428,\n",
       " 6429,\n",
       " 6446,\n",
       " 6450,\n",
       " 6451,\n",
       " 6458,\n",
       " 6460,\n",
       " 6471,\n",
       " 6478,\n",
       " 6490,\n",
       " 6496,\n",
       " 6503,\n",
       " 6507,\n",
       " 6528,\n",
       " 6538,\n",
       " 6543,\n",
       " 6545,\n",
       " 6563,\n",
       " 6604,\n",
       " 6614,\n",
       " 6617,\n",
       " 6627,\n",
       " 6634,\n",
       " 6639,\n",
       " 6652,\n",
       " 6653,\n",
       " 6659,\n",
       " 6671,\n",
       " 6674,\n",
       " 6676,\n",
       " 6683,\n",
       " 6683,\n",
       " 6690,\n",
       " 6693,\n",
       " 6696,\n",
       " 6698,\n",
       " 6712,\n",
       " 6714,\n",
       " 6717,\n",
       " 6750,\n",
       " 6761,\n",
       " 6766,\n",
       " 6783,\n",
       " 6790,\n",
       " 6792,\n",
       " 6797,\n",
       " 6800,\n",
       " 6806,\n",
       " 6830,\n",
       " 6858,\n",
       " 6864,\n",
       " 6869,\n",
       " 6891,\n",
       " 6892,\n",
       " 6898,\n",
       " 6913,\n",
       " 6959,\n",
       " 6983,\n",
       " 6985,\n",
       " 7009,\n",
       " 7018,\n",
       " 7029,\n",
       " 7041,\n",
       " 7048,\n",
       " 7058,\n",
       " 7059,\n",
       " 7067,\n",
       " 7069,\n",
       " 7119,\n",
       " 7121,\n",
       " 7126,\n",
       " 7129,\n",
       " 7146,\n",
       " 7151,\n",
       " 7152,\n",
       " 7166,\n",
       " 7179,\n",
       " 7180,\n",
       " 7194,\n",
       " 7197,\n",
       " 7207,\n",
       " 7209,\n",
       " 7212,\n",
       " 7217,\n",
       " 7228,\n",
       " 7245,\n",
       " 7265,\n",
       " 7270,\n",
       " 7286,\n",
       " 7288,\n",
       " 7293,\n",
       " 7299,\n",
       " 7309,\n",
       " 7318,\n",
       " 7332,\n",
       " 7335,\n",
       " 7359,\n",
       " 7371,\n",
       " 7376,\n",
       " 7383,\n",
       " 7398,\n",
       " 7401,\n",
       " 7401,\n",
       " 7407,\n",
       " 7407,\n",
       " 7409,\n",
       " 7412,\n",
       " 7422,\n",
       " 7426,\n",
       " 7428,\n",
       " 7451,\n",
       " 7473,\n",
       " 7476,\n",
       " 7481,\n",
       " 7492,\n",
       " 7561,\n",
       " 7562,\n",
       " 7567,\n",
       " 7577,\n",
       " 7582,\n",
       " 7593,\n",
       " 7593,\n",
       " 7594,\n",
       " 7597,\n",
       " 7602,\n",
       " 7610,\n",
       " 7630,\n",
       " 7655,\n",
       " 7661,\n",
       " 7662,\n",
       " 7663,\n",
       " 7720,\n",
       " 7733,\n",
       " 7739,\n",
       " 7744,\n",
       " 7754,\n",
       " 7755,\n",
       " 7762,\n",
       " 7774,\n",
       " 7783,\n",
       " 7784,\n",
       " 7790,\n",
       " 7791,\n",
       " 7808,\n",
       " 7816,\n",
       " 7816,\n",
       " 7837,\n",
       " 7844,\n",
       " 7850,\n",
       " 7857,\n",
       " 7862,\n",
       " 7883,\n",
       " 7906,\n",
       " 7921,\n",
       " 7923,\n",
       " 7933,\n",
       " 7939,\n",
       " 7948,\n",
       " 7954,\n",
       " 7960,\n",
       " 7972,\n",
       " 7975,\n",
       " 7976,\n",
       " 7978,\n",
       " 7980,\n",
       " 8002,\n",
       " 8029,\n",
       " 8030,\n",
       " 8048,\n",
       " 8055,\n",
       " 8061,\n",
       " 8082,\n",
       " 8084,\n",
       " 8084,\n",
       " 8099,\n",
       " 8101,\n",
       " 8105,\n",
       " 8116,\n",
       " 8120,\n",
       " 8129,\n",
       " 8144,\n",
       " 8159,\n",
       " 8168,\n",
       " 8170,\n",
       " 8181,\n",
       " 8204,\n",
       " 8213,\n",
       " 8213,\n",
       " 8214,\n",
       " 8218,\n",
       " 8220,\n",
       " 8228,\n",
       " 8251,\n",
       " 8255,\n",
       " 8262,\n",
       " 8288,\n",
       " 8304,\n",
       " 8307,\n",
       " 8308,\n",
       " 8330,\n",
       " 8345,\n",
       " 8347,\n",
       " 8366,\n",
       " 8370,\n",
       " 8371,\n",
       " 8396,\n",
       " 8400,\n",
       " 8405,\n",
       " 8414,\n",
       " 8416,\n",
       " 8417,\n",
       " 8418,\n",
       " 8433,\n",
       " 8449,\n",
       " 8463,\n",
       " 8466,\n",
       " 8477,\n",
       " 8478,\n",
       " 8479,\n",
       " 8481,\n",
       " 8485,\n",
       " 8491,\n",
       " 8544,\n",
       " 8545,\n",
       " 8557,\n",
       " 8571,\n",
       " 8573,\n",
       " 8579,\n",
       " 8583,\n",
       " 8591,\n",
       " 8601,\n",
       " 8606,\n",
       " 8613,\n",
       " 8646,\n",
       " 8656,\n",
       " 8658,\n",
       " 8680,\n",
       " 8688,\n",
       " 8699,\n",
       " 8722,\n",
       " 8726,\n",
       " 8730,\n",
       " 8746,\n",
       " 8746,\n",
       " 8750,\n",
       " 8753,\n",
       " 8768,\n",
       " 8790,\n",
       " 8821,\n",
       " 8832,\n",
       " 8840,\n",
       " 8865,\n",
       " 8877,\n",
       " 8885,\n",
       " 8892,\n",
       " 8907,\n",
       " 8913,\n",
       " 8921,\n",
       " 8949,\n",
       " 8964,\n",
       " 8968,\n",
       " 8988,\n",
       " 9004,\n",
       " 9022,\n",
       " 9026,\n",
       " 9029,\n",
       " 9041,\n",
       " 9046,\n",
       " 9064,\n",
       " 9070,\n",
       " 9081,\n",
       " 9089,\n",
       " 9098,\n",
       " 9103,\n",
       " 9106,\n",
       " 9143,\n",
       " 9145,\n",
       " 9147,\n",
       " 9151,\n",
       " 9169,\n",
       " 9179,\n",
       " 9187,\n",
       " 9195,\n",
       " 9198,\n",
       " 9205,\n",
       " 9231,\n",
       " 9256,\n",
       " 9271,\n",
       " 9278,\n",
       " 9286,\n",
       " 9291,\n",
       " 9293,\n",
       " 9320,\n",
       " 9324,\n",
       " 9326,\n",
       " 9344,\n",
       " 9348,\n",
       " 9359,\n",
       " 9370,\n",
       " 9407,\n",
       " 9410,\n",
       " 9413,\n",
       " 9415,\n",
       " 9415,\n",
       " 9431,\n",
       " 9434,\n",
       " 9475,\n",
       " 9477,\n",
       " 9484,\n",
       " 9487,\n",
       " 9529,\n",
       " 9538,\n",
       " 9552,\n",
       " 9557,\n",
       " 9575,\n",
       " 9577,\n",
       " 9582,\n",
       " 9600,\n",
       " 9608,\n",
       " 9627,\n",
       " 9629,\n",
       " 9634,\n",
       " 9648,\n",
       " 9651,\n",
       " 9662,\n",
       " 9669,\n",
       " 9673,\n",
       " 9692,\n",
       " 9695,\n",
       " 9702,\n",
       " 9702,\n",
       " 9714,\n",
       " 9741,\n",
       " 9747,\n",
       " 9749,\n",
       " 9749,\n",
       " 9749,\n",
       " 9768,\n",
       " 9771,\n",
       " 9773,\n",
       " 9780,\n",
       " 9784,\n",
       " 9795,\n",
       " 9823,\n",
       " 9846,\n",
       " 9846,\n",
       " 9858,\n",
       " 9866,\n",
       " 9873,\n",
       " 9877,\n",
       " 9878,\n",
       " ...]"
      ]
     },
     "execution_count": 17,
     "metadata": {},
     "output_type": "execute_result"
    }
   ],
   "source": [
    "nums = [random.randint(0,100000) for _ in range(10000)]\n",
    "\n",
    "def selection_sort(values): \n",
    "    sorted_vals = []\n",
    "    \n",
    "    for i in range(0, len(values)):\n",
    "        index_to_move = index_of_min(values) \n",
    "        sorted_vals.append(values.pop(index_to_move))  # remove values\n",
    "    return sorted_vals\n",
    "\n",
    "def index_of_min(values):\n",
    "    min_index = 0\n",
    "    \n",
    "    for i in range(1, len(values)):\n",
    "        if values[i] < values[min_index]:\n",
    "            min_index = i\n",
    "    return min_index\n",
    "\n",
    "selection_sort(nums)         "
   ]
  },
  {
   "cell_type": "markdown",
   "metadata": {},
   "source": [
    "takes too long time"
   ]
  },
  {
   "cell_type": "markdown",
   "metadata": {},
   "source": [
    "## quick sort"
   ]
  },
  {
   "cell_type": "markdown",
   "metadata": {},
   "source": [
    "use recursion\n",
    "\n",
    "pivot used to compare the left and right values"
   ]
  },
  {
   "cell_type": "code",
   "execution_count": 50,
   "metadata": {},
   "outputs": [
    {
     "name": "stdout",
     "output_type": "stream",
     "text": [
      "           [13] 32 [73, 42, 56, 92, 91, 67, 63, 67]\n",
      "[42, 56, 67, 63, 67] 73 [92, 91]       \n",
      "             [] 42 [56, 67, 63, 67]\n",
      "             [] 56 [67, 63, 67]   \n",
      "           [63] 67 [67]           \n",
      "           [91] 92 []             \n",
      "[13, 32, 42, 56, 63, 67, 67, 73, 91, 92]\n"
     ]
    }
   ],
   "source": [
    "import random\n",
    "def quicksort(values):\n",
    "    if len(values)<=1:\n",
    "        return values  # the base case for stopping the recursion;\n",
    "    less_than_pivot = []\n",
    "    greater_than_pivot = []\n",
    "    \n",
    "    pivot = values[0]  # directly choose the first one to be the pivot\n",
    "    \n",
    "    for value in values[1:]:\n",
    "        if value<pivot:\n",
    "            less_than_pivot.append(value)\n",
    "        else:\n",
    "            greater_than_pivot.append(value)\n",
    "    print('%15s %1s %-15s'%(less_than_pivot,pivot,greater_than_pivot))\n",
    "    return quicksort(less_than_pivot) + [pivot] + quicksort(greater_than_pivot)\n",
    "nums = [random.randint(0,100) for _ in range(10)]\n",
    "print(quicksort(nums))"
   ]
  },
  {
   "cell_type": "code",
   "execution_count": 27,
   "metadata": {},
   "outputs": [
    {
     "data": {
      "text/plain": [
       "[3,\n",
       " 3,\n",
       " 3,\n",
       " 4,\n",
       " 4,\n",
       " 5,\n",
       " 5,\n",
       " 10,\n",
       " 12,\n",
       " 12,\n",
       " 12,\n",
       " 12,\n",
       " 12,\n",
       " 14,\n",
       " 16,\n",
       " 17,\n",
       " 17,\n",
       " 17,\n",
       " 17,\n",
       " 18,\n",
       " 22,\n",
       " 22,\n",
       " 22,\n",
       " 23,\n",
       " 23,\n",
       " 25,\n",
       " 27,\n",
       " 27,\n",
       " 27,\n",
       " 28,\n",
       " 29,\n",
       " 29,\n",
       " 30,\n",
       " 32,\n",
       " 33,\n",
       " 33,\n",
       " 35,\n",
       " 35,\n",
       " 35,\n",
       " 36,\n",
       " 37,\n",
       " 37,\n",
       " 37,\n",
       " 38,\n",
       " 39,\n",
       " 40,\n",
       " 41,\n",
       " 42,\n",
       " 42,\n",
       " 43,\n",
       " 44,\n",
       " 44,\n",
       " 44,\n",
       " 45,\n",
       " 46,\n",
       " 46,\n",
       " 47,\n",
       " 47,\n",
       " 48,\n",
       " 49,\n",
       " 50,\n",
       " 50,\n",
       " 50,\n",
       " 51,\n",
       " 53,\n",
       " 54,\n",
       " 54,\n",
       " 55,\n",
       " 55,\n",
       " 55,\n",
       " 55,\n",
       " 56,\n",
       " 57,\n",
       " 57,\n",
       " 58,\n",
       " 59,\n",
       " 60,\n",
       " 61,\n",
       " 62,\n",
       " 64,\n",
       " 64,\n",
       " 64,\n",
       " 64,\n",
       " 65,\n",
       " 68,\n",
       " 71,\n",
       " 72,\n",
       " 74,\n",
       " 76,\n",
       " 76,\n",
       " 79,\n",
       " 79,\n",
       " 80,\n",
       " 84,\n",
       " 85,\n",
       " 85,\n",
       " 86,\n",
       " 86,\n",
       " 89,\n",
       " 90,\n",
       " 90,\n",
       " 96,\n",
       " 96,\n",
       " 97,\n",
       " 98,\n",
       " 98,\n",
       " 99,\n",
       " 99,\n",
       " 99,\n",
       " 99,\n",
       " 100,\n",
       " 101,\n",
       " 101,\n",
       " 101,\n",
       " 102,\n",
       " 104,\n",
       " 105,\n",
       " 107,\n",
       " 107,\n",
       " 108,\n",
       " 109,\n",
       " 110,\n",
       " 110,\n",
       " 110,\n",
       " 113,\n",
       " 113,\n",
       " 115,\n",
       " 116,\n",
       " 117,\n",
       " 118,\n",
       " 118,\n",
       " 118,\n",
       " 119,\n",
       " 119,\n",
       " 120,\n",
       " 121,\n",
       " 123,\n",
       " 124,\n",
       " 124,\n",
       " 126,\n",
       " 126,\n",
       " 130,\n",
       " 130,\n",
       " 132,\n",
       " 133,\n",
       " 137,\n",
       " 137,\n",
       " 138,\n",
       " 138,\n",
       " 138,\n",
       " 141,\n",
       " 141,\n",
       " 141,\n",
       " 141,\n",
       " 141,\n",
       " 142,\n",
       " 142,\n",
       " 143,\n",
       " 143,\n",
       " 144,\n",
       " 145,\n",
       " 145,\n",
       " 145,\n",
       " 145,\n",
       " 145,\n",
       " 146,\n",
       " 147,\n",
       " 147,\n",
       " 148,\n",
       " 148,\n",
       " 149,\n",
       " 149,\n",
       " 149,\n",
       " 150,\n",
       " 150,\n",
       " 151,\n",
       " 152,\n",
       " 152,\n",
       " 153,\n",
       " 153,\n",
       " 153,\n",
       " 154,\n",
       " 156,\n",
       " 159,\n",
       " 160,\n",
       " 160,\n",
       " 160,\n",
       " 161,\n",
       " 162,\n",
       " 162,\n",
       " 166,\n",
       " 166,\n",
       " 166,\n",
       " 169,\n",
       " 172,\n",
       " 172,\n",
       " 174,\n",
       " 175,\n",
       " 177,\n",
       " 178,\n",
       " 179,\n",
       " 180,\n",
       " 181,\n",
       " 182,\n",
       " 183,\n",
       " 183,\n",
       " 185,\n",
       " 187,\n",
       " 188,\n",
       " 188,\n",
       " 188,\n",
       " 189,\n",
       " 192,\n",
       " 193,\n",
       " 193,\n",
       " 194,\n",
       " 195,\n",
       " 195,\n",
       " 196,\n",
       " 197,\n",
       " 198,\n",
       " 199,\n",
       " 199,\n",
       " 199,\n",
       " 200,\n",
       " 202,\n",
       " 206,\n",
       " 208,\n",
       " 209,\n",
       " 209,\n",
       " 209,\n",
       " 210,\n",
       " 212,\n",
       " 212,\n",
       " 214,\n",
       " 214,\n",
       " 215,\n",
       " 216,\n",
       " 216,\n",
       " 219,\n",
       " 219,\n",
       " 221,\n",
       " 222,\n",
       " 222,\n",
       " 222,\n",
       " 224,\n",
       " 226,\n",
       " 227,\n",
       " 229,\n",
       " 230,\n",
       " 232,\n",
       " 233,\n",
       " 235,\n",
       " 236,\n",
       " 238,\n",
       " 238,\n",
       " 241,\n",
       " 241,\n",
       " 241,\n",
       " 242,\n",
       " 243,\n",
       " 243,\n",
       " 245,\n",
       " 246,\n",
       " 246,\n",
       " 247,\n",
       " 249,\n",
       " 249,\n",
       " 250,\n",
       " 251,\n",
       " 252,\n",
       " 252,\n",
       " 254,\n",
       " 255,\n",
       " 257,\n",
       " 258,\n",
       " 259,\n",
       " 259,\n",
       " 262,\n",
       " 264,\n",
       " 264,\n",
       " 266,\n",
       " 268,\n",
       " 269,\n",
       " 270,\n",
       " 271,\n",
       " 272,\n",
       " 274,\n",
       " 275,\n",
       " 276,\n",
       " 276,\n",
       " 277,\n",
       " 278,\n",
       " 278,\n",
       " 279,\n",
       " 282,\n",
       " 282,\n",
       " 283,\n",
       " 284,\n",
       " 284,\n",
       " 284,\n",
       " 285,\n",
       " 285,\n",
       " 287,\n",
       " 288,\n",
       " 289,\n",
       " 290,\n",
       " 291,\n",
       " 291,\n",
       " 293,\n",
       " 294,\n",
       " 294,\n",
       " 294,\n",
       " 295,\n",
       " 295,\n",
       " 295,\n",
       " 296,\n",
       " 296,\n",
       " 298,\n",
       " 298,\n",
       " 301,\n",
       " 303,\n",
       " 304,\n",
       " 304,\n",
       " 305,\n",
       " 305,\n",
       " 306,\n",
       " 306,\n",
       " 308,\n",
       " 309,\n",
       " 310,\n",
       " 310,\n",
       " 310,\n",
       " 311,\n",
       " 311,\n",
       " 312,\n",
       " 314,\n",
       " 315,\n",
       " 317,\n",
       " 320,\n",
       " 320,\n",
       " 321,\n",
       " 322,\n",
       " 324,\n",
       " 325,\n",
       " 326,\n",
       " 330,\n",
       " 334,\n",
       " 334,\n",
       " 335,\n",
       " 335,\n",
       " 336,\n",
       " 336,\n",
       " 338,\n",
       " 340,\n",
       " 340,\n",
       " 341,\n",
       " 342,\n",
       " 342,\n",
       " 343,\n",
       " 345,\n",
       " 346,\n",
       " 346,\n",
       " 347,\n",
       " 348,\n",
       " 349,\n",
       " 351,\n",
       " 352,\n",
       " 355,\n",
       " 357,\n",
       " 357,\n",
       " 357,\n",
       " 359,\n",
       " 361,\n",
       " 362,\n",
       " 364,\n",
       " 364,\n",
       " 365,\n",
       " 365,\n",
       " 366,\n",
       " 366,\n",
       " 370,\n",
       " 371,\n",
       " 373,\n",
       " 376,\n",
       " 376,\n",
       " 378,\n",
       " 379,\n",
       " 379,\n",
       " 383,\n",
       " 384,\n",
       " 385,\n",
       " 386,\n",
       " 387,\n",
       " 387,\n",
       " 387,\n",
       " 389,\n",
       " 389,\n",
       " 390,\n",
       " 390,\n",
       " 391,\n",
       " 392,\n",
       " 395,\n",
       " 395,\n",
       " 397,\n",
       " 398,\n",
       " 398,\n",
       " 399,\n",
       " 399,\n",
       " 399,\n",
       " 399,\n",
       " 400,\n",
       " 400,\n",
       " 400,\n",
       " 400,\n",
       " 401,\n",
       " 401,\n",
       " 401,\n",
       " 401,\n",
       " 401,\n",
       " 402,\n",
       " 403,\n",
       " 403,\n",
       " 403,\n",
       " 404,\n",
       " 404,\n",
       " 407,\n",
       " 408,\n",
       " 408,\n",
       " 409,\n",
       " 410,\n",
       " 411,\n",
       " 413,\n",
       " 414,\n",
       " 414,\n",
       " 414,\n",
       " 417,\n",
       " 417,\n",
       " 418,\n",
       " 420,\n",
       " 422,\n",
       " 423,\n",
       " 424,\n",
       " 425,\n",
       " 425,\n",
       " 427,\n",
       " 427,\n",
       " 427,\n",
       " 427,\n",
       " 428,\n",
       " 429,\n",
       " 430,\n",
       " 430,\n",
       " 430,\n",
       " 433,\n",
       " 434,\n",
       " 434,\n",
       " 437,\n",
       " 438,\n",
       " 438,\n",
       " 439,\n",
       " 440,\n",
       " 441,\n",
       " 443,\n",
       " 446,\n",
       " 447,\n",
       " 447,\n",
       " 448,\n",
       " 448,\n",
       " 449,\n",
       " 449,\n",
       " 450,\n",
       " 451,\n",
       " 451,\n",
       " 453,\n",
       " 453,\n",
       " 453,\n",
       " 454,\n",
       " 454,\n",
       " 455,\n",
       " 455,\n",
       " 455,\n",
       " 456,\n",
       " 457,\n",
       " 459,\n",
       " 461,\n",
       " 462,\n",
       " 463,\n",
       " 463,\n",
       " 465,\n",
       " 467,\n",
       " 468,\n",
       " 469,\n",
       " 470,\n",
       " 470,\n",
       " 471,\n",
       " 475,\n",
       " 475,\n",
       " 475,\n",
       " 475,\n",
       " 475,\n",
       " 475,\n",
       " 477,\n",
       " 478,\n",
       " 478,\n",
       " 479,\n",
       " 479,\n",
       " 480,\n",
       " 480,\n",
       " 481,\n",
       " 481,\n",
       " 481,\n",
       " 483,\n",
       " 485,\n",
       " 486,\n",
       " 487,\n",
       " 487,\n",
       " 488,\n",
       " 488,\n",
       " 492,\n",
       " 492,\n",
       " 497,\n",
       " 497,\n",
       " 499,\n",
       " 499,\n",
       " 499,\n",
       " 500,\n",
       " 507,\n",
       " 508,\n",
       " 509,\n",
       " 511,\n",
       " 512,\n",
       " 514,\n",
       " 515,\n",
       " 516,\n",
       " 516,\n",
       " 521,\n",
       " 521,\n",
       " 522,\n",
       " 525,\n",
       " 526,\n",
       " 526,\n",
       " 526,\n",
       " 526,\n",
       " 527,\n",
       " 527,\n",
       " 529,\n",
       " 534,\n",
       " 535,\n",
       " 536,\n",
       " 539,\n",
       " 539,\n",
       " 540,\n",
       " 543,\n",
       " 543,\n",
       " 544,\n",
       " 544,\n",
       " 545,\n",
       " 545,\n",
       " 546,\n",
       " 547,\n",
       " 548,\n",
       " 550,\n",
       " 552,\n",
       " 554,\n",
       " 554,\n",
       " 555,\n",
       " 556,\n",
       " 557,\n",
       " 557,\n",
       " 559,\n",
       " 559,\n",
       " 562,\n",
       " 562,\n",
       " 563,\n",
       " 568,\n",
       " 568,\n",
       " 571,\n",
       " 572,\n",
       " 572,\n",
       " 574,\n",
       " 575,\n",
       " 575,\n",
       " 576,\n",
       " 577,\n",
       " 579,\n",
       " 580,\n",
       " 582,\n",
       " 582,\n",
       " 583,\n",
       " 583,\n",
       " 584,\n",
       " 584,\n",
       " 584,\n",
       " 584,\n",
       " 584,\n",
       " 585,\n",
       " 585,\n",
       " 586,\n",
       " 587,\n",
       " 588,\n",
       " 590,\n",
       " 590,\n",
       " 592,\n",
       " 592,\n",
       " 593,\n",
       " 594,\n",
       " 596,\n",
       " 598,\n",
       " 599,\n",
       " 600,\n",
       " 601,\n",
       " 601,\n",
       " 601,\n",
       " 605,\n",
       " 605,\n",
       " 606,\n",
       " 608,\n",
       " 608,\n",
       " 609,\n",
       " 610,\n",
       " 610,\n",
       " 611,\n",
       " 613,\n",
       " 613,\n",
       " 614,\n",
       " 615,\n",
       " 616,\n",
       " 616,\n",
       " 618,\n",
       " 618,\n",
       " 621,\n",
       " 621,\n",
       " 622,\n",
       " 623,\n",
       " 624,\n",
       " 625,\n",
       " 625,\n",
       " 626,\n",
       " 628,\n",
       " 629,\n",
       " 629,\n",
       " 632,\n",
       " 634,\n",
       " 635,\n",
       " 636,\n",
       " 636,\n",
       " 637,\n",
       " 637,\n",
       " 640,\n",
       " 648,\n",
       " 648,\n",
       " 650,\n",
       " 653,\n",
       " 654,\n",
       " 656,\n",
       " 656,\n",
       " 657,\n",
       " 658,\n",
       " 659,\n",
       " 663,\n",
       " 665,\n",
       " 666,\n",
       " 670,\n",
       " 672,\n",
       " 672,\n",
       " 672,\n",
       " 672,\n",
       " 674,\n",
       " 675,\n",
       " 676,\n",
       " 676,\n",
       " 678,\n",
       " 679,\n",
       " 679,\n",
       " 681,\n",
       " 682,\n",
       " 686,\n",
       " 687,\n",
       " 688,\n",
       " 689,\n",
       " 691,\n",
       " 693,\n",
       " 694,\n",
       " 695,\n",
       " 695,\n",
       " 696,\n",
       " 696,\n",
       " 698,\n",
       " 698,\n",
       " 701,\n",
       " 701,\n",
       " 702,\n",
       " 703,\n",
       " 703,\n",
       " 706,\n",
       " 708,\n",
       " 709,\n",
       " 711,\n",
       " 711,\n",
       " 711,\n",
       " 712,\n",
       " 714,\n",
       " 714,\n",
       " 714,\n",
       " 715,\n",
       " 717,\n",
       " 717,\n",
       " 718,\n",
       " 721,\n",
       " 723,\n",
       " 723,\n",
       " 723,\n",
       " 723,\n",
       " 723,\n",
       " 727,\n",
       " 727,\n",
       " 727,\n",
       " 727,\n",
       " 729,\n",
       " 729,\n",
       " 729,\n",
       " 730,\n",
       " 731,\n",
       " 732,\n",
       " 732,\n",
       " 733,\n",
       " 733,\n",
       " 733,\n",
       " 736,\n",
       " 737,\n",
       " 737,\n",
       " 738,\n",
       " 739,\n",
       " 740,\n",
       " 740,\n",
       " 740,\n",
       " 741,\n",
       " 741,\n",
       " 743,\n",
       " 743,\n",
       " 744,\n",
       " 744,\n",
       " 746,\n",
       " 747,\n",
       " 748,\n",
       " 750,\n",
       " 750,\n",
       " 752,\n",
       " 752,\n",
       " 752,\n",
       " 753,\n",
       " 753,\n",
       " 753,\n",
       " 756,\n",
       " 757,\n",
       " 758,\n",
       " 759,\n",
       " 760,\n",
       " 760,\n",
       " 761,\n",
       " 763,\n",
       " 763,\n",
       " 764,\n",
       " 764,\n",
       " 764,\n",
       " 765,\n",
       " 765,\n",
       " 765,\n",
       " 766,\n",
       " 767,\n",
       " 768,\n",
       " 771,\n",
       " 772,\n",
       " 773,\n",
       " 773,\n",
       " 774,\n",
       " 774,\n",
       " 775,\n",
       " 776,\n",
       " 776,\n",
       " 776,\n",
       " 779,\n",
       " 780,\n",
       " 783,\n",
       " 783,\n",
       " 785,\n",
       " 785,\n",
       " 785,\n",
       " 786,\n",
       " 788,\n",
       " 788,\n",
       " 789,\n",
       " 790,\n",
       " 790,\n",
       " 790,\n",
       " 791,\n",
       " 792,\n",
       " 792,\n",
       " 792,\n",
       " 794,\n",
       " 796,\n",
       " 799,\n",
       " 800,\n",
       " 802,\n",
       " 803,\n",
       " 804,\n",
       " 805,\n",
       " 806,\n",
       " 809,\n",
       " 811,\n",
       " 811,\n",
       " 811,\n",
       " 812,\n",
       " 817,\n",
       " 817,\n",
       " 818,\n",
       " 818,\n",
       " 819,\n",
       " 820,\n",
       " 821,\n",
       " 822,\n",
       " 822,\n",
       " 827,\n",
       " 828,\n",
       " 829,\n",
       " 829,\n",
       " 830,\n",
       " 830,\n",
       " 831,\n",
       " 834,\n",
       " 835,\n",
       " 835,\n",
       " 837,\n",
       " 838,\n",
       " 839,\n",
       " 840,\n",
       " 841,\n",
       " 841,\n",
       " 842,\n",
       " 843,\n",
       " 844,\n",
       " 846,\n",
       " 847,\n",
       " 847,\n",
       " 849,\n",
       " 849,\n",
       " 849,\n",
       " 850,\n",
       " 850,\n",
       " 853,\n",
       " 854,\n",
       " 857,\n",
       " 857,\n",
       " 859,\n",
       " 859,\n",
       " 859,\n",
       " 860,\n",
       " 861,\n",
       " 863,\n",
       " 865,\n",
       " 869,\n",
       " 871,\n",
       " 872,\n",
       " 873,\n",
       " 874,\n",
       " 876,\n",
       " 876,\n",
       " 876,\n",
       " 877,\n",
       " 878,\n",
       " 878,\n",
       " 879,\n",
       " 881,\n",
       " 883,\n",
       " 883,\n",
       " 884,\n",
       " 885,\n",
       " 885,\n",
       " 886,\n",
       " 886,\n",
       " 887,\n",
       " 889,\n",
       " 890,\n",
       " 890,\n",
       " 891,\n",
       " 891,\n",
       " 892,\n",
       " 892,\n",
       " 893,\n",
       " 894,\n",
       " 894,\n",
       " 894,\n",
       " 895,\n",
       " 895,\n",
       " 896,\n",
       " 898,\n",
       " 899,\n",
       " 899,\n",
       " 900,\n",
       " 901,\n",
       " 902,\n",
       " 903,\n",
       " 905,\n",
       " 905,\n",
       " 906,\n",
       " 906,\n",
       " 909,\n",
       " 910,\n",
       " 912,\n",
       " 914,\n",
       " 915,\n",
       " 916,\n",
       " 916,\n",
       " 917,\n",
       " 918,\n",
       " 919,\n",
       " 921,\n",
       " 921,\n",
       " 922,\n",
       " 922,\n",
       " 923,\n",
       " 926,\n",
       " 927,\n",
       " 928,\n",
       " 928,\n",
       " 929,\n",
       " 931,\n",
       " 932,\n",
       " 933,\n",
       " 934,\n",
       " 935,\n",
       " 937,\n",
       " 937,\n",
       " 938,\n",
       " 938,\n",
       " 939,\n",
       " 942,\n",
       " 943,\n",
       " 945,\n",
       " 946,\n",
       " 947,\n",
       " 948,\n",
       " 948,\n",
       " 949,\n",
       " 949,\n",
       " 950,\n",
       " 950,\n",
       " 951,\n",
       " 951,\n",
       " 954,\n",
       " 954,\n",
       " 955,\n",
       " 956,\n",
       " 957,\n",
       " 958,\n",
       " 959,\n",
       " 959,\n",
       " 959,\n",
       " 961,\n",
       " 962,\n",
       " 963,\n",
       " 963,\n",
       " 963,\n",
       " 964,\n",
       " 965,\n",
       " 965,\n",
       " 965,\n",
       " 967,\n",
       " 967,\n",
       " 967,\n",
       " 968,\n",
       " 970,\n",
       " 971,\n",
       " 971,\n",
       " 972,\n",
       " 974,\n",
       " 974,\n",
       " 976,\n",
       " 976,\n",
       " 977,\n",
       " 977,\n",
       " 977,\n",
       " 979,\n",
       " 980,\n",
       " 981,\n",
       " 982,\n",
       " 983,\n",
       " 983,\n",
       " 984,\n",
       " 984,\n",
       " 984,\n",
       " 985,\n",
       " 988,\n",
       " 989,\n",
       " 992,\n",
       " 993,\n",
       " 993,\n",
       " 994,\n",
       " 994,\n",
       " ...]"
      ]
     },
     "execution_count": 27,
     "metadata": {},
     "output_type": "execute_result"
    }
   ],
   "source": [
    "nums = [random.randint(0,1000000) for _ in range(1000000)]\n",
    "quicksort(nums)"
   ]
  },
  {
   "cell_type": "markdown",
   "metadata": {},
   "source": [
    "Quick sort is an internal algorithm which is based on divide and conquer strategy. In this:\n",
    "\n",
    "The array of elements is divided into parts repeatedly until it is not possible to divide it further.\n",
    "It is also known as “partition exchange sort”.\n",
    "It uses a key element (pivot) for partitioning the elements.\n",
    "One left partition contains all those elements that are smaller than the pivot and one right partition contains all those elements which are greater than the key element."
   ]
  },
  {
   "cell_type": "markdown",
   "metadata": {},
   "source": [
    "Merge sort is an external algorithm and based on divide and conquer strategy. In this:\n",
    "\n",
    "The elements are split into two sub-arrays (n/2) again and again until only one element is left.\n",
    "Merge sort uses additional storage for sorting the auxiliary array.\n",
    "Merge sort uses three arrays where two are used for storing each half, and the third external one is used to store the final sorted list by merging other two and each array is then sorted recursively.\n",
    "At last, the all sub arrays are merged to make it ‘n’ element size of the array."
   ]
  },
  {
   "cell_type": "markdown",
   "metadata": {},
   "source": [
    "# Search Methods"
   ]
  },
  {
   "cell_type": "markdown",
   "metadata": {},
   "source": [
    "# Binary Search\n",
    "\n"
   ]
  },
  {
   "cell_type": "code",
   "execution_count": 92,
   "metadata": {},
   "outputs": [],
   "source": [
    "import math \n",
    "\n",
    "def binary_search(collection, target):\n",
    "    collection.sort()\n",
    "    print(collection)\n",
    "    left = 0 \n",
    "    right = len(collection) -1\n",
    "    \n",
    "    while left<= right:\n",
    "        # mid = int(math.fmod((left+ right),2))  # should be really careful about the // operator and math.fmod \n",
    "        mid = int((left+right)/2)\n",
    "        if collection[mid] == target:\n",
    "            return mid \n",
    "        elif collection[mid] < target:\n",
    "            left = mid + 1\n",
    "        elif collection[mid] > target:\n",
    "            right = mid -1 \n",
    "    return None"
   ]
  },
  {
   "cell_type": "code",
   "execution_count": 93,
   "metadata": {},
   "outputs": [
    {
     "name": "stdout",
     "output_type": "stream",
     "text": [
      "[0, 2, 3, 4, 6, 7, 8, 9, 10, 12]\n",
      "4\n",
      "7\n",
      "8\n",
      "8\n"
     ]
    }
   ],
   "source": [
    "print(binary_search([0,10,2,3,4,6,7,8,9,12],10))"
   ]
  },
  {
   "cell_type": "markdown",
   "metadata": {},
   "source": [
    "# Hash Table"
   ]
  },
  {
   "cell_type": "markdown",
   "metadata": {},
   "source": [
    "from keys to values --- hashing\n",
    "\n",
    "hash function: deterministic;\n",
    "hash collision solutions: separate chaining; open addressing \n",
    "\n",
    "usages: track item frequencies; object comparisons; "
   ]
  },
  {
   "cell_type": "code",
   "execution_count": null,
   "metadata": {},
   "outputs": [],
   "source": []
  },
  {
   "cell_type": "markdown",
   "source": [
    "# Heaps\n",
    "\n",
    "Heap is a special tree structure in which each parent node is less than or equal to its child node. Then it is called a Min Heap. If each parent node is greater than or equal to its child node then it is called a max heap. It is very useful is implementing priority queues where the queue item with higher weightage is given more priority in processing.\n",
    "\n",
    "A detailed discussion on heaps is available in our website here. Please study it first if you are new to heap data structure. In this chapter we will see the implementation of heap data structure using python.\n",
    "\n",
    "Create a Heap\n",
    "A heap is created by using python’s inbuilt library named heapq. This library has the relevant functions to carry out various operations on heap data structure. Below is a list of these functions.\n",
    "\n",
    "heapify − This function converts a regular list to a heap. In the resulting heap the smallest element gets pushed to the index position 0. But rest of the data elements are not necessarily sorted.\n",
    "\n",
    "heappush − This function adds an element to the heap without altering the current heap.\n",
    "\n",
    "heappop − This function returns the smallest data element from the heap.\n",
    "\n",
    "heapreplace − This function replaces the smallest data element with a new value supplied in the function.\n",
    "\n",
    "Creating a Heap\n",
    "A heap is created by simply using a list of elements with the heapify function. In the below example we supply a list of elements and the heapify function rearranges the elements bringing the smallest element to the first position.\n",
    "\n",
    "Example\n",
    "import heapq\n",
    "\n",
    "H = [21,1,45,78,3,5]\n",
    "\n",
    "Use heapify to rearrange the elements\n",
    "heapq.heapify(H)\n",
    "print(H)\n",
    "Output\n",
    "When the above code is executed, it produces the following result −\n",
    "\n",
    "[1, 3, 5, 78, 21, 45]\n",
    "Inserting into heap\n",
    "Inserting a data element to a heap always adds the element at the last index. But you can apply heapify function again to bring the newly added element to the first index only if it smallest in value. In the below example we insert the number 8."
   ],
   "metadata": {
    "collapsed": false
   }
  },
  {
   "cell_type": "code",
   "execution_count": 4,
   "outputs": [
    {
     "name": "stdout",
     "output_type": "stream",
     "text": [
      "[-78, -21, -45, -1, -3, -5]\n",
      "[-45, -21, -5, -1, -3]\n",
      "[-21, -3, -5, -1, 6]\n"
     ]
    }
   ],
   "source": [
    "import heapq\n",
    "\n",
    "H = [21,1,45,78,3,5]\n",
    "H = [-i for i in H]\n",
    "# Use heapify to rearrange the elements\n",
    "heapq.heapify(H)\n",
    "print(H)\n",
    "# Remove element from the heap\n",
    "heapq.heappop(H)\n",
    "print(H)\n",
    "# Replace an element\n",
    "heapq.heapreplace(H,6)\n",
    "print(H)"
   ],
   "metadata": {
    "collapsed": false,
    "pycharm": {
     "name": "#%%\n"
    }
   }
  },
  {
   "cell_type": "code",
   "execution_count": null,
   "outputs": [],
   "source": [],
   "metadata": {
    "collapsed": false,
    "pycharm": {
     "name": "#%%\n"
    }
   }
  },
  {
   "cell_type": "markdown",
   "source": [
    "# Graphs\n",
    "\n",
    "A graph is a pictorial representation of a set of objects where some pairs of objects are connected by links. The interconnected objects are represented by points termed as vertices, and the links that connect the vertices are called edges. The various terms and functionalities associated with a graph is described in great detail in our tutorial here.\n",
    "\n",
    "In this chapter we are going to see how to create a graph and add various data elements to it using a python program. Following are the basic operations we perform on graphs.\n",
    "\n",
    "Display graph vertices\n",
    "Display graph edges\n",
    "Add a vertex\n",
    "Add an edge\n",
    "Creating a graph\n",
    "A graph can be easily presented using the python dictionary data types. We represent the vertices as the keys of the dictionary and the connection between the vertices also called edges as the values in the dictionary.\n",
    "\n",
    "Take a look at the following graph −\n",
    "\n",
    "Array Declaration\n",
    "\n",
    "\n",
    "In the above graph,\n",
    "\n",
    "V = {a, b, c, d, e}\n",
    "E = {ab, ac, bd, cd, de}\n",
    "Example\n",
    "We can present this graph in a python program as below −\n",
    "\n",
    "# Create the dictionary with graph elements\n",
    "graph = {\n",
    "   \"a\" : [\"b\",\"c\"],\n",
    "   \"b\" : [\"a\", \"d\"],\n",
    "   \"c\" : [\"a\", \"d\"],\n",
    "   \"d\" : [\"e\"],\n",
    "   \"e\" : [\"d\"]\n",
    "}\n",
    "#Print the graph\n",
    "print(graph)\n",
    "Output\n",
    "When the above code is executed, it produces the following result −\n",
    "\n",
    "{'c': ['a', 'd'], 'a': ['b', 'c'], 'e': ['d'], 'd': ['e'], 'b': ['a', 'd']}"
   ],
   "metadata": {
    "collapsed": false
   }
  },
  {
   "cell_type": "code",
   "execution_count": 5,
   "outputs": [
    {
     "name": "stdout",
     "output_type": "stream",
     "text": [
      "{'a': ['b', 'c'], 'b': ['a', 'd'], 'c': ['a', 'd'], 'd': ['e'], 'e': ['d']}\n"
     ]
    }
   ],
   "source": [
    "# Create the dictionary with graph elements\n",
    "graph = {\n",
    "   \"a\" : [\"b\",\"c\"],\n",
    "   \"b\" : [\"a\", \"d\"],\n",
    "   \"c\" : [\"a\", \"d\"],\n",
    "   \"d\" : [\"e\"],\n",
    "   \"e\" : [\"d\"]\n",
    "}\n",
    "# Print the graph\n",
    "print(graph)"
   ],
   "metadata": {
    "collapsed": false,
    "pycharm": {
     "name": "#%%\n"
    }
   }
  },
  {
   "cell_type": "code",
   "execution_count": 6,
   "outputs": [
    {
     "name": "stdout",
     "output_type": "stream",
     "text": [
      "['a', 'b', 'c', 'd', 'e']\n"
     ]
    }
   ],
   "source": [
    "class graph:\n",
    "   def __init__(self,gdict=None):\n",
    "      if gdict is None:\n",
    "         gdict = []\n",
    "      self.gdict = gdict\n",
    "# Get the keys of the dictionary\n",
    "   def getVertices(self):\n",
    "      return list(self.gdict.keys())\n",
    "# Create the dictionary with graph elements\n",
    "graph_elements = {\n",
    "   \"a\" : [\"b\",\"c\"],\n",
    "   \"b\" : [\"a\", \"d\"],\n",
    "   \"c\" : [\"a\", \"d\"],\n",
    "   \"d\" : [\"e\"],\n",
    "   \"e\" : [\"d\"]\n",
    "}\n",
    "g = graph(graph_elements)\n",
    "print(g.getVertices())"
   ],
   "metadata": {
    "collapsed": false,
    "pycharm": {
     "name": "#%%\n"
    }
   }
  },
  {
   "cell_type": "code",
   "execution_count": 7,
   "outputs": [
    {
     "name": "stdout",
     "output_type": "stream",
     "text": [
      "[{'b', 'a'}, {'c', 'a'}, {'b', 'd'}, {'c', 'd'}, {'e', 'd'}]\n"
     ]
    }
   ],
   "source": [
    "class graph:\n",
    "   def __init__(self,gdict=None):\n",
    "      if gdict is None:\n",
    "         gdict = {}\n",
    "      self.gdict = gdict\n",
    "\n",
    "   def edges(self):\n",
    "      return self.findedges()\n",
    "# Find the distinct list of edges\n",
    "   def findedges(self):\n",
    "      edgename = []\n",
    "      for vrtx in self.gdict:\n",
    "         for nxtvrtx in self.gdict[vrtx]:\n",
    "            if {nxtvrtx, vrtx} not in edgename:\n",
    "               edgename.append({vrtx, nxtvrtx})\n",
    "      return edgename\n",
    "# Create the dictionary with graph elements\n",
    "graph_elements = {\n",
    "   \"a\" : [\"b\",\"c\"],\n",
    "   \"b\" : [\"a\", \"d\"],\n",
    "   \"c\" : [\"a\", \"d\"],\n",
    "   \"d\" : [\"e\"],\n",
    "   \"e\" : [\"d\"]\n",
    "}\n",
    "g = graph(graph_elements)\n",
    "print(g.edges())"
   ],
   "metadata": {
    "collapsed": false,
    "pycharm": {
     "name": "#%%\n"
    }
   }
  },
  {
   "cell_type": "code",
   "execution_count": 9,
   "outputs": [
    {
     "name": "stdout",
     "output_type": "stream",
     "text": [
      "['a', 'b', 'c', 'd', 'e', 'f']\n"
     ]
    }
   ],
   "source": [
    "class graph:\n",
    "   def __init__(self,gdict=None):\n",
    "      if gdict is None:\n",
    "         gdict = {}\n",
    "      self.gdict = gdict\n",
    "   def getVertices(self):\n",
    "      return list(self.gdict.keys())\n",
    "# Add the vertex as a key\n",
    "   def addVertex(self, vrtx):\n",
    "      if vrtx not in self.gdict:\n",
    "         self.gdict[vrtx] = []\n",
    "# Create the dictionary with graph elements\n",
    "graph_elements = {\n",
    "   \"a\" : [\"b\",\"c\"],\n",
    "   \"b\" : [\"a\", \"d\"],\n",
    "   \"c\" : [\"a\", \"d\"],\n",
    "   \"d\" : [\"e\"],\n",
    "   \"e\" : [\"d\"]\n",
    "}\n",
    "g = graph(graph_elements)\n",
    "g.addVertex(\"f\")\n",
    "print(g.getVertices())"
   ],
   "metadata": {
    "collapsed": false,
    "pycharm": {
     "name": "#%%\n"
    }
   }
  },
  {
   "cell_type": "code",
   "execution_count": 21,
   "outputs": [
    {
     "name": "stdout",
     "output_type": "stream",
     "text": [
      "[{'b', 'a'}, {'a', 'c'}]\n"
     ]
    }
   ],
   "source": [
    "class graph:\n",
    "   def __init__(self,gdict=None):\n",
    "      if gdict is None:\n",
    "         gdict = {}\n",
    "      self.gdict = gdict\n",
    "   def edges(self):\n",
    "      return self.findedges()\n",
    "# Add the new edge\n",
    "   def AddEdge(self, edge):\n",
    "      edge = set(edge)\n",
    "      (vrtx1, vrtx2) = tuple(edge)\n",
    "      if vrtx1 in self.gdict:\n",
    "         self.gdict[vrtx1].append(vrtx2)\n",
    "      else:\n",
    "         self.gdict[vrtx1] = [vrtx2]\n",
    "# List the edge names\n",
    "   def findedges(self):\n",
    "      edgename = []\n",
    "      for vrtx in self.gdict:\n",
    "         for nxtvrtx in self.gdict[vrtx]:\n",
    "            if {nxtvrtx, vrtx} not in edgename:\n",
    "                edgename.append({vrtx, nxtvrtx})\n",
    "         return edgename\n",
    "# Create the dictionary with graph elements\n",
    "graph_elements = {\n",
    "   \"a\" : [\"b\",\"c\"],\n",
    "   \"b\" : [\"a\", \"d\"],\n",
    "   \"c\" : [\"a\", \"d\"],\n",
    "   \"d\" : [\"e\"],\n",
    "   \"e\" : [\"d\"]\n",
    "}\n",
    "g = graph(graph_elements)\n",
    "g.AddEdge({'a','e'})\n",
    "g.AddEdge({'a','c'})\n",
    "print(g.edges())"
   ],
   "metadata": {
    "collapsed": false,
    "pycharm": {
     "name": "#%%\n"
    }
   }
  },
  {
   "cell_type": "markdown",
   "source": [
    "# Matrix"
   ],
   "metadata": {
    "collapsed": false
   }
  },
  {
   "cell_type": "markdown",
   "source": [
    "Matrix is a special case of two dimensional array where each data element is of strictly same size. So every matrix is also a two dimensional array but not vice versa.\n",
    "\n",
    "Matrices are very important data structures for many mathematical and scientific calculations. As we have already discussed two dimnsional array data structure in the previous chapter we will be focusing on data structure operations specific to matrices in this chapter.\n",
    "\n",
    "We also be using the numpy package for matrix data manipulation.\n",
    "\n",
    "Matrix Example\n",
    "Consider the case of recording temprature for 1 week measured in the morning, mid-day, evening and mid-night. It can be presented as a 7X5 matrix using an array and the reshape method available in numpy."
   ],
   "metadata": {
    "collapsed": false
   }
  },
  {
   "cell_type": "markdown",
   "source": [
    "Matrix Example\n",
    "Consider the case of recording temprature for 1 week measured in the morning, mid-day, evening and mid-night. It can be presented as a 7X5 matrix using an array and the reshape method available in numpy."
   ],
   "metadata": {
    "collapsed": false
   }
  },
  {
   "cell_type": "code",
   "execution_count": 22,
   "outputs": [
    {
     "name": "stdout",
     "output_type": "stream",
     "text": [
      "[['Mon' '18' '20' '22' '17']\n",
      " ['Tue' '11' '18' '21' '18']\n",
      " ['Wed' '15' '21' '20' '19']\n",
      " ['Thu' '11' '20' '22' '21']\n",
      " ['Fri' '18' '17' '23' '22']\n",
      " ['Sat' '12' '22' '20' '18']\n",
      " ['Sun' '13' '15' '19' '16']]\n"
     ]
    }
   ],
   "source": [
    "from numpy import *\n",
    "a = array([['Mon',18,20,22,17],['Tue',11,18,21,18],\n",
    "   ['Wed',15,21,20,19],['Thu',11,20,22,21],\n",
    "   ['Fri',18,17,23,22],['Sat',12,22,20,18],\n",
    "   ['Sun',13,15,19,16]])\n",
    "m = reshape(a,(7,5))\n",
    "print(m)"
   ],
   "metadata": {
    "collapsed": false,
    "pycharm": {
     "name": "#%%\n"
    }
   }
  },
  {
   "cell_type": "code",
   "execution_count": 24,
   "outputs": [
    {
     "name": "stdout",
     "output_type": "stream",
     "text": [
      "[['Mon' '18' '20' '22' '17']\n",
      " ['Tue' '11' '18' '21' '18']\n",
      " ['Wed' '15' '21' '20' '19']\n",
      " ['Thu' '11' '20' '22' '21']\n",
      " ['Fri' '18' '17' '23' '22']\n",
      " ['Sat' '12' '22' '20' '18']\n",
      " ['Sun' '13' '15' '19' '16']\n",
      " ['Avg' '12' '15' '13' '11']]\n"
     ]
    }
   ],
   "source": [
    "# Adding a row\n",
    "m_r = append(m,[['Avg',12,15,13,11]],0)\n",
    "\n",
    "print(m_r)"
   ],
   "metadata": {
    "collapsed": false,
    "pycharm": {
     "name": "#%%\n"
    }
   }
  },
  {
   "cell_type": "code",
   "execution_count": 25,
   "outputs": [
    {
     "name": "stdout",
     "output_type": "stream",
     "text": [
      "[['Mon' '18' '20' '22' '17' '1']\n",
      " ['Tue' '11' '18' '21' '18' '2']\n",
      " ['Wed' '15' '21' '20' '19' '3']\n",
      " ['Thu' '11' '20' '22' '21' '4']\n",
      " ['Fri' '18' '17' '23' '22' '5']\n",
      " ['Sat' '12' '22' '20' '18' '6']\n",
      " ['Sun' '13' '15' '19' '16' '7']]\n"
     ]
    }
   ],
   "source": [
    "# Adding a column\n",
    "m_c = insert(m,[5],[[1],[2],[3],[4],[5],[6],[7]],1)\n",
    "print(m_c)"
   ],
   "metadata": {
    "collapsed": false,
    "pycharm": {
     "name": "#%%\n"
    }
   }
  },
  {
   "cell_type": "code",
   "execution_count": 26,
   "outputs": [],
   "source": [
    "# delete  a row\n",
    "m = delete(m,[2],0)"
   ],
   "metadata": {
    "collapsed": false,
    "pycharm": {
     "name": "#%%\n"
    }
   }
  },
  {
   "cell_type": "code",
   "execution_count": 27,
   "outputs": [
    {
     "data": {
      "text/plain": "array([['Mon', '18', '20', '22', '17'],\n       ['Tue', '11', '18', '21', '18'],\n       ['Thu', '11', '20', '22', '21'],\n       ['Fri', '18', '17', '23', '22'],\n       ['Sat', '12', '22', '20', '18'],\n       ['Sun', '13', '15', '19', '16']], dtype='<U21')"
     },
     "execution_count": 27,
     "metadata": {},
     "output_type": "execute_result"
    }
   ],
   "source": [
    "m"
   ],
   "metadata": {
    "collapsed": false,
    "pycharm": {
     "name": "#%%\n"
    }
   }
  },
  {
   "cell_type": "code",
   "execution_count": 28,
   "outputs": [
    {
     "name": "stdout",
     "output_type": "stream",
     "text": [
      "[['Mon' '18' '20' '22' '17']\n",
      " ['Tue' '11' '18' '21' '18']\n",
      " ['Thu' '11' '20' '22' '21']\n",
      " ['Thu' '0' '0' '0' '0']\n",
      " ['Sat' '12' '22' '20' '18']\n",
      " ['Sun' '13' '15' '19' '16']]\n"
     ]
    }
   ],
   "source": [
    "# Update a row\n",
    "m[3] = ['Thu',0,0,0,0]\n",
    "\n",
    "print(m)"
   ],
   "metadata": {
    "collapsed": false,
    "pycharm": {
     "name": "#%%\n"
    }
   }
  },
  {
   "cell_type": "markdown",
   "source": [
    "# Maps"
   ],
   "metadata": {
    "collapsed": false
   }
  },
  {
   "cell_type": "markdown",
   "source": [
    "Python Maps also called ChainMap is a type of data structure to manage multiple dictionaries together as one unit. The combined dictionary contains the key and value pairs in a specific sequence eliminating any duplicate keys. The best use of ChainMap is to search through multiple dictionaries at a time and get the proper key-value pair mapping. We also see that these ChainMaps behave as stack data structure."
   ],
   "metadata": {
    "collapsed": false
   }
  },
  {
   "cell_type": "markdown",
   "source": [
    "Creating a ChainMap\n",
    "We create two dictionaries and club them using the ChainMap method from the collections library. Then we print the keys and values of the result of the combination of the dictionaries. If there are duplicate keys, then only the value from the first key is preserved."
   ],
   "metadata": {
    "collapsed": false
   }
  },
  {
   "cell_type": "code",
   "execution_count": 1,
   "outputs": [],
   "source": [
    "import collections\n",
    "\n",
    "dict1 = {'day1': 'Mon', 'day2': 'Tue'}\n",
    "dict2 = {'day3': 'Wed', 'day1': 'Thu'}"
   ],
   "metadata": {
    "collapsed": false,
    "pycharm": {
     "name": "#%%\n"
    }
   }
  },
  {
   "cell_type": "code",
   "execution_count": 3,
   "outputs": [
    {
     "name": "stdout",
     "output_type": "stream",
     "text": [
      "[{'day1': 'Mon', 'day2': 'Tue'}, {'day3': 'Wed', 'day1': 'Thu'}] \n",
      "\n"
     ]
    }
   ],
   "source": [
    "res = collections.ChainMap(dict1, dict2)\n",
    "print(res.maps,'\\n')"
   ],
   "metadata": {
    "collapsed": false,
    "pycharm": {
     "name": "#%%\n"
    }
   }
  },
  {
   "cell_type": "code",
   "execution_count": 4,
   "outputs": [
    {
     "name": "stdout",
     "output_type": "stream",
     "text": [
      "Keys = ['day3', 'day1', 'day2']\n",
      "Values = ['Wed', 'Mon', 'Tue']\n"
     ]
    }
   ],
   "source": [
    "print('Keys = {}'.format(list(res.keys())))\n",
    "print('Values = {}'.format(list(res.values())))"
   ],
   "metadata": {
    "collapsed": false,
    "pycharm": {
     "name": "#%%\n"
    }
   }
  },
  {
   "cell_type": "code",
   "execution_count": 5,
   "outputs": [
    {
     "name": "stdout",
     "output_type": "stream",
     "text": [
      "day3 = Wed\n",
      "day1 = Mon\n",
      "day2 = Tue\n",
      "\n"
     ]
    }
   ],
   "source": [
    "for key, val in res.items():\n",
    "   print('{} = {}'.format(key, val))\n",
    "print()"
   ],
   "metadata": {
    "collapsed": false,
    "pycharm": {
     "name": "#%%\n"
    }
   }
  },
  {
   "cell_type": "markdown",
   "source": [
    "Map Reordering\n",
    "If we change the order the dictionaries while clubbing them in the above example we see that the position of the elements get interchanged as if they are in a continuous chain. This again shows the behavior of Maps as stacks"
   ],
   "metadata": {
    "collapsed": false
   }
  },
  {
   "cell_type": "code",
   "execution_count": 9,
   "outputs": [
    {
     "name": "stdout",
     "output_type": "stream",
     "text": [
      "[{'day1': 'Mon', 'day2': 'Tue'}, {'day3': 'Wed', 'day1': 'Thu'}] \n",
      "\n",
      "[{'day3': 'Wed', 'day1': 'Thu'}, {'day1': 'Mon', 'day2': 'Tue'}] \n",
      " ['Thu', 'Tue', 'Wed']\n"
     ]
    }
   ],
   "source": [
    "import collections\n",
    "\n",
    "dict1 = {'day1': 'Mon', 'day2': 'Tue'}\n",
    "dict2 = {'day3': 'Wed', 'day1': 'Thu'}\n",
    "\n",
    "res1 = collections.ChainMap(dict1, dict2)\n",
    "print(res1.maps,'\\n')\n",
    "\n",
    "res2 = collections.ChainMap(dict2, dict1)\n",
    "print(res2.maps,'\\n', list(res2.values()))"
   ],
   "metadata": {
    "collapsed": false,
    "pycharm": {
     "name": "#%%\n"
    }
   }
  },
  {
   "cell_type": "markdown",
   "source": [
    "Update\n"
   ],
   "metadata": {
    "collapsed": false
   }
  },
  {
   "cell_type": "code",
   "execution_count": 6,
   "outputs": [
    {
     "name": "stdout",
     "output_type": "stream",
     "text": [
      "[{'day1': 'Mon', 'day2': 'Tue'}, {'day3': 'Wed', 'day4': 'Thu'}] \n",
      "\n",
      "[{'day1': 'Mon', 'day2': 'Tue'}, {'day3': 'Wed', 'day4': 'Fri'}] \n",
      "\n"
     ]
    }
   ],
   "source": [
    "import collections\n",
    "\n",
    "dict1 = {'day1': 'Mon', 'day2': 'Tue'}\n",
    "dict2 = {'day3': 'Wed', 'day4': 'Thu'}\n",
    "\n",
    "res = collections.ChainMap(dict1, dict2)\n",
    "print(res.maps,'\\n')\n",
    "\n",
    "dict2['day4'] = 'Fri'\n",
    "print(res.maps,'\\n')"
   ],
   "metadata": {
    "collapsed": false,
    "pycharm": {
     "name": "#%%\n"
    }
   }
  },
  {
   "cell_type": "markdown",
   "source": [
    "\n",
    "# python queue module\n",
    "\n",
    "The queue module defines the following four different types of queues, the difference between them lies in the order in which data is queued after being queued\n",
    "\n",
    "1.1\n",
    "First In First Out (FIFO) queue, the data that enters the queue first has the priority to go out of the queue, just like queuing up when watching a movie, the one at the front of the queue enters the cinema first. The input parameter maxsize is an integer used to set the maximum length of the queue. Once the queue reaches the upper limit, inserting data will be blocked until there is data out of the queue before continuing to insert. If maxsize is set to less than or equal to zero, there is no limit to the length of the queue\n"
   ],
   "metadata": {
    "collapsed": false
   }
  },
  {
   "cell_type": "code",
   "execution_count": 13,
   "outputs": [
    {
     "name": "stdout",
     "output_type": "stream",
     "text": [
      "0\n",
      "1\n",
      "2\n"
     ]
    }
   ],
   "source": [
    "import queue\n",
    "\n",
    "q = queue.Queue()\n",
    "\n",
    "for i in range(3):\n",
    "    q.put(i)\n",
    "\n",
    "for i in range(3):\n",
    "    print(q.get())\n",
    "# print(q.get())"
   ],
   "metadata": {
    "collapsed": false,
    "pycharm": {
     "name": "#%%\n"
    }
   }
  },
  {
   "cell_type": "markdown",
   "source": [
    "1.2 queue.LifoQueue(maxsize=0)\n",
    "\n",
    "Last in first out (Last In First Out: LIFO) queue, the data that enters the queue last has the priority of being out of the queue, just like a stack. The input parameter maxsize is the same as the definition of the FIFO queue.\n",
    "\n"
   ],
   "metadata": {
    "collapsed": false
   }
  },
  {
   "cell_type": "code",
   "execution_count": 14,
   "outputs": [
    {
     "name": "stdout",
     "output_type": "stream",
     "text": [
      "2\n",
      "1\n",
      "0\n"
     ]
    }
   ],
   "source": [
    "import queue\n",
    "q = queue.LifoQueue()\n",
    "\n",
    "for i in range(3):\n",
    "    q.put(i)\n",
    "for i in range(3):\n",
    "    print(q.get())"
   ],
   "metadata": {
    "collapsed": false,
    "pycharm": {
     "name": "#%%\n"
    }
   }
  },
  {
   "cell_type": "markdown",
   "source": [
    "1.3 PriorityQueue(maxsize=0)\n",
    "\n",
    "Priority queue, compare the size of each data in the queue, the data with the smallest value has the priority to be out of the queue. Data is generally inserted as a tuple, typically in the form (priority_number, data). If the data in the queue is not comparable, the data will be wrapped in a class, ignoring the data value and just comparing the priority numbers. The input parameter maxsize is the same as the definition of the first-in first-out queue"
   ],
   "metadata": {
    "collapsed": false
   }
  },
  {
   "cell_type": "code",
   "execution_count": 15,
   "outputs": [
    {
     "name": "stdout",
     "output_type": "stream",
     "text": [
      "(1, 'python')\n",
      "(2, '-')\n",
      "(3, '100')\n"
     ]
    }
   ],
   "source": [
    "import queue\n",
    "q = queue.PriorityQueue()\n",
    "data1 = (1, 'python')\n",
    "data2 = (2, '-')\n",
    "data3 = (3, '100')\n",
    "\n",
    "style = (data2, data3, data1)\n",
    "for i in style:\n",
    "    q.put(i)\n",
    "for i in range(3):\n",
    "    print(q.get())"
   ],
   "metadata": {
    "collapsed": false,
    "pycharm": {
     "name": "#%%\n"
    }
   }
  },
  {
   "cell_type": "markdown",
   "source": [
    "1.4 queue. SimpleQueue\n",
    "\n",
    "A simple queue of FIFO type with no size limit. Since it is a simple queue, it lacks some advanced features compared to Queue"
   ],
   "metadata": {
    "collapsed": false
   }
  },
  {
   "cell_type": "code",
   "execution_count": 16,
   "outputs": [
    {
     "name": "stdout",
     "output_type": "stream",
     "text": [
      "0\n",
      "1\n",
      "2\n"
     ]
    }
   ],
   "source": [
    "import queue\n",
    "q = queue.SimpleQueue()  #\n",
    "for i in range(3):\n",
    "    q.put(i)\n",
    "for i in range(3):\n",
    "    print(q.get())"
   ],
   "metadata": {
    "collapsed": false,
    "pycharm": {
     "name": "#%%\n"
    }
   }
  },
  {
   "cell_type": "markdown",
   "source": [
    "1.5 queue.Empty exception\n",
    "\n",
    "when there are no data elements in the queue, taking out the data in the queue will cause a queue.Empty exception, mainly caused by improper use of get() and get_nowait()."
   ],
   "metadata": {
    "collapsed": false
   }
  },
  {
   "cell_type": "code",
   "source": [
    "\n",
    "import queue\n",
    "try:\n",
    "    q = queue.Queue(3)  #\n",
    "    q.put('python')  #\n",
    "    q.put('-') #\n",
    "    q.put('100') #\n",
    "    for i in range(4):  #\n",
    "        print(q.get(block=False))\n",
    "except queue.Empty:\n",
    "    print('queue.Empty')"
   ],
   "metadata": {
    "collapsed": false,
    "pycharm": {
     "name": "#%%\n"
    }
   },
   "execution_count": 18,
   "outputs": [
    {
     "name": "stdout",
     "output_type": "stream",
     "text": [
      "python\n",
      "-\n",
      "100\n",
      "queue.Empty\n"
     ]
    }
   ]
  },
  {
   "cell_type": "markdown",
   "source": [
    "1.6 queue.Full exception"
   ],
   "metadata": {
    "collapsed": false
   }
  },
  {
   "cell_type": "code",
   "execution_count": 19,
   "outputs": [],
   "source": [
    "\n",
    "import queue\n",
    "try:\n",
    "    q = queue.Queue(3)  #\n",
    "    q.put('python')  #\n",
    "    q.put('-') #\n",
    "    q.put('stay hungry, stay foolish', block=False)  #\n",
    "except queue.Full:\n",
    "    print('queue.Full')"
   ],
   "metadata": {
    "collapsed": false,
    "pycharm": {
     "name": "#%%\n"
    }
   }
  },
  {
   "cell_type": "code",
   "execution_count": 20,
   "outputs": [
    {
     "name": "stdout",
     "output_type": "stream",
     "text": [
      "queue.Empty\n"
     ]
    }
   ],
   "source": [
    "\n",
    "import queue\n",
    "try:\n",
    "    q = queue.Queue()\n",
    "    q.get(block = True, timeout = 5) # 队列为空，往队列中取数据时，等待5秒后会引发 queue.Empty 异常\n",
    "except queue.Empty:\n",
    "    print('queue.Empty')"
   ],
   "metadata": {
    "collapsed": false,
    "pycharm": {
     "name": "#%%\n"
    }
   }
  },
  {
   "cell_type": "markdown",
   "source": [
    "# collections\n",
    "\n",
    "Python's built-in modules provide a lot of convenient and high-performance operations on collections, and mastering this knowledge helps improve the performance and readability of your code.\n"
   ],
   "metadata": {
    "collapsed": false
   }
  },
  {
   "cell_type": "markdown",
   "source": [
    "2. Common functions\n",
    " 2.1 namedtuple function details\n",
    " namedtuple() returns a new tuple subclass, and specifies the number of elements of the tuple, while in addition to using subscripts to get elements, you can also get them directly through attributes."
   ],
   "metadata": {
    "collapsed": false
   }
  },
  {
   "cell_type": "code",
   "execution_count": 21,
   "outputs": [
    {
     "name": "stdout",
     "output_type": "stream",
     "text": [
      "admin admin 20 60\n"
     ]
    }
   ],
   "source": [
    "from collections import namedtuple\n",
    "\n",
    "User = namedtuple(\"User\",[\"name\", \"age\", \"weight\"])\n",
    "user = User(\"admin\", \"20\", \"60\")\n",
    "\n",
    "name, age, weight = user\n",
    "print(user[0], name, age,weight)"
   ],
   "metadata": {
    "collapsed": false,
    "pycharm": {
     "name": "#%%\n"
    }
   }
  },
  {
   "cell_type": "code",
   "execution_count": 22,
   "outputs": [
    {
     "name": "stdout",
     "output_type": "stream",
     "text": [
      "admin 20 60\n"
     ]
    }
   ],
   "source": [
    "print(user.name, user.age,user.weight)"
   ],
   "metadata": {
    "collapsed": false,
    "pycharm": {
     "name": "#%%\n"
    }
   }
  },
  {
   "cell_type": "code",
   "execution_count": 23,
   "outputs": [
    {
     "name": "stdout",
     "output_type": "stream",
     "text": [
      "User(name='root', age=32, weight=65)\n",
      "{'name': 'admin', 'age': 20, 'weight': 60}\n"
     ]
    }
   ],
   "source": [
    "# Converts the sequence directly to a new tuple object\n",
    "\n",
    "user = [\"root\", 32, 65]\n",
    "user = User._make(user)\n",
    "print(user)\n",
    "# print User(name='root', age=32, weight=65)\n",
    "\n",
    "# return a  dict\n",
    "user = User(\"admin\", 20, 60)\n",
    "print(user._asdict())\n",
    "# print OrderedDict([('name', 'admin'), ('age', 20), ('weight', 60)])"
   ],
   "metadata": {
    "collapsed": false,
    "pycharm": {
     "name": "#%%\n"
    }
   }
  },
  {
   "cell_type": "markdown",
   "source": [
    "2.3 deque function details\n",
    "\n",
    "dqueue is short for \"double-ended queue\", which is a list-like container that implements fast append and pop operations at both ends. Greatly speeds up the traversal\n"
   ],
   "metadata": {
    "collapsed": false
   }
  },
  {
   "cell_type": "code",
   "execution_count": 24,
   "outputs": [
    {
     "name": "stdout",
     "output_type": "stream",
     "text": [
      "deque(['0', 1, 2, 3, '4'])\n",
      "0\n"
     ]
    }
   ],
   "source": [
    "from collections import deque\n",
    "\n",
    "q = deque([1,2,3])\n",
    "\n",
    "q.append('4')\n",
    "q.appendleft('0')\n",
    "\n",
    "print(q)\n",
    "print(q.popleft())"
   ],
   "metadata": {
    "collapsed": false,
    "pycharm": {
     "name": "#%%\n"
    }
   }
  },
  {
   "cell_type": "markdown",
   "source": [
    "2.4 Counter function details\n",
    "\n",
    "Counter can be simply understood as a counter, can count the number of occurrences of each element, and Counter() needs to accept an iterable object.\n"
   ],
   "metadata": {
    "collapsed": false
   }
  },
  {
   "cell_type": "code",
   "execution_count": 26,
   "outputs": [
    {
     "name": "stdout",
     "output_type": "stream",
     "text": [
      "Counter({'cat': 3, 'horse': 2, 'dog': 1, 'bird': 1, 'tiger': 1})\n",
      "[('cat', 3), ('horse', 2)]\n"
     ]
    }
   ],
   "source": [
    "\n",
    "from collections import Counter\n",
    "\n",
    "animals = [\"cat\", \"dog\", \"cat\", \"bird\", \"horse\", \"tiger\", \"horse\", \"cat\"]\n",
    "animals_counter = Counter(animals)\n",
    "print(animals_counter)\n",
    "print(animals_counter.most_common(2))"
   ],
   "metadata": {
    "collapsed": false,
    "pycharm": {
     "name": "#%%\n"
    }
   }
  },
  {
   "cell_type": "markdown",
   "source": [
    "2.5 Detailed explanation of OrderedDict\n",
    "\n",
    "function OrderedDict is a subclass of dictionary that guarantees the insertion order of elements. As of version 3.7, dictionaries also guarantee element insertion order. What are the upgrades compared to the built-in dictionary OrderedDict? Algorithmically, OrderedDict can handle frequent reordering operations better than dict . This is useful for tracking recent accesses (eg in the LRU cache). The OrderedDict class has a move_to_end() method that effectively moves elements to either end."
   ],
   "metadata": {
    "collapsed": false
   }
  },
  {
   "cell_type": "code",
   "execution_count": 30,
   "outputs": [
    {
     "name": "stdout",
     "output_type": "stream",
     "text": [
      "OrderedDict([('name', 'admin'), ('age', 23), ('weight', 65)])\n"
     ]
    }
   ],
   "source": [
    "from collections import OrderedDict\n",
    "\n",
    "user = OrderedDict()\n",
    "user[\"name\"] = \"admin\"\n",
    "user[\"age\"] = 23\n",
    "user[\"weight\"] = 65\n",
    "print(user)"
   ],
   "metadata": {
    "collapsed": false,
    "pycharm": {
     "name": "#%%\n"
    }
   }
  },
  {
   "cell_type": "code",
   "execution_count": 31,
   "outputs": [
    {
     "name": "stdout",
     "output_type": "stream",
     "text": [
      "OrderedDict([('age', 23), ('weight', 65), ('name', 'admin')])\n",
      "OrderedDict([('name', 'admin'), ('age', 23), ('weight', 65)])\n"
     ]
    }
   ],
   "source": [
    "user.move_to_end(\"name\") # move the element to the end\n",
    "print(user)\n",
    "user.move_to_end(\"name\", last = False) # move element to the beginning\n",
    "print(user)"
   ],
   "metadata": {
    "collapsed": false,
    "pycharm": {
     "name": "#%%\n"
    }
   }
  },
  {
   "cell_type": "code",
   "execution_count": 41,
   "outputs": [],
   "source": [
    "\n",
    "import os, psutil\n",
    "# 打印当前程序占用的内存大小\n",
    "def print_memory_info(name):\n",
    "    pid = os.getpid()\n",
    "    p = psutil.Process(pid)\n",
    "    info = p.memory_full_info()\n",
    "    MB = 1024 * 1024\n",
    "    memory = info.uss / MB\n",
    "    print('%s used %d MB' % (name, memory))\n",
    "\n",
    "# 测试函数\n",
    "def foo():\n",
    "    print_memory_info(\"foo start\")\n",
    "    length = 1000 * 1000\n",
    "    list = [i for i in range(length)]\n",
    "    print_memory_info(\"foo end\")\n",
    "    print_memory_info(\"main end\")### 输出结果foo start used 6 MBfoo end used 55 MBmain end used 10 MB"
   ],
   "metadata": {
    "collapsed": false,
    "pycharm": {
     "name": "#%%\n"
    }
   }
  },
  {
   "cell_type": "code",
   "execution_count": 43,
   "outputs": [
    {
     "name": "stdout",
     "output_type": "stream",
     "text": [
      "foo start used 2734 MB\n",
      "foo end used 2817 MB\n"
     ]
    },
    {
     "data": {
      "text/plain": "list"
     },
     "execution_count": 43,
     "metadata": {},
     "output_type": "execute_result"
    }
   ],
   "source": [
    "\n",
    "def foo():\n",
    "    print_memory_info(\"foo start\")\n",
    "    length = 1000 * 1000\n",
    "    list_a = [i for i in range(length)]\n",
    "    list_b = [i for i in range(length)]\n",
    "    list_a.append(list_b)\n",
    "    list_b.append(list_a)\n",
    "    print_memory_info(\"foo end\")\n",
    "    return list\n",
    "foo()"
   ],
   "metadata": {
    "collapsed": false,
    "pycharm": {
     "name": "#%%\n"
    }
   }
  },
  {
   "cell_type": "code",
   "execution_count": 46,
   "outputs": [],
   "source": [
    "\n",
    "def foo():\n",
    "    print_memory_info(\"foo start\")\n",
    "    length = 1000 * 1000\n",
    "    list = [i for i in range(length)]\n",
    "    print_memory_info(\"foo end\")\n",
    "    return list"
   ],
   "metadata": {
    "collapsed": false,
    "pycharm": {
     "name": "#%%\n"
    }
   }
  },
  {
   "cell_type": "code",
   "execution_count": 47,
   "outputs": [
    {
     "name": "stdout",
     "output_type": "stream",
     "text": [
      "foo start used 2740 MB\n",
      "foo end used 2771 MB\n"
     ]
    },
    {
     "data": {
      "text/plain": "[0,\n 1,\n 2,\n 3,\n 4,\n 5,\n 6,\n 7,\n 8,\n 9,\n 10,\n 11,\n 12,\n 13,\n 14,\n 15,\n 16,\n 17,\n 18,\n 19,\n 20,\n 21,\n 22,\n 23,\n 24,\n 25,\n 26,\n 27,\n 28,\n 29,\n 30,\n 31,\n 32,\n 33,\n 34,\n 35,\n 36,\n 37,\n 38,\n 39,\n 40,\n 41,\n 42,\n 43,\n 44,\n 45,\n 46,\n 47,\n 48,\n 49,\n 50,\n 51,\n 52,\n 53,\n 54,\n 55,\n 56,\n 57,\n 58,\n 59,\n 60,\n 61,\n 62,\n 63,\n 64,\n 65,\n 66,\n 67,\n 68,\n 69,\n 70,\n 71,\n 72,\n 73,\n 74,\n 75,\n 76,\n 77,\n 78,\n 79,\n 80,\n 81,\n 82,\n 83,\n 84,\n 85,\n 86,\n 87,\n 88,\n 89,\n 90,\n 91,\n 92,\n 93,\n 94,\n 95,\n 96,\n 97,\n 98,\n 99,\n 100,\n 101,\n 102,\n 103,\n 104,\n 105,\n 106,\n 107,\n 108,\n 109,\n 110,\n 111,\n 112,\n 113,\n 114,\n 115,\n 116,\n 117,\n 118,\n 119,\n 120,\n 121,\n 122,\n 123,\n 124,\n 125,\n 126,\n 127,\n 128,\n 129,\n 130,\n 131,\n 132,\n 133,\n 134,\n 135,\n 136,\n 137,\n 138,\n 139,\n 140,\n 141,\n 142,\n 143,\n 144,\n 145,\n 146,\n 147,\n 148,\n 149,\n 150,\n 151,\n 152,\n 153,\n 154,\n 155,\n 156,\n 157,\n 158,\n 159,\n 160,\n 161,\n 162,\n 163,\n 164,\n 165,\n 166,\n 167,\n 168,\n 169,\n 170,\n 171,\n 172,\n 173,\n 174,\n 175,\n 176,\n 177,\n 178,\n 179,\n 180,\n 181,\n 182,\n 183,\n 184,\n 185,\n 186,\n 187,\n 188,\n 189,\n 190,\n 191,\n 192,\n 193,\n 194,\n 195,\n 196,\n 197,\n 198,\n 199,\n 200,\n 201,\n 202,\n 203,\n 204,\n 205,\n 206,\n 207,\n 208,\n 209,\n 210,\n 211,\n 212,\n 213,\n 214,\n 215,\n 216,\n 217,\n 218,\n 219,\n 220,\n 221,\n 222,\n 223,\n 224,\n 225,\n 226,\n 227,\n 228,\n 229,\n 230,\n 231,\n 232,\n 233,\n 234,\n 235,\n 236,\n 237,\n 238,\n 239,\n 240,\n 241,\n 242,\n 243,\n 244,\n 245,\n 246,\n 247,\n 248,\n 249,\n 250,\n 251,\n 252,\n 253,\n 254,\n 255,\n 256,\n 257,\n 258,\n 259,\n 260,\n 261,\n 262,\n 263,\n 264,\n 265,\n 266,\n 267,\n 268,\n 269,\n 270,\n 271,\n 272,\n 273,\n 274,\n 275,\n 276,\n 277,\n 278,\n 279,\n 280,\n 281,\n 282,\n 283,\n 284,\n 285,\n 286,\n 287,\n 288,\n 289,\n 290,\n 291,\n 292,\n 293,\n 294,\n 295,\n 296,\n 297,\n 298,\n 299,\n 300,\n 301,\n 302,\n 303,\n 304,\n 305,\n 306,\n 307,\n 308,\n 309,\n 310,\n 311,\n 312,\n 313,\n 314,\n 315,\n 316,\n 317,\n 318,\n 319,\n 320,\n 321,\n 322,\n 323,\n 324,\n 325,\n 326,\n 327,\n 328,\n 329,\n 330,\n 331,\n 332,\n 333,\n 334,\n 335,\n 336,\n 337,\n 338,\n 339,\n 340,\n 341,\n 342,\n 343,\n 344,\n 345,\n 346,\n 347,\n 348,\n 349,\n 350,\n 351,\n 352,\n 353,\n 354,\n 355,\n 356,\n 357,\n 358,\n 359,\n 360,\n 361,\n 362,\n 363,\n 364,\n 365,\n 366,\n 367,\n 368,\n 369,\n 370,\n 371,\n 372,\n 373,\n 374,\n 375,\n 376,\n 377,\n 378,\n 379,\n 380,\n 381,\n 382,\n 383,\n 384,\n 385,\n 386,\n 387,\n 388,\n 389,\n 390,\n 391,\n 392,\n 393,\n 394,\n 395,\n 396,\n 397,\n 398,\n 399,\n 400,\n 401,\n 402,\n 403,\n 404,\n 405,\n 406,\n 407,\n 408,\n 409,\n 410,\n 411,\n 412,\n 413,\n 414,\n 415,\n 416,\n 417,\n 418,\n 419,\n 420,\n 421,\n 422,\n 423,\n 424,\n 425,\n 426,\n 427,\n 428,\n 429,\n 430,\n 431,\n 432,\n 433,\n 434,\n 435,\n 436,\n 437,\n 438,\n 439,\n 440,\n 441,\n 442,\n 443,\n 444,\n 445,\n 446,\n 447,\n 448,\n 449,\n 450,\n 451,\n 452,\n 453,\n 454,\n 455,\n 456,\n 457,\n 458,\n 459,\n 460,\n 461,\n 462,\n 463,\n 464,\n 465,\n 466,\n 467,\n 468,\n 469,\n 470,\n 471,\n 472,\n 473,\n 474,\n 475,\n 476,\n 477,\n 478,\n 479,\n 480,\n 481,\n 482,\n 483,\n 484,\n 485,\n 486,\n 487,\n 488,\n 489,\n 490,\n 491,\n 492,\n 493,\n 494,\n 495,\n 496,\n 497,\n 498,\n 499,\n 500,\n 501,\n 502,\n 503,\n 504,\n 505,\n 506,\n 507,\n 508,\n 509,\n 510,\n 511,\n 512,\n 513,\n 514,\n 515,\n 516,\n 517,\n 518,\n 519,\n 520,\n 521,\n 522,\n 523,\n 524,\n 525,\n 526,\n 527,\n 528,\n 529,\n 530,\n 531,\n 532,\n 533,\n 534,\n 535,\n 536,\n 537,\n 538,\n 539,\n 540,\n 541,\n 542,\n 543,\n 544,\n 545,\n 546,\n 547,\n 548,\n 549,\n 550,\n 551,\n 552,\n 553,\n 554,\n 555,\n 556,\n 557,\n 558,\n 559,\n 560,\n 561,\n 562,\n 563,\n 564,\n 565,\n 566,\n 567,\n 568,\n 569,\n 570,\n 571,\n 572,\n 573,\n 574,\n 575,\n 576,\n 577,\n 578,\n 579,\n 580,\n 581,\n 582,\n 583,\n 584,\n 585,\n 586,\n 587,\n 588,\n 589,\n 590,\n 591,\n 592,\n 593,\n 594,\n 595,\n 596,\n 597,\n 598,\n 599,\n 600,\n 601,\n 602,\n 603,\n 604,\n 605,\n 606,\n 607,\n 608,\n 609,\n 610,\n 611,\n 612,\n 613,\n 614,\n 615,\n 616,\n 617,\n 618,\n 619,\n 620,\n 621,\n 622,\n 623,\n 624,\n 625,\n 626,\n 627,\n 628,\n 629,\n 630,\n 631,\n 632,\n 633,\n 634,\n 635,\n 636,\n 637,\n 638,\n 639,\n 640,\n 641,\n 642,\n 643,\n 644,\n 645,\n 646,\n 647,\n 648,\n 649,\n 650,\n 651,\n 652,\n 653,\n 654,\n 655,\n 656,\n 657,\n 658,\n 659,\n 660,\n 661,\n 662,\n 663,\n 664,\n 665,\n 666,\n 667,\n 668,\n 669,\n 670,\n 671,\n 672,\n 673,\n 674,\n 675,\n 676,\n 677,\n 678,\n 679,\n 680,\n 681,\n 682,\n 683,\n 684,\n 685,\n 686,\n 687,\n 688,\n 689,\n 690,\n 691,\n 692,\n 693,\n 694,\n 695,\n 696,\n 697,\n 698,\n 699,\n 700,\n 701,\n 702,\n 703,\n 704,\n 705,\n 706,\n 707,\n 708,\n 709,\n 710,\n 711,\n 712,\n 713,\n 714,\n 715,\n 716,\n 717,\n 718,\n 719,\n 720,\n 721,\n 722,\n 723,\n 724,\n 725,\n 726,\n 727,\n 728,\n 729,\n 730,\n 731,\n 732,\n 733,\n 734,\n 735,\n 736,\n 737,\n 738,\n 739,\n 740,\n 741,\n 742,\n 743,\n 744,\n 745,\n 746,\n 747,\n 748,\n 749,\n 750,\n 751,\n 752,\n 753,\n 754,\n 755,\n 756,\n 757,\n 758,\n 759,\n 760,\n 761,\n 762,\n 763,\n 764,\n 765,\n 766,\n 767,\n 768,\n 769,\n 770,\n 771,\n 772,\n 773,\n 774,\n 775,\n 776,\n 777,\n 778,\n 779,\n 780,\n 781,\n 782,\n 783,\n 784,\n 785,\n 786,\n 787,\n 788,\n 789,\n 790,\n 791,\n 792,\n 793,\n 794,\n 795,\n 796,\n 797,\n 798,\n 799,\n 800,\n 801,\n 802,\n 803,\n 804,\n 805,\n 806,\n 807,\n 808,\n 809,\n 810,\n 811,\n 812,\n 813,\n 814,\n 815,\n 816,\n 817,\n 818,\n 819,\n 820,\n 821,\n 822,\n 823,\n 824,\n 825,\n 826,\n 827,\n 828,\n 829,\n 830,\n 831,\n 832,\n 833,\n 834,\n 835,\n 836,\n 837,\n 838,\n 839,\n 840,\n 841,\n 842,\n 843,\n 844,\n 845,\n 846,\n 847,\n 848,\n 849,\n 850,\n 851,\n 852,\n 853,\n 854,\n 855,\n 856,\n 857,\n 858,\n 859,\n 860,\n 861,\n 862,\n 863,\n 864,\n 865,\n 866,\n 867,\n 868,\n 869,\n 870,\n 871,\n 872,\n 873,\n 874,\n 875,\n 876,\n 877,\n 878,\n 879,\n 880,\n 881,\n 882,\n 883,\n 884,\n 885,\n 886,\n 887,\n 888,\n 889,\n 890,\n 891,\n 892,\n 893,\n 894,\n 895,\n 896,\n 897,\n 898,\n 899,\n 900,\n 901,\n 902,\n 903,\n 904,\n 905,\n 906,\n 907,\n 908,\n 909,\n 910,\n 911,\n 912,\n 913,\n 914,\n 915,\n 916,\n 917,\n 918,\n 919,\n 920,\n 921,\n 922,\n 923,\n 924,\n 925,\n 926,\n 927,\n 928,\n 929,\n 930,\n 931,\n 932,\n 933,\n 934,\n 935,\n 936,\n 937,\n 938,\n 939,\n 940,\n 941,\n 942,\n 943,\n 944,\n 945,\n 946,\n 947,\n 948,\n 949,\n 950,\n 951,\n 952,\n 953,\n 954,\n 955,\n 956,\n 957,\n 958,\n 959,\n 960,\n 961,\n 962,\n 963,\n 964,\n 965,\n 966,\n 967,\n 968,\n 969,\n 970,\n 971,\n 972,\n 973,\n 974,\n 975,\n 976,\n 977,\n 978,\n 979,\n 980,\n 981,\n 982,\n 983,\n 984,\n 985,\n 986,\n 987,\n 988,\n 989,\n 990,\n 991,\n 992,\n 993,\n 994,\n 995,\n 996,\n 997,\n 998,\n 999,\n ...]"
     },
     "execution_count": 47,
     "metadata": {},
     "output_type": "execute_result"
    }
   ],
   "source": [
    "foo()"
   ],
   "metadata": {
    "collapsed": false,
    "pycharm": {
     "name": "#%%\n"
    }
   }
  },
  {
   "cell_type": "code",
   "execution_count": 44,
   "outputs": [
    {
     "name": "stdout",
     "output_type": "stream",
     "text": [
      "Garbage collection thresholds: (700, 10, 10)\n"
     ]
    }
   ],
   "source": [
    "\n",
    "# loading gc\n",
    "import gc\n",
    "\n",
    "# get the current collection\n",
    "# thresholds as a tuple\n",
    "print(\"Garbage collection thresholds:\",\n",
    "                    gc.get_threshold())"
   ],
   "metadata": {
    "collapsed": false,
    "pycharm": {
     "name": "#%%\n"
    }
   }
  },
  {
   "cell_type": "code",
   "execution_count": 45,
   "outputs": [
    {
     "name": "stdout",
     "output_type": "stream",
     "text": [
      "Garbage collector: collected 90 objects.\n"
     ]
    }
   ],
   "source": [
    "\n",
    "# Importing gc module\n",
    "import gc\n",
    "\n",
    "# Returns the number of\n",
    "# objects it has collected\n",
    "# and deallocated\n",
    "collected = gc.collect()\n",
    "\n",
    "# Prints Garbage collector\n",
    "# as 0 object\n",
    "print(\"Garbage collector: collected\",\n",
    "          \"%d objects.\" % collected)"
   ],
   "metadata": {
    "collapsed": false,
    "pycharm": {
     "name": "#%%\n"
    }
   }
  }
 ],
 "metadata": {
  "interpreter": {
   "hash": "90530115b0fc1967bcca638ed1474a41d3fb7ba0906789120a5cbacdea810315"
  },
  "kernelspec": {
   "display_name": "Python 3",
   "language": "python",
   "name": "python3"
  },
  "orig_nbformat": 4
 },
 "nbformat": 4,
 "nbformat_minor": 2
}
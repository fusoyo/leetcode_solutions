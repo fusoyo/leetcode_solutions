{
 "cells": [
  {
   "cell_type": "markdown",
   "metadata": {},
   "source": [
    " # TREE\n",
    "Serialization is the process of converting a data structure or object into a sequence of bits so that it can be stored in a file or memory buffer, or transmitted across a network connection link to be reconstructed later in the same or another computer environment.Design an algorithm to serialize and deserialize a binary tree. There is no restriction on how your serialization/deserialization algorithm should work. You just need to ensure that a binary tree can be serialized to a string and this string can be deserialized to the original tree structure.For example, you may serialize the following tree\n",
    "\n"
   ]
  },
  {
   "cell_type": "markdown",
   "metadata": {},
   "source": [
    "# leetcode 297 \n",
    "\n",
    "Serialization is the process of converting a data structure or object into a sequence of bits so that it can be stored in a file or memory buffer, or transmitted across a network connection link to be reconstructed later in the same or another computer environment.\n",
    "\n",
    "Design an algorithm to serialize and deserialize a binary tree. There is no restriction on how your serialization/deserialization algorithm should work. You just need to ensure that a binary tree can be serialized to a string and this string can be deserialized to the original tree structure.\n",
    "\n",
    "Clarification: The input/output format is the same as how LeetCode serializes a binary tree. You do not necessarily need to follow this format, so please be creative and come up with different approaches yourself.\n",
    "URL:https://leetcode.com/problems/serialize-and-deserialize-binary-tree/\n"
   ]
  },
  {
   "cell_type": "code",
   "execution_count": null,
   "metadata": {},
   "outputs": [],
   "source": [
    "# Definition for a binary tree node.\n",
    "# class TreeNode(object):\n",
    "#     def __init__(self, x):\n",
    "#         self.val = x\n",
    "#         self.left = None\n",
    "#         self.right = None\n",
    "import collections\n",
    "class Codec:\n",
    "    def __init__(self):\n",
    "        self.serialized_array = \"\"\n",
    "\n",
    "        \n",
    "\n",
    "    def serialize(self, root):\n",
    "        \"\"\"Encodes a tree to a single string.\n",
    "        \n",
    "        :type root: TreeNode\n",
    "        :rtype: str\n",
    "        \"\"\"\n",
    "\n",
    "        self.helper(root)\n",
    "        return self.serialized_array\n",
    "        \n",
    "    def helper(self, root):\n",
    "        if root == None:\n",
    "            self.serialized_array += '#,'\n",
    "            return\n",
    "        self.serialized_array += str(root.val)+','\n",
    "        self.serialize(root.left) # from the left sub tree\n",
    "        self.serialize(root.right)  # from the right sub tree\n",
    "        \n",
    "    def deserialize(self, data, pos=0):\n",
    "        q = collections.deque(data.split(\",\"))\n",
    "        q.pop()\n",
    "        stack = []\n",
    "        head = None\n",
    "        right = False\n",
    "        while q:\n",
    "            u = q.popleft()\n",
    "            if not head:\n",
    "                if u == \"#\":\n",
    "                    return\n",
    "                head = TreeNode(u)\n",
    "                stack.append(head)\n",
    "                trav = head\n",
    "            else:\n",
    "                if u != \"#\":\n",
    "                    # from left\n",
    "                    node = TreeNode(u)\n",
    "                    if not right:\n",
    "                        trav.left = node\n",
    "                    # to right\n",
    "                    else:\n",
    "                        trav.right = node\n",
    "                        right = False\n",
    "                    stack.append(node)\n",
    "                    trav = node\n",
    "                else:\n",
    "                    if stack:\n",
    "                        trav = stack.pop()\n",
    "                        right = True\n",
    "        if head:\n",
    "            return head\n",
    "        \n",
    "\n",
    "\n",
    "        \n",
    "\n",
    "# Your Codec object will be instantiated and called as such:\n",
    "# ser = Codec()\n",
    "# deser = Codec()\n",
    "# ans = deser.deserialize(ser.serialize(root))"
   ]
  },
  {
   "cell_type": "markdown",
   "metadata": {},
   "source": []
  },
  {
   "cell_type": "markdown",
   "metadata": {},
   "source": [
    "## Symmetric Tree"
   ]
  },
  {
   "cell_type": "code",
   "execution_count": null,
   "metadata": {},
   "outputs": [],
   "source": [
    "def are_symmetric(root1, root2):\n",
    "    if root1 is None and root2 is None:\n",
    "        return True\n",
    "    elif ((root1 is None) != (root2 is None)) or (root1.val != root2.val):\n",
    "        return False\n",
    "    else:\n",
    "        return     are_symmetric(root1.left,root2.right) and  are_symmetric(root1.right,root2.left)\n",
    "\n",
    "def is_symmtreic(root):\n",
    "    if root is None:\n",
    "        return True\n",
    "    return are_symmetric(root.left,root.right)\n"
   ]
  },
  {
   "cell_type": "markdown",
   "metadata": {},
   "source": [
    "# Generate Parenthesis "
   ]
  },
  {
   "cell_type": "code",
   "execution_count": 12,
   "metadata": {},
   "outputs": [],
   "source": [
    "def generate(n):\n",
    "    def rec(n,diff,comb,combs):\n",
    "        print(comb, combs,n,diff)\n",
    "        if diff< 0 or diff>n:\n",
    "            \n",
    "            return \n",
    "        \n",
    "        elif n == 0:\n",
    "            if diff ==0:\n",
    "                combs.append(''.join(comb))\n",
    "        else: \n",
    "            print(n,diff)\n",
    "            comb.append('(')\n",
    "            rec(n-1,diff+1,comb,combs)\n",
    "            comb.pop()\n",
    "            comb.append(')')\n",
    "            rec(n-1,diff-1,comb,combs)\n",
    "            comb.pop()\n",
    "    combs = [] \n",
    "    rec(2*n,0,[],combs)\n",
    "    return combs"
   ]
  },
  {
   "cell_type": "code",
   "execution_count": 13,
   "metadata": {},
   "outputs": [
    {
     "name": "stdout",
     "output_type": "stream",
     "text": [
      "[] [] 4 0\n",
      "4 0\n",
      "['('] [] 3 1\n",
      "3 1\n",
      "['(', '('] [] 2 2\n",
      "2 2\n",
      "['(', '(', '('] [] 1 3\n",
      "['(', '(', '('] []\n",
      "['(', '(', ')'] [] 1 1\n",
      "1 1\n",
      "['(', '(', ')', '('] [] 0 2\n",
      "['(', '(', ')', '('] []\n",
      "['(', '(', ')', ')'] [] 0 0\n",
      "['(', ')'] ['(())'] 2 0\n",
      "2 0\n",
      "['(', ')', '('] ['(())'] 1 1\n",
      "1 1\n",
      "['(', ')', '(', '('] ['(())'] 0 2\n",
      "['(', ')', '(', '('] ['(())']\n",
      "['(', ')', '(', ')'] ['(())'] 0 0\n",
      "['(', ')', ')'] ['(())', '()()'] 1 -1\n",
      "['(', ')', ')'] ['(())', '()()']\n",
      "[')'] ['(())', '()()'] 3 -1\n",
      "[')'] ['(())', '()()']\n"
     ]
    },
    {
     "data": {
      "text/plain": [
       "['(())', '()()']"
      ]
     },
     "execution_count": 13,
     "metadata": {},
     "output_type": "execute_result"
    }
   ],
   "source": [
    "generate(2)"
   ]
  },
  {
   "cell_type": "code",
   "execution_count": null,
   "metadata": {},
   "outputs": [],
   "source": []
  }
 ],
 "metadata": {
  "interpreter": {
   "hash": "4e6cf26dc29581382a1e33c8542cde068fa9296bf834008e769d316a364abf77"
  },
  "kernelspec": {
   "display_name": "Python 3.8.5 64-bit ('base': conda)",
   "language": "python",
   "name": "python3"
  },
  "language_info": {
   "codemirror_mode": {
    "name": "ipython",
    "version": 3
   },
   "file_extension": ".py",
   "mimetype": "text/x-python",
   "name": "python",
   "nbconvert_exporter": "python",
   "pygments_lexer": "ipython3",
   "version": "3.8.5"
  },
  "orig_nbformat": 4
 },
 "nbformat": 4,
 "nbformat_minor": 2
}

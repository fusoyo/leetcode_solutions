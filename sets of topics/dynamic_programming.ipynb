{
 "cells": [
  {
   "cell_type": "markdown",
   "source": [
    "# Dynamic Programming"
   ],
   "metadata": {
    "collapsed": false
   }
  },
  {
   "cell_type": "markdown",
   "source": [
    "## Example of howSum"
   ],
   "metadata": {
    "collapsed": false,
    "pycharm": {
     "name": "#%% md\n"
    }
   }
  },
  {
   "cell_type": "markdown",
   "source": [
    "write a function 'howSum(tartgetSum, numbers) that takes in a tartgetSum and an array of numbers as arguments\n",
    "\n",
    "the function should return an array containing any combination of elements that adds up to the targetSum, then returen null.\n",
    "\n"
   ],
   "metadata": {
    "collapsed": false
   }
  },
  {
   "cell_type": "markdown",
   "source": [
    "method1 just iterable"
   ],
   "metadata": {
    "collapsed": false
   }
  },
  {
   "cell_type": "code",
   "execution_count": 9,
   "metadata": {
    "collapsed": true
   },
   "outputs": [],
   "source": [
    "def howSum(targetSum, numbers):\n",
    "    current_sum = 0\n",
    "    res = []\n",
    "    for num in numbers:\n",
    "        if num > targetSum or num + current_sum> targetSum:\n",
    "            continue\n",
    "        current_sum += num\n",
    "        res.append(num)\n",
    "        if current_sum == targetSum:\n",
    "            return res\n",
    "    return None"
   ]
  },
  {
   "cell_type": "code",
   "execution_count": 10,
   "outputs": [
    {
     "name": "stdout",
     "output_type": "stream",
     "text": [
      "[1, 2, 3]\n"
     ]
    }
   ],
   "source": [
    "print(howSum(6,[1,2,3]))"
   ],
   "metadata": {
    "collapsed": false,
    "pycharm": {
     "name": "#%%\n"
    }
   }
  },
  {
   "cell_type": "markdown",
   "source": [
    "method2 dynamic programming"
   ],
   "metadata": {
    "collapsed": false
   }
  },
  {
   "cell_type": "code",
   "execution_count": 97,
   "outputs": [],
   "source": [
    "def howSum(targetSum, numbers):\n",
    "    if targetSum==0:\n",
    "        return []\n",
    "    if targetSum < 0:\n",
    "        return None\n",
    "\n",
    "    for i,num in enumerate(numbers):\n",
    "        remainder = targetSum - num\n",
    "\n",
    "        res =  howSum(remainder, [n for j,n in enumerate(numbers)  if j!=i ]) # when return [], then backtrack to the its parent node ,and adds them up;\n",
    "        if res is not None:\n",
    "            res.append(num)\n",
    "            return res\n",
    "\n",
    "    return None\n",
    "\n",
    "# this is the brute force one;\n",
    "# m = targetSum\n",
    "# n = numbers.length\n",
    "# time: O(m*n^m)\n",
    "# space:O(m)"
   ],
   "metadata": {
    "collapsed": false,
    "pycharm": {
     "name": "#%%\n"
    }
   }
  },
  {
   "cell_type": "code",
   "execution_count": 98,
   "outputs": [
    {
     "data": {
      "text/plain": "[1, 3, 2, 1]"
     },
     "execution_count": 98,
     "metadata": {},
     "output_type": "execute_result"
    }
   ],
   "source": [
    "howSum(7,[1,2,3,1])"
   ],
   "metadata": {
    "collapsed": false,
    "pycharm": {
     "name": "#%%\n"
    }
   }
  },
  {
   "cell_type": "markdown",
   "source": [
    "method 3 dp with memo"
   ],
   "metadata": {
    "collapsed": false
   }
  },
  {
   "cell_type": "code",
   "execution_count": 100,
   "outputs": [],
   "source": [
    "def howSum(targetSum, numbers, memo={}):\n",
    "    if(targetSum in memo):\n",
    "        return memo[targetSum]\n",
    "    if targetSum==0:\n",
    "        return []\n",
    "    if targetSum < 0:\n",
    "        return None\n",
    "    print(memo)\n",
    "    for num in numbers:\n",
    "        remainder = targetSum - num\n",
    "\n",
    "        res =  howSum(remainder, numbers, memo) # when return [], then backtrack to the its parent node ,and adds them up;\n",
    "        if res is not None:\n",
    "            memo[targetSum] = res+ [num]\n",
    "            return memo[targetSum]\n",
    "\n",
    "    memo[targetSum] = None\n",
    "    return None\n",
    "# m = targetSum\n",
    "# n = numbers.length\n",
    "# time: O(m*n*m)\n",
    "# space: O(m**2)"
   ],
   "metadata": {
    "collapsed": false,
    "pycharm": {
     "name": "#%%\n"
    }
   }
  },
  {
   "cell_type": "code",
   "execution_count": 102,
   "outputs": [
    {
     "name": "stdout",
     "output_type": "stream",
     "text": [
      "{6: None, 13: None, 20: None, 27: None, 34: None, 41: None, 48: None, 55: None, 62: None, 69: None, 76: None, 83: None, 90: None, 97: None, 104: None, 111: None, 118: None, 125: None, 132: None, 139: None, 146: None, 153: None, 160: None, 167: None, 174: None, 181: None, 188: None, 195: None, 202: None, 209: None, 216: None, 223: None, 230: None, 237: None, 244: None, 251: None, 258: None, 265: None, 272: None, 279: None, 286: None, 293: None, 300: None}\n",
      "{6: None, 13: None, 20: None, 27: None, 34: None, 41: None, 48: None, 55: None, 62: None, 69: None, 76: None, 83: None, 90: None, 97: None, 104: None, 111: None, 118: None, 125: None, 132: None, 139: None, 146: None, 153: None, 160: None, 167: None, 174: None, 181: None, 188: None, 195: None, 202: None, 209: None, 216: None, 223: None, 230: None, 237: None, 244: None, 251: None, 258: None, 265: None, 272: None, 279: None, 286: None, 293: None, 300: None}\n",
      "{6: None, 13: None, 20: None, 27: None, 34: None, 41: None, 48: None, 55: None, 62: None, 69: None, 76: None, 83: None, 90: None, 97: None, 104: None, 111: None, 118: None, 125: None, 132: None, 139: None, 146: None, 153: None, 160: None, 167: None, 174: None, 181: None, 188: None, 195: None, 202: None, 209: None, 216: None, 223: None, 230: None, 237: None, 244: None, 251: None, 258: None, 265: None, 272: None, 279: None, 286: None, 293: None, 300: None}\n",
      "{6: None, 13: None, 20: None, 27: None, 34: None, 41: None, 48: None, 55: None, 62: None, 69: None, 76: None, 83: None, 90: None, 97: None, 104: None, 111: None, 118: None, 125: None, 132: None, 139: None, 146: None, 153: None, 160: None, 167: None, 174: None, 181: None, 188: None, 195: None, 202: None, 209: None, 216: None, 223: None, 230: None, 237: None, 244: None, 251: None, 258: None, 265: None, 272: None, 279: None, 286: None, 293: None, 300: None}\n",
      "{6: None, 13: None, 20: None, 27: None, 34: None, 41: None, 48: None, 55: None, 62: None, 69: None, 76: None, 83: None, 90: None, 97: None, 104: None, 111: None, 118: None, 125: None, 132: None, 139: None, 146: None, 153: None, 160: None, 167: None, 174: None, 181: None, 188: None, 195: None, 202: None, 209: None, 216: None, 223: None, 230: None, 237: None, 244: None, 251: None, 258: None, 265: None, 272: None, 279: None, 286: None, 293: None, 300: None}\n",
      "{6: None, 13: None, 20: None, 27: None, 34: None, 41: None, 48: None, 55: None, 62: None, 69: None, 76: None, 83: None, 90: None, 97: None, 104: None, 111: None, 118: None, 125: None, 132: None, 139: None, 146: None, 153: None, 160: None, 167: None, 174: None, 181: None, 188: None, 195: None, 202: None, 209: None, 216: None, 223: None, 230: None, 237: None, 244: None, 251: None, 258: None, 265: None, 272: None, 279: None, 286: None, 293: None, 300: None}\n",
      "{6: None, 13: None, 20: None, 27: None, 34: None, 41: None, 48: None, 55: None, 62: None, 69: None, 76: None, 83: None, 90: None, 97: None, 104: None, 111: None, 118: None, 125: None, 132: None, 139: None, 146: None, 153: None, 160: None, 167: None, 174: None, 181: None, 188: None, 195: None, 202: None, 209: None, 216: None, 223: None, 230: None, 237: None, 244: None, 251: None, 258: None, 265: None, 272: None, 279: None, 286: None, 293: None, 300: None}\n",
      "{6: None, 13: None, 20: None, 27: None, 34: None, 41: None, 48: None, 55: None, 62: None, 69: None, 76: None, 83: None, 90: None, 97: None, 104: None, 111: None, 118: None, 125: None, 132: None, 139: None, 146: None, 153: None, 160: None, 167: None, 174: None, 181: None, 188: None, 195: None, 202: None, 209: None, 216: None, 223: None, 230: None, 237: None, 244: None, 251: None, 258: None, 265: None, 272: None, 279: None, 286: None, 293: None, 300: None}\n",
      "{6: None, 13: None, 20: None, 27: None, 34: None, 41: None, 48: None, 55: None, 62: None, 69: None, 76: None, 83: None, 90: None, 97: None, 104: None, 111: None, 118: None, 125: None, 132: None, 139: None, 146: None, 153: None, 160: None, 167: None, 174: None, 181: None, 188: None, 195: None, 202: None, 209: None, 216: None, 223: None, 230: None, 237: None, 244: None, 251: None, 258: None, 265: None, 272: None, 279: None, 286: None, 293: None, 300: None}\n",
      "{6: None, 13: None, 20: None, 27: None, 34: None, 41: None, 48: None, 55: None, 62: None, 69: None, 76: None, 83: None, 90: None, 97: None, 104: None, 111: None, 118: None, 125: None, 132: None, 139: None, 146: None, 153: None, 160: None, 167: None, 174: None, 181: None, 188: None, 195: None, 202: None, 209: None, 216: None, 223: None, 230: None, 237: None, 244: None, 251: None, 258: None, 265: None, 272: None, 279: None, 286: None, 293: None, 300: None}\n",
      "{6: None, 13: None, 20: None, 27: None, 34: None, 41: None, 48: None, 55: None, 62: None, 69: None, 76: None, 83: None, 90: None, 97: None, 104: None, 111: None, 118: None, 125: None, 132: None, 139: None, 146: None, 153: None, 160: None, 167: None, 174: None, 181: None, 188: None, 195: None, 202: None, 209: None, 216: None, 223: None, 230: None, 237: None, 244: None, 251: None, 258: None, 265: None, 272: None, 279: None, 286: None, 293: None, 300: None}\n",
      "{6: None, 13: None, 20: None, 27: None, 34: None, 41: None, 48: None, 55: None, 62: None, 69: None, 76: None, 83: None, 90: None, 97: None, 104: None, 111: None, 118: None, 125: None, 132: None, 139: None, 146: None, 153: None, 160: None, 167: None, 174: None, 181: None, 188: None, 195: None, 202: None, 209: None, 216: None, 223: None, 230: None, 237: None, 244: None, 251: None, 258: None, 265: None, 272: None, 279: None, 286: None, 293: None, 300: None}\n",
      "{6: None, 13: None, 20: None, 27: None, 34: None, 41: None, 48: None, 55: None, 62: None, 69: None, 76: None, 83: None, 90: None, 97: None, 104: None, 111: None, 118: None, 125: None, 132: None, 139: None, 146: None, 153: None, 160: None, 167: None, 174: None, 181: None, 188: None, 195: None, 202: None, 209: None, 216: None, 223: None, 230: None, 237: None, 244: None, 251: None, 258: None, 265: None, 272: None, 279: None, 286: None, 293: None, 300: None}\n",
      "{6: None, 13: None, 20: None, 27: None, 34: None, 41: None, 48: None, 55: None, 62: None, 69: None, 76: None, 83: None, 90: None, 97: None, 104: None, 111: None, 118: None, 125: None, 132: None, 139: None, 146: None, 153: None, 160: None, 167: None, 174: None, 181: None, 188: None, 195: None, 202: None, 209: None, 216: None, 223: None, 230: None, 237: None, 244: None, 251: None, 258: None, 265: None, 272: None, 279: None, 286: None, 293: None, 300: None}\n",
      "{6: None, 13: None, 20: None, 27: None, 34: None, 41: None, 48: None, 55: None, 62: None, 69: None, 76: None, 83: None, 90: None, 97: None, 104: None, 111: None, 118: None, 125: None, 132: None, 139: None, 146: None, 153: None, 160: None, 167: None, 174: None, 181: None, 188: None, 195: None, 202: None, 209: None, 216: None, 223: None, 230: None, 237: None, 244: None, 251: None, 258: None, 265: None, 272: None, 279: None, 286: None, 293: None, 300: None}\n",
      "{6: None, 13: None, 20: None, 27: None, 34: None, 41: None, 48: None, 55: None, 62: None, 69: None, 76: None, 83: None, 90: None, 97: None, 104: None, 111: None, 118: None, 125: None, 132: None, 139: None, 146: None, 153: None, 160: None, 167: None, 174: None, 181: None, 188: None, 195: None, 202: None, 209: None, 216: None, 223: None, 230: None, 237: None, 244: None, 251: None, 258: None, 265: None, 272: None, 279: None, 286: None, 293: None, 300: None}\n",
      "{6: None, 13: None, 20: None, 27: None, 34: None, 41: None, 48: None, 55: None, 62: None, 69: None, 76: None, 83: None, 90: None, 97: None, 104: None, 111: None, 118: None, 125: None, 132: None, 139: None, 146: None, 153: None, 160: None, 167: None, 174: None, 181: None, 188: None, 195: None, 202: None, 209: None, 216: None, 223: None, 230: None, 237: None, 244: None, 251: None, 258: None, 265: None, 272: None, 279: None, 286: None, 293: None, 300: None}\n",
      "{6: None, 13: None, 20: None, 27: None, 34: None, 41: None, 48: None, 55: None, 62: None, 69: None, 76: None, 83: None, 90: None, 97: None, 104: None, 111: None, 118: None, 125: None, 132: None, 139: None, 146: None, 153: None, 160: None, 167: None, 174: None, 181: None, 188: None, 195: None, 202: None, 209: None, 216: None, 223: None, 230: None, 237: None, 244: None, 251: None, 258: None, 265: None, 272: None, 279: None, 286: None, 293: None, 300: None}\n",
      "{6: None, 13: None, 20: None, 27: None, 34: None, 41: None, 48: None, 55: None, 62: None, 69: None, 76: None, 83: None, 90: None, 97: None, 104: None, 111: None, 118: None, 125: None, 132: None, 139: None, 146: None, 153: None, 160: None, 167: None, 174: None, 181: None, 188: None, 195: None, 202: None, 209: None, 216: None, 223: None, 230: None, 237: None, 244: None, 251: None, 258: None, 265: None, 272: None, 279: None, 286: None, 293: None, 300: None}\n",
      "{6: None, 13: None, 20: None, 27: None, 34: None, 41: None, 48: None, 55: None, 62: None, 69: None, 76: None, 83: None, 90: None, 97: None, 104: None, 111: None, 118: None, 125: None, 132: None, 139: None, 146: None, 153: None, 160: None, 167: None, 174: None, 181: None, 188: None, 195: None, 202: None, 209: None, 216: None, 223: None, 230: None, 237: None, 244: None, 251: None, 258: None, 265: None, 272: None, 279: None, 286: None, 293: None, 300: None}\n",
      "{6: None, 13: None, 20: None, 27: None, 34: None, 41: None, 48: None, 55: None, 62: None, 69: None, 76: None, 83: None, 90: None, 97: None, 104: None, 111: None, 118: None, 125: None, 132: None, 139: None, 146: None, 153: None, 160: None, 167: None, 174: None, 181: None, 188: None, 195: None, 202: None, 209: None, 216: None, 223: None, 230: None, 237: None, 244: None, 251: None, 258: None, 265: None, 272: None, 279: None, 286: None, 293: None, 300: None}\n",
      "{6: None, 13: None, 20: None, 27: None, 34: None, 41: None, 48: None, 55: None, 62: None, 69: None, 76: None, 83: None, 90: None, 97: None, 104: None, 111: None, 118: None, 125: None, 132: None, 139: None, 146: None, 153: None, 160: None, 167: None, 174: None, 181: None, 188: None, 195: None, 202: None, 209: None, 216: None, 223: None, 230: None, 237: None, 244: None, 251: None, 258: None, 265: None, 272: None, 279: None, 286: None, 293: None, 300: None}\n"
     ]
    },
    {
     "data": {
      "text/plain": "[7,\n 14,\n 14,\n 14,\n 14,\n 14,\n 14,\n 14,\n 14,\n 14,\n 14,\n 14,\n 14,\n 14,\n 14,\n 14,\n 14,\n 14,\n 14,\n 14,\n 14,\n 14]"
     },
     "execution_count": 102,
     "metadata": {},
     "output_type": "execute_result"
    }
   ],
   "source": [
    "howSum(301,[14,7])"
   ],
   "metadata": {
    "collapsed": false,
    "pycharm": {
     "name": "#%%\n"
    }
   }
  },
  {
   "cell_type": "code",
   "execution_count": null,
   "outputs": [],
   "source": [],
   "metadata": {
    "collapsed": false,
    "pycharm": {
     "name": "#%%\n"
    }
   }
  }
 ],
 "metadata": {
  "kernelspec": {
   "display_name": "Python 3",
   "language": "python",
   "name": "python3"
  },
  "language_info": {
   "codemirror_mode": {
    "name": "ipython",
    "version": 2
   },
   "file_extension": ".py",
   "mimetype": "text/x-python",
   "name": "python",
   "nbconvert_exporter": "python",
   "pygments_lexer": "ipython2",
   "version": "2.7.6"
  }
 },
 "nbformat": 4,
 "nbformat_minor": 0
}
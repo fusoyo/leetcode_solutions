{
 "cells": [
  {
   "cell_type": "markdown",
   "source": [
    "# Dynamic Programming"
   ],
   "metadata": {
    "collapsed": false
   }
  },
  {
   "cell_type": "markdown",
   "source": [
    "## Example of howSum"
   ],
   "metadata": {
    "collapsed": false,
    "pycharm": {
     "name": "#%% md\n"
    }
   }
  },
  {
   "cell_type": "markdown",
   "source": [
    "write a function 'howSum(tartgetSum, numbers) that takes in a tartgetSum and an array of numbers as arguments\n",
    "\n",
    "the function should return an array containing any combination of elements that adds up to the targetSum, then returen null.\n",
    "\n"
   ],
   "metadata": {
    "collapsed": false
   }
  },
  {
   "cell_type": "markdown",
   "source": [
    "method1 just iterable"
   ],
   "metadata": {
    "collapsed": false
   }
  },
  {
   "cell_type": "code",
   "execution_count": 9,
   "metadata": {
    "collapsed": true
   },
   "outputs": [],
   "source": [
    "def howSum(targetSum, numbers):\n",
    "    current_sum = 0\n",
    "    res = []\n",
    "    for num in numbers:\n",
    "        if num > targetSum or num + current_sum > targetSum:\n",
    "            continue\n",
    "        current_sum += num\n",
    "        res.append(num)\n",
    "        if current_sum == targetSum:\n",
    "            return res\n",
    "    return None"
   ]
  },
  {
   "cell_type": "code",
   "execution_count": 10,
   "outputs": [
    {
     "name": "stdout",
     "output_type": "stream",
     "text": [
      "[1, 2, 3]\n"
     ]
    }
   ],
   "source": [
    "print(howSum(6, [1, 2, 3]))"
   ],
   "metadata": {
    "collapsed": false,
    "pycharm": {
     "name": "#%%\n"
    }
   }
  },
  {
   "cell_type": "markdown",
   "source": [
    "method2 dynamic programming"
   ],
   "metadata": {
    "collapsed": false
   }
  },
  {
   "cell_type": "code",
   "execution_count": 97,
   "outputs": [],
   "source": [
    "def howSum(targetSum, numbers):\n",
    "    if targetSum == 0:\n",
    "        return []\n",
    "    if targetSum < 0:\n",
    "        return None\n",
    "\n",
    "    for i, num in enumerate(numbers):\n",
    "        remainder = targetSum - num\n",
    "\n",
    "        res = howSum(remainder, [n for j, n in enumerate(numbers) if\n",
    "                                 j != i])  # when return [], then backtrack to the its parent node ,and adds them up;\n",
    "        if res is not None:\n",
    "            res.append(num)\n",
    "            return res\n",
    "\n",
    "    return None\n",
    "\n",
    "# this is the brute force one;\n",
    "# m = targetSum\n",
    "# n = numbers.length\n",
    "# time: O(m*n^m)\n",
    "# space:O(m)"
   ],
   "metadata": {
    "collapsed": false,
    "pycharm": {
     "name": "#%%\n"
    }
   }
  },
  {
   "cell_type": "code",
   "execution_count": 98,
   "outputs": [
    {
     "data": {
      "text/plain": "[1, 3, 2, 1]"
     },
     "execution_count": 98,
     "metadata": {},
     "output_type": "execute_result"
    }
   ],
   "source": [
    "howSum(7, [1, 2, 3, 1])"
   ],
   "metadata": {
    "collapsed": false,
    "pycharm": {
     "name": "#%%\n"
    }
   }
  },
  {
   "cell_type": "markdown",
   "source": [
    "method 3 dp with memo"
   ],
   "metadata": {
    "collapsed": false
   }
  },
  {
   "cell_type": "code",
   "execution_count": 100,
   "outputs": [],
   "source": [
    "def howSum(targetSum, numbers, memo={}):\n",
    "    if (targetSum in memo):\n",
    "        return memo[targetSum]\n",
    "    if targetSum == 0:\n",
    "        return []\n",
    "    if targetSum < 0:\n",
    "        return None\n",
    "    print(memo)\n",
    "    for num in numbers:\n",
    "        remainder = targetSum - num\n",
    "\n",
    "        res = howSum(remainder, numbers,\n",
    "                     memo)  # when return [], then backtrack to the its parent node ,and adds them up;\n",
    "        if res is not None:\n",
    "            memo[targetSum] = res + [num]\n",
    "            return memo[targetSum]\n",
    "\n",
    "    memo[targetSum] = None\n",
    "    return None\n",
    "\n",
    "# m = targetSum\n",
    "# n = numbers.length\n",
    "# time: O(m*n*m)\n",
    "# space: O(m**2)"
   ],
   "metadata": {
    "collapsed": false,
    "pycharm": {
     "name": "#%%\n"
    }
   }
  },
  {
   "cell_type": "code",
   "execution_count": 102,
   "outputs": [
    {
     "name": "stdout",
     "output_type": "stream",
     "text": [
      "{6: None, 13: None, 20: None, 27: None, 34: None, 41: None, 48: None, 55: None, 62: None, 69: None, 76: None, 83: None, 90: None, 97: None, 104: None, 111: None, 118: None, 125: None, 132: None, 139: None, 146: None, 153: None, 160: None, 167: None, 174: None, 181: None, 188: None, 195: None, 202: None, 209: None, 216: None, 223: None, 230: None, 237: None, 244: None, 251: None, 258: None, 265: None, 272: None, 279: None, 286: None, 293: None, 300: None}\n",
      "{6: None, 13: None, 20: None, 27: None, 34: None, 41: None, 48: None, 55: None, 62: None, 69: None, 76: None, 83: None, 90: None, 97: None, 104: None, 111: None, 118: None, 125: None, 132: None, 139: None, 146: None, 153: None, 160: None, 167: None, 174: None, 181: None, 188: None, 195: None, 202: None, 209: None, 216: None, 223: None, 230: None, 237: None, 244: None, 251: None, 258: None, 265: None, 272: None, 279: None, 286: None, 293: None, 300: None}\n",
      "{6: None, 13: None, 20: None, 27: None, 34: None, 41: None, 48: None, 55: None, 62: None, 69: None, 76: None, 83: None, 90: None, 97: None, 104: None, 111: None, 118: None, 125: None, 132: None, 139: None, 146: None, 153: None, 160: None, 167: None, 174: None, 181: None, 188: None, 195: None, 202: None, 209: None, 216: None, 223: None, 230: None, 237: None, 244: None, 251: None, 258: None, 265: None, 272: None, 279: None, 286: None, 293: None, 300: None}\n",
      "{6: None, 13: None, 20: None, 27: None, 34: None, 41: None, 48: None, 55: None, 62: None, 69: None, 76: None, 83: None, 90: None, 97: None, 104: None, 111: None, 118: None, 125: None, 132: None, 139: None, 146: None, 153: None, 160: None, 167: None, 174: None, 181: None, 188: None, 195: None, 202: None, 209: None, 216: None, 223: None, 230: None, 237: None, 244: None, 251: None, 258: None, 265: None, 272: None, 279: None, 286: None, 293: None, 300: None}\n",
      "{6: None, 13: None, 20: None, 27: None, 34: None, 41: None, 48: None, 55: None, 62: None, 69: None, 76: None, 83: None, 90: None, 97: None, 104: None, 111: None, 118: None, 125: None, 132: None, 139: None, 146: None, 153: None, 160: None, 167: None, 174: None, 181: None, 188: None, 195: None, 202: None, 209: None, 216: None, 223: None, 230: None, 237: None, 244: None, 251: None, 258: None, 265: None, 272: None, 279: None, 286: None, 293: None, 300: None}\n",
      "{6: None, 13: None, 20: None, 27: None, 34: None, 41: None, 48: None, 55: None, 62: None, 69: None, 76: None, 83: None, 90: None, 97: None, 104: None, 111: None, 118: None, 125: None, 132: None, 139: None, 146: None, 153: None, 160: None, 167: None, 174: None, 181: None, 188: None, 195: None, 202: None, 209: None, 216: None, 223: None, 230: None, 237: None, 244: None, 251: None, 258: None, 265: None, 272: None, 279: None, 286: None, 293: None, 300: None}\n",
      "{6: None, 13: None, 20: None, 27: None, 34: None, 41: None, 48: None, 55: None, 62: None, 69: None, 76: None, 83: None, 90: None, 97: None, 104: None, 111: None, 118: None, 125: None, 132: None, 139: None, 146: None, 153: None, 160: None, 167: None, 174: None, 181: None, 188: None, 195: None, 202: None, 209: None, 216: None, 223: None, 230: None, 237: None, 244: None, 251: None, 258: None, 265: None, 272: None, 279: None, 286: None, 293: None, 300: None}\n",
      "{6: None, 13: None, 20: None, 27: None, 34: None, 41: None, 48: None, 55: None, 62: None, 69: None, 76: None, 83: None, 90: None, 97: None, 104: None, 111: None, 118: None, 125: None, 132: None, 139: None, 146: None, 153: None, 160: None, 167: None, 174: None, 181: None, 188: None, 195: None, 202: None, 209: None, 216: None, 223: None, 230: None, 237: None, 244: None, 251: None, 258: None, 265: None, 272: None, 279: None, 286: None, 293: None, 300: None}\n",
      "{6: None, 13: None, 20: None, 27: None, 34: None, 41: None, 48: None, 55: None, 62: None, 69: None, 76: None, 83: None, 90: None, 97: None, 104: None, 111: None, 118: None, 125: None, 132: None, 139: None, 146: None, 153: None, 160: None, 167: None, 174: None, 181: None, 188: None, 195: None, 202: None, 209: None, 216: None, 223: None, 230: None, 237: None, 244: None, 251: None, 258: None, 265: None, 272: None, 279: None, 286: None, 293: None, 300: None}\n",
      "{6: None, 13: None, 20: None, 27: None, 34: None, 41: None, 48: None, 55: None, 62: None, 69: None, 76: None, 83: None, 90: None, 97: None, 104: None, 111: None, 118: None, 125: None, 132: None, 139: None, 146: None, 153: None, 160: None, 167: None, 174: None, 181: None, 188: None, 195: None, 202: None, 209: None, 216: None, 223: None, 230: None, 237: None, 244: None, 251: None, 258: None, 265: None, 272: None, 279: None, 286: None, 293: None, 300: None}\n",
      "{6: None, 13: None, 20: None, 27: None, 34: None, 41: None, 48: None, 55: None, 62: None, 69: None, 76: None, 83: None, 90: None, 97: None, 104: None, 111: None, 118: None, 125: None, 132: None, 139: None, 146: None, 153: None, 160: None, 167: None, 174: None, 181: None, 188: None, 195: None, 202: None, 209: None, 216: None, 223: None, 230: None, 237: None, 244: None, 251: None, 258: None, 265: None, 272: None, 279: None, 286: None, 293: None, 300: None}\n",
      "{6: None, 13: None, 20: None, 27: None, 34: None, 41: None, 48: None, 55: None, 62: None, 69: None, 76: None, 83: None, 90: None, 97: None, 104: None, 111: None, 118: None, 125: None, 132: None, 139: None, 146: None, 153: None, 160: None, 167: None, 174: None, 181: None, 188: None, 195: None, 202: None, 209: None, 216: None, 223: None, 230: None, 237: None, 244: None, 251: None, 258: None, 265: None, 272: None, 279: None, 286: None, 293: None, 300: None}\n",
      "{6: None, 13: None, 20: None, 27: None, 34: None, 41: None, 48: None, 55: None, 62: None, 69: None, 76: None, 83: None, 90: None, 97: None, 104: None, 111: None, 118: None, 125: None, 132: None, 139: None, 146: None, 153: None, 160: None, 167: None, 174: None, 181: None, 188: None, 195: None, 202: None, 209: None, 216: None, 223: None, 230: None, 237: None, 244: None, 251: None, 258: None, 265: None, 272: None, 279: None, 286: None, 293: None, 300: None}\n",
      "{6: None, 13: None, 20: None, 27: None, 34: None, 41: None, 48: None, 55: None, 62: None, 69: None, 76: None, 83: None, 90: None, 97: None, 104: None, 111: None, 118: None, 125: None, 132: None, 139: None, 146: None, 153: None, 160: None, 167: None, 174: None, 181: None, 188: None, 195: None, 202: None, 209: None, 216: None, 223: None, 230: None, 237: None, 244: None, 251: None, 258: None, 265: None, 272: None, 279: None, 286: None, 293: None, 300: None}\n",
      "{6: None, 13: None, 20: None, 27: None, 34: None, 41: None, 48: None, 55: None, 62: None, 69: None, 76: None, 83: None, 90: None, 97: None, 104: None, 111: None, 118: None, 125: None, 132: None, 139: None, 146: None, 153: None, 160: None, 167: None, 174: None, 181: None, 188: None, 195: None, 202: None, 209: None, 216: None, 223: None, 230: None, 237: None, 244: None, 251: None, 258: None, 265: None, 272: None, 279: None, 286: None, 293: None, 300: None}\n",
      "{6: None, 13: None, 20: None, 27: None, 34: None, 41: None, 48: None, 55: None, 62: None, 69: None, 76: None, 83: None, 90: None, 97: None, 104: None, 111: None, 118: None, 125: None, 132: None, 139: None, 146: None, 153: None, 160: None, 167: None, 174: None, 181: None, 188: None, 195: None, 202: None, 209: None, 216: None, 223: None, 230: None, 237: None, 244: None, 251: None, 258: None, 265: None, 272: None, 279: None, 286: None, 293: None, 300: None}\n",
      "{6: None, 13: None, 20: None, 27: None, 34: None, 41: None, 48: None, 55: None, 62: None, 69: None, 76: None, 83: None, 90: None, 97: None, 104: None, 111: None, 118: None, 125: None, 132: None, 139: None, 146: None, 153: None, 160: None, 167: None, 174: None, 181: None, 188: None, 195: None, 202: None, 209: None, 216: None, 223: None, 230: None, 237: None, 244: None, 251: None, 258: None, 265: None, 272: None, 279: None, 286: None, 293: None, 300: None}\n",
      "{6: None, 13: None, 20: None, 27: None, 34: None, 41: None, 48: None, 55: None, 62: None, 69: None, 76: None, 83: None, 90: None, 97: None, 104: None, 111: None, 118: None, 125: None, 132: None, 139: None, 146: None, 153: None, 160: None, 167: None, 174: None, 181: None, 188: None, 195: None, 202: None, 209: None, 216: None, 223: None, 230: None, 237: None, 244: None, 251: None, 258: None, 265: None, 272: None, 279: None, 286: None, 293: None, 300: None}\n",
      "{6: None, 13: None, 20: None, 27: None, 34: None, 41: None, 48: None, 55: None, 62: None, 69: None, 76: None, 83: None, 90: None, 97: None, 104: None, 111: None, 118: None, 125: None, 132: None, 139: None, 146: None, 153: None, 160: None, 167: None, 174: None, 181: None, 188: None, 195: None, 202: None, 209: None, 216: None, 223: None, 230: None, 237: None, 244: None, 251: None, 258: None, 265: None, 272: None, 279: None, 286: None, 293: None, 300: None}\n",
      "{6: None, 13: None, 20: None, 27: None, 34: None, 41: None, 48: None, 55: None, 62: None, 69: None, 76: None, 83: None, 90: None, 97: None, 104: None, 111: None, 118: None, 125: None, 132: None, 139: None, 146: None, 153: None, 160: None, 167: None, 174: None, 181: None, 188: None, 195: None, 202: None, 209: None, 216: None, 223: None, 230: None, 237: None, 244: None, 251: None, 258: None, 265: None, 272: None, 279: None, 286: None, 293: None, 300: None}\n",
      "{6: None, 13: None, 20: None, 27: None, 34: None, 41: None, 48: None, 55: None, 62: None, 69: None, 76: None, 83: None, 90: None, 97: None, 104: None, 111: None, 118: None, 125: None, 132: None, 139: None, 146: None, 153: None, 160: None, 167: None, 174: None, 181: None, 188: None, 195: None, 202: None, 209: None, 216: None, 223: None, 230: None, 237: None, 244: None, 251: None, 258: None, 265: None, 272: None, 279: None, 286: None, 293: None, 300: None}\n",
      "{6: None, 13: None, 20: None, 27: None, 34: None, 41: None, 48: None, 55: None, 62: None, 69: None, 76: None, 83: None, 90: None, 97: None, 104: None, 111: None, 118: None, 125: None, 132: None, 139: None, 146: None, 153: None, 160: None, 167: None, 174: None, 181: None, 188: None, 195: None, 202: None, 209: None, 216: None, 223: None, 230: None, 237: None, 244: None, 251: None, 258: None, 265: None, 272: None, 279: None, 286: None, 293: None, 300: None}\n"
     ]
    },
    {
     "data": {
      "text/plain": "[7,\n 14,\n 14,\n 14,\n 14,\n 14,\n 14,\n 14,\n 14,\n 14,\n 14,\n 14,\n 14,\n 14,\n 14,\n 14,\n 14,\n 14,\n 14,\n 14,\n 14,\n 14]"
     },
     "execution_count": 102,
     "metadata": {},
     "output_type": "execute_result"
    }
   ],
   "source": [
    "howSum(301, [14, 7])"
   ],
   "metadata": {
    "collapsed": false,
    "pycharm": {
     "name": "#%%\n"
    }
   }
  },
  {
   "cell_type": "markdown",
   "source": [
    "//write a function bestSum(targetSum,numbers) that takes in a targetSum and an array of numbers as arguments\n",
    "//the function should return an array containing the shortest combination of numbers that add up to exactly the targetSum.\n",
    "//if there is a tie for the shortest combination, you may return any one of the shortest"
   ],
   "metadata": {
    "collapsed": false
   }
  },
  {
   "cell_type": "code",
   "execution_count": 11,
   "outputs": [
    {
     "data": {
      "text/plain": "'\\nm = targetSum\\nn = numbers.length\\ntime complexity: O(n^m * m)\\nspace complexity: O(m**2)\\n'"
     },
     "execution_count": 11,
     "metadata": {},
     "output_type": "execute_result"
    }
   ],
   "source": [
    "def bestSum(targetSum, numbers):\n",
    "    if targetSum == 0:\n",
    "        return []\n",
    "\n",
    "    if targetSum < 0:\n",
    "        return None\n",
    "\n",
    "    shortestCombination = None\n",
    "    for num in numbers:\n",
    "        remainder = targetSum - num\n",
    "        remainderCombination = bestSum(remainder, numbers)\n",
    "        if (remainderCombination is not None):\n",
    "            combination = remainderCombination + [num]  # add the num into remainderCombination array\n",
    "            if (shortestCombination == None or len(combination) < len(shortestCombination)):  #\n",
    "                shortestCombination = combination\n",
    "\n",
    "    return shortestCombination  # return to the upper level\n",
    "\n",
    "\n",
    "\"\"\"\n",
    "m = targetSum\n",
    "n = numbers.length\n",
    "time complexity: O(n^m * m)\n",
    "space complexity: O(m**2)\n",
    "\"\"\""
   ],
   "metadata": {
    "collapsed": false,
    "pycharm": {
     "name": "#%%\n"
    }
   }
  },
  {
   "cell_type": "code",
   "execution_count": 6,
   "outputs": [
    {
     "data": {
      "text/plain": "[7, 7]"
     },
     "execution_count": 6,
     "metadata": {},
     "output_type": "execute_result"
    }
   ],
   "source": [
    "bestSum(14, [5, 3, 4, 7])"
   ],
   "metadata": {
    "collapsed": false,
    "pycharm": {
     "name": "#%%\n"
    }
   }
  },
  {
   "cell_type": "code",
   "execution_count": 9,
   "outputs": [
    {
     "data": {
      "text/plain": "[7, 4, 5]"
     },
     "execution_count": 9,
     "metadata": {},
     "output_type": "execute_result"
    }
   ],
   "source": [
    "bestSum(16, [1, 5, 3, 4, 7])"
   ],
   "metadata": {
    "collapsed": false,
    "pycharm": {
     "name": "#%%\n"
    }
   }
  },
  {
   "cell_type": "code",
   "execution_count": 10,
   "outputs": [
    {
     "ename": "KeyboardInterrupt",
     "evalue": "",
     "output_type": "error",
     "traceback": [
      "\u001B[0;31m---------------------------------------------------------------------------\u001B[0m",
      "\u001B[0;31mKeyboardInterrupt\u001B[0m                         Traceback (most recent call last)",
      "\u001B[0;32m<ipython-input-10-ea74e5d1f7d8>\u001B[0m in \u001B[0;36m<module>\u001B[0;34m\u001B[0m\n\u001B[0;32m----> 1\u001B[0;31m \u001B[0mbestSum\u001B[0m\u001B[0;34m(\u001B[0m\u001B[0;36m100\u001B[0m\u001B[0;34m,\u001B[0m \u001B[0;34m[\u001B[0m\u001B[0;36m25\u001B[0m\u001B[0;34m,\u001B[0m\u001B[0;36m1\u001B[0m\u001B[0;34m,\u001B[0m\u001B[0;36m2\u001B[0m\u001B[0;34m,\u001B[0m\u001B[0;36m5\u001B[0m\u001B[0;34m,\u001B[0m\u001B[0;36m4\u001B[0m\u001B[0;34m,\u001B[0m\u001B[0;36m7\u001B[0m\u001B[0;34m]\u001B[0m\u001B[0;34m)\u001B[0m\u001B[0;34m\u001B[0m\u001B[0;34m\u001B[0m\u001B[0m\n\u001B[0m",
      "\u001B[0;32m<ipython-input-4-7c1be54291d6>\u001B[0m in \u001B[0;36mbestSum\u001B[0;34m(targetSum, numbers)\u001B[0m\n\u001B[1;32m      9\u001B[0m     \u001B[0;32mfor\u001B[0m \u001B[0mnum\u001B[0m \u001B[0;32min\u001B[0m \u001B[0mnumbers\u001B[0m\u001B[0;34m:\u001B[0m\u001B[0;34m\u001B[0m\u001B[0;34m\u001B[0m\u001B[0m\n\u001B[1;32m     10\u001B[0m         \u001B[0mremainder\u001B[0m \u001B[0;34m=\u001B[0m \u001B[0mtargetSum\u001B[0m \u001B[0;34m-\u001B[0m \u001B[0mnum\u001B[0m\u001B[0;34m\u001B[0m\u001B[0;34m\u001B[0m\u001B[0m\n\u001B[0;32m---> 11\u001B[0;31m         \u001B[0mremainderCombination\u001B[0m \u001B[0;34m=\u001B[0m \u001B[0mbestSum\u001B[0m\u001B[0;34m(\u001B[0m\u001B[0mremainder\u001B[0m\u001B[0;34m,\u001B[0m \u001B[0mnumbers\u001B[0m\u001B[0;34m)\u001B[0m\u001B[0;34m\u001B[0m\u001B[0;34m\u001B[0m\u001B[0m\n\u001B[0m\u001B[1;32m     12\u001B[0m         \u001B[0;32mif\u001B[0m \u001B[0;34m(\u001B[0m\u001B[0mremainderCombination\u001B[0m \u001B[0;32mis\u001B[0m \u001B[0;32mnot\u001B[0m \u001B[0;32mNone\u001B[0m\u001B[0;34m)\u001B[0m\u001B[0;34m:\u001B[0m\u001B[0;34m\u001B[0m\u001B[0;34m\u001B[0m\u001B[0m\n\u001B[1;32m     13\u001B[0m             \u001B[0mcombination\u001B[0m \u001B[0;34m=\u001B[0m \u001B[0mremainderCombination\u001B[0m \u001B[0;34m+\u001B[0m \u001B[0;34m[\u001B[0m\u001B[0mnum\u001B[0m\u001B[0;34m]\u001B[0m\u001B[0;34m\u001B[0m\u001B[0;34m\u001B[0m\u001B[0m\n",
      "\u001B[0;32m<ipython-input-4-7c1be54291d6>\u001B[0m in \u001B[0;36mbestSum\u001B[0;34m(targetSum, numbers)\u001B[0m\n\u001B[1;32m      9\u001B[0m     \u001B[0;32mfor\u001B[0m \u001B[0mnum\u001B[0m \u001B[0;32min\u001B[0m \u001B[0mnumbers\u001B[0m\u001B[0;34m:\u001B[0m\u001B[0;34m\u001B[0m\u001B[0;34m\u001B[0m\u001B[0m\n\u001B[1;32m     10\u001B[0m         \u001B[0mremainder\u001B[0m \u001B[0;34m=\u001B[0m \u001B[0mtargetSum\u001B[0m \u001B[0;34m-\u001B[0m \u001B[0mnum\u001B[0m\u001B[0;34m\u001B[0m\u001B[0;34m\u001B[0m\u001B[0m\n\u001B[0;32m---> 11\u001B[0;31m         \u001B[0mremainderCombination\u001B[0m \u001B[0;34m=\u001B[0m \u001B[0mbestSum\u001B[0m\u001B[0;34m(\u001B[0m\u001B[0mremainder\u001B[0m\u001B[0;34m,\u001B[0m \u001B[0mnumbers\u001B[0m\u001B[0;34m)\u001B[0m\u001B[0;34m\u001B[0m\u001B[0;34m\u001B[0m\u001B[0m\n\u001B[0m\u001B[1;32m     12\u001B[0m         \u001B[0;32mif\u001B[0m \u001B[0;34m(\u001B[0m\u001B[0mremainderCombination\u001B[0m \u001B[0;32mis\u001B[0m \u001B[0;32mnot\u001B[0m \u001B[0;32mNone\u001B[0m\u001B[0;34m)\u001B[0m\u001B[0;34m:\u001B[0m\u001B[0;34m\u001B[0m\u001B[0;34m\u001B[0m\u001B[0m\n\u001B[1;32m     13\u001B[0m             \u001B[0mcombination\u001B[0m \u001B[0;34m=\u001B[0m \u001B[0mremainderCombination\u001B[0m \u001B[0;34m+\u001B[0m \u001B[0;34m[\u001B[0m\u001B[0mnum\u001B[0m\u001B[0;34m]\u001B[0m\u001B[0;34m\u001B[0m\u001B[0;34m\u001B[0m\u001B[0m\n",
      "\u001B[0;32m<ipython-input-4-7c1be54291d6>\u001B[0m in \u001B[0;36mbestSum\u001B[0;34m(targetSum, numbers)\u001B[0m\n\u001B[1;32m      9\u001B[0m     \u001B[0;32mfor\u001B[0m \u001B[0mnum\u001B[0m \u001B[0;32min\u001B[0m \u001B[0mnumbers\u001B[0m\u001B[0;34m:\u001B[0m\u001B[0;34m\u001B[0m\u001B[0;34m\u001B[0m\u001B[0m\n\u001B[1;32m     10\u001B[0m         \u001B[0mremainder\u001B[0m \u001B[0;34m=\u001B[0m \u001B[0mtargetSum\u001B[0m \u001B[0;34m-\u001B[0m \u001B[0mnum\u001B[0m\u001B[0;34m\u001B[0m\u001B[0;34m\u001B[0m\u001B[0m\n\u001B[0;32m---> 11\u001B[0;31m         \u001B[0mremainderCombination\u001B[0m \u001B[0;34m=\u001B[0m \u001B[0mbestSum\u001B[0m\u001B[0;34m(\u001B[0m\u001B[0mremainder\u001B[0m\u001B[0;34m,\u001B[0m \u001B[0mnumbers\u001B[0m\u001B[0;34m)\u001B[0m\u001B[0;34m\u001B[0m\u001B[0;34m\u001B[0m\u001B[0m\n\u001B[0m\u001B[1;32m     12\u001B[0m         \u001B[0;32mif\u001B[0m \u001B[0;34m(\u001B[0m\u001B[0mremainderCombination\u001B[0m \u001B[0;32mis\u001B[0m \u001B[0;32mnot\u001B[0m \u001B[0;32mNone\u001B[0m\u001B[0;34m)\u001B[0m\u001B[0;34m:\u001B[0m\u001B[0;34m\u001B[0m\u001B[0;34m\u001B[0m\u001B[0m\n\u001B[1;32m     13\u001B[0m             \u001B[0mcombination\u001B[0m \u001B[0;34m=\u001B[0m \u001B[0mremainderCombination\u001B[0m \u001B[0;34m+\u001B[0m \u001B[0;34m[\u001B[0m\u001B[0mnum\u001B[0m\u001B[0;34m]\u001B[0m\u001B[0;34m\u001B[0m\u001B[0;34m\u001B[0m\u001B[0m\n",
      "\u001B[0;32m<ipython-input-4-7c1be54291d6>\u001B[0m in \u001B[0;36mbestSum\u001B[0;34m(targetSum, numbers)\u001B[0m\n\u001B[1;32m      9\u001B[0m     \u001B[0;32mfor\u001B[0m \u001B[0mnum\u001B[0m \u001B[0;32min\u001B[0m \u001B[0mnumbers\u001B[0m\u001B[0;34m:\u001B[0m\u001B[0;34m\u001B[0m\u001B[0;34m\u001B[0m\u001B[0m\n\u001B[1;32m     10\u001B[0m         \u001B[0mremainder\u001B[0m \u001B[0;34m=\u001B[0m \u001B[0mtargetSum\u001B[0m \u001B[0;34m-\u001B[0m \u001B[0mnum\u001B[0m\u001B[0;34m\u001B[0m\u001B[0;34m\u001B[0m\u001B[0m\n\u001B[0;32m---> 11\u001B[0;31m         \u001B[0mremainderCombination\u001B[0m \u001B[0;34m=\u001B[0m \u001B[0mbestSum\u001B[0m\u001B[0;34m(\u001B[0m\u001B[0mremainder\u001B[0m\u001B[0;34m,\u001B[0m \u001B[0mnumbers\u001B[0m\u001B[0;34m)\u001B[0m\u001B[0;34m\u001B[0m\u001B[0;34m\u001B[0m\u001B[0m\n\u001B[0m\u001B[1;32m     12\u001B[0m         \u001B[0;32mif\u001B[0m \u001B[0;34m(\u001B[0m\u001B[0mremainderCombination\u001B[0m \u001B[0;32mis\u001B[0m \u001B[0;32mnot\u001B[0m \u001B[0;32mNone\u001B[0m\u001B[0;34m)\u001B[0m\u001B[0;34m:\u001B[0m\u001B[0;34m\u001B[0m\u001B[0;34m\u001B[0m\u001B[0m\n\u001B[1;32m     13\u001B[0m             \u001B[0mcombination\u001B[0m \u001B[0;34m=\u001B[0m \u001B[0mremainderCombination\u001B[0m \u001B[0;34m+\u001B[0m \u001B[0;34m[\u001B[0m\u001B[0mnum\u001B[0m\u001B[0;34m]\u001B[0m\u001B[0;34m\u001B[0m\u001B[0;34m\u001B[0m\u001B[0m\n",
      "\u001B[0;32m<ipython-input-4-7c1be54291d6>\u001B[0m in \u001B[0;36mbestSum\u001B[0;34m(targetSum, numbers)\u001B[0m\n\u001B[1;32m      9\u001B[0m     \u001B[0;32mfor\u001B[0m \u001B[0mnum\u001B[0m \u001B[0;32min\u001B[0m \u001B[0mnumbers\u001B[0m\u001B[0;34m:\u001B[0m\u001B[0;34m\u001B[0m\u001B[0;34m\u001B[0m\u001B[0m\n\u001B[1;32m     10\u001B[0m         \u001B[0mremainder\u001B[0m \u001B[0;34m=\u001B[0m \u001B[0mtargetSum\u001B[0m \u001B[0;34m-\u001B[0m \u001B[0mnum\u001B[0m\u001B[0;34m\u001B[0m\u001B[0;34m\u001B[0m\u001B[0m\n\u001B[0;32m---> 11\u001B[0;31m         \u001B[0mremainderCombination\u001B[0m \u001B[0;34m=\u001B[0m \u001B[0mbestSum\u001B[0m\u001B[0;34m(\u001B[0m\u001B[0mremainder\u001B[0m\u001B[0;34m,\u001B[0m \u001B[0mnumbers\u001B[0m\u001B[0;34m)\u001B[0m\u001B[0;34m\u001B[0m\u001B[0;34m\u001B[0m\u001B[0m\n\u001B[0m\u001B[1;32m     12\u001B[0m         \u001B[0;32mif\u001B[0m \u001B[0;34m(\u001B[0m\u001B[0mremainderCombination\u001B[0m \u001B[0;32mis\u001B[0m \u001B[0;32mnot\u001B[0m \u001B[0;32mNone\u001B[0m\u001B[0;34m)\u001B[0m\u001B[0;34m:\u001B[0m\u001B[0;34m\u001B[0m\u001B[0;34m\u001B[0m\u001B[0m\n\u001B[1;32m     13\u001B[0m             \u001B[0mcombination\u001B[0m \u001B[0;34m=\u001B[0m \u001B[0mremainderCombination\u001B[0m \u001B[0;34m+\u001B[0m \u001B[0;34m[\u001B[0m\u001B[0mnum\u001B[0m\u001B[0;34m]\u001B[0m\u001B[0;34m\u001B[0m\u001B[0;34m\u001B[0m\u001B[0m\n",
      "\u001B[0;32m<ipython-input-4-7c1be54291d6>\u001B[0m in \u001B[0;36mbestSum\u001B[0;34m(targetSum, numbers)\u001B[0m\n\u001B[1;32m      9\u001B[0m     \u001B[0;32mfor\u001B[0m \u001B[0mnum\u001B[0m \u001B[0;32min\u001B[0m \u001B[0mnumbers\u001B[0m\u001B[0;34m:\u001B[0m\u001B[0;34m\u001B[0m\u001B[0;34m\u001B[0m\u001B[0m\n\u001B[1;32m     10\u001B[0m         \u001B[0mremainder\u001B[0m \u001B[0;34m=\u001B[0m \u001B[0mtargetSum\u001B[0m \u001B[0;34m-\u001B[0m \u001B[0mnum\u001B[0m\u001B[0;34m\u001B[0m\u001B[0;34m\u001B[0m\u001B[0m\n\u001B[0;32m---> 11\u001B[0;31m         \u001B[0mremainderCombination\u001B[0m \u001B[0;34m=\u001B[0m \u001B[0mbestSum\u001B[0m\u001B[0;34m(\u001B[0m\u001B[0mremainder\u001B[0m\u001B[0;34m,\u001B[0m \u001B[0mnumbers\u001B[0m\u001B[0;34m)\u001B[0m\u001B[0;34m\u001B[0m\u001B[0;34m\u001B[0m\u001B[0m\n\u001B[0m\u001B[1;32m     12\u001B[0m         \u001B[0;32mif\u001B[0m \u001B[0;34m(\u001B[0m\u001B[0mremainderCombination\u001B[0m \u001B[0;32mis\u001B[0m \u001B[0;32mnot\u001B[0m \u001B[0;32mNone\u001B[0m\u001B[0;34m)\u001B[0m\u001B[0;34m:\u001B[0m\u001B[0;34m\u001B[0m\u001B[0;34m\u001B[0m\u001B[0m\n\u001B[1;32m     13\u001B[0m             \u001B[0mcombination\u001B[0m \u001B[0;34m=\u001B[0m \u001B[0mremainderCombination\u001B[0m \u001B[0;34m+\u001B[0m \u001B[0;34m[\u001B[0m\u001B[0mnum\u001B[0m\u001B[0;34m]\u001B[0m\u001B[0;34m\u001B[0m\u001B[0;34m\u001B[0m\u001B[0m\n",
      "\u001B[0;32m<ipython-input-4-7c1be54291d6>\u001B[0m in \u001B[0;36mbestSum\u001B[0;34m(targetSum, numbers)\u001B[0m\n\u001B[1;32m      9\u001B[0m     \u001B[0;32mfor\u001B[0m \u001B[0mnum\u001B[0m \u001B[0;32min\u001B[0m \u001B[0mnumbers\u001B[0m\u001B[0;34m:\u001B[0m\u001B[0;34m\u001B[0m\u001B[0;34m\u001B[0m\u001B[0m\n\u001B[1;32m     10\u001B[0m         \u001B[0mremainder\u001B[0m \u001B[0;34m=\u001B[0m \u001B[0mtargetSum\u001B[0m \u001B[0;34m-\u001B[0m \u001B[0mnum\u001B[0m\u001B[0;34m\u001B[0m\u001B[0;34m\u001B[0m\u001B[0m\n\u001B[0;32m---> 11\u001B[0;31m         \u001B[0mremainderCombination\u001B[0m \u001B[0;34m=\u001B[0m \u001B[0mbestSum\u001B[0m\u001B[0;34m(\u001B[0m\u001B[0mremainder\u001B[0m\u001B[0;34m,\u001B[0m \u001B[0mnumbers\u001B[0m\u001B[0;34m)\u001B[0m\u001B[0;34m\u001B[0m\u001B[0;34m\u001B[0m\u001B[0m\n\u001B[0m\u001B[1;32m     12\u001B[0m         \u001B[0;32mif\u001B[0m \u001B[0;34m(\u001B[0m\u001B[0mremainderCombination\u001B[0m \u001B[0;32mis\u001B[0m \u001B[0;32mnot\u001B[0m \u001B[0;32mNone\u001B[0m\u001B[0;34m)\u001B[0m\u001B[0;34m:\u001B[0m\u001B[0;34m\u001B[0m\u001B[0;34m\u001B[0m\u001B[0m\n\u001B[1;32m     13\u001B[0m             \u001B[0mcombination\u001B[0m \u001B[0;34m=\u001B[0m \u001B[0mremainderCombination\u001B[0m \u001B[0;34m+\u001B[0m \u001B[0;34m[\u001B[0m\u001B[0mnum\u001B[0m\u001B[0;34m]\u001B[0m\u001B[0;34m\u001B[0m\u001B[0;34m\u001B[0m\u001B[0m\n",
      "\u001B[0;32m<ipython-input-4-7c1be54291d6>\u001B[0m in \u001B[0;36mbestSum\u001B[0;34m(targetSum, numbers)\u001B[0m\n\u001B[1;32m      9\u001B[0m     \u001B[0;32mfor\u001B[0m \u001B[0mnum\u001B[0m \u001B[0;32min\u001B[0m \u001B[0mnumbers\u001B[0m\u001B[0;34m:\u001B[0m\u001B[0;34m\u001B[0m\u001B[0;34m\u001B[0m\u001B[0m\n\u001B[1;32m     10\u001B[0m         \u001B[0mremainder\u001B[0m \u001B[0;34m=\u001B[0m \u001B[0mtargetSum\u001B[0m \u001B[0;34m-\u001B[0m \u001B[0mnum\u001B[0m\u001B[0;34m\u001B[0m\u001B[0;34m\u001B[0m\u001B[0m\n\u001B[0;32m---> 11\u001B[0;31m         \u001B[0mremainderCombination\u001B[0m \u001B[0;34m=\u001B[0m \u001B[0mbestSum\u001B[0m\u001B[0;34m(\u001B[0m\u001B[0mremainder\u001B[0m\u001B[0;34m,\u001B[0m \u001B[0mnumbers\u001B[0m\u001B[0;34m)\u001B[0m\u001B[0;34m\u001B[0m\u001B[0;34m\u001B[0m\u001B[0m\n\u001B[0m\u001B[1;32m     12\u001B[0m         \u001B[0;32mif\u001B[0m \u001B[0;34m(\u001B[0m\u001B[0mremainderCombination\u001B[0m \u001B[0;32mis\u001B[0m \u001B[0;32mnot\u001B[0m \u001B[0;32mNone\u001B[0m\u001B[0;34m)\u001B[0m\u001B[0;34m:\u001B[0m\u001B[0;34m\u001B[0m\u001B[0;34m\u001B[0m\u001B[0m\n\u001B[1;32m     13\u001B[0m             \u001B[0mcombination\u001B[0m \u001B[0;34m=\u001B[0m \u001B[0mremainderCombination\u001B[0m \u001B[0;34m+\u001B[0m \u001B[0;34m[\u001B[0m\u001B[0mnum\u001B[0m\u001B[0;34m]\u001B[0m\u001B[0;34m\u001B[0m\u001B[0;34m\u001B[0m\u001B[0m\n",
      "\u001B[0;32m<ipython-input-4-7c1be54291d6>\u001B[0m in \u001B[0;36mbestSum\u001B[0;34m(targetSum, numbers)\u001B[0m\n\u001B[1;32m      9\u001B[0m     \u001B[0;32mfor\u001B[0m \u001B[0mnum\u001B[0m \u001B[0;32min\u001B[0m \u001B[0mnumbers\u001B[0m\u001B[0;34m:\u001B[0m\u001B[0;34m\u001B[0m\u001B[0;34m\u001B[0m\u001B[0m\n\u001B[1;32m     10\u001B[0m         \u001B[0mremainder\u001B[0m \u001B[0;34m=\u001B[0m \u001B[0mtargetSum\u001B[0m \u001B[0;34m-\u001B[0m \u001B[0mnum\u001B[0m\u001B[0;34m\u001B[0m\u001B[0;34m\u001B[0m\u001B[0m\n\u001B[0;32m---> 11\u001B[0;31m         \u001B[0mremainderCombination\u001B[0m \u001B[0;34m=\u001B[0m \u001B[0mbestSum\u001B[0m\u001B[0;34m(\u001B[0m\u001B[0mremainder\u001B[0m\u001B[0;34m,\u001B[0m \u001B[0mnumbers\u001B[0m\u001B[0;34m)\u001B[0m\u001B[0;34m\u001B[0m\u001B[0;34m\u001B[0m\u001B[0m\n\u001B[0m\u001B[1;32m     12\u001B[0m         \u001B[0;32mif\u001B[0m \u001B[0;34m(\u001B[0m\u001B[0mremainderCombination\u001B[0m \u001B[0;32mis\u001B[0m \u001B[0;32mnot\u001B[0m \u001B[0;32mNone\u001B[0m\u001B[0;34m)\u001B[0m\u001B[0;34m:\u001B[0m\u001B[0;34m\u001B[0m\u001B[0;34m\u001B[0m\u001B[0m\n\u001B[1;32m     13\u001B[0m             \u001B[0mcombination\u001B[0m \u001B[0;34m=\u001B[0m \u001B[0mremainderCombination\u001B[0m \u001B[0;34m+\u001B[0m \u001B[0;34m[\u001B[0m\u001B[0mnum\u001B[0m\u001B[0;34m]\u001B[0m\u001B[0;34m\u001B[0m\u001B[0;34m\u001B[0m\u001B[0m\n",
      "\u001B[0;32m<ipython-input-4-7c1be54291d6>\u001B[0m in \u001B[0;36mbestSum\u001B[0;34m(targetSum, numbers)\u001B[0m\n\u001B[1;32m      9\u001B[0m     \u001B[0;32mfor\u001B[0m \u001B[0mnum\u001B[0m \u001B[0;32min\u001B[0m \u001B[0mnumbers\u001B[0m\u001B[0;34m:\u001B[0m\u001B[0;34m\u001B[0m\u001B[0;34m\u001B[0m\u001B[0m\n\u001B[1;32m     10\u001B[0m         \u001B[0mremainder\u001B[0m \u001B[0;34m=\u001B[0m \u001B[0mtargetSum\u001B[0m \u001B[0;34m-\u001B[0m \u001B[0mnum\u001B[0m\u001B[0;34m\u001B[0m\u001B[0;34m\u001B[0m\u001B[0m\n\u001B[0;32m---> 11\u001B[0;31m         \u001B[0mremainderCombination\u001B[0m \u001B[0;34m=\u001B[0m \u001B[0mbestSum\u001B[0m\u001B[0;34m(\u001B[0m\u001B[0mremainder\u001B[0m\u001B[0;34m,\u001B[0m \u001B[0mnumbers\u001B[0m\u001B[0;34m)\u001B[0m\u001B[0;34m\u001B[0m\u001B[0;34m\u001B[0m\u001B[0m\n\u001B[0m\u001B[1;32m     12\u001B[0m         \u001B[0;32mif\u001B[0m \u001B[0;34m(\u001B[0m\u001B[0mremainderCombination\u001B[0m \u001B[0;32mis\u001B[0m \u001B[0;32mnot\u001B[0m \u001B[0;32mNone\u001B[0m\u001B[0;34m)\u001B[0m\u001B[0;34m:\u001B[0m\u001B[0;34m\u001B[0m\u001B[0;34m\u001B[0m\u001B[0m\n\u001B[1;32m     13\u001B[0m             \u001B[0mcombination\u001B[0m \u001B[0;34m=\u001B[0m \u001B[0mremainderCombination\u001B[0m \u001B[0;34m+\u001B[0m \u001B[0;34m[\u001B[0m\u001B[0mnum\u001B[0m\u001B[0;34m]\u001B[0m\u001B[0;34m\u001B[0m\u001B[0;34m\u001B[0m\u001B[0m\n",
      "\u001B[0;32m<ipython-input-4-7c1be54291d6>\u001B[0m in \u001B[0;36mbestSum\u001B[0;34m(targetSum, numbers)\u001B[0m\n\u001B[1;32m      9\u001B[0m     \u001B[0;32mfor\u001B[0m \u001B[0mnum\u001B[0m \u001B[0;32min\u001B[0m \u001B[0mnumbers\u001B[0m\u001B[0;34m:\u001B[0m\u001B[0;34m\u001B[0m\u001B[0;34m\u001B[0m\u001B[0m\n\u001B[1;32m     10\u001B[0m         \u001B[0mremainder\u001B[0m \u001B[0;34m=\u001B[0m \u001B[0mtargetSum\u001B[0m \u001B[0;34m-\u001B[0m \u001B[0mnum\u001B[0m\u001B[0;34m\u001B[0m\u001B[0;34m\u001B[0m\u001B[0m\n\u001B[0;32m---> 11\u001B[0;31m         \u001B[0mremainderCombination\u001B[0m \u001B[0;34m=\u001B[0m \u001B[0mbestSum\u001B[0m\u001B[0;34m(\u001B[0m\u001B[0mremainder\u001B[0m\u001B[0;34m,\u001B[0m \u001B[0mnumbers\u001B[0m\u001B[0;34m)\u001B[0m\u001B[0;34m\u001B[0m\u001B[0;34m\u001B[0m\u001B[0m\n\u001B[0m\u001B[1;32m     12\u001B[0m         \u001B[0;32mif\u001B[0m \u001B[0;34m(\u001B[0m\u001B[0mremainderCombination\u001B[0m \u001B[0;32mis\u001B[0m \u001B[0;32mnot\u001B[0m \u001B[0;32mNone\u001B[0m\u001B[0;34m)\u001B[0m\u001B[0;34m:\u001B[0m\u001B[0;34m\u001B[0m\u001B[0;34m\u001B[0m\u001B[0m\n\u001B[1;32m     13\u001B[0m             \u001B[0mcombination\u001B[0m \u001B[0;34m=\u001B[0m \u001B[0mremainderCombination\u001B[0m \u001B[0;34m+\u001B[0m \u001B[0;34m[\u001B[0m\u001B[0mnum\u001B[0m\u001B[0;34m]\u001B[0m\u001B[0;34m\u001B[0m\u001B[0;34m\u001B[0m\u001B[0m\n",
      "\u001B[0;32m<ipython-input-4-7c1be54291d6>\u001B[0m in \u001B[0;36mbestSum\u001B[0;34m(targetSum, numbers)\u001B[0m\n\u001B[1;32m      9\u001B[0m     \u001B[0;32mfor\u001B[0m \u001B[0mnum\u001B[0m \u001B[0;32min\u001B[0m \u001B[0mnumbers\u001B[0m\u001B[0;34m:\u001B[0m\u001B[0;34m\u001B[0m\u001B[0;34m\u001B[0m\u001B[0m\n\u001B[1;32m     10\u001B[0m         \u001B[0mremainder\u001B[0m \u001B[0;34m=\u001B[0m \u001B[0mtargetSum\u001B[0m \u001B[0;34m-\u001B[0m \u001B[0mnum\u001B[0m\u001B[0;34m\u001B[0m\u001B[0;34m\u001B[0m\u001B[0m\n\u001B[0;32m---> 11\u001B[0;31m         \u001B[0mremainderCombination\u001B[0m \u001B[0;34m=\u001B[0m \u001B[0mbestSum\u001B[0m\u001B[0;34m(\u001B[0m\u001B[0mremainder\u001B[0m\u001B[0;34m,\u001B[0m \u001B[0mnumbers\u001B[0m\u001B[0;34m)\u001B[0m\u001B[0;34m\u001B[0m\u001B[0;34m\u001B[0m\u001B[0m\n\u001B[0m\u001B[1;32m     12\u001B[0m         \u001B[0;32mif\u001B[0m \u001B[0;34m(\u001B[0m\u001B[0mremainderCombination\u001B[0m \u001B[0;32mis\u001B[0m \u001B[0;32mnot\u001B[0m \u001B[0;32mNone\u001B[0m\u001B[0;34m)\u001B[0m\u001B[0;34m:\u001B[0m\u001B[0;34m\u001B[0m\u001B[0;34m\u001B[0m\u001B[0m\n\u001B[1;32m     13\u001B[0m             \u001B[0mcombination\u001B[0m \u001B[0;34m=\u001B[0m \u001B[0mremainderCombination\u001B[0m \u001B[0;34m+\u001B[0m \u001B[0;34m[\u001B[0m\u001B[0mnum\u001B[0m\u001B[0;34m]\u001B[0m\u001B[0;34m\u001B[0m\u001B[0;34m\u001B[0m\u001B[0m\n",
      "\u001B[0;32m<ipython-input-4-7c1be54291d6>\u001B[0m in \u001B[0;36mbestSum\u001B[0;34m(targetSum, numbers)\u001B[0m\n\u001B[1;32m      9\u001B[0m     \u001B[0;32mfor\u001B[0m \u001B[0mnum\u001B[0m \u001B[0;32min\u001B[0m \u001B[0mnumbers\u001B[0m\u001B[0;34m:\u001B[0m\u001B[0;34m\u001B[0m\u001B[0;34m\u001B[0m\u001B[0m\n\u001B[1;32m     10\u001B[0m         \u001B[0mremainder\u001B[0m \u001B[0;34m=\u001B[0m \u001B[0mtargetSum\u001B[0m \u001B[0;34m-\u001B[0m \u001B[0mnum\u001B[0m\u001B[0;34m\u001B[0m\u001B[0;34m\u001B[0m\u001B[0m\n\u001B[0;32m---> 11\u001B[0;31m         \u001B[0mremainderCombination\u001B[0m \u001B[0;34m=\u001B[0m \u001B[0mbestSum\u001B[0m\u001B[0;34m(\u001B[0m\u001B[0mremainder\u001B[0m\u001B[0;34m,\u001B[0m \u001B[0mnumbers\u001B[0m\u001B[0;34m)\u001B[0m\u001B[0;34m\u001B[0m\u001B[0;34m\u001B[0m\u001B[0m\n\u001B[0m\u001B[1;32m     12\u001B[0m         \u001B[0;32mif\u001B[0m \u001B[0;34m(\u001B[0m\u001B[0mremainderCombination\u001B[0m \u001B[0;32mis\u001B[0m \u001B[0;32mnot\u001B[0m \u001B[0;32mNone\u001B[0m\u001B[0;34m)\u001B[0m\u001B[0;34m:\u001B[0m\u001B[0;34m\u001B[0m\u001B[0;34m\u001B[0m\u001B[0m\n\u001B[1;32m     13\u001B[0m             \u001B[0mcombination\u001B[0m \u001B[0;34m=\u001B[0m \u001B[0mremainderCombination\u001B[0m \u001B[0;34m+\u001B[0m \u001B[0;34m[\u001B[0m\u001B[0mnum\u001B[0m\u001B[0;34m]\u001B[0m\u001B[0;34m\u001B[0m\u001B[0;34m\u001B[0m\u001B[0m\n",
      "\u001B[0;32m<ipython-input-4-7c1be54291d6>\u001B[0m in \u001B[0;36mbestSum\u001B[0;34m(targetSum, numbers)\u001B[0m\n\u001B[1;32m      9\u001B[0m     \u001B[0;32mfor\u001B[0m \u001B[0mnum\u001B[0m \u001B[0;32min\u001B[0m \u001B[0mnumbers\u001B[0m\u001B[0;34m:\u001B[0m\u001B[0;34m\u001B[0m\u001B[0;34m\u001B[0m\u001B[0m\n\u001B[1;32m     10\u001B[0m         \u001B[0mremainder\u001B[0m \u001B[0;34m=\u001B[0m \u001B[0mtargetSum\u001B[0m \u001B[0;34m-\u001B[0m \u001B[0mnum\u001B[0m\u001B[0;34m\u001B[0m\u001B[0;34m\u001B[0m\u001B[0m\n\u001B[0;32m---> 11\u001B[0;31m         \u001B[0mremainderCombination\u001B[0m \u001B[0;34m=\u001B[0m \u001B[0mbestSum\u001B[0m\u001B[0;34m(\u001B[0m\u001B[0mremainder\u001B[0m\u001B[0;34m,\u001B[0m \u001B[0mnumbers\u001B[0m\u001B[0;34m)\u001B[0m\u001B[0;34m\u001B[0m\u001B[0;34m\u001B[0m\u001B[0m\n\u001B[0m\u001B[1;32m     12\u001B[0m         \u001B[0;32mif\u001B[0m \u001B[0;34m(\u001B[0m\u001B[0mremainderCombination\u001B[0m \u001B[0;32mis\u001B[0m \u001B[0;32mnot\u001B[0m \u001B[0;32mNone\u001B[0m\u001B[0;34m)\u001B[0m\u001B[0;34m:\u001B[0m\u001B[0;34m\u001B[0m\u001B[0;34m\u001B[0m\u001B[0m\n\u001B[1;32m     13\u001B[0m             \u001B[0mcombination\u001B[0m \u001B[0;34m=\u001B[0m \u001B[0mremainderCombination\u001B[0m \u001B[0;34m+\u001B[0m \u001B[0;34m[\u001B[0m\u001B[0mnum\u001B[0m\u001B[0;34m]\u001B[0m\u001B[0;34m\u001B[0m\u001B[0;34m\u001B[0m\u001B[0m\n",
      "\u001B[0;32m<ipython-input-4-7c1be54291d6>\u001B[0m in \u001B[0;36mbestSum\u001B[0;34m(targetSum, numbers)\u001B[0m\n\u001B[1;32m      9\u001B[0m     \u001B[0;32mfor\u001B[0m \u001B[0mnum\u001B[0m \u001B[0;32min\u001B[0m \u001B[0mnumbers\u001B[0m\u001B[0;34m:\u001B[0m\u001B[0;34m\u001B[0m\u001B[0;34m\u001B[0m\u001B[0m\n\u001B[1;32m     10\u001B[0m         \u001B[0mremainder\u001B[0m \u001B[0;34m=\u001B[0m \u001B[0mtargetSum\u001B[0m \u001B[0;34m-\u001B[0m \u001B[0mnum\u001B[0m\u001B[0;34m\u001B[0m\u001B[0;34m\u001B[0m\u001B[0m\n\u001B[0;32m---> 11\u001B[0;31m         \u001B[0mremainderCombination\u001B[0m \u001B[0;34m=\u001B[0m \u001B[0mbestSum\u001B[0m\u001B[0;34m(\u001B[0m\u001B[0mremainder\u001B[0m\u001B[0;34m,\u001B[0m \u001B[0mnumbers\u001B[0m\u001B[0;34m)\u001B[0m\u001B[0;34m\u001B[0m\u001B[0;34m\u001B[0m\u001B[0m\n\u001B[0m\u001B[1;32m     12\u001B[0m         \u001B[0;32mif\u001B[0m \u001B[0;34m(\u001B[0m\u001B[0mremainderCombination\u001B[0m \u001B[0;32mis\u001B[0m \u001B[0;32mnot\u001B[0m \u001B[0;32mNone\u001B[0m\u001B[0;34m)\u001B[0m\u001B[0;34m:\u001B[0m\u001B[0;34m\u001B[0m\u001B[0;34m\u001B[0m\u001B[0m\n\u001B[1;32m     13\u001B[0m             \u001B[0mcombination\u001B[0m \u001B[0;34m=\u001B[0m \u001B[0mremainderCombination\u001B[0m \u001B[0;34m+\u001B[0m \u001B[0;34m[\u001B[0m\u001B[0mnum\u001B[0m\u001B[0;34m]\u001B[0m\u001B[0;34m\u001B[0m\u001B[0;34m\u001B[0m\u001B[0m\n",
      "\u001B[0;32m<ipython-input-4-7c1be54291d6>\u001B[0m in \u001B[0;36mbestSum\u001B[0;34m(targetSum, numbers)\u001B[0m\n\u001B[1;32m      9\u001B[0m     \u001B[0;32mfor\u001B[0m \u001B[0mnum\u001B[0m \u001B[0;32min\u001B[0m \u001B[0mnumbers\u001B[0m\u001B[0;34m:\u001B[0m\u001B[0;34m\u001B[0m\u001B[0;34m\u001B[0m\u001B[0m\n\u001B[1;32m     10\u001B[0m         \u001B[0mremainder\u001B[0m \u001B[0;34m=\u001B[0m \u001B[0mtargetSum\u001B[0m \u001B[0;34m-\u001B[0m \u001B[0mnum\u001B[0m\u001B[0;34m\u001B[0m\u001B[0;34m\u001B[0m\u001B[0m\n\u001B[0;32m---> 11\u001B[0;31m         \u001B[0mremainderCombination\u001B[0m \u001B[0;34m=\u001B[0m \u001B[0mbestSum\u001B[0m\u001B[0;34m(\u001B[0m\u001B[0mremainder\u001B[0m\u001B[0;34m,\u001B[0m \u001B[0mnumbers\u001B[0m\u001B[0;34m)\u001B[0m\u001B[0;34m\u001B[0m\u001B[0;34m\u001B[0m\u001B[0m\n\u001B[0m\u001B[1;32m     12\u001B[0m         \u001B[0;32mif\u001B[0m \u001B[0;34m(\u001B[0m\u001B[0mremainderCombination\u001B[0m \u001B[0;32mis\u001B[0m \u001B[0;32mnot\u001B[0m \u001B[0;32mNone\u001B[0m\u001B[0;34m)\u001B[0m\u001B[0;34m:\u001B[0m\u001B[0;34m\u001B[0m\u001B[0;34m\u001B[0m\u001B[0m\n\u001B[1;32m     13\u001B[0m             \u001B[0mcombination\u001B[0m \u001B[0;34m=\u001B[0m \u001B[0mremainderCombination\u001B[0m \u001B[0;34m+\u001B[0m \u001B[0;34m[\u001B[0m\u001B[0mnum\u001B[0m\u001B[0;34m]\u001B[0m\u001B[0;34m\u001B[0m\u001B[0;34m\u001B[0m\u001B[0m\n",
      "\u001B[0;32m<ipython-input-4-7c1be54291d6>\u001B[0m in \u001B[0;36mbestSum\u001B[0;34m(targetSum, numbers)\u001B[0m\n\u001B[1;32m      9\u001B[0m     \u001B[0;32mfor\u001B[0m \u001B[0mnum\u001B[0m \u001B[0;32min\u001B[0m \u001B[0mnumbers\u001B[0m\u001B[0;34m:\u001B[0m\u001B[0;34m\u001B[0m\u001B[0;34m\u001B[0m\u001B[0m\n\u001B[1;32m     10\u001B[0m         \u001B[0mremainder\u001B[0m \u001B[0;34m=\u001B[0m \u001B[0mtargetSum\u001B[0m \u001B[0;34m-\u001B[0m \u001B[0mnum\u001B[0m\u001B[0;34m\u001B[0m\u001B[0;34m\u001B[0m\u001B[0m\n\u001B[0;32m---> 11\u001B[0;31m         \u001B[0mremainderCombination\u001B[0m \u001B[0;34m=\u001B[0m \u001B[0mbestSum\u001B[0m\u001B[0;34m(\u001B[0m\u001B[0mremainder\u001B[0m\u001B[0;34m,\u001B[0m \u001B[0mnumbers\u001B[0m\u001B[0;34m)\u001B[0m\u001B[0;34m\u001B[0m\u001B[0;34m\u001B[0m\u001B[0m\n\u001B[0m\u001B[1;32m     12\u001B[0m         \u001B[0;32mif\u001B[0m \u001B[0;34m(\u001B[0m\u001B[0mremainderCombination\u001B[0m \u001B[0;32mis\u001B[0m \u001B[0;32mnot\u001B[0m \u001B[0;32mNone\u001B[0m\u001B[0;34m)\u001B[0m\u001B[0;34m:\u001B[0m\u001B[0;34m\u001B[0m\u001B[0;34m\u001B[0m\u001B[0m\n\u001B[1;32m     13\u001B[0m             \u001B[0mcombination\u001B[0m \u001B[0;34m=\u001B[0m \u001B[0mremainderCombination\u001B[0m \u001B[0;34m+\u001B[0m \u001B[0;34m[\u001B[0m\u001B[0mnum\u001B[0m\u001B[0;34m]\u001B[0m\u001B[0;34m\u001B[0m\u001B[0;34m\u001B[0m\u001B[0m\n",
      "\u001B[0;32m<ipython-input-4-7c1be54291d6>\u001B[0m in \u001B[0;36mbestSum\u001B[0;34m(targetSum, numbers)\u001B[0m\n\u001B[1;32m      9\u001B[0m     \u001B[0;32mfor\u001B[0m \u001B[0mnum\u001B[0m \u001B[0;32min\u001B[0m \u001B[0mnumbers\u001B[0m\u001B[0;34m:\u001B[0m\u001B[0;34m\u001B[0m\u001B[0;34m\u001B[0m\u001B[0m\n\u001B[1;32m     10\u001B[0m         \u001B[0mremainder\u001B[0m \u001B[0;34m=\u001B[0m \u001B[0mtargetSum\u001B[0m \u001B[0;34m-\u001B[0m \u001B[0mnum\u001B[0m\u001B[0;34m\u001B[0m\u001B[0;34m\u001B[0m\u001B[0m\n\u001B[0;32m---> 11\u001B[0;31m         \u001B[0mremainderCombination\u001B[0m \u001B[0;34m=\u001B[0m \u001B[0mbestSum\u001B[0m\u001B[0;34m(\u001B[0m\u001B[0mremainder\u001B[0m\u001B[0;34m,\u001B[0m \u001B[0mnumbers\u001B[0m\u001B[0;34m)\u001B[0m\u001B[0;34m\u001B[0m\u001B[0;34m\u001B[0m\u001B[0m\n\u001B[0m\u001B[1;32m     12\u001B[0m         \u001B[0;32mif\u001B[0m \u001B[0;34m(\u001B[0m\u001B[0mremainderCombination\u001B[0m \u001B[0;32mis\u001B[0m \u001B[0;32mnot\u001B[0m \u001B[0;32mNone\u001B[0m\u001B[0;34m)\u001B[0m\u001B[0;34m:\u001B[0m\u001B[0;34m\u001B[0m\u001B[0;34m\u001B[0m\u001B[0m\n\u001B[1;32m     13\u001B[0m             \u001B[0mcombination\u001B[0m \u001B[0;34m=\u001B[0m \u001B[0mremainderCombination\u001B[0m \u001B[0;34m+\u001B[0m \u001B[0;34m[\u001B[0m\u001B[0mnum\u001B[0m\u001B[0;34m]\u001B[0m\u001B[0;34m\u001B[0m\u001B[0;34m\u001B[0m\u001B[0m\n",
      "\u001B[0;32m<ipython-input-4-7c1be54291d6>\u001B[0m in \u001B[0;36mbestSum\u001B[0;34m(targetSum, numbers)\u001B[0m\n\u001B[1;32m      9\u001B[0m     \u001B[0;32mfor\u001B[0m \u001B[0mnum\u001B[0m \u001B[0;32min\u001B[0m \u001B[0mnumbers\u001B[0m\u001B[0;34m:\u001B[0m\u001B[0;34m\u001B[0m\u001B[0;34m\u001B[0m\u001B[0m\n\u001B[1;32m     10\u001B[0m         \u001B[0mremainder\u001B[0m \u001B[0;34m=\u001B[0m \u001B[0mtargetSum\u001B[0m \u001B[0;34m-\u001B[0m \u001B[0mnum\u001B[0m\u001B[0;34m\u001B[0m\u001B[0;34m\u001B[0m\u001B[0m\n\u001B[0;32m---> 11\u001B[0;31m         \u001B[0mremainderCombination\u001B[0m \u001B[0;34m=\u001B[0m \u001B[0mbestSum\u001B[0m\u001B[0;34m(\u001B[0m\u001B[0mremainder\u001B[0m\u001B[0;34m,\u001B[0m \u001B[0mnumbers\u001B[0m\u001B[0;34m)\u001B[0m\u001B[0;34m\u001B[0m\u001B[0;34m\u001B[0m\u001B[0m\n\u001B[0m\u001B[1;32m     12\u001B[0m         \u001B[0;32mif\u001B[0m \u001B[0;34m(\u001B[0m\u001B[0mremainderCombination\u001B[0m \u001B[0;32mis\u001B[0m \u001B[0;32mnot\u001B[0m \u001B[0;32mNone\u001B[0m\u001B[0;34m)\u001B[0m\u001B[0;34m:\u001B[0m\u001B[0;34m\u001B[0m\u001B[0;34m\u001B[0m\u001B[0m\n\u001B[1;32m     13\u001B[0m             \u001B[0mcombination\u001B[0m \u001B[0;34m=\u001B[0m \u001B[0mremainderCombination\u001B[0m \u001B[0;34m+\u001B[0m \u001B[0;34m[\u001B[0m\u001B[0mnum\u001B[0m\u001B[0;34m]\u001B[0m\u001B[0;34m\u001B[0m\u001B[0;34m\u001B[0m\u001B[0m\n",
      "\u001B[0;32m<ipython-input-4-7c1be54291d6>\u001B[0m in \u001B[0;36mbestSum\u001B[0;34m(targetSum, numbers)\u001B[0m\n\u001B[1;32m      9\u001B[0m     \u001B[0;32mfor\u001B[0m \u001B[0mnum\u001B[0m \u001B[0;32min\u001B[0m \u001B[0mnumbers\u001B[0m\u001B[0;34m:\u001B[0m\u001B[0;34m\u001B[0m\u001B[0;34m\u001B[0m\u001B[0m\n\u001B[1;32m     10\u001B[0m         \u001B[0mremainder\u001B[0m \u001B[0;34m=\u001B[0m \u001B[0mtargetSum\u001B[0m \u001B[0;34m-\u001B[0m \u001B[0mnum\u001B[0m\u001B[0;34m\u001B[0m\u001B[0;34m\u001B[0m\u001B[0m\n\u001B[0;32m---> 11\u001B[0;31m         \u001B[0mremainderCombination\u001B[0m \u001B[0;34m=\u001B[0m \u001B[0mbestSum\u001B[0m\u001B[0;34m(\u001B[0m\u001B[0mremainder\u001B[0m\u001B[0;34m,\u001B[0m \u001B[0mnumbers\u001B[0m\u001B[0;34m)\u001B[0m\u001B[0;34m\u001B[0m\u001B[0;34m\u001B[0m\u001B[0m\n\u001B[0m\u001B[1;32m     12\u001B[0m         \u001B[0;32mif\u001B[0m \u001B[0;34m(\u001B[0m\u001B[0mremainderCombination\u001B[0m \u001B[0;32mis\u001B[0m \u001B[0;32mnot\u001B[0m \u001B[0;32mNone\u001B[0m\u001B[0;34m)\u001B[0m\u001B[0;34m:\u001B[0m\u001B[0;34m\u001B[0m\u001B[0;34m\u001B[0m\u001B[0m\n\u001B[1;32m     13\u001B[0m             \u001B[0mcombination\u001B[0m \u001B[0;34m=\u001B[0m \u001B[0mremainderCombination\u001B[0m \u001B[0;34m+\u001B[0m \u001B[0;34m[\u001B[0m\u001B[0mnum\u001B[0m\u001B[0;34m]\u001B[0m\u001B[0;34m\u001B[0m\u001B[0;34m\u001B[0m\u001B[0m\n",
      "\u001B[0;32m<ipython-input-4-7c1be54291d6>\u001B[0m in \u001B[0;36mbestSum\u001B[0;34m(targetSum, numbers)\u001B[0m\n\u001B[1;32m      9\u001B[0m     \u001B[0;32mfor\u001B[0m \u001B[0mnum\u001B[0m \u001B[0;32min\u001B[0m \u001B[0mnumbers\u001B[0m\u001B[0;34m:\u001B[0m\u001B[0;34m\u001B[0m\u001B[0;34m\u001B[0m\u001B[0m\n\u001B[1;32m     10\u001B[0m         \u001B[0mremainder\u001B[0m \u001B[0;34m=\u001B[0m \u001B[0mtargetSum\u001B[0m \u001B[0;34m-\u001B[0m \u001B[0mnum\u001B[0m\u001B[0;34m\u001B[0m\u001B[0;34m\u001B[0m\u001B[0m\n\u001B[0;32m---> 11\u001B[0;31m         \u001B[0mremainderCombination\u001B[0m \u001B[0;34m=\u001B[0m \u001B[0mbestSum\u001B[0m\u001B[0;34m(\u001B[0m\u001B[0mremainder\u001B[0m\u001B[0;34m,\u001B[0m \u001B[0mnumbers\u001B[0m\u001B[0;34m)\u001B[0m\u001B[0;34m\u001B[0m\u001B[0;34m\u001B[0m\u001B[0m\n\u001B[0m\u001B[1;32m     12\u001B[0m         \u001B[0;32mif\u001B[0m \u001B[0;34m(\u001B[0m\u001B[0mremainderCombination\u001B[0m \u001B[0;32mis\u001B[0m \u001B[0;32mnot\u001B[0m \u001B[0;32mNone\u001B[0m\u001B[0;34m)\u001B[0m\u001B[0;34m:\u001B[0m\u001B[0;34m\u001B[0m\u001B[0;34m\u001B[0m\u001B[0m\n\u001B[1;32m     13\u001B[0m             \u001B[0mcombination\u001B[0m \u001B[0;34m=\u001B[0m \u001B[0mremainderCombination\u001B[0m \u001B[0;34m+\u001B[0m \u001B[0;34m[\u001B[0m\u001B[0mnum\u001B[0m\u001B[0;34m]\u001B[0m\u001B[0;34m\u001B[0m\u001B[0;34m\u001B[0m\u001B[0m\n",
      "\u001B[0;32m<ipython-input-4-7c1be54291d6>\u001B[0m in \u001B[0;36mbestSum\u001B[0;34m(targetSum, numbers)\u001B[0m\n\u001B[1;32m      9\u001B[0m     \u001B[0;32mfor\u001B[0m \u001B[0mnum\u001B[0m \u001B[0;32min\u001B[0m \u001B[0mnumbers\u001B[0m\u001B[0;34m:\u001B[0m\u001B[0;34m\u001B[0m\u001B[0;34m\u001B[0m\u001B[0m\n\u001B[1;32m     10\u001B[0m         \u001B[0mremainder\u001B[0m \u001B[0;34m=\u001B[0m \u001B[0mtargetSum\u001B[0m \u001B[0;34m-\u001B[0m \u001B[0mnum\u001B[0m\u001B[0;34m\u001B[0m\u001B[0;34m\u001B[0m\u001B[0m\n\u001B[0;32m---> 11\u001B[0;31m         \u001B[0mremainderCombination\u001B[0m \u001B[0;34m=\u001B[0m \u001B[0mbestSum\u001B[0m\u001B[0;34m(\u001B[0m\u001B[0mremainder\u001B[0m\u001B[0;34m,\u001B[0m \u001B[0mnumbers\u001B[0m\u001B[0;34m)\u001B[0m\u001B[0;34m\u001B[0m\u001B[0;34m\u001B[0m\u001B[0m\n\u001B[0m\u001B[1;32m     12\u001B[0m         \u001B[0;32mif\u001B[0m \u001B[0;34m(\u001B[0m\u001B[0mremainderCombination\u001B[0m \u001B[0;32mis\u001B[0m \u001B[0;32mnot\u001B[0m \u001B[0;32mNone\u001B[0m\u001B[0;34m)\u001B[0m\u001B[0;34m:\u001B[0m\u001B[0;34m\u001B[0m\u001B[0;34m\u001B[0m\u001B[0m\n\u001B[1;32m     13\u001B[0m             \u001B[0mcombination\u001B[0m \u001B[0;34m=\u001B[0m \u001B[0mremainderCombination\u001B[0m \u001B[0;34m+\u001B[0m \u001B[0;34m[\u001B[0m\u001B[0mnum\u001B[0m\u001B[0;34m]\u001B[0m\u001B[0;34m\u001B[0m\u001B[0;34m\u001B[0m\u001B[0m\n",
      "\u001B[0;32m<ipython-input-4-7c1be54291d6>\u001B[0m in \u001B[0;36mbestSum\u001B[0;34m(targetSum, numbers)\u001B[0m\n\u001B[1;32m      9\u001B[0m     \u001B[0;32mfor\u001B[0m \u001B[0mnum\u001B[0m \u001B[0;32min\u001B[0m \u001B[0mnumbers\u001B[0m\u001B[0;34m:\u001B[0m\u001B[0;34m\u001B[0m\u001B[0;34m\u001B[0m\u001B[0m\n\u001B[1;32m     10\u001B[0m         \u001B[0mremainder\u001B[0m \u001B[0;34m=\u001B[0m \u001B[0mtargetSum\u001B[0m \u001B[0;34m-\u001B[0m \u001B[0mnum\u001B[0m\u001B[0;34m\u001B[0m\u001B[0;34m\u001B[0m\u001B[0m\n\u001B[0;32m---> 11\u001B[0;31m         \u001B[0mremainderCombination\u001B[0m \u001B[0;34m=\u001B[0m \u001B[0mbestSum\u001B[0m\u001B[0;34m(\u001B[0m\u001B[0mremainder\u001B[0m\u001B[0;34m,\u001B[0m \u001B[0mnumbers\u001B[0m\u001B[0;34m)\u001B[0m\u001B[0;34m\u001B[0m\u001B[0;34m\u001B[0m\u001B[0m\n\u001B[0m\u001B[1;32m     12\u001B[0m         \u001B[0;32mif\u001B[0m \u001B[0;34m(\u001B[0m\u001B[0mremainderCombination\u001B[0m \u001B[0;32mis\u001B[0m \u001B[0;32mnot\u001B[0m \u001B[0;32mNone\u001B[0m\u001B[0;34m)\u001B[0m\u001B[0;34m:\u001B[0m\u001B[0;34m\u001B[0m\u001B[0;34m\u001B[0m\u001B[0m\n\u001B[1;32m     13\u001B[0m             \u001B[0mcombination\u001B[0m \u001B[0;34m=\u001B[0m \u001B[0mremainderCombination\u001B[0m \u001B[0;34m+\u001B[0m \u001B[0;34m[\u001B[0m\u001B[0mnum\u001B[0m\u001B[0;34m]\u001B[0m\u001B[0;34m\u001B[0m\u001B[0;34m\u001B[0m\u001B[0m\n",
      "\u001B[0;32m<ipython-input-4-7c1be54291d6>\u001B[0m in \u001B[0;36mbestSum\u001B[0;34m(targetSum, numbers)\u001B[0m\n\u001B[1;32m      9\u001B[0m     \u001B[0;32mfor\u001B[0m \u001B[0mnum\u001B[0m \u001B[0;32min\u001B[0m \u001B[0mnumbers\u001B[0m\u001B[0;34m:\u001B[0m\u001B[0;34m\u001B[0m\u001B[0;34m\u001B[0m\u001B[0m\n\u001B[1;32m     10\u001B[0m         \u001B[0mremainder\u001B[0m \u001B[0;34m=\u001B[0m \u001B[0mtargetSum\u001B[0m \u001B[0;34m-\u001B[0m \u001B[0mnum\u001B[0m\u001B[0;34m\u001B[0m\u001B[0;34m\u001B[0m\u001B[0m\n\u001B[0;32m---> 11\u001B[0;31m         \u001B[0mremainderCombination\u001B[0m \u001B[0;34m=\u001B[0m \u001B[0mbestSum\u001B[0m\u001B[0;34m(\u001B[0m\u001B[0mremainder\u001B[0m\u001B[0;34m,\u001B[0m \u001B[0mnumbers\u001B[0m\u001B[0;34m)\u001B[0m\u001B[0;34m\u001B[0m\u001B[0;34m\u001B[0m\u001B[0m\n\u001B[0m\u001B[1;32m     12\u001B[0m         \u001B[0;32mif\u001B[0m \u001B[0;34m(\u001B[0m\u001B[0mremainderCombination\u001B[0m \u001B[0;32mis\u001B[0m \u001B[0;32mnot\u001B[0m \u001B[0;32mNone\u001B[0m\u001B[0;34m)\u001B[0m\u001B[0;34m:\u001B[0m\u001B[0;34m\u001B[0m\u001B[0;34m\u001B[0m\u001B[0m\n\u001B[1;32m     13\u001B[0m             \u001B[0mcombination\u001B[0m \u001B[0;34m=\u001B[0m \u001B[0mremainderCombination\u001B[0m \u001B[0;34m+\u001B[0m \u001B[0;34m[\u001B[0m\u001B[0mnum\u001B[0m\u001B[0;34m]\u001B[0m\u001B[0;34m\u001B[0m\u001B[0;34m\u001B[0m\u001B[0m\n",
      "\u001B[0;32m<ipython-input-4-7c1be54291d6>\u001B[0m in \u001B[0;36mbestSum\u001B[0;34m(targetSum, numbers)\u001B[0m\n\u001B[1;32m      9\u001B[0m     \u001B[0;32mfor\u001B[0m \u001B[0mnum\u001B[0m \u001B[0;32min\u001B[0m \u001B[0mnumbers\u001B[0m\u001B[0;34m:\u001B[0m\u001B[0;34m\u001B[0m\u001B[0;34m\u001B[0m\u001B[0m\n\u001B[1;32m     10\u001B[0m         \u001B[0mremainder\u001B[0m \u001B[0;34m=\u001B[0m \u001B[0mtargetSum\u001B[0m \u001B[0;34m-\u001B[0m \u001B[0mnum\u001B[0m\u001B[0;34m\u001B[0m\u001B[0;34m\u001B[0m\u001B[0m\n\u001B[0;32m---> 11\u001B[0;31m         \u001B[0mremainderCombination\u001B[0m \u001B[0;34m=\u001B[0m \u001B[0mbestSum\u001B[0m\u001B[0;34m(\u001B[0m\u001B[0mremainder\u001B[0m\u001B[0;34m,\u001B[0m \u001B[0mnumbers\u001B[0m\u001B[0;34m)\u001B[0m\u001B[0;34m\u001B[0m\u001B[0;34m\u001B[0m\u001B[0m\n\u001B[0m\u001B[1;32m     12\u001B[0m         \u001B[0;32mif\u001B[0m \u001B[0;34m(\u001B[0m\u001B[0mremainderCombination\u001B[0m \u001B[0;32mis\u001B[0m \u001B[0;32mnot\u001B[0m \u001B[0;32mNone\u001B[0m\u001B[0;34m)\u001B[0m\u001B[0;34m:\u001B[0m\u001B[0;34m\u001B[0m\u001B[0;34m\u001B[0m\u001B[0m\n\u001B[1;32m     13\u001B[0m             \u001B[0mcombination\u001B[0m \u001B[0;34m=\u001B[0m \u001B[0mremainderCombination\u001B[0m \u001B[0;34m+\u001B[0m \u001B[0;34m[\u001B[0m\u001B[0mnum\u001B[0m\u001B[0;34m]\u001B[0m\u001B[0;34m\u001B[0m\u001B[0;34m\u001B[0m\u001B[0m\n",
      "\u001B[0;32m<ipython-input-4-7c1be54291d6>\u001B[0m in \u001B[0;36mbestSum\u001B[0;34m(targetSum, numbers)\u001B[0m\n\u001B[1;32m      9\u001B[0m     \u001B[0;32mfor\u001B[0m \u001B[0mnum\u001B[0m \u001B[0;32min\u001B[0m \u001B[0mnumbers\u001B[0m\u001B[0;34m:\u001B[0m\u001B[0;34m\u001B[0m\u001B[0;34m\u001B[0m\u001B[0m\n\u001B[1;32m     10\u001B[0m         \u001B[0mremainder\u001B[0m \u001B[0;34m=\u001B[0m \u001B[0mtargetSum\u001B[0m \u001B[0;34m-\u001B[0m \u001B[0mnum\u001B[0m\u001B[0;34m\u001B[0m\u001B[0;34m\u001B[0m\u001B[0m\n\u001B[0;32m---> 11\u001B[0;31m         \u001B[0mremainderCombination\u001B[0m \u001B[0;34m=\u001B[0m \u001B[0mbestSum\u001B[0m\u001B[0;34m(\u001B[0m\u001B[0mremainder\u001B[0m\u001B[0;34m,\u001B[0m \u001B[0mnumbers\u001B[0m\u001B[0;34m)\u001B[0m\u001B[0;34m\u001B[0m\u001B[0;34m\u001B[0m\u001B[0m\n\u001B[0m\u001B[1;32m     12\u001B[0m         \u001B[0;32mif\u001B[0m \u001B[0;34m(\u001B[0m\u001B[0mremainderCombination\u001B[0m \u001B[0;32mis\u001B[0m \u001B[0;32mnot\u001B[0m \u001B[0;32mNone\u001B[0m\u001B[0;34m)\u001B[0m\u001B[0;34m:\u001B[0m\u001B[0;34m\u001B[0m\u001B[0;34m\u001B[0m\u001B[0m\n\u001B[1;32m     13\u001B[0m             \u001B[0mcombination\u001B[0m \u001B[0;34m=\u001B[0m \u001B[0mremainderCombination\u001B[0m \u001B[0;34m+\u001B[0m \u001B[0;34m[\u001B[0m\u001B[0mnum\u001B[0m\u001B[0;34m]\u001B[0m\u001B[0;34m\u001B[0m\u001B[0;34m\u001B[0m\u001B[0m\n",
      "\u001B[0;32m<ipython-input-4-7c1be54291d6>\u001B[0m in \u001B[0;36mbestSum\u001B[0;34m(targetSum, numbers)\u001B[0m\n\u001B[1;32m      9\u001B[0m     \u001B[0;32mfor\u001B[0m \u001B[0mnum\u001B[0m \u001B[0;32min\u001B[0m \u001B[0mnumbers\u001B[0m\u001B[0;34m:\u001B[0m\u001B[0;34m\u001B[0m\u001B[0;34m\u001B[0m\u001B[0m\n\u001B[1;32m     10\u001B[0m         \u001B[0mremainder\u001B[0m \u001B[0;34m=\u001B[0m \u001B[0mtargetSum\u001B[0m \u001B[0;34m-\u001B[0m \u001B[0mnum\u001B[0m\u001B[0;34m\u001B[0m\u001B[0;34m\u001B[0m\u001B[0m\n\u001B[0;32m---> 11\u001B[0;31m         \u001B[0mremainderCombination\u001B[0m \u001B[0;34m=\u001B[0m \u001B[0mbestSum\u001B[0m\u001B[0;34m(\u001B[0m\u001B[0mremainder\u001B[0m\u001B[0;34m,\u001B[0m \u001B[0mnumbers\u001B[0m\u001B[0;34m)\u001B[0m\u001B[0;34m\u001B[0m\u001B[0;34m\u001B[0m\u001B[0m\n\u001B[0m\u001B[1;32m     12\u001B[0m         \u001B[0;32mif\u001B[0m \u001B[0;34m(\u001B[0m\u001B[0mremainderCombination\u001B[0m \u001B[0;32mis\u001B[0m \u001B[0;32mnot\u001B[0m \u001B[0;32mNone\u001B[0m\u001B[0;34m)\u001B[0m\u001B[0;34m:\u001B[0m\u001B[0;34m\u001B[0m\u001B[0;34m\u001B[0m\u001B[0m\n\u001B[1;32m     13\u001B[0m             \u001B[0mcombination\u001B[0m \u001B[0;34m=\u001B[0m \u001B[0mremainderCombination\u001B[0m \u001B[0;34m+\u001B[0m \u001B[0;34m[\u001B[0m\u001B[0mnum\u001B[0m\u001B[0;34m]\u001B[0m\u001B[0;34m\u001B[0m\u001B[0;34m\u001B[0m\u001B[0m\n",
      "\u001B[0;32m<ipython-input-4-7c1be54291d6>\u001B[0m in \u001B[0;36mbestSum\u001B[0;34m(targetSum, numbers)\u001B[0m\n\u001B[1;32m      9\u001B[0m     \u001B[0;32mfor\u001B[0m \u001B[0mnum\u001B[0m \u001B[0;32min\u001B[0m \u001B[0mnumbers\u001B[0m\u001B[0;34m:\u001B[0m\u001B[0;34m\u001B[0m\u001B[0;34m\u001B[0m\u001B[0m\n\u001B[1;32m     10\u001B[0m         \u001B[0mremainder\u001B[0m \u001B[0;34m=\u001B[0m \u001B[0mtargetSum\u001B[0m \u001B[0;34m-\u001B[0m \u001B[0mnum\u001B[0m\u001B[0;34m\u001B[0m\u001B[0;34m\u001B[0m\u001B[0m\n\u001B[0;32m---> 11\u001B[0;31m         \u001B[0mremainderCombination\u001B[0m \u001B[0;34m=\u001B[0m \u001B[0mbestSum\u001B[0m\u001B[0;34m(\u001B[0m\u001B[0mremainder\u001B[0m\u001B[0;34m,\u001B[0m \u001B[0mnumbers\u001B[0m\u001B[0;34m)\u001B[0m\u001B[0;34m\u001B[0m\u001B[0;34m\u001B[0m\u001B[0m\n\u001B[0m\u001B[1;32m     12\u001B[0m         \u001B[0;32mif\u001B[0m \u001B[0;34m(\u001B[0m\u001B[0mremainderCombination\u001B[0m \u001B[0;32mis\u001B[0m \u001B[0;32mnot\u001B[0m \u001B[0;32mNone\u001B[0m\u001B[0;34m)\u001B[0m\u001B[0;34m:\u001B[0m\u001B[0;34m\u001B[0m\u001B[0;34m\u001B[0m\u001B[0m\n\u001B[1;32m     13\u001B[0m             \u001B[0mcombination\u001B[0m \u001B[0;34m=\u001B[0m \u001B[0mremainderCombination\u001B[0m \u001B[0;34m+\u001B[0m \u001B[0;34m[\u001B[0m\u001B[0mnum\u001B[0m\u001B[0;34m]\u001B[0m\u001B[0;34m\u001B[0m\u001B[0;34m\u001B[0m\u001B[0m\n",
      "\u001B[0;32m<ipython-input-4-7c1be54291d6>\u001B[0m in \u001B[0;36mbestSum\u001B[0;34m(targetSum, numbers)\u001B[0m\n\u001B[1;32m      9\u001B[0m     \u001B[0;32mfor\u001B[0m \u001B[0mnum\u001B[0m \u001B[0;32min\u001B[0m \u001B[0mnumbers\u001B[0m\u001B[0;34m:\u001B[0m\u001B[0;34m\u001B[0m\u001B[0;34m\u001B[0m\u001B[0m\n\u001B[1;32m     10\u001B[0m         \u001B[0mremainder\u001B[0m \u001B[0;34m=\u001B[0m \u001B[0mtargetSum\u001B[0m \u001B[0;34m-\u001B[0m \u001B[0mnum\u001B[0m\u001B[0;34m\u001B[0m\u001B[0;34m\u001B[0m\u001B[0m\n\u001B[0;32m---> 11\u001B[0;31m         \u001B[0mremainderCombination\u001B[0m \u001B[0;34m=\u001B[0m \u001B[0mbestSum\u001B[0m\u001B[0;34m(\u001B[0m\u001B[0mremainder\u001B[0m\u001B[0;34m,\u001B[0m \u001B[0mnumbers\u001B[0m\u001B[0;34m)\u001B[0m\u001B[0;34m\u001B[0m\u001B[0;34m\u001B[0m\u001B[0m\n\u001B[0m\u001B[1;32m     12\u001B[0m         \u001B[0;32mif\u001B[0m \u001B[0;34m(\u001B[0m\u001B[0mremainderCombination\u001B[0m \u001B[0;32mis\u001B[0m \u001B[0;32mnot\u001B[0m \u001B[0;32mNone\u001B[0m\u001B[0;34m)\u001B[0m\u001B[0;34m:\u001B[0m\u001B[0;34m\u001B[0m\u001B[0;34m\u001B[0m\u001B[0m\n\u001B[1;32m     13\u001B[0m             \u001B[0mcombination\u001B[0m \u001B[0;34m=\u001B[0m \u001B[0mremainderCombination\u001B[0m \u001B[0;34m+\u001B[0m \u001B[0;34m[\u001B[0m\u001B[0mnum\u001B[0m\u001B[0;34m]\u001B[0m\u001B[0;34m\u001B[0m\u001B[0;34m\u001B[0m\u001B[0m\n",
      "\u001B[0;32m<ipython-input-4-7c1be54291d6>\u001B[0m in \u001B[0;36mbestSum\u001B[0;34m(targetSum, numbers)\u001B[0m\n\u001B[1;32m      9\u001B[0m     \u001B[0;32mfor\u001B[0m \u001B[0mnum\u001B[0m \u001B[0;32min\u001B[0m \u001B[0mnumbers\u001B[0m\u001B[0;34m:\u001B[0m\u001B[0;34m\u001B[0m\u001B[0;34m\u001B[0m\u001B[0m\n\u001B[1;32m     10\u001B[0m         \u001B[0mremainder\u001B[0m \u001B[0;34m=\u001B[0m \u001B[0mtargetSum\u001B[0m \u001B[0;34m-\u001B[0m \u001B[0mnum\u001B[0m\u001B[0;34m\u001B[0m\u001B[0;34m\u001B[0m\u001B[0m\n\u001B[0;32m---> 11\u001B[0;31m         \u001B[0mremainderCombination\u001B[0m \u001B[0;34m=\u001B[0m \u001B[0mbestSum\u001B[0m\u001B[0;34m(\u001B[0m\u001B[0mremainder\u001B[0m\u001B[0;34m,\u001B[0m \u001B[0mnumbers\u001B[0m\u001B[0;34m)\u001B[0m\u001B[0;34m\u001B[0m\u001B[0;34m\u001B[0m\u001B[0m\n\u001B[0m\u001B[1;32m     12\u001B[0m         \u001B[0;32mif\u001B[0m \u001B[0;34m(\u001B[0m\u001B[0mremainderCombination\u001B[0m \u001B[0;32mis\u001B[0m \u001B[0;32mnot\u001B[0m \u001B[0;32mNone\u001B[0m\u001B[0;34m)\u001B[0m\u001B[0;34m:\u001B[0m\u001B[0;34m\u001B[0m\u001B[0;34m\u001B[0m\u001B[0m\n\u001B[1;32m     13\u001B[0m             \u001B[0mcombination\u001B[0m \u001B[0;34m=\u001B[0m \u001B[0mremainderCombination\u001B[0m \u001B[0;34m+\u001B[0m \u001B[0;34m[\u001B[0m\u001B[0mnum\u001B[0m\u001B[0;34m]\u001B[0m\u001B[0;34m\u001B[0m\u001B[0;34m\u001B[0m\u001B[0m\n",
      "\u001B[0;32m<ipython-input-4-7c1be54291d6>\u001B[0m in \u001B[0;36mbestSum\u001B[0;34m(targetSum, numbers)\u001B[0m\n\u001B[1;32m      9\u001B[0m     \u001B[0;32mfor\u001B[0m \u001B[0mnum\u001B[0m \u001B[0;32min\u001B[0m \u001B[0mnumbers\u001B[0m\u001B[0;34m:\u001B[0m\u001B[0;34m\u001B[0m\u001B[0;34m\u001B[0m\u001B[0m\n\u001B[1;32m     10\u001B[0m         \u001B[0mremainder\u001B[0m \u001B[0;34m=\u001B[0m \u001B[0mtargetSum\u001B[0m \u001B[0;34m-\u001B[0m \u001B[0mnum\u001B[0m\u001B[0;34m\u001B[0m\u001B[0;34m\u001B[0m\u001B[0m\n\u001B[0;32m---> 11\u001B[0;31m         \u001B[0mremainderCombination\u001B[0m \u001B[0;34m=\u001B[0m \u001B[0mbestSum\u001B[0m\u001B[0;34m(\u001B[0m\u001B[0mremainder\u001B[0m\u001B[0;34m,\u001B[0m \u001B[0mnumbers\u001B[0m\u001B[0;34m)\u001B[0m\u001B[0;34m\u001B[0m\u001B[0;34m\u001B[0m\u001B[0m\n\u001B[0m\u001B[1;32m     12\u001B[0m         \u001B[0;32mif\u001B[0m \u001B[0;34m(\u001B[0m\u001B[0mremainderCombination\u001B[0m \u001B[0;32mis\u001B[0m \u001B[0;32mnot\u001B[0m \u001B[0;32mNone\u001B[0m\u001B[0;34m)\u001B[0m\u001B[0;34m:\u001B[0m\u001B[0;34m\u001B[0m\u001B[0;34m\u001B[0m\u001B[0m\n\u001B[1;32m     13\u001B[0m             \u001B[0mcombination\u001B[0m \u001B[0;34m=\u001B[0m \u001B[0mremainderCombination\u001B[0m \u001B[0;34m+\u001B[0m \u001B[0;34m[\u001B[0m\u001B[0mnum\u001B[0m\u001B[0;34m]\u001B[0m\u001B[0;34m\u001B[0m\u001B[0;34m\u001B[0m\u001B[0m\n",
      "\u001B[0;32m<ipython-input-4-7c1be54291d6>\u001B[0m in \u001B[0;36mbestSum\u001B[0;34m(targetSum, numbers)\u001B[0m\n\u001B[1;32m      9\u001B[0m     \u001B[0;32mfor\u001B[0m \u001B[0mnum\u001B[0m \u001B[0;32min\u001B[0m \u001B[0mnumbers\u001B[0m\u001B[0;34m:\u001B[0m\u001B[0;34m\u001B[0m\u001B[0;34m\u001B[0m\u001B[0m\n\u001B[1;32m     10\u001B[0m         \u001B[0mremainder\u001B[0m \u001B[0;34m=\u001B[0m \u001B[0mtargetSum\u001B[0m \u001B[0;34m-\u001B[0m \u001B[0mnum\u001B[0m\u001B[0;34m\u001B[0m\u001B[0;34m\u001B[0m\u001B[0m\n\u001B[0;32m---> 11\u001B[0;31m         \u001B[0mremainderCombination\u001B[0m \u001B[0;34m=\u001B[0m \u001B[0mbestSum\u001B[0m\u001B[0;34m(\u001B[0m\u001B[0mremainder\u001B[0m\u001B[0;34m,\u001B[0m \u001B[0mnumbers\u001B[0m\u001B[0;34m)\u001B[0m\u001B[0;34m\u001B[0m\u001B[0;34m\u001B[0m\u001B[0m\n\u001B[0m\u001B[1;32m     12\u001B[0m         \u001B[0;32mif\u001B[0m \u001B[0;34m(\u001B[0m\u001B[0mremainderCombination\u001B[0m \u001B[0;32mis\u001B[0m \u001B[0;32mnot\u001B[0m \u001B[0;32mNone\u001B[0m\u001B[0;34m)\u001B[0m\u001B[0;34m:\u001B[0m\u001B[0;34m\u001B[0m\u001B[0;34m\u001B[0m\u001B[0m\n\u001B[1;32m     13\u001B[0m             \u001B[0mcombination\u001B[0m \u001B[0;34m=\u001B[0m \u001B[0mremainderCombination\u001B[0m \u001B[0;34m+\u001B[0m \u001B[0;34m[\u001B[0m\u001B[0mnum\u001B[0m\u001B[0;34m]\u001B[0m\u001B[0;34m\u001B[0m\u001B[0;34m\u001B[0m\u001B[0m\n",
      "\u001B[0;32m<ipython-input-4-7c1be54291d6>\u001B[0m in \u001B[0;36mbestSum\u001B[0;34m(targetSum, numbers)\u001B[0m\n\u001B[1;32m      9\u001B[0m     \u001B[0;32mfor\u001B[0m \u001B[0mnum\u001B[0m \u001B[0;32min\u001B[0m \u001B[0mnumbers\u001B[0m\u001B[0;34m:\u001B[0m\u001B[0;34m\u001B[0m\u001B[0;34m\u001B[0m\u001B[0m\n\u001B[1;32m     10\u001B[0m         \u001B[0mremainder\u001B[0m \u001B[0;34m=\u001B[0m \u001B[0mtargetSum\u001B[0m \u001B[0;34m-\u001B[0m \u001B[0mnum\u001B[0m\u001B[0;34m\u001B[0m\u001B[0;34m\u001B[0m\u001B[0m\n\u001B[0;32m---> 11\u001B[0;31m         \u001B[0mremainderCombination\u001B[0m \u001B[0;34m=\u001B[0m \u001B[0mbestSum\u001B[0m\u001B[0;34m(\u001B[0m\u001B[0mremainder\u001B[0m\u001B[0;34m,\u001B[0m \u001B[0mnumbers\u001B[0m\u001B[0;34m)\u001B[0m\u001B[0;34m\u001B[0m\u001B[0;34m\u001B[0m\u001B[0m\n\u001B[0m\u001B[1;32m     12\u001B[0m         \u001B[0;32mif\u001B[0m \u001B[0;34m(\u001B[0m\u001B[0mremainderCombination\u001B[0m \u001B[0;32mis\u001B[0m \u001B[0;32mnot\u001B[0m \u001B[0;32mNone\u001B[0m\u001B[0;34m)\u001B[0m\u001B[0;34m:\u001B[0m\u001B[0;34m\u001B[0m\u001B[0;34m\u001B[0m\u001B[0m\n\u001B[1;32m     13\u001B[0m             \u001B[0mcombination\u001B[0m \u001B[0;34m=\u001B[0m \u001B[0mremainderCombination\u001B[0m \u001B[0;34m+\u001B[0m \u001B[0;34m[\u001B[0m\u001B[0mnum\u001B[0m\u001B[0;34m]\u001B[0m\u001B[0;34m\u001B[0m\u001B[0;34m\u001B[0m\u001B[0m\n",
      "\u001B[0;32m<ipython-input-4-7c1be54291d6>\u001B[0m in \u001B[0;36mbestSum\u001B[0;34m(targetSum, numbers)\u001B[0m\n\u001B[1;32m      8\u001B[0m     \u001B[0mshortestCombination\u001B[0m \u001B[0;34m=\u001B[0m \u001B[0;32mNone\u001B[0m\u001B[0;34m\u001B[0m\u001B[0;34m\u001B[0m\u001B[0m\n\u001B[1;32m      9\u001B[0m     \u001B[0;32mfor\u001B[0m \u001B[0mnum\u001B[0m \u001B[0;32min\u001B[0m \u001B[0mnumbers\u001B[0m\u001B[0;34m:\u001B[0m\u001B[0;34m\u001B[0m\u001B[0;34m\u001B[0m\u001B[0m\n\u001B[0;32m---> 10\u001B[0;31m         \u001B[0mremainder\u001B[0m \u001B[0;34m=\u001B[0m \u001B[0mtargetSum\u001B[0m \u001B[0;34m-\u001B[0m \u001B[0mnum\u001B[0m\u001B[0;34m\u001B[0m\u001B[0;34m\u001B[0m\u001B[0m\n\u001B[0m\u001B[1;32m     11\u001B[0m         \u001B[0mremainderCombination\u001B[0m \u001B[0;34m=\u001B[0m \u001B[0mbestSum\u001B[0m\u001B[0;34m(\u001B[0m\u001B[0mremainder\u001B[0m\u001B[0;34m,\u001B[0m \u001B[0mnumbers\u001B[0m\u001B[0;34m)\u001B[0m\u001B[0;34m\u001B[0m\u001B[0;34m\u001B[0m\u001B[0m\n\u001B[1;32m     12\u001B[0m         \u001B[0;32mif\u001B[0m \u001B[0;34m(\u001B[0m\u001B[0mremainderCombination\u001B[0m \u001B[0;32mis\u001B[0m \u001B[0;32mnot\u001B[0m \u001B[0;32mNone\u001B[0m\u001B[0;34m)\u001B[0m\u001B[0;34m:\u001B[0m\u001B[0;34m\u001B[0m\u001B[0;34m\u001B[0m\u001B[0m\n",
      "\u001B[0;31mKeyboardInterrupt\u001B[0m: "
     ]
    }
   ],
   "source": [
    "bestSum(100, [25, 1, 2, 5, 4, 7])"
   ],
   "metadata": {
    "collapsed": false,
    "pycharm": {
     "name": "#%%\n"
    }
   }
  },
  {
   "cell_type": "markdown",
   "source": [
    "bestSum with memo"
   ],
   "metadata": {
    "collapsed": false
   }
  },
  {
   "cell_type": "code",
   "execution_count": 16,
   "outputs": [
    {
     "data": {
      "text/plain": "'\\nm = targetSum\\nn = numbers.length\\ntime complexity: O(n^m * m)\\nspace complexity: O(m**2)\\n'"
     },
     "execution_count": 16,
     "metadata": {},
     "output_type": "execute_result"
    }
   ],
   "source": [
    "def bestSum(targetSum, numbers, memo={}):\n",
    "    if targetSum in memo:\n",
    "        return memo[targetSum]\n",
    "    if targetSum == 0:\n",
    "        return []\n",
    "\n",
    "    if targetSum < 0:\n",
    "        return None\n",
    "\n",
    "    shortestCombination = None\n",
    "    for num in numbers:\n",
    "        remainder = targetSum - num\n",
    "        remainderCombination = bestSum(remainder, numbers, memo)\n",
    "        if (remainderCombination is not None):\n",
    "            combination = remainderCombination + [num]  # add the num into remainderCombination array\n",
    "            if (shortestCombination == None or len(combination) < len(shortestCombination)):  #\n",
    "                shortestCombination = combination\n",
    "\n",
    "    memo[targetSum] = shortestCombination\n",
    "    return shortestCombination  # return to the upper level\n",
    "\n",
    "\n",
    "\"\"\"\n",
    "m = targetSum\n",
    "n = numbers.length\n",
    "time complexity: O(m**2 * n )\n",
    "space complexity: O(m**2)\n",
    "\"\"\""
   ],
   "metadata": {
    "collapsed": false,
    "pycharm": {
     "name": "#%%\n"
    }
   }
  },
  {
   "cell_type": "code",
   "execution_count": 17,
   "outputs": [
    {
     "data": {
      "text/plain": "[25, 25, 25, 25]"
     },
     "execution_count": 17,
     "metadata": {},
     "output_type": "execute_result"
    }
   ],
   "source": [
    "bestSum(100, [25, 1, 2, 5, 4, 7])"
   ],
   "metadata": {
    "collapsed": false,
    "pycharm": {
     "name": "#%%\n"
    }
   }
  },
  {
   "cell_type": "markdown",
   "source": [
    "## the following is about words\n",
    "\n",
    "from  can we find the right combination\n",
    "to how we find one of the combinations\n",
    "until is there any best combination"
   ],
   "metadata": {
    "collapsed": false
   }
  },
  {
   "cell_type": "markdown",
   "source": [],
   "metadata": {
    "collapsed": false
   }
  },
  {
   "cell_type": "code",
   "execution_count": 21,
   "outputs": [],
   "source": [
    "# step: base case; for loop, and remainder; update ?\n",
    "def canConstruct(target, wordBank):\n",
    "    if target == '':\n",
    "        return True\n",
    "\n",
    "    for word in wordBank:\n",
    "        # get index\n",
    "        if word in target and target.index(word) == 0:\n",
    "            remainder = target[len(word):]\n",
    "            # then recursive\n",
    "            if canConstruct(remainder, wordBank):\n",
    "                return True\n",
    "\n",
    "    return False\n",
    "\n",
    "# Time complexity: O(n^m*m)\n",
    "# Sapce complexity:O(m**2)"
   ],
   "metadata": {
    "collapsed": false,
    "pycharm": {
     "name": "#%%\n"
    }
   }
  },
  {
   "cell_type": "code",
   "execution_count": 22,
   "outputs": [
    {
     "data": {
      "text/plain": "True"
     },
     "execution_count": 22,
     "metadata": {},
     "output_type": "execute_result"
    }
   ],
   "source": [
    "canConstruct('abcdef', ['ab', 'abc', 'cd', 'def', 'abcd'])"
   ],
   "metadata": {
    "collapsed": false,
    "pycharm": {
     "name": "#%%\n"
    }
   }
  },
  {
   "cell_type": "code",
   "execution_count": 23,
   "outputs": [
    {
     "data": {
      "text/plain": "False"
     },
     "execution_count": 23,
     "metadata": {},
     "output_type": "execute_result"
    }
   ],
   "source": [
    "canConstruct('skateboard', ['bo', 'rd', 'ate', 't', 'ska', 'sk', 'boar'])"
   ],
   "metadata": {
    "collapsed": false,
    "pycharm": {
     "name": "#%%\n"
    }
   }
  },
  {
   "cell_type": "code",
   "execution_count": 18,
   "outputs": [
    {
     "data": {
      "text/plain": "0"
     },
     "execution_count": 18,
     "metadata": {},
     "output_type": "execute_result"
    }
   ],
   "source": [
    "'abcdef'.index('abc')"
   ],
   "metadata": {
    "collapsed": false,
    "pycharm": {
     "name": "#%%\n"
    }
   }
  },
  {
   "cell_type": "markdown",
   "source": [
    "# improvement of canConstruct"
   ],
   "metadata": {
    "collapsed": false
   }
  },
  {
   "cell_type": "code",
   "execution_count": 30,
   "outputs": [],
   "source": [
    "# step: base case; for loop, and remainder; update ?\n",
    "def canConstructMemo(target, wordBank, memo={}):\n",
    "    if target in memo:\n",
    "        return memo[target]\n",
    "    if target == '':\n",
    "        return True\n",
    "\n",
    "    for word in wordBank:\n",
    "        # get index\n",
    "        if word in target and target.index(word) == 0:\n",
    "            remainder = target[len(word):]\n",
    "            # then recursive\n",
    "            if canConstructMemo(remainder, wordBank, memo):\n",
    "                memo[target] = True\n",
    "                return True\n",
    "    memo[target] = False\n",
    "    return False\n",
    "\n",
    "\n",
    "# Time complexity: O(n*m*m)\n",
    "# Sapce complexity:O(m**2)\n",
    "# method 2\n",
    "class Solution:\n",
    "    def __init__(self):\n",
    "        self.memo = {}\n",
    "\n",
    "    def wordBreak(self, target: str, wordBank: list) -> bool:\n",
    "        if target in self.memo:\n",
    "            return self.memo[target]\n",
    "        if target == '':\n",
    "            return True\n",
    "\n",
    "        for word in wordBank:\n",
    "            # get index\n",
    "            if word in target and target.index(word) == 0:\n",
    "                remainder = target[len(word):]\n",
    "                # then recursive\n",
    "                if self.wordBreak(remainder, wordBank):\n",
    "                    self.memo[target] = True\n",
    "                    return True\n",
    "\n",
    "        self.memo[target] = False\n",
    "        return None\n",
    "\n"
   ],
   "metadata": {
    "collapsed": false,
    "pycharm": {
     "name": "#%%\n"
    }
   }
  },
  {
   "cell_type": "code",
   "execution_count": 28,
   "outputs": [
    {
     "data": {
      "text/plain": "False"
     },
     "execution_count": 28,
     "metadata": {},
     "output_type": "execute_result"
    }
   ],
   "source": [
    "canConstruct('a', ['b'])"
   ],
   "metadata": {
    "collapsed": false,
    "pycharm": {
     "name": "#%%\n"
    }
   }
  },
  {
   "cell_type": "markdown",
   "source": [
    "## countConstruct(target, wordBank) that accepts target string and an array of strings\n",
    "\n",
    "the function should return the number of ways that the target can be constructed elements of the word bank array"
   ],
   "metadata": {
    "collapsed": false
   }
  },
  {
   "cell_type": "code",
   "execution_count": 47,
   "outputs": [],
   "source": [
    "# this is to get all construct results which contains all the correct arrangement\n",
    "class Solution:\n",
    "    def wordBreak(self, target: str, wordBank: list) -> bool:\n",
    "        if target == '':\n",
    "            return ''\n",
    "\n",
    "        # draw lessons from permutations\n",
    "        res = []\n",
    "        for word in wordBank:\n",
    "            if word in target and target.index(word) == 0:\n",
    "                remainder = target[len(word):]\n",
    "                temp = self.wordBreak(remainder, wordBank)\n",
    "                if type(temp) == str:\n",
    "                    temp = word\n",
    "                    res.append(temp)  # extend is different from append;\n",
    "                else:\n",
    "                    print(temp)\n",
    "                    for i, t in enumerate(temp):\n",
    "                        if t == '':\n",
    "                            temp[i] = word\n",
    "                        else:\n",
    "                            temp[i] = word + ' ' + t\n",
    "                    res.extend(temp)\n",
    "\n",
    "        return res\n",
    "\n",
    "        # to get all construct results which contains all the correct\n",
    "        # for different returns like 2 dimensional arrays ;\n",
    "        # if target == '':\n",
    "        #     return [[]]\n",
    "        #\n",
    "        # # draw lessons from permutations\n",
    "        # res = []\n",
    "        # for word in wordBank:\n",
    "        #     if word in target and target.index(word) == 0:\n",
    "        #         remainder = target[len(word):]\n",
    "        #         temp =self.wordBreak(remainder,wordBank)\n",
    "        #         for i,t in enumerate(temp):\n",
    "        #             if word not in t:\n",
    "        #                 temp[i] = [word] + t\n",
    "        #         res.extend(temp) # extend is different from append; like push(...temp) in js\n",
    "        # return res\n",
    "\n",
    "        # if target in memo:\n",
    "        #     return memo[target]\n",
    "        # if target == '':\n",
    "        #     return [[]]\n",
    "        #\n",
    "        # # draw lessons from permutations\n",
    "        # res = []\n",
    "        # for word in wordBank:\n",
    "        #     if word in target and target.index(word) == 0:\n",
    "        #         remainder = target[len(word):]\n",
    "        #         temp =self.wordBreak(remainder,wordBank)\n",
    "        #         for i,t in enumerate(temp):\n",
    "        #             if word not in t:\n",
    "        #                 temp[i] = [word] + t\n",
    "        #         res.extend(temp) # extend is different from append; like push(...temp) in js\n",
    "        #\n",
    "        # memo[target] = result\n",
    "        # return res\n",
    "\n",
    "\n"
   ],
   "metadata": {
    "collapsed": false,
    "pycharm": {
     "name": "#%%\n"
    }
   }
  },
  {
   "cell_type": "code",
   "execution_count": 48,
   "outputs": [],
   "source": [
    "s = Solution()\n",
    "# print(s.wordBreak('a',['b']))"
   ],
   "metadata": {
    "collapsed": false,
    "pycharm": {
     "name": "#%%\n"
    }
   }
  },
  {
   "cell_type": "code",
   "execution_count": 49,
   "outputs": [
    {
     "name": "stdout",
     "output_type": "stream",
     "text": [
      "['dog']\n",
      "['sand dog']\n",
      "['dog']\n",
      "['and dog']\n"
     ]
    },
    {
     "data": {
      "text/plain": "['cat sand dog', 'cats and dog']"
     },
     "execution_count": 49,
     "metadata": {},
     "output_type": "execute_result"
    }
   ],
   "source": [
    "s.wordBreak(\"catsanddog\",\n",
    "            [\"cat\", \"cats\", \"and\", \"sand\", \"dog\"])"
   ],
   "metadata": {
    "collapsed": false,
    "pycharm": {
     "name": "#%%\n"
    }
   }
  },
  {
   "cell_type": "code",
   "execution_count": 50,
   "outputs": [
    {
     "data": {
      "text/plain": "[5, 34, 1]"
     },
     "execution_count": 50,
     "metadata": {},
     "output_type": "execute_result"
    }
   ],
   "source": [
    "[1, 34, 5][::-1]"
   ],
   "metadata": {
    "collapsed": false,
    "pycharm": {
     "name": "#%%\n"
    }
   }
  },
  {
   "cell_type": "code",
   "execution_count": 57,
   "outputs": [],
   "source": [
    "# this is to count how many valid numbers of the correct combinations\n",
    "def countConstruct(target, wordBank):\n",
    "    if target == '':\n",
    "        return 1  # base case\n",
    "\n",
    "    count = 0\n",
    "    for word in wordBank:\n",
    "        if word in target and target.index(word) == 0:\n",
    "            remainder = target[len(word):]\n",
    "            # then recursive\n",
    "            count += countConstruct(remainder, wordBank)\n",
    "            # unlike the allConstruct pattern , it does not need to return count in this if condition\n",
    "    return count\n",
    "\n",
    "\n"
   ],
   "metadata": {
    "collapsed": false,
    "pycharm": {
     "name": "#%%\n"
    }
   }
  },
  {
   "cell_type": "code",
   "execution_count": 58,
   "outputs": [
    {
     "data": {
      "text/plain": "2"
     },
     "execution_count": 58,
     "metadata": {},
     "output_type": "execute_result"
    }
   ],
   "source": [
    "countConstruct(\"catsanddog\",\n",
    "               [\"cat\", \"cats\", \"and\", \"sand\", \"dog\"])"
   ],
   "metadata": {
    "collapsed": false,
    "pycharm": {
     "name": "#%%\n"
    }
   }
  },
  {
   "cell_type": "markdown",
   "source": [
    "# fid tabulation"
   ],
   "metadata": {
    "collapsed": false
   }
  },
  {
   "cell_type": "markdown",
   "source": [
    "# 2d Grid traveler problem"
   ],
   "metadata": {
    "collapsed": false
   }
  },
  {
   "cell_type": "markdown",
   "source": [
    "say that you are a traveler on a 2d grid, you begin in the top-left corner and your goal is to travel to the bottom-right corner.\n",
    "you may only move down or right.\n",
    "\n",
    "(3,3) means rows and cols both are 4\n"
   ],
   "metadata": {
    "collapsed": false
   }
  },
  {
   "cell_type": "code",
   "execution_count": 88,
   "outputs": [],
   "source": [
    "def gridTraveler(m, n):\n",
    "    # generate 2d matrix\n",
    "    matrix = [[0 for _ in range(n + 1)] for _ in range(m + 1)]\n",
    "    matrix[1][1] = 1\n",
    "\n",
    "    for i in range(m + 1):\n",
    "        for j in range(n + 1):\n",
    "            current = matrix[i][j]\n",
    "            if j + 1 < n + 1:\n",
    "                matrix[i][j + 1] += current\n",
    "            if i + 1 < m + 1:\n",
    "                matrix[i + 1][j] += current\n",
    "\n",
    "    matrix[-1][-1] = matrix[-2][-1] + matrix[-1][-2]\n",
    "    print(matrix)\n",
    "    return matrix[-1][-1]"
   ],
   "metadata": {
    "collapsed": false,
    "pycharm": {
     "name": "#%%\n"
    }
   }
  },
  {
   "cell_type": "code",
   "execution_count": 89,
   "outputs": [
    {
     "name": "stdout",
     "output_type": "stream",
     "text": [
      "[[0, 0, 0, 0], [0, 1, 1, 1], [0, 1, 2, 3], [0, 1, 3, 6]]\n"
     ]
    },
    {
     "data": {
      "text/plain": "6"
     },
     "execution_count": 89,
     "metadata": {},
     "output_type": "execute_result"
    }
   ],
   "source": [
    "gridTraveler(3, 3)"
   ],
   "metadata": {
    "collapsed": false,
    "pycharm": {
     "name": "#%%\n"
    }
   }
  },
  {
   "cell_type": "code",
   "execution_count": 90,
   "outputs": [
    {
     "name": "stdout",
     "output_type": "stream",
     "text": [
      "[[0, 0, 0, 0], [0, 1, 1, 1], [0, 1, 2, 3]]\n"
     ]
    },
    {
     "data": {
      "text/plain": "3"
     },
     "execution_count": 90,
     "metadata": {},
     "output_type": "execute_result"
    }
   ],
   "source": [
    "gridTraveler(2, 3)"
   ],
   "metadata": {
    "collapsed": false,
    "pycharm": {
     "name": "#%%\n"
    }
   }
  },
  {
   "cell_type": "markdown",
   "source": [
    "### tabulation recipe\n",
    "\n",
    "1 visualize the problem as a table\n",
    "2 size the table based on the inputs\n",
    "3 initialize the table with default values\n",
    "4 seed the trivial answer into the table\n",
    "5 iterate through the table\n",
    "6 fill further positions based on the current position\n",
    "\n"
   ],
   "metadata": {
    "collapsed": false
   }
  },
  {
   "cell_type": "code",
   "execution_count": 18,
   "outputs": [],
   "source": [
    "# tabulation\n",
    "\"\"\"\n",
    "1. array with (length+1) set default values, False for existing, 0 for number\n",
    "2. set index 0 or index -1 value True or other value\n",
    "3. a for loop from the end or beginning\n",
    "\"\"\"\n",
    "\n",
    "\n",
    "def canSum(targetSum, numbers):\n",
    "    table = [False for _ in range(targetSum + 1)]\n",
    "    table[0] = True\n",
    "\n",
    "    for i in range(targetSum):\n",
    "        if table[i] == True:\n",
    "            for num in numbers:\n",
    "                if i+num<len(table):  # not out of bound\n",
    "                    table[i + num] = True\n",
    "    print(table)\n",
    "    return table[-1]\n"
   ],
   "metadata": {
    "collapsed": false,
    "pycharm": {
     "name": "#%%\n"
    }
   }
  },
  {
   "cell_type": "code",
   "execution_count": 19,
   "outputs": [
    {
     "name": "stdout",
     "output_type": "stream",
     "text": [
      "[True, False, False, True, True, True, True, True]\n"
     ]
    },
    {
     "data": {
      "text/plain": "True"
     },
     "execution_count": 19,
     "metadata": {},
     "output_type": "execute_result"
    }
   ],
   "source": [
    "canSum(7, [5, 3, 4])"
   ],
   "metadata": {
    "collapsed": false,
    "pycharm": {
     "name": "#%%\n"
    }
   }
  },
  {
   "cell_type": "code",
   "execution_count": 24,
   "outputs": [
    {
     "name": "stdout",
     "output_type": "stream",
     "text": [
      "[True, False, False, True, True, True, True]\n"
     ]
    },
    {
     "data": {
      "text/plain": "True"
     },
     "execution_count": 24,
     "metadata": {},
     "output_type": "execute_result"
    }
   ],
   "source": [
    "canSum(6, [5, 3, 4])"
   ],
   "metadata": {
    "collapsed": false,
    "pycharm": {
     "name": "#%%\n"
    }
   }
  },
  {
   "cell_type": "code",
   "execution_count": 25,
   "outputs": [
    {
     "name": "stdout",
     "output_type": "stream",
     "text": [
      "[True, False, True, False, True, False, True, False]\n"
     ]
    },
    {
     "data": {
      "text/plain": "False"
     },
     "execution_count": 25,
     "metadata": {},
     "output_type": "execute_result"
    }
   ],
   "source": [
    "canSum(7, [2, 4])"
   ],
   "metadata": {
    "collapsed": false,
    "pycharm": {
     "name": "#%%\n"
    }
   }
  },
  {
   "cell_type": "code",
   "execution_count": 26,
   "outputs": [
    {
     "name": "stdout",
     "output_type": "stream",
     "text": [
      "[True, False, True, True, True, True, True, True, True]\n"
     ]
    },
    {
     "data": {
      "text/plain": "True"
     },
     "execution_count": 26,
     "metadata": {},
     "output_type": "execute_result"
    }
   ],
   "source": [
    "canSum(8, [2,3,5])"
   ],
   "metadata": {
    "collapsed": false,
    "pycharm": {
     "name": "#%%\n"
    }
   }
  },
  {
   "cell_type": "code",
   "execution_count": 27,
   "outputs": [
    {
     "name": "stdout",
     "output_type": "stream",
     "text": [
      "[True, False, False, False, False, False, False, True, False, False, False, False, False, False, True, False, False, False, False, False, False, True, False, False, False, False, False, False, True, False, False, False, False, False, False, True, False, False, False, False, False, False, True, False, False, False, False, False, False, True, False, False, False, False, False, False, True, False, False, False, False, False, False, True, False, False, False, False, False, False, True, False, False, False, False, False, False, True, False, False, False, False, False, False, True, False, False, False, False, False, False, True, False, False, False, False, False, False, True, False, False, False, False, False, False, True, False, False, False, False, False, False, True, False, False, False, False, False, False, True, False, False, False, False, False, False, True, False, False, False, False, False, False, True, False, False, False, False, False, False, True, False, False, False, False, False, False, True, False, False, False, False, False, False, True, False, False, False, False, False, False, True, False, False, False, False, False, False, True, False, False, False, False, False, False, True, False, False, False, False, False, False, True, False, False, False, False, False, False, True, False, False, False, False, False, False, True, False, False, False, False, False, False, True, False, False, False, False, False, False, True, False, False, False, False, False, False, True, False, False, False, False, False, False, True, False, False, False, False, False, False, True, False, False, False, False, False, False, True, False, False, False, False, False, False, True, False, False, False, False, False, False, True, False, False, False, False, False, False, True, False, False, False, False, False, False, True, False, False, False, False, False, False, True, False, False, False, False, False, False, True, False, False, False, False, False, False, True, False, False, False, False, False, False, True, False, False, False, False, False, False]\n"
     ]
    },
    {
     "data": {
      "text/plain": "False"
     },
     "execution_count": 27,
     "metadata": {},
     "output_type": "execute_result"
    }
   ],
   "source": [
    "canSum(300,[7,14])"
   ],
   "metadata": {
    "collapsed": false,
    "pycharm": {
     "name": "#%%\n"
    }
   }
  },
  {
   "cell_type": "code",
   "execution_count": 41,
   "outputs": [],
   "source": [
    "# howSum tabulation; table default value null, and then reassign into; index 0 --> []\n",
    "def howSum(targetSum, numbers):\n",
    "    table = [None for _ in range(targetSum+1)]\n",
    "    table[0] = []\n",
    "\n",
    "    for i in range(targetSum):\n",
    "        for num in numbers:\n",
    "            if table[i] is not None and i+num<len(table):\n",
    "                table[i+num]= table[i] +[num]\n",
    "\n",
    "    print(table)\n",
    "    return table[-1]\n"
   ],
   "metadata": {
    "collapsed": false,
    "pycharm": {
     "name": "#%%\n"
    }
   }
  },
  {
   "cell_type": "code",
   "execution_count": 42,
   "outputs": [
    {
     "name": "stdout",
     "output_type": "stream",
     "text": [
      "[[], None, None, [3], [4], [5], [3, 3], [4, 3]]\n"
     ]
    },
    {
     "data": {
      "text/plain": "[4, 3]"
     },
     "execution_count": 42,
     "metadata": {},
     "output_type": "execute_result"
    }
   ],
   "source": [
    "howSum(7,[3,4,5])"
   ],
   "metadata": {
    "collapsed": false,
    "pycharm": {
     "name": "#%%\n"
    }
   }
  },
  {
   "cell_type": "code",
   "execution_count": 48,
   "outputs": [],
   "source": [
    "def bestSum(targetSum, numbers):\n",
    "    table = [None for _ in range(targetSum+1)]\n",
    "    table[0] = []\n",
    "\n",
    "    for i in range(targetSum):\n",
    "        for num in numbers:\n",
    "            if table[i] is not None and i+num<len(table):\n",
    "                 combination= table[i] +[num]\n",
    "                 if table[i+num] is None:\n",
    "                     table [ i+num] = combination\n",
    "                 elif len(combination)<len(table[i + num]):\n",
    "                     table [ i+num] = combination\n",
    "\n",
    "    print(table)\n",
    "    return table[-1]\n"
   ],
   "metadata": {
    "collapsed": false,
    "pycharm": {
     "name": "#%%\n"
    }
   }
  },
  {
   "cell_type": "code",
   "execution_count": 50,
   "outputs": [
    {
     "name": "stdout",
     "output_type": "stream",
     "text": [
      "[[], None, None, [3], [4], [5], [3, 3], [7]]\n"
     ]
    },
    {
     "data": {
      "text/plain": "[7]"
     },
     "execution_count": 50,
     "metadata": {},
     "output_type": "execute_result"
    }
   ],
   "source": [
    "bestSum(7,[3,4,5,7])"
   ],
   "metadata": {
    "collapsed": false,
    "pycharm": {
     "name": "#%%\n"
    }
   }
  },
  {
   "cell_type": "code",
   "execution_count": null,
   "outputs": [],
   "source": [
    "def canConstruct(target, wordbank):\n",
    "    return"
   ],
   "metadata": {
    "collapsed": false,
    "pycharm": {
     "name": "#%%\n"
    }
   }
  }
 ],
 "metadata": {
  "kernelspec": {
   "display_name": "Python 3",
   "language": "python",
   "name": "python3"
  },
  "language_info": {
   "codemirror_mode": {
    "name": "ipython",
    "version": 2
   },
   "file_extension": ".py",
   "mimetype": "text/x-python",
   "name": "python",
   "nbconvert_exporter": "python",
   "pygments_lexer": "ipython2",
   "version": "2.7.6"
  }
 },
 "nbformat": 4,
 "nbformat_minor": 0
}
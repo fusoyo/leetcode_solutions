{
 "cells": [
  {
   "cell_type": "markdown",
   "source": [
    "# Dynamic Programming"
   ],
   "metadata": {
    "collapsed": false
   }
  },
  {
   "cell_type": "markdown",
   "source": [
    "## Example of howSum"
   ],
   "metadata": {
    "collapsed": false,
    "pycharm": {
     "name": "#%% md\n"
    }
   }
  },
  {
   "cell_type": "markdown",
   "source": [
    "write a function 'howSum(tartgetSum, numbers) that takes in a tartgetSum and an array of numbers as arguments\n",
    "\n",
    "the function should return an array containing any combination of elements that adds up to the targetSum, then returen null.\n",
    "\n"
   ],
   "metadata": {
    "collapsed": false
   }
  },
  {
   "cell_type": "markdown",
   "source": [
    "method1 just iterable"
   ],
   "metadata": {
    "collapsed": false
   }
  },
  {
   "cell_type": "code",
   "execution_count": 9,
   "metadata": {
    "collapsed": true
   },
   "outputs": [],
   "source": [
    "def howSum(targetSum, numbers):\n",
    "    current_sum = 0\n",
    "    res = []\n",
    "    for num in numbers:\n",
    "        if num > targetSum or num + current_sum> targetSum:\n",
    "            continue\n",
    "        current_sum += num\n",
    "        res.append(num)\n",
    "        if current_sum == targetSum:\n",
    "            return res\n",
    "    return None"
   ]
  },
  {
   "cell_type": "code",
   "execution_count": 10,
   "outputs": [
    {
     "name": "stdout",
     "output_type": "stream",
     "text": [
      "[1, 2, 3]\n"
     ]
    }
   ],
   "source": [
    "print(howSum(6,[1,2,3]))"
   ],
   "metadata": {
    "collapsed": false,
    "pycharm": {
     "name": "#%%\n"
    }
   }
  },
  {
   "cell_type": "markdown",
   "source": [
    "method2 dynamic programming"
   ],
   "metadata": {
    "collapsed": false
   }
  },
  {
   "cell_type": "code",
   "execution_count": 97,
   "outputs": [],
   "source": [
    "def howSum(targetSum, numbers):\n",
    "    if targetSum==0:\n",
    "        return []\n",
    "    if targetSum < 0:\n",
    "        return None\n",
    "\n",
    "    for i,num in enumerate(numbers):\n",
    "        remainder = targetSum - num\n",
    "\n",
    "        res =  howSum(remainder, [n for j,n in enumerate(numbers)  if j!=i ]) # when return [], then backtrack to the its parent node ,and adds them up;\n",
    "        if res is not None:\n",
    "            res.append(num)\n",
    "            return res\n",
    "\n",
    "    return None\n",
    "\n",
    "# this is the brute force one;\n",
    "# m = targetSum\n",
    "# n = numbers.length\n",
    "# time: O(m*n^m)\n",
    "# space:O(m)"
   ],
   "metadata": {
    "collapsed": false,
    "pycharm": {
     "name": "#%%\n"
    }
   }
  },
  {
   "cell_type": "code",
   "execution_count": 98,
   "outputs": [
    {
     "data": {
      "text/plain": "[1, 3, 2, 1]"
     },
     "execution_count": 98,
     "metadata": {},
     "output_type": "execute_result"
    }
   ],
   "source": [
    "howSum(7,[1,2,3,1])"
   ],
   "metadata": {
    "collapsed": false,
    "pycharm": {
     "name": "#%%\n"
    }
   }
  },
  {
   "cell_type": "markdown",
   "source": [
    "method 3 dp with memo"
   ],
   "metadata": {
    "collapsed": false
   }
  },
  {
   "cell_type": "code",
   "execution_count": 100,
   "outputs": [],
   "source": [
    "def howSum(targetSum, numbers, memo={}):\n",
    "    if(targetSum in memo):\n",
    "        return memo[targetSum]\n",
    "    if targetSum==0:\n",
    "        return []\n",
    "    if targetSum < 0:\n",
    "        return None\n",
    "    print(memo)\n",
    "    for num in numbers:\n",
    "        remainder = targetSum - num\n",
    "\n",
    "        res =  howSum(remainder, numbers, memo) # when return [], then backtrack to the its parent node ,and adds them up;\n",
    "        if res is not None:\n",
    "            memo[targetSum] = res+ [num]\n",
    "            return memo[targetSum]\n",
    "\n",
    "    memo[targetSum] = None\n",
    "    return None\n",
    "# m = targetSum\n",
    "# n = numbers.length\n",
    "# time: O(m*n*m)\n",
    "# space: O(m**2)"
   ],
   "metadata": {
    "collapsed": false,
    "pycharm": {
     "name": "#%%\n"
    }
   }
  },
  {
   "cell_type": "code",
   "execution_count": 102,
   "outputs": [
    {
     "name": "stdout",
     "output_type": "stream",
     "text": [
      "{6: None, 13: None, 20: None, 27: None, 34: None, 41: None, 48: None, 55: None, 62: None, 69: None, 76: None, 83: None, 90: None, 97: None, 104: None, 111: None, 118: None, 125: None, 132: None, 139: None, 146: None, 153: None, 160: None, 167: None, 174: None, 181: None, 188: None, 195: None, 202: None, 209: None, 216: None, 223: None, 230: None, 237: None, 244: None, 251: None, 258: None, 265: None, 272: None, 279: None, 286: None, 293: None, 300: None}\n",
      "{6: None, 13: None, 20: None, 27: None, 34: None, 41: None, 48: None, 55: None, 62: None, 69: None, 76: None, 83: None, 90: None, 97: None, 104: None, 111: None, 118: None, 125: None, 132: None, 139: None, 146: None, 153: None, 160: None, 167: None, 174: None, 181: None, 188: None, 195: None, 202: None, 209: None, 216: None, 223: None, 230: None, 237: None, 244: None, 251: None, 258: None, 265: None, 272: None, 279: None, 286: None, 293: None, 300: None}\n",
      "{6: None, 13: None, 20: None, 27: None, 34: None, 41: None, 48: None, 55: None, 62: None, 69: None, 76: None, 83: None, 90: None, 97: None, 104: None, 111: None, 118: None, 125: None, 132: None, 139: None, 146: None, 153: None, 160: None, 167: None, 174: None, 181: None, 188: None, 195: None, 202: None, 209: None, 216: None, 223: None, 230: None, 237: None, 244: None, 251: None, 258: None, 265: None, 272: None, 279: None, 286: None, 293: None, 300: None}\n",
      "{6: None, 13: None, 20: None, 27: None, 34: None, 41: None, 48: None, 55: None, 62: None, 69: None, 76: None, 83: None, 90: None, 97: None, 104: None, 111: None, 118: None, 125: None, 132: None, 139: None, 146: None, 153: None, 160: None, 167: None, 174: None, 181: None, 188: None, 195: None, 202: None, 209: None, 216: None, 223: None, 230: None, 237: None, 244: None, 251: None, 258: None, 265: None, 272: None, 279: None, 286: None, 293: None, 300: None}\n",
      "{6: None, 13: None, 20: None, 27: None, 34: None, 41: None, 48: None, 55: None, 62: None, 69: None, 76: None, 83: None, 90: None, 97: None, 104: None, 111: None, 118: None, 125: None, 132: None, 139: None, 146: None, 153: None, 160: None, 167: None, 174: None, 181: None, 188: None, 195: None, 202: None, 209: None, 216: None, 223: None, 230: None, 237: None, 244: None, 251: None, 258: None, 265: None, 272: None, 279: None, 286: None, 293: None, 300: None}\n",
      "{6: None, 13: None, 20: None, 27: None, 34: None, 41: None, 48: None, 55: None, 62: None, 69: None, 76: None, 83: None, 90: None, 97: None, 104: None, 111: None, 118: None, 125: None, 132: None, 139: None, 146: None, 153: None, 160: None, 167: None, 174: None, 181: None, 188: None, 195: None, 202: None, 209: None, 216: None, 223: None, 230: None, 237: None, 244: None, 251: None, 258: None, 265: None, 272: None, 279: None, 286: None, 293: None, 300: None}\n",
      "{6: None, 13: None, 20: None, 27: None, 34: None, 41: None, 48: None, 55: None, 62: None, 69: None, 76: None, 83: None, 90: None, 97: None, 104: None, 111: None, 118: None, 125: None, 132: None, 139: None, 146: None, 153: None, 160: None, 167: None, 174: None, 181: None, 188: None, 195: None, 202: None, 209: None, 216: None, 223: None, 230: None, 237: None, 244: None, 251: None, 258: None, 265: None, 272: None, 279: None, 286: None, 293: None, 300: None}\n",
      "{6: None, 13: None, 20: None, 27: None, 34: None, 41: None, 48: None, 55: None, 62: None, 69: None, 76: None, 83: None, 90: None, 97: None, 104: None, 111: None, 118: None, 125: None, 132: None, 139: None, 146: None, 153: None, 160: None, 167: None, 174: None, 181: None, 188: None, 195: None, 202: None, 209: None, 216: None, 223: None, 230: None, 237: None, 244: None, 251: None, 258: None, 265: None, 272: None, 279: None, 286: None, 293: None, 300: None}\n",
      "{6: None, 13: None, 20: None, 27: None, 34: None, 41: None, 48: None, 55: None, 62: None, 69: None, 76: None, 83: None, 90: None, 97: None, 104: None, 111: None, 118: None, 125: None, 132: None, 139: None, 146: None, 153: None, 160: None, 167: None, 174: None, 181: None, 188: None, 195: None, 202: None, 209: None, 216: None, 223: None, 230: None, 237: None, 244: None, 251: None, 258: None, 265: None, 272: None, 279: None, 286: None, 293: None, 300: None}\n",
      "{6: None, 13: None, 20: None, 27: None, 34: None, 41: None, 48: None, 55: None, 62: None, 69: None, 76: None, 83: None, 90: None, 97: None, 104: None, 111: None, 118: None, 125: None, 132: None, 139: None, 146: None, 153: None, 160: None, 167: None, 174: None, 181: None, 188: None, 195: None, 202: None, 209: None, 216: None, 223: None, 230: None, 237: None, 244: None, 251: None, 258: None, 265: None, 272: None, 279: None, 286: None, 293: None, 300: None}\n",
      "{6: None, 13: None, 20: None, 27: None, 34: None, 41: None, 48: None, 55: None, 62: None, 69: None, 76: None, 83: None, 90: None, 97: None, 104: None, 111: None, 118: None, 125: None, 132: None, 139: None, 146: None, 153: None, 160: None, 167: None, 174: None, 181: None, 188: None, 195: None, 202: None, 209: None, 216: None, 223: None, 230: None, 237: None, 244: None, 251: None, 258: None, 265: None, 272: None, 279: None, 286: None, 293: None, 300: None}\n",
      "{6: None, 13: None, 20: None, 27: None, 34: None, 41: None, 48: None, 55: None, 62: None, 69: None, 76: None, 83: None, 90: None, 97: None, 104: None, 111: None, 118: None, 125: None, 132: None, 139: None, 146: None, 153: None, 160: None, 167: None, 174: None, 181: None, 188: None, 195: None, 202: None, 209: None, 216: None, 223: None, 230: None, 237: None, 244: None, 251: None, 258: None, 265: None, 272: None, 279: None, 286: None, 293: None, 300: None}\n",
      "{6: None, 13: None, 20: None, 27: None, 34: None, 41: None, 48: None, 55: None, 62: None, 69: None, 76: None, 83: None, 90: None, 97: None, 104: None, 111: None, 118: None, 125: None, 132: None, 139: None, 146: None, 153: None, 160: None, 167: None, 174: None, 181: None, 188: None, 195: None, 202: None, 209: None, 216: None, 223: None, 230: None, 237: None, 244: None, 251: None, 258: None, 265: None, 272: None, 279: None, 286: None, 293: None, 300: None}\n",
      "{6: None, 13: None, 20: None, 27: None, 34: None, 41: None, 48: None, 55: None, 62: None, 69: None, 76: None, 83: None, 90: None, 97: None, 104: None, 111: None, 118: None, 125: None, 132: None, 139: None, 146: None, 153: None, 160: None, 167: None, 174: None, 181: None, 188: None, 195: None, 202: None, 209: None, 216: None, 223: None, 230: None, 237: None, 244: None, 251: None, 258: None, 265: None, 272: None, 279: None, 286: None, 293: None, 300: None}\n",
      "{6: None, 13: None, 20: None, 27: None, 34: None, 41: None, 48: None, 55: None, 62: None, 69: None, 76: None, 83: None, 90: None, 97: None, 104: None, 111: None, 118: None, 125: None, 132: None, 139: None, 146: None, 153: None, 160: None, 167: None, 174: None, 181: None, 188: None, 195: None, 202: None, 209: None, 216: None, 223: None, 230: None, 237: None, 244: None, 251: None, 258: None, 265: None, 272: None, 279: None, 286: None, 293: None, 300: None}\n",
      "{6: None, 13: None, 20: None, 27: None, 34: None, 41: None, 48: None, 55: None, 62: None, 69: None, 76: None, 83: None, 90: None, 97: None, 104: None, 111: None, 118: None, 125: None, 132: None, 139: None, 146: None, 153: None, 160: None, 167: None, 174: None, 181: None, 188: None, 195: None, 202: None, 209: None, 216: None, 223: None, 230: None, 237: None, 244: None, 251: None, 258: None, 265: None, 272: None, 279: None, 286: None, 293: None, 300: None}\n",
      "{6: None, 13: None, 20: None, 27: None, 34: None, 41: None, 48: None, 55: None, 62: None, 69: None, 76: None, 83: None, 90: None, 97: None, 104: None, 111: None, 118: None, 125: None, 132: None, 139: None, 146: None, 153: None, 160: None, 167: None, 174: None, 181: None, 188: None, 195: None, 202: None, 209: None, 216: None, 223: None, 230: None, 237: None, 244: None, 251: None, 258: None, 265: None, 272: None, 279: None, 286: None, 293: None, 300: None}\n",
      "{6: None, 13: None, 20: None, 27: None, 34: None, 41: None, 48: None, 55: None, 62: None, 69: None, 76: None, 83: None, 90: None, 97: None, 104: None, 111: None, 118: None, 125: None, 132: None, 139: None, 146: None, 153: None, 160: None, 167: None, 174: None, 181: None, 188: None, 195: None, 202: None, 209: None, 216: None, 223: None, 230: None, 237: None, 244: None, 251: None, 258: None, 265: None, 272: None, 279: None, 286: None, 293: None, 300: None}\n",
      "{6: None, 13: None, 20: None, 27: None, 34: None, 41: None, 48: None, 55: None, 62: None, 69: None, 76: None, 83: None, 90: None, 97: None, 104: None, 111: None, 118: None, 125: None, 132: None, 139: None, 146: None, 153: None, 160: None, 167: None, 174: None, 181: None, 188: None, 195: None, 202: None, 209: None, 216: None, 223: None, 230: None, 237: None, 244: None, 251: None, 258: None, 265: None, 272: None, 279: None, 286: None, 293: None, 300: None}\n",
      "{6: None, 13: None, 20: None, 27: None, 34: None, 41: None, 48: None, 55: None, 62: None, 69: None, 76: None, 83: None, 90: None, 97: None, 104: None, 111: None, 118: None, 125: None, 132: None, 139: None, 146: None, 153: None, 160: None, 167: None, 174: None, 181: None, 188: None, 195: None, 202: None, 209: None, 216: None, 223: None, 230: None, 237: None, 244: None, 251: None, 258: None, 265: None, 272: None, 279: None, 286: None, 293: None, 300: None}\n",
      "{6: None, 13: None, 20: None, 27: None, 34: None, 41: None, 48: None, 55: None, 62: None, 69: None, 76: None, 83: None, 90: None, 97: None, 104: None, 111: None, 118: None, 125: None, 132: None, 139: None, 146: None, 153: None, 160: None, 167: None, 174: None, 181: None, 188: None, 195: None, 202: None, 209: None, 216: None, 223: None, 230: None, 237: None, 244: None, 251: None, 258: None, 265: None, 272: None, 279: None, 286: None, 293: None, 300: None}\n",
      "{6: None, 13: None, 20: None, 27: None, 34: None, 41: None, 48: None, 55: None, 62: None, 69: None, 76: None, 83: None, 90: None, 97: None, 104: None, 111: None, 118: None, 125: None, 132: None, 139: None, 146: None, 153: None, 160: None, 167: None, 174: None, 181: None, 188: None, 195: None, 202: None, 209: None, 216: None, 223: None, 230: None, 237: None, 244: None, 251: None, 258: None, 265: None, 272: None, 279: None, 286: None, 293: None, 300: None}\n"
     ]
    },
    {
     "data": {
      "text/plain": "[7,\n 14,\n 14,\n 14,\n 14,\n 14,\n 14,\n 14,\n 14,\n 14,\n 14,\n 14,\n 14,\n 14,\n 14,\n 14,\n 14,\n 14,\n 14,\n 14,\n 14,\n 14]"
     },
     "execution_count": 102,
     "metadata": {},
     "output_type": "execute_result"
    }
   ],
   "source": [
    "howSum(301,[14,7])"
   ],
   "metadata": {
    "collapsed": false,
    "pycharm": {
     "name": "#%%\n"
    }
   }
  },
  {
   "cell_type": "markdown",
   "source": [
    "//write a function bestSum(targetSum,numbers) that takes in a targetSum and an array of numbers as arguments\n",
    "//the function should return an array containing the shortest combination of numbers that add up to exactly the targetSum.\n",
    "//if there is a tie for the shortest combination, you may return any one of the shortest"
   ],
   "metadata": {
    "collapsed": false
   }
  },
  {
   "cell_type": "code",
   "execution_count": 11,
   "outputs": [
    {
     "data": {
      "text/plain": "'\\nm = targetSum\\nn = numbers.length\\ntime complexity: O(n^m * m)\\nspace complexity: O(m**2)\\n'"
     },
     "execution_count": 11,
     "metadata": {},
     "output_type": "execute_result"
    }
   ],
   "source": [
    "def bestSum(targetSum, numbers):\n",
    "    if targetSum == 0:\n",
    "        return []\n",
    "\n",
    "    if targetSum < 0:\n",
    "        return None\n",
    "\n",
    "    shortestCombination = None\n",
    "    for num in numbers:\n",
    "        remainder = targetSum - num\n",
    "        remainderCombination = bestSum(remainder, numbers)\n",
    "        if (remainderCombination is not None):\n",
    "            combination = remainderCombination + [num] # add the num into remainderCombination array\n",
    "            if ( shortestCombination==None or len(combination)<len(shortestCombination)):  #\n",
    "                shortestCombination = combination\n",
    "\n",
    "    return shortestCombination # return to the upper level\n",
    "\n",
    "\"\"\"\n",
    "m = targetSum\n",
    "n = numbers.length\n",
    "time complexity: O(n^m * m)\n",
    "space complexity: O(m**2)\n",
    "\"\"\""
   ],
   "metadata": {
    "collapsed": false,
    "pycharm": {
     "name": "#%%\n"
    }
   }
  },
  {
   "cell_type": "code",
   "execution_count": 6,
   "outputs": [
    {
     "data": {
      "text/plain": "[7, 7]"
     },
     "execution_count": 6,
     "metadata": {},
     "output_type": "execute_result"
    }
   ],
   "source": [
    "bestSum(14, [5,3,4,7])"
   ],
   "metadata": {
    "collapsed": false,
    "pycharm": {
     "name": "#%%\n"
    }
   }
  },
  {
   "cell_type": "code",
   "execution_count": 9,
   "outputs": [
    {
     "data": {
      "text/plain": "[7, 4, 5]"
     },
     "execution_count": 9,
     "metadata": {},
     "output_type": "execute_result"
    }
   ],
   "source": [
    "bestSum(16, [1,5,3,4,7])"
   ],
   "metadata": {
    "collapsed": false,
    "pycharm": {
     "name": "#%%\n"
    }
   }
  },
  {
   "cell_type": "code",
   "execution_count": 10,
   "outputs": [
    {
     "ename": "KeyboardInterrupt",
     "evalue": "",
     "output_type": "error",
     "traceback": [
      "\u001B[0;31m---------------------------------------------------------------------------\u001B[0m",
      "\u001B[0;31mKeyboardInterrupt\u001B[0m                         Traceback (most recent call last)",
      "\u001B[0;32m<ipython-input-10-ea74e5d1f7d8>\u001B[0m in \u001B[0;36m<module>\u001B[0;34m\u001B[0m\n\u001B[0;32m----> 1\u001B[0;31m \u001B[0mbestSum\u001B[0m\u001B[0;34m(\u001B[0m\u001B[0;36m100\u001B[0m\u001B[0;34m,\u001B[0m \u001B[0;34m[\u001B[0m\u001B[0;36m25\u001B[0m\u001B[0;34m,\u001B[0m\u001B[0;36m1\u001B[0m\u001B[0;34m,\u001B[0m\u001B[0;36m2\u001B[0m\u001B[0;34m,\u001B[0m\u001B[0;36m5\u001B[0m\u001B[0;34m,\u001B[0m\u001B[0;36m4\u001B[0m\u001B[0;34m,\u001B[0m\u001B[0;36m7\u001B[0m\u001B[0;34m]\u001B[0m\u001B[0;34m)\u001B[0m\u001B[0;34m\u001B[0m\u001B[0;34m\u001B[0m\u001B[0m\n\u001B[0m",
      "\u001B[0;32m<ipython-input-4-7c1be54291d6>\u001B[0m in \u001B[0;36mbestSum\u001B[0;34m(targetSum, numbers)\u001B[0m\n\u001B[1;32m      9\u001B[0m     \u001B[0;32mfor\u001B[0m \u001B[0mnum\u001B[0m \u001B[0;32min\u001B[0m \u001B[0mnumbers\u001B[0m\u001B[0;34m:\u001B[0m\u001B[0;34m\u001B[0m\u001B[0;34m\u001B[0m\u001B[0m\n\u001B[1;32m     10\u001B[0m         \u001B[0mremainder\u001B[0m \u001B[0;34m=\u001B[0m \u001B[0mtargetSum\u001B[0m \u001B[0;34m-\u001B[0m \u001B[0mnum\u001B[0m\u001B[0;34m\u001B[0m\u001B[0;34m\u001B[0m\u001B[0m\n\u001B[0;32m---> 11\u001B[0;31m         \u001B[0mremainderCombination\u001B[0m \u001B[0;34m=\u001B[0m \u001B[0mbestSum\u001B[0m\u001B[0;34m(\u001B[0m\u001B[0mremainder\u001B[0m\u001B[0;34m,\u001B[0m \u001B[0mnumbers\u001B[0m\u001B[0;34m)\u001B[0m\u001B[0;34m\u001B[0m\u001B[0;34m\u001B[0m\u001B[0m\n\u001B[0m\u001B[1;32m     12\u001B[0m         \u001B[0;32mif\u001B[0m \u001B[0;34m(\u001B[0m\u001B[0mremainderCombination\u001B[0m \u001B[0;32mis\u001B[0m \u001B[0;32mnot\u001B[0m \u001B[0;32mNone\u001B[0m\u001B[0;34m)\u001B[0m\u001B[0;34m:\u001B[0m\u001B[0;34m\u001B[0m\u001B[0;34m\u001B[0m\u001B[0m\n\u001B[1;32m     13\u001B[0m             \u001B[0mcombination\u001B[0m \u001B[0;34m=\u001B[0m \u001B[0mremainderCombination\u001B[0m \u001B[0;34m+\u001B[0m \u001B[0;34m[\u001B[0m\u001B[0mnum\u001B[0m\u001B[0;34m]\u001B[0m\u001B[0;34m\u001B[0m\u001B[0;34m\u001B[0m\u001B[0m\n",
      "\u001B[0;32m<ipython-input-4-7c1be54291d6>\u001B[0m in \u001B[0;36mbestSum\u001B[0;34m(targetSum, numbers)\u001B[0m\n\u001B[1;32m      9\u001B[0m     \u001B[0;32mfor\u001B[0m \u001B[0mnum\u001B[0m \u001B[0;32min\u001B[0m \u001B[0mnumbers\u001B[0m\u001B[0;34m:\u001B[0m\u001B[0;34m\u001B[0m\u001B[0;34m\u001B[0m\u001B[0m\n\u001B[1;32m     10\u001B[0m         \u001B[0mremainder\u001B[0m \u001B[0;34m=\u001B[0m \u001B[0mtargetSum\u001B[0m \u001B[0;34m-\u001B[0m \u001B[0mnum\u001B[0m\u001B[0;34m\u001B[0m\u001B[0;34m\u001B[0m\u001B[0m\n\u001B[0;32m---> 11\u001B[0;31m         \u001B[0mremainderCombination\u001B[0m \u001B[0;34m=\u001B[0m \u001B[0mbestSum\u001B[0m\u001B[0;34m(\u001B[0m\u001B[0mremainder\u001B[0m\u001B[0;34m,\u001B[0m \u001B[0mnumbers\u001B[0m\u001B[0;34m)\u001B[0m\u001B[0;34m\u001B[0m\u001B[0;34m\u001B[0m\u001B[0m\n\u001B[0m\u001B[1;32m     12\u001B[0m         \u001B[0;32mif\u001B[0m \u001B[0;34m(\u001B[0m\u001B[0mremainderCombination\u001B[0m \u001B[0;32mis\u001B[0m \u001B[0;32mnot\u001B[0m \u001B[0;32mNone\u001B[0m\u001B[0;34m)\u001B[0m\u001B[0;34m:\u001B[0m\u001B[0;34m\u001B[0m\u001B[0;34m\u001B[0m\u001B[0m\n\u001B[1;32m     13\u001B[0m             \u001B[0mcombination\u001B[0m \u001B[0;34m=\u001B[0m \u001B[0mremainderCombination\u001B[0m \u001B[0;34m+\u001B[0m \u001B[0;34m[\u001B[0m\u001B[0mnum\u001B[0m\u001B[0;34m]\u001B[0m\u001B[0;34m\u001B[0m\u001B[0;34m\u001B[0m\u001B[0m\n",
      "\u001B[0;32m<ipython-input-4-7c1be54291d6>\u001B[0m in \u001B[0;36mbestSum\u001B[0;34m(targetSum, numbers)\u001B[0m\n\u001B[1;32m      9\u001B[0m     \u001B[0;32mfor\u001B[0m \u001B[0mnum\u001B[0m \u001B[0;32min\u001B[0m \u001B[0mnumbers\u001B[0m\u001B[0;34m:\u001B[0m\u001B[0;34m\u001B[0m\u001B[0;34m\u001B[0m\u001B[0m\n\u001B[1;32m     10\u001B[0m         \u001B[0mremainder\u001B[0m \u001B[0;34m=\u001B[0m \u001B[0mtargetSum\u001B[0m \u001B[0;34m-\u001B[0m \u001B[0mnum\u001B[0m\u001B[0;34m\u001B[0m\u001B[0;34m\u001B[0m\u001B[0m\n\u001B[0;32m---> 11\u001B[0;31m         \u001B[0mremainderCombination\u001B[0m \u001B[0;34m=\u001B[0m \u001B[0mbestSum\u001B[0m\u001B[0;34m(\u001B[0m\u001B[0mremainder\u001B[0m\u001B[0;34m,\u001B[0m \u001B[0mnumbers\u001B[0m\u001B[0;34m)\u001B[0m\u001B[0;34m\u001B[0m\u001B[0;34m\u001B[0m\u001B[0m\n\u001B[0m\u001B[1;32m     12\u001B[0m         \u001B[0;32mif\u001B[0m \u001B[0;34m(\u001B[0m\u001B[0mremainderCombination\u001B[0m \u001B[0;32mis\u001B[0m \u001B[0;32mnot\u001B[0m \u001B[0;32mNone\u001B[0m\u001B[0;34m)\u001B[0m\u001B[0;34m:\u001B[0m\u001B[0;34m\u001B[0m\u001B[0;34m\u001B[0m\u001B[0m\n\u001B[1;32m     13\u001B[0m             \u001B[0mcombination\u001B[0m \u001B[0;34m=\u001B[0m \u001B[0mremainderCombination\u001B[0m \u001B[0;34m+\u001B[0m \u001B[0;34m[\u001B[0m\u001B[0mnum\u001B[0m\u001B[0;34m]\u001B[0m\u001B[0;34m\u001B[0m\u001B[0;34m\u001B[0m\u001B[0m\n",
      "\u001B[0;32m<ipython-input-4-7c1be54291d6>\u001B[0m in \u001B[0;36mbestSum\u001B[0;34m(targetSum, numbers)\u001B[0m\n\u001B[1;32m      9\u001B[0m     \u001B[0;32mfor\u001B[0m \u001B[0mnum\u001B[0m \u001B[0;32min\u001B[0m \u001B[0mnumbers\u001B[0m\u001B[0;34m:\u001B[0m\u001B[0;34m\u001B[0m\u001B[0;34m\u001B[0m\u001B[0m\n\u001B[1;32m     10\u001B[0m         \u001B[0mremainder\u001B[0m \u001B[0;34m=\u001B[0m \u001B[0mtargetSum\u001B[0m \u001B[0;34m-\u001B[0m \u001B[0mnum\u001B[0m\u001B[0;34m\u001B[0m\u001B[0;34m\u001B[0m\u001B[0m\n\u001B[0;32m---> 11\u001B[0;31m         \u001B[0mremainderCombination\u001B[0m \u001B[0;34m=\u001B[0m \u001B[0mbestSum\u001B[0m\u001B[0;34m(\u001B[0m\u001B[0mremainder\u001B[0m\u001B[0;34m,\u001B[0m \u001B[0mnumbers\u001B[0m\u001B[0;34m)\u001B[0m\u001B[0;34m\u001B[0m\u001B[0;34m\u001B[0m\u001B[0m\n\u001B[0m\u001B[1;32m     12\u001B[0m         \u001B[0;32mif\u001B[0m \u001B[0;34m(\u001B[0m\u001B[0mremainderCombination\u001B[0m \u001B[0;32mis\u001B[0m \u001B[0;32mnot\u001B[0m \u001B[0;32mNone\u001B[0m\u001B[0;34m)\u001B[0m\u001B[0;34m:\u001B[0m\u001B[0;34m\u001B[0m\u001B[0;34m\u001B[0m\u001B[0m\n\u001B[1;32m     13\u001B[0m             \u001B[0mcombination\u001B[0m \u001B[0;34m=\u001B[0m \u001B[0mremainderCombination\u001B[0m \u001B[0;34m+\u001B[0m \u001B[0;34m[\u001B[0m\u001B[0mnum\u001B[0m\u001B[0;34m]\u001B[0m\u001B[0;34m\u001B[0m\u001B[0;34m\u001B[0m\u001B[0m\n",
      "\u001B[0;32m<ipython-input-4-7c1be54291d6>\u001B[0m in \u001B[0;36mbestSum\u001B[0;34m(targetSum, numbers)\u001B[0m\n\u001B[1;32m      9\u001B[0m     \u001B[0;32mfor\u001B[0m \u001B[0mnum\u001B[0m \u001B[0;32min\u001B[0m \u001B[0mnumbers\u001B[0m\u001B[0;34m:\u001B[0m\u001B[0;34m\u001B[0m\u001B[0;34m\u001B[0m\u001B[0m\n\u001B[1;32m     10\u001B[0m         \u001B[0mremainder\u001B[0m \u001B[0;34m=\u001B[0m \u001B[0mtargetSum\u001B[0m \u001B[0;34m-\u001B[0m \u001B[0mnum\u001B[0m\u001B[0;34m\u001B[0m\u001B[0;34m\u001B[0m\u001B[0m\n\u001B[0;32m---> 11\u001B[0;31m         \u001B[0mremainderCombination\u001B[0m \u001B[0;34m=\u001B[0m \u001B[0mbestSum\u001B[0m\u001B[0;34m(\u001B[0m\u001B[0mremainder\u001B[0m\u001B[0;34m,\u001B[0m \u001B[0mnumbers\u001B[0m\u001B[0;34m)\u001B[0m\u001B[0;34m\u001B[0m\u001B[0;34m\u001B[0m\u001B[0m\n\u001B[0m\u001B[1;32m     12\u001B[0m         \u001B[0;32mif\u001B[0m \u001B[0;34m(\u001B[0m\u001B[0mremainderCombination\u001B[0m \u001B[0;32mis\u001B[0m \u001B[0;32mnot\u001B[0m \u001B[0;32mNone\u001B[0m\u001B[0;34m)\u001B[0m\u001B[0;34m:\u001B[0m\u001B[0;34m\u001B[0m\u001B[0;34m\u001B[0m\u001B[0m\n\u001B[1;32m     13\u001B[0m             \u001B[0mcombination\u001B[0m \u001B[0;34m=\u001B[0m \u001B[0mremainderCombination\u001B[0m \u001B[0;34m+\u001B[0m \u001B[0;34m[\u001B[0m\u001B[0mnum\u001B[0m\u001B[0;34m]\u001B[0m\u001B[0;34m\u001B[0m\u001B[0;34m\u001B[0m\u001B[0m\n",
      "\u001B[0;32m<ipython-input-4-7c1be54291d6>\u001B[0m in \u001B[0;36mbestSum\u001B[0;34m(targetSum, numbers)\u001B[0m\n\u001B[1;32m      9\u001B[0m     \u001B[0;32mfor\u001B[0m \u001B[0mnum\u001B[0m \u001B[0;32min\u001B[0m \u001B[0mnumbers\u001B[0m\u001B[0;34m:\u001B[0m\u001B[0;34m\u001B[0m\u001B[0;34m\u001B[0m\u001B[0m\n\u001B[1;32m     10\u001B[0m         \u001B[0mremainder\u001B[0m \u001B[0;34m=\u001B[0m \u001B[0mtargetSum\u001B[0m \u001B[0;34m-\u001B[0m \u001B[0mnum\u001B[0m\u001B[0;34m\u001B[0m\u001B[0;34m\u001B[0m\u001B[0m\n\u001B[0;32m---> 11\u001B[0;31m         \u001B[0mremainderCombination\u001B[0m \u001B[0;34m=\u001B[0m \u001B[0mbestSum\u001B[0m\u001B[0;34m(\u001B[0m\u001B[0mremainder\u001B[0m\u001B[0;34m,\u001B[0m \u001B[0mnumbers\u001B[0m\u001B[0;34m)\u001B[0m\u001B[0;34m\u001B[0m\u001B[0;34m\u001B[0m\u001B[0m\n\u001B[0m\u001B[1;32m     12\u001B[0m         \u001B[0;32mif\u001B[0m \u001B[0;34m(\u001B[0m\u001B[0mremainderCombination\u001B[0m \u001B[0;32mis\u001B[0m \u001B[0;32mnot\u001B[0m \u001B[0;32mNone\u001B[0m\u001B[0;34m)\u001B[0m\u001B[0;34m:\u001B[0m\u001B[0;34m\u001B[0m\u001B[0;34m\u001B[0m\u001B[0m\n\u001B[1;32m     13\u001B[0m             \u001B[0mcombination\u001B[0m \u001B[0;34m=\u001B[0m \u001B[0mremainderCombination\u001B[0m \u001B[0;34m+\u001B[0m \u001B[0;34m[\u001B[0m\u001B[0mnum\u001B[0m\u001B[0;34m]\u001B[0m\u001B[0;34m\u001B[0m\u001B[0;34m\u001B[0m\u001B[0m\n",
      "\u001B[0;32m<ipython-input-4-7c1be54291d6>\u001B[0m in \u001B[0;36mbestSum\u001B[0;34m(targetSum, numbers)\u001B[0m\n\u001B[1;32m      9\u001B[0m     \u001B[0;32mfor\u001B[0m \u001B[0mnum\u001B[0m \u001B[0;32min\u001B[0m \u001B[0mnumbers\u001B[0m\u001B[0;34m:\u001B[0m\u001B[0;34m\u001B[0m\u001B[0;34m\u001B[0m\u001B[0m\n\u001B[1;32m     10\u001B[0m         \u001B[0mremainder\u001B[0m \u001B[0;34m=\u001B[0m \u001B[0mtargetSum\u001B[0m \u001B[0;34m-\u001B[0m \u001B[0mnum\u001B[0m\u001B[0;34m\u001B[0m\u001B[0;34m\u001B[0m\u001B[0m\n\u001B[0;32m---> 11\u001B[0;31m         \u001B[0mremainderCombination\u001B[0m \u001B[0;34m=\u001B[0m \u001B[0mbestSum\u001B[0m\u001B[0;34m(\u001B[0m\u001B[0mremainder\u001B[0m\u001B[0;34m,\u001B[0m \u001B[0mnumbers\u001B[0m\u001B[0;34m)\u001B[0m\u001B[0;34m\u001B[0m\u001B[0;34m\u001B[0m\u001B[0m\n\u001B[0m\u001B[1;32m     12\u001B[0m         \u001B[0;32mif\u001B[0m \u001B[0;34m(\u001B[0m\u001B[0mremainderCombination\u001B[0m \u001B[0;32mis\u001B[0m \u001B[0;32mnot\u001B[0m \u001B[0;32mNone\u001B[0m\u001B[0;34m)\u001B[0m\u001B[0;34m:\u001B[0m\u001B[0;34m\u001B[0m\u001B[0;34m\u001B[0m\u001B[0m\n\u001B[1;32m     13\u001B[0m             \u001B[0mcombination\u001B[0m \u001B[0;34m=\u001B[0m \u001B[0mremainderCombination\u001B[0m \u001B[0;34m+\u001B[0m \u001B[0;34m[\u001B[0m\u001B[0mnum\u001B[0m\u001B[0;34m]\u001B[0m\u001B[0;34m\u001B[0m\u001B[0;34m\u001B[0m\u001B[0m\n",
      "\u001B[0;32m<ipython-input-4-7c1be54291d6>\u001B[0m in \u001B[0;36mbestSum\u001B[0;34m(targetSum, numbers)\u001B[0m\n\u001B[1;32m      9\u001B[0m     \u001B[0;32mfor\u001B[0m \u001B[0mnum\u001B[0m \u001B[0;32min\u001B[0m \u001B[0mnumbers\u001B[0m\u001B[0;34m:\u001B[0m\u001B[0;34m\u001B[0m\u001B[0;34m\u001B[0m\u001B[0m\n\u001B[1;32m     10\u001B[0m         \u001B[0mremainder\u001B[0m \u001B[0;34m=\u001B[0m \u001B[0mtargetSum\u001B[0m \u001B[0;34m-\u001B[0m \u001B[0mnum\u001B[0m\u001B[0;34m\u001B[0m\u001B[0;34m\u001B[0m\u001B[0m\n\u001B[0;32m---> 11\u001B[0;31m         \u001B[0mremainderCombination\u001B[0m \u001B[0;34m=\u001B[0m \u001B[0mbestSum\u001B[0m\u001B[0;34m(\u001B[0m\u001B[0mremainder\u001B[0m\u001B[0;34m,\u001B[0m \u001B[0mnumbers\u001B[0m\u001B[0;34m)\u001B[0m\u001B[0;34m\u001B[0m\u001B[0;34m\u001B[0m\u001B[0m\n\u001B[0m\u001B[1;32m     12\u001B[0m         \u001B[0;32mif\u001B[0m \u001B[0;34m(\u001B[0m\u001B[0mremainderCombination\u001B[0m \u001B[0;32mis\u001B[0m \u001B[0;32mnot\u001B[0m \u001B[0;32mNone\u001B[0m\u001B[0;34m)\u001B[0m\u001B[0;34m:\u001B[0m\u001B[0;34m\u001B[0m\u001B[0;34m\u001B[0m\u001B[0m\n\u001B[1;32m     13\u001B[0m             \u001B[0mcombination\u001B[0m \u001B[0;34m=\u001B[0m \u001B[0mremainderCombination\u001B[0m \u001B[0;34m+\u001B[0m \u001B[0;34m[\u001B[0m\u001B[0mnum\u001B[0m\u001B[0;34m]\u001B[0m\u001B[0;34m\u001B[0m\u001B[0;34m\u001B[0m\u001B[0m\n",
      "\u001B[0;32m<ipython-input-4-7c1be54291d6>\u001B[0m in \u001B[0;36mbestSum\u001B[0;34m(targetSum, numbers)\u001B[0m\n\u001B[1;32m      9\u001B[0m     \u001B[0;32mfor\u001B[0m \u001B[0mnum\u001B[0m \u001B[0;32min\u001B[0m \u001B[0mnumbers\u001B[0m\u001B[0;34m:\u001B[0m\u001B[0;34m\u001B[0m\u001B[0;34m\u001B[0m\u001B[0m\n\u001B[1;32m     10\u001B[0m         \u001B[0mremainder\u001B[0m \u001B[0;34m=\u001B[0m \u001B[0mtargetSum\u001B[0m \u001B[0;34m-\u001B[0m \u001B[0mnum\u001B[0m\u001B[0;34m\u001B[0m\u001B[0;34m\u001B[0m\u001B[0m\n\u001B[0;32m---> 11\u001B[0;31m         \u001B[0mremainderCombination\u001B[0m \u001B[0;34m=\u001B[0m \u001B[0mbestSum\u001B[0m\u001B[0;34m(\u001B[0m\u001B[0mremainder\u001B[0m\u001B[0;34m,\u001B[0m \u001B[0mnumbers\u001B[0m\u001B[0;34m)\u001B[0m\u001B[0;34m\u001B[0m\u001B[0;34m\u001B[0m\u001B[0m\n\u001B[0m\u001B[1;32m     12\u001B[0m         \u001B[0;32mif\u001B[0m \u001B[0;34m(\u001B[0m\u001B[0mremainderCombination\u001B[0m \u001B[0;32mis\u001B[0m \u001B[0;32mnot\u001B[0m \u001B[0;32mNone\u001B[0m\u001B[0;34m)\u001B[0m\u001B[0;34m:\u001B[0m\u001B[0;34m\u001B[0m\u001B[0;34m\u001B[0m\u001B[0m\n\u001B[1;32m     13\u001B[0m             \u001B[0mcombination\u001B[0m \u001B[0;34m=\u001B[0m \u001B[0mremainderCombination\u001B[0m \u001B[0;34m+\u001B[0m \u001B[0;34m[\u001B[0m\u001B[0mnum\u001B[0m\u001B[0;34m]\u001B[0m\u001B[0;34m\u001B[0m\u001B[0;34m\u001B[0m\u001B[0m\n",
      "\u001B[0;32m<ipython-input-4-7c1be54291d6>\u001B[0m in \u001B[0;36mbestSum\u001B[0;34m(targetSum, numbers)\u001B[0m\n\u001B[1;32m      9\u001B[0m     \u001B[0;32mfor\u001B[0m \u001B[0mnum\u001B[0m \u001B[0;32min\u001B[0m \u001B[0mnumbers\u001B[0m\u001B[0;34m:\u001B[0m\u001B[0;34m\u001B[0m\u001B[0;34m\u001B[0m\u001B[0m\n\u001B[1;32m     10\u001B[0m         \u001B[0mremainder\u001B[0m \u001B[0;34m=\u001B[0m \u001B[0mtargetSum\u001B[0m \u001B[0;34m-\u001B[0m \u001B[0mnum\u001B[0m\u001B[0;34m\u001B[0m\u001B[0;34m\u001B[0m\u001B[0m\n\u001B[0;32m---> 11\u001B[0;31m         \u001B[0mremainderCombination\u001B[0m \u001B[0;34m=\u001B[0m \u001B[0mbestSum\u001B[0m\u001B[0;34m(\u001B[0m\u001B[0mremainder\u001B[0m\u001B[0;34m,\u001B[0m \u001B[0mnumbers\u001B[0m\u001B[0;34m)\u001B[0m\u001B[0;34m\u001B[0m\u001B[0;34m\u001B[0m\u001B[0m\n\u001B[0m\u001B[1;32m     12\u001B[0m         \u001B[0;32mif\u001B[0m \u001B[0;34m(\u001B[0m\u001B[0mremainderCombination\u001B[0m \u001B[0;32mis\u001B[0m \u001B[0;32mnot\u001B[0m \u001B[0;32mNone\u001B[0m\u001B[0;34m)\u001B[0m\u001B[0;34m:\u001B[0m\u001B[0;34m\u001B[0m\u001B[0;34m\u001B[0m\u001B[0m\n\u001B[1;32m     13\u001B[0m             \u001B[0mcombination\u001B[0m \u001B[0;34m=\u001B[0m \u001B[0mremainderCombination\u001B[0m \u001B[0;34m+\u001B[0m \u001B[0;34m[\u001B[0m\u001B[0mnum\u001B[0m\u001B[0;34m]\u001B[0m\u001B[0;34m\u001B[0m\u001B[0;34m\u001B[0m\u001B[0m\n",
      "\u001B[0;32m<ipython-input-4-7c1be54291d6>\u001B[0m in \u001B[0;36mbestSum\u001B[0;34m(targetSum, numbers)\u001B[0m\n\u001B[1;32m      9\u001B[0m     \u001B[0;32mfor\u001B[0m \u001B[0mnum\u001B[0m \u001B[0;32min\u001B[0m \u001B[0mnumbers\u001B[0m\u001B[0;34m:\u001B[0m\u001B[0;34m\u001B[0m\u001B[0;34m\u001B[0m\u001B[0m\n\u001B[1;32m     10\u001B[0m         \u001B[0mremainder\u001B[0m \u001B[0;34m=\u001B[0m \u001B[0mtargetSum\u001B[0m \u001B[0;34m-\u001B[0m \u001B[0mnum\u001B[0m\u001B[0;34m\u001B[0m\u001B[0;34m\u001B[0m\u001B[0m\n\u001B[0;32m---> 11\u001B[0;31m         \u001B[0mremainderCombination\u001B[0m \u001B[0;34m=\u001B[0m \u001B[0mbestSum\u001B[0m\u001B[0;34m(\u001B[0m\u001B[0mremainder\u001B[0m\u001B[0;34m,\u001B[0m \u001B[0mnumbers\u001B[0m\u001B[0;34m)\u001B[0m\u001B[0;34m\u001B[0m\u001B[0;34m\u001B[0m\u001B[0m\n\u001B[0m\u001B[1;32m     12\u001B[0m         \u001B[0;32mif\u001B[0m \u001B[0;34m(\u001B[0m\u001B[0mremainderCombination\u001B[0m \u001B[0;32mis\u001B[0m \u001B[0;32mnot\u001B[0m \u001B[0;32mNone\u001B[0m\u001B[0;34m)\u001B[0m\u001B[0;34m:\u001B[0m\u001B[0;34m\u001B[0m\u001B[0;34m\u001B[0m\u001B[0m\n\u001B[1;32m     13\u001B[0m             \u001B[0mcombination\u001B[0m \u001B[0;34m=\u001B[0m \u001B[0mremainderCombination\u001B[0m \u001B[0;34m+\u001B[0m \u001B[0;34m[\u001B[0m\u001B[0mnum\u001B[0m\u001B[0;34m]\u001B[0m\u001B[0;34m\u001B[0m\u001B[0;34m\u001B[0m\u001B[0m\n",
      "\u001B[0;32m<ipython-input-4-7c1be54291d6>\u001B[0m in \u001B[0;36mbestSum\u001B[0;34m(targetSum, numbers)\u001B[0m\n\u001B[1;32m      9\u001B[0m     \u001B[0;32mfor\u001B[0m \u001B[0mnum\u001B[0m \u001B[0;32min\u001B[0m \u001B[0mnumbers\u001B[0m\u001B[0;34m:\u001B[0m\u001B[0;34m\u001B[0m\u001B[0;34m\u001B[0m\u001B[0m\n\u001B[1;32m     10\u001B[0m         \u001B[0mremainder\u001B[0m \u001B[0;34m=\u001B[0m \u001B[0mtargetSum\u001B[0m \u001B[0;34m-\u001B[0m \u001B[0mnum\u001B[0m\u001B[0;34m\u001B[0m\u001B[0;34m\u001B[0m\u001B[0m\n\u001B[0;32m---> 11\u001B[0;31m         \u001B[0mremainderCombination\u001B[0m \u001B[0;34m=\u001B[0m \u001B[0mbestSum\u001B[0m\u001B[0;34m(\u001B[0m\u001B[0mremainder\u001B[0m\u001B[0;34m,\u001B[0m \u001B[0mnumbers\u001B[0m\u001B[0;34m)\u001B[0m\u001B[0;34m\u001B[0m\u001B[0;34m\u001B[0m\u001B[0m\n\u001B[0m\u001B[1;32m     12\u001B[0m         \u001B[0;32mif\u001B[0m \u001B[0;34m(\u001B[0m\u001B[0mremainderCombination\u001B[0m \u001B[0;32mis\u001B[0m \u001B[0;32mnot\u001B[0m \u001B[0;32mNone\u001B[0m\u001B[0;34m)\u001B[0m\u001B[0;34m:\u001B[0m\u001B[0;34m\u001B[0m\u001B[0;34m\u001B[0m\u001B[0m\n\u001B[1;32m     13\u001B[0m             \u001B[0mcombination\u001B[0m \u001B[0;34m=\u001B[0m \u001B[0mremainderCombination\u001B[0m \u001B[0;34m+\u001B[0m \u001B[0;34m[\u001B[0m\u001B[0mnum\u001B[0m\u001B[0;34m]\u001B[0m\u001B[0;34m\u001B[0m\u001B[0;34m\u001B[0m\u001B[0m\n",
      "\u001B[0;32m<ipython-input-4-7c1be54291d6>\u001B[0m in \u001B[0;36mbestSum\u001B[0;34m(targetSum, numbers)\u001B[0m\n\u001B[1;32m      9\u001B[0m     \u001B[0;32mfor\u001B[0m \u001B[0mnum\u001B[0m \u001B[0;32min\u001B[0m \u001B[0mnumbers\u001B[0m\u001B[0;34m:\u001B[0m\u001B[0;34m\u001B[0m\u001B[0;34m\u001B[0m\u001B[0m\n\u001B[1;32m     10\u001B[0m         \u001B[0mremainder\u001B[0m \u001B[0;34m=\u001B[0m \u001B[0mtargetSum\u001B[0m \u001B[0;34m-\u001B[0m \u001B[0mnum\u001B[0m\u001B[0;34m\u001B[0m\u001B[0;34m\u001B[0m\u001B[0m\n\u001B[0;32m---> 11\u001B[0;31m         \u001B[0mremainderCombination\u001B[0m \u001B[0;34m=\u001B[0m \u001B[0mbestSum\u001B[0m\u001B[0;34m(\u001B[0m\u001B[0mremainder\u001B[0m\u001B[0;34m,\u001B[0m \u001B[0mnumbers\u001B[0m\u001B[0;34m)\u001B[0m\u001B[0;34m\u001B[0m\u001B[0;34m\u001B[0m\u001B[0m\n\u001B[0m\u001B[1;32m     12\u001B[0m         \u001B[0;32mif\u001B[0m \u001B[0;34m(\u001B[0m\u001B[0mremainderCombination\u001B[0m \u001B[0;32mis\u001B[0m \u001B[0;32mnot\u001B[0m \u001B[0;32mNone\u001B[0m\u001B[0;34m)\u001B[0m\u001B[0;34m:\u001B[0m\u001B[0;34m\u001B[0m\u001B[0;34m\u001B[0m\u001B[0m\n\u001B[1;32m     13\u001B[0m             \u001B[0mcombination\u001B[0m \u001B[0;34m=\u001B[0m \u001B[0mremainderCombination\u001B[0m \u001B[0;34m+\u001B[0m \u001B[0;34m[\u001B[0m\u001B[0mnum\u001B[0m\u001B[0;34m]\u001B[0m\u001B[0;34m\u001B[0m\u001B[0;34m\u001B[0m\u001B[0m\n",
      "\u001B[0;32m<ipython-input-4-7c1be54291d6>\u001B[0m in \u001B[0;36mbestSum\u001B[0;34m(targetSum, numbers)\u001B[0m\n\u001B[1;32m      9\u001B[0m     \u001B[0;32mfor\u001B[0m \u001B[0mnum\u001B[0m \u001B[0;32min\u001B[0m \u001B[0mnumbers\u001B[0m\u001B[0;34m:\u001B[0m\u001B[0;34m\u001B[0m\u001B[0;34m\u001B[0m\u001B[0m\n\u001B[1;32m     10\u001B[0m         \u001B[0mremainder\u001B[0m \u001B[0;34m=\u001B[0m \u001B[0mtargetSum\u001B[0m \u001B[0;34m-\u001B[0m \u001B[0mnum\u001B[0m\u001B[0;34m\u001B[0m\u001B[0;34m\u001B[0m\u001B[0m\n\u001B[0;32m---> 11\u001B[0;31m         \u001B[0mremainderCombination\u001B[0m \u001B[0;34m=\u001B[0m \u001B[0mbestSum\u001B[0m\u001B[0;34m(\u001B[0m\u001B[0mremainder\u001B[0m\u001B[0;34m,\u001B[0m \u001B[0mnumbers\u001B[0m\u001B[0;34m)\u001B[0m\u001B[0;34m\u001B[0m\u001B[0;34m\u001B[0m\u001B[0m\n\u001B[0m\u001B[1;32m     12\u001B[0m         \u001B[0;32mif\u001B[0m \u001B[0;34m(\u001B[0m\u001B[0mremainderCombination\u001B[0m \u001B[0;32mis\u001B[0m \u001B[0;32mnot\u001B[0m \u001B[0;32mNone\u001B[0m\u001B[0;34m)\u001B[0m\u001B[0;34m:\u001B[0m\u001B[0;34m\u001B[0m\u001B[0;34m\u001B[0m\u001B[0m\n\u001B[1;32m     13\u001B[0m             \u001B[0mcombination\u001B[0m \u001B[0;34m=\u001B[0m \u001B[0mremainderCombination\u001B[0m \u001B[0;34m+\u001B[0m \u001B[0;34m[\u001B[0m\u001B[0mnum\u001B[0m\u001B[0;34m]\u001B[0m\u001B[0;34m\u001B[0m\u001B[0;34m\u001B[0m\u001B[0m\n",
      "\u001B[0;32m<ipython-input-4-7c1be54291d6>\u001B[0m in \u001B[0;36mbestSum\u001B[0;34m(targetSum, numbers)\u001B[0m\n\u001B[1;32m      9\u001B[0m     \u001B[0;32mfor\u001B[0m \u001B[0mnum\u001B[0m \u001B[0;32min\u001B[0m \u001B[0mnumbers\u001B[0m\u001B[0;34m:\u001B[0m\u001B[0;34m\u001B[0m\u001B[0;34m\u001B[0m\u001B[0m\n\u001B[1;32m     10\u001B[0m         \u001B[0mremainder\u001B[0m \u001B[0;34m=\u001B[0m \u001B[0mtargetSum\u001B[0m \u001B[0;34m-\u001B[0m \u001B[0mnum\u001B[0m\u001B[0;34m\u001B[0m\u001B[0;34m\u001B[0m\u001B[0m\n\u001B[0;32m---> 11\u001B[0;31m         \u001B[0mremainderCombination\u001B[0m \u001B[0;34m=\u001B[0m \u001B[0mbestSum\u001B[0m\u001B[0;34m(\u001B[0m\u001B[0mremainder\u001B[0m\u001B[0;34m,\u001B[0m \u001B[0mnumbers\u001B[0m\u001B[0;34m)\u001B[0m\u001B[0;34m\u001B[0m\u001B[0;34m\u001B[0m\u001B[0m\n\u001B[0m\u001B[1;32m     12\u001B[0m         \u001B[0;32mif\u001B[0m \u001B[0;34m(\u001B[0m\u001B[0mremainderCombination\u001B[0m \u001B[0;32mis\u001B[0m \u001B[0;32mnot\u001B[0m \u001B[0;32mNone\u001B[0m\u001B[0;34m)\u001B[0m\u001B[0;34m:\u001B[0m\u001B[0;34m\u001B[0m\u001B[0;34m\u001B[0m\u001B[0m\n\u001B[1;32m     13\u001B[0m             \u001B[0mcombination\u001B[0m \u001B[0;34m=\u001B[0m \u001B[0mremainderCombination\u001B[0m \u001B[0;34m+\u001B[0m \u001B[0;34m[\u001B[0m\u001B[0mnum\u001B[0m\u001B[0;34m]\u001B[0m\u001B[0;34m\u001B[0m\u001B[0;34m\u001B[0m\u001B[0m\n",
      "\u001B[0;32m<ipython-input-4-7c1be54291d6>\u001B[0m in \u001B[0;36mbestSum\u001B[0;34m(targetSum, numbers)\u001B[0m\n\u001B[1;32m      9\u001B[0m     \u001B[0;32mfor\u001B[0m \u001B[0mnum\u001B[0m \u001B[0;32min\u001B[0m \u001B[0mnumbers\u001B[0m\u001B[0;34m:\u001B[0m\u001B[0;34m\u001B[0m\u001B[0;34m\u001B[0m\u001B[0m\n\u001B[1;32m     10\u001B[0m         \u001B[0mremainder\u001B[0m \u001B[0;34m=\u001B[0m \u001B[0mtargetSum\u001B[0m \u001B[0;34m-\u001B[0m \u001B[0mnum\u001B[0m\u001B[0;34m\u001B[0m\u001B[0;34m\u001B[0m\u001B[0m\n\u001B[0;32m---> 11\u001B[0;31m         \u001B[0mremainderCombination\u001B[0m \u001B[0;34m=\u001B[0m \u001B[0mbestSum\u001B[0m\u001B[0;34m(\u001B[0m\u001B[0mremainder\u001B[0m\u001B[0;34m,\u001B[0m \u001B[0mnumbers\u001B[0m\u001B[0;34m)\u001B[0m\u001B[0;34m\u001B[0m\u001B[0;34m\u001B[0m\u001B[0m\n\u001B[0m\u001B[1;32m     12\u001B[0m         \u001B[0;32mif\u001B[0m \u001B[0;34m(\u001B[0m\u001B[0mremainderCombination\u001B[0m \u001B[0;32mis\u001B[0m \u001B[0;32mnot\u001B[0m \u001B[0;32mNone\u001B[0m\u001B[0;34m)\u001B[0m\u001B[0;34m:\u001B[0m\u001B[0;34m\u001B[0m\u001B[0;34m\u001B[0m\u001B[0m\n\u001B[1;32m     13\u001B[0m             \u001B[0mcombination\u001B[0m \u001B[0;34m=\u001B[0m \u001B[0mremainderCombination\u001B[0m \u001B[0;34m+\u001B[0m \u001B[0;34m[\u001B[0m\u001B[0mnum\u001B[0m\u001B[0;34m]\u001B[0m\u001B[0;34m\u001B[0m\u001B[0;34m\u001B[0m\u001B[0m\n",
      "\u001B[0;32m<ipython-input-4-7c1be54291d6>\u001B[0m in \u001B[0;36mbestSum\u001B[0;34m(targetSum, numbers)\u001B[0m\n\u001B[1;32m      9\u001B[0m     \u001B[0;32mfor\u001B[0m \u001B[0mnum\u001B[0m \u001B[0;32min\u001B[0m \u001B[0mnumbers\u001B[0m\u001B[0;34m:\u001B[0m\u001B[0;34m\u001B[0m\u001B[0;34m\u001B[0m\u001B[0m\n\u001B[1;32m     10\u001B[0m         \u001B[0mremainder\u001B[0m \u001B[0;34m=\u001B[0m \u001B[0mtargetSum\u001B[0m \u001B[0;34m-\u001B[0m \u001B[0mnum\u001B[0m\u001B[0;34m\u001B[0m\u001B[0;34m\u001B[0m\u001B[0m\n\u001B[0;32m---> 11\u001B[0;31m         \u001B[0mremainderCombination\u001B[0m \u001B[0;34m=\u001B[0m \u001B[0mbestSum\u001B[0m\u001B[0;34m(\u001B[0m\u001B[0mremainder\u001B[0m\u001B[0;34m,\u001B[0m \u001B[0mnumbers\u001B[0m\u001B[0;34m)\u001B[0m\u001B[0;34m\u001B[0m\u001B[0;34m\u001B[0m\u001B[0m\n\u001B[0m\u001B[1;32m     12\u001B[0m         \u001B[0;32mif\u001B[0m \u001B[0;34m(\u001B[0m\u001B[0mremainderCombination\u001B[0m \u001B[0;32mis\u001B[0m \u001B[0;32mnot\u001B[0m \u001B[0;32mNone\u001B[0m\u001B[0;34m)\u001B[0m\u001B[0;34m:\u001B[0m\u001B[0;34m\u001B[0m\u001B[0;34m\u001B[0m\u001B[0m\n\u001B[1;32m     13\u001B[0m             \u001B[0mcombination\u001B[0m \u001B[0;34m=\u001B[0m \u001B[0mremainderCombination\u001B[0m \u001B[0;34m+\u001B[0m \u001B[0;34m[\u001B[0m\u001B[0mnum\u001B[0m\u001B[0;34m]\u001B[0m\u001B[0;34m\u001B[0m\u001B[0;34m\u001B[0m\u001B[0m\n",
      "\u001B[0;32m<ipython-input-4-7c1be54291d6>\u001B[0m in \u001B[0;36mbestSum\u001B[0;34m(targetSum, numbers)\u001B[0m\n\u001B[1;32m      9\u001B[0m     \u001B[0;32mfor\u001B[0m \u001B[0mnum\u001B[0m \u001B[0;32min\u001B[0m \u001B[0mnumbers\u001B[0m\u001B[0;34m:\u001B[0m\u001B[0;34m\u001B[0m\u001B[0;34m\u001B[0m\u001B[0m\n\u001B[1;32m     10\u001B[0m         \u001B[0mremainder\u001B[0m \u001B[0;34m=\u001B[0m \u001B[0mtargetSum\u001B[0m \u001B[0;34m-\u001B[0m \u001B[0mnum\u001B[0m\u001B[0;34m\u001B[0m\u001B[0;34m\u001B[0m\u001B[0m\n\u001B[0;32m---> 11\u001B[0;31m         \u001B[0mremainderCombination\u001B[0m \u001B[0;34m=\u001B[0m \u001B[0mbestSum\u001B[0m\u001B[0;34m(\u001B[0m\u001B[0mremainder\u001B[0m\u001B[0;34m,\u001B[0m \u001B[0mnumbers\u001B[0m\u001B[0;34m)\u001B[0m\u001B[0;34m\u001B[0m\u001B[0;34m\u001B[0m\u001B[0m\n\u001B[0m\u001B[1;32m     12\u001B[0m         \u001B[0;32mif\u001B[0m \u001B[0;34m(\u001B[0m\u001B[0mremainderCombination\u001B[0m \u001B[0;32mis\u001B[0m \u001B[0;32mnot\u001B[0m \u001B[0;32mNone\u001B[0m\u001B[0;34m)\u001B[0m\u001B[0;34m:\u001B[0m\u001B[0;34m\u001B[0m\u001B[0;34m\u001B[0m\u001B[0m\n\u001B[1;32m     13\u001B[0m             \u001B[0mcombination\u001B[0m \u001B[0;34m=\u001B[0m \u001B[0mremainderCombination\u001B[0m \u001B[0;34m+\u001B[0m \u001B[0;34m[\u001B[0m\u001B[0mnum\u001B[0m\u001B[0;34m]\u001B[0m\u001B[0;34m\u001B[0m\u001B[0;34m\u001B[0m\u001B[0m\n",
      "\u001B[0;32m<ipython-input-4-7c1be54291d6>\u001B[0m in \u001B[0;36mbestSum\u001B[0;34m(targetSum, numbers)\u001B[0m\n\u001B[1;32m      9\u001B[0m     \u001B[0;32mfor\u001B[0m \u001B[0mnum\u001B[0m \u001B[0;32min\u001B[0m \u001B[0mnumbers\u001B[0m\u001B[0;34m:\u001B[0m\u001B[0;34m\u001B[0m\u001B[0;34m\u001B[0m\u001B[0m\n\u001B[1;32m     10\u001B[0m         \u001B[0mremainder\u001B[0m \u001B[0;34m=\u001B[0m \u001B[0mtargetSum\u001B[0m \u001B[0;34m-\u001B[0m \u001B[0mnum\u001B[0m\u001B[0;34m\u001B[0m\u001B[0;34m\u001B[0m\u001B[0m\n\u001B[0;32m---> 11\u001B[0;31m         \u001B[0mremainderCombination\u001B[0m \u001B[0;34m=\u001B[0m \u001B[0mbestSum\u001B[0m\u001B[0;34m(\u001B[0m\u001B[0mremainder\u001B[0m\u001B[0;34m,\u001B[0m \u001B[0mnumbers\u001B[0m\u001B[0;34m)\u001B[0m\u001B[0;34m\u001B[0m\u001B[0;34m\u001B[0m\u001B[0m\n\u001B[0m\u001B[1;32m     12\u001B[0m         \u001B[0;32mif\u001B[0m \u001B[0;34m(\u001B[0m\u001B[0mremainderCombination\u001B[0m \u001B[0;32mis\u001B[0m \u001B[0;32mnot\u001B[0m \u001B[0;32mNone\u001B[0m\u001B[0;34m)\u001B[0m\u001B[0;34m:\u001B[0m\u001B[0;34m\u001B[0m\u001B[0;34m\u001B[0m\u001B[0m\n\u001B[1;32m     13\u001B[0m             \u001B[0mcombination\u001B[0m \u001B[0;34m=\u001B[0m \u001B[0mremainderCombination\u001B[0m \u001B[0;34m+\u001B[0m \u001B[0;34m[\u001B[0m\u001B[0mnum\u001B[0m\u001B[0;34m]\u001B[0m\u001B[0;34m\u001B[0m\u001B[0;34m\u001B[0m\u001B[0m\n",
      "\u001B[0;32m<ipython-input-4-7c1be54291d6>\u001B[0m in \u001B[0;36mbestSum\u001B[0;34m(targetSum, numbers)\u001B[0m\n\u001B[1;32m      9\u001B[0m     \u001B[0;32mfor\u001B[0m \u001B[0mnum\u001B[0m \u001B[0;32min\u001B[0m \u001B[0mnumbers\u001B[0m\u001B[0;34m:\u001B[0m\u001B[0;34m\u001B[0m\u001B[0;34m\u001B[0m\u001B[0m\n\u001B[1;32m     10\u001B[0m         \u001B[0mremainder\u001B[0m \u001B[0;34m=\u001B[0m \u001B[0mtargetSum\u001B[0m \u001B[0;34m-\u001B[0m \u001B[0mnum\u001B[0m\u001B[0;34m\u001B[0m\u001B[0;34m\u001B[0m\u001B[0m\n\u001B[0;32m---> 11\u001B[0;31m         \u001B[0mremainderCombination\u001B[0m \u001B[0;34m=\u001B[0m \u001B[0mbestSum\u001B[0m\u001B[0;34m(\u001B[0m\u001B[0mremainder\u001B[0m\u001B[0;34m,\u001B[0m \u001B[0mnumbers\u001B[0m\u001B[0;34m)\u001B[0m\u001B[0;34m\u001B[0m\u001B[0;34m\u001B[0m\u001B[0m\n\u001B[0m\u001B[1;32m     12\u001B[0m         \u001B[0;32mif\u001B[0m \u001B[0;34m(\u001B[0m\u001B[0mremainderCombination\u001B[0m \u001B[0;32mis\u001B[0m \u001B[0;32mnot\u001B[0m \u001B[0;32mNone\u001B[0m\u001B[0;34m)\u001B[0m\u001B[0;34m:\u001B[0m\u001B[0;34m\u001B[0m\u001B[0;34m\u001B[0m\u001B[0m\n\u001B[1;32m     13\u001B[0m             \u001B[0mcombination\u001B[0m \u001B[0;34m=\u001B[0m \u001B[0mremainderCombination\u001B[0m \u001B[0;34m+\u001B[0m \u001B[0;34m[\u001B[0m\u001B[0mnum\u001B[0m\u001B[0;34m]\u001B[0m\u001B[0;34m\u001B[0m\u001B[0;34m\u001B[0m\u001B[0m\n",
      "\u001B[0;32m<ipython-input-4-7c1be54291d6>\u001B[0m in \u001B[0;36mbestSum\u001B[0;34m(targetSum, numbers)\u001B[0m\n\u001B[1;32m      9\u001B[0m     \u001B[0;32mfor\u001B[0m \u001B[0mnum\u001B[0m \u001B[0;32min\u001B[0m \u001B[0mnumbers\u001B[0m\u001B[0;34m:\u001B[0m\u001B[0;34m\u001B[0m\u001B[0;34m\u001B[0m\u001B[0m\n\u001B[1;32m     10\u001B[0m         \u001B[0mremainder\u001B[0m \u001B[0;34m=\u001B[0m \u001B[0mtargetSum\u001B[0m \u001B[0;34m-\u001B[0m \u001B[0mnum\u001B[0m\u001B[0;34m\u001B[0m\u001B[0;34m\u001B[0m\u001B[0m\n\u001B[0;32m---> 11\u001B[0;31m         \u001B[0mremainderCombination\u001B[0m \u001B[0;34m=\u001B[0m \u001B[0mbestSum\u001B[0m\u001B[0;34m(\u001B[0m\u001B[0mremainder\u001B[0m\u001B[0;34m,\u001B[0m \u001B[0mnumbers\u001B[0m\u001B[0;34m)\u001B[0m\u001B[0;34m\u001B[0m\u001B[0;34m\u001B[0m\u001B[0m\n\u001B[0m\u001B[1;32m     12\u001B[0m         \u001B[0;32mif\u001B[0m \u001B[0;34m(\u001B[0m\u001B[0mremainderCombination\u001B[0m \u001B[0;32mis\u001B[0m \u001B[0;32mnot\u001B[0m \u001B[0;32mNone\u001B[0m\u001B[0;34m)\u001B[0m\u001B[0;34m:\u001B[0m\u001B[0;34m\u001B[0m\u001B[0;34m\u001B[0m\u001B[0m\n\u001B[1;32m     13\u001B[0m             \u001B[0mcombination\u001B[0m \u001B[0;34m=\u001B[0m \u001B[0mremainderCombination\u001B[0m \u001B[0;34m+\u001B[0m \u001B[0;34m[\u001B[0m\u001B[0mnum\u001B[0m\u001B[0;34m]\u001B[0m\u001B[0;34m\u001B[0m\u001B[0;34m\u001B[0m\u001B[0m\n",
      "\u001B[0;32m<ipython-input-4-7c1be54291d6>\u001B[0m in \u001B[0;36mbestSum\u001B[0;34m(targetSum, numbers)\u001B[0m\n\u001B[1;32m      9\u001B[0m     \u001B[0;32mfor\u001B[0m \u001B[0mnum\u001B[0m \u001B[0;32min\u001B[0m \u001B[0mnumbers\u001B[0m\u001B[0;34m:\u001B[0m\u001B[0;34m\u001B[0m\u001B[0;34m\u001B[0m\u001B[0m\n\u001B[1;32m     10\u001B[0m         \u001B[0mremainder\u001B[0m \u001B[0;34m=\u001B[0m \u001B[0mtargetSum\u001B[0m \u001B[0;34m-\u001B[0m \u001B[0mnum\u001B[0m\u001B[0;34m\u001B[0m\u001B[0;34m\u001B[0m\u001B[0m\n\u001B[0;32m---> 11\u001B[0;31m         \u001B[0mremainderCombination\u001B[0m \u001B[0;34m=\u001B[0m \u001B[0mbestSum\u001B[0m\u001B[0;34m(\u001B[0m\u001B[0mremainder\u001B[0m\u001B[0;34m,\u001B[0m \u001B[0mnumbers\u001B[0m\u001B[0;34m)\u001B[0m\u001B[0;34m\u001B[0m\u001B[0;34m\u001B[0m\u001B[0m\n\u001B[0m\u001B[1;32m     12\u001B[0m         \u001B[0;32mif\u001B[0m \u001B[0;34m(\u001B[0m\u001B[0mremainderCombination\u001B[0m \u001B[0;32mis\u001B[0m \u001B[0;32mnot\u001B[0m \u001B[0;32mNone\u001B[0m\u001B[0;34m)\u001B[0m\u001B[0;34m:\u001B[0m\u001B[0;34m\u001B[0m\u001B[0;34m\u001B[0m\u001B[0m\n\u001B[1;32m     13\u001B[0m             \u001B[0mcombination\u001B[0m \u001B[0;34m=\u001B[0m \u001B[0mremainderCombination\u001B[0m \u001B[0;34m+\u001B[0m \u001B[0;34m[\u001B[0m\u001B[0mnum\u001B[0m\u001B[0;34m]\u001B[0m\u001B[0;34m\u001B[0m\u001B[0;34m\u001B[0m\u001B[0m\n",
      "\u001B[0;32m<ipython-input-4-7c1be54291d6>\u001B[0m in \u001B[0;36mbestSum\u001B[0;34m(targetSum, numbers)\u001B[0m\n\u001B[1;32m      9\u001B[0m     \u001B[0;32mfor\u001B[0m \u001B[0mnum\u001B[0m \u001B[0;32min\u001B[0m \u001B[0mnumbers\u001B[0m\u001B[0;34m:\u001B[0m\u001B[0;34m\u001B[0m\u001B[0;34m\u001B[0m\u001B[0m\n\u001B[1;32m     10\u001B[0m         \u001B[0mremainder\u001B[0m \u001B[0;34m=\u001B[0m \u001B[0mtargetSum\u001B[0m \u001B[0;34m-\u001B[0m \u001B[0mnum\u001B[0m\u001B[0;34m\u001B[0m\u001B[0;34m\u001B[0m\u001B[0m\n\u001B[0;32m---> 11\u001B[0;31m         \u001B[0mremainderCombination\u001B[0m \u001B[0;34m=\u001B[0m \u001B[0mbestSum\u001B[0m\u001B[0;34m(\u001B[0m\u001B[0mremainder\u001B[0m\u001B[0;34m,\u001B[0m \u001B[0mnumbers\u001B[0m\u001B[0;34m)\u001B[0m\u001B[0;34m\u001B[0m\u001B[0;34m\u001B[0m\u001B[0m\n\u001B[0m\u001B[1;32m     12\u001B[0m         \u001B[0;32mif\u001B[0m \u001B[0;34m(\u001B[0m\u001B[0mremainderCombination\u001B[0m \u001B[0;32mis\u001B[0m \u001B[0;32mnot\u001B[0m \u001B[0;32mNone\u001B[0m\u001B[0;34m)\u001B[0m\u001B[0;34m:\u001B[0m\u001B[0;34m\u001B[0m\u001B[0;34m\u001B[0m\u001B[0m\n\u001B[1;32m     13\u001B[0m             \u001B[0mcombination\u001B[0m \u001B[0;34m=\u001B[0m \u001B[0mremainderCombination\u001B[0m \u001B[0;34m+\u001B[0m \u001B[0;34m[\u001B[0m\u001B[0mnum\u001B[0m\u001B[0;34m]\u001B[0m\u001B[0;34m\u001B[0m\u001B[0;34m\u001B[0m\u001B[0m\n",
      "\u001B[0;32m<ipython-input-4-7c1be54291d6>\u001B[0m in \u001B[0;36mbestSum\u001B[0;34m(targetSum, numbers)\u001B[0m\n\u001B[1;32m      9\u001B[0m     \u001B[0;32mfor\u001B[0m \u001B[0mnum\u001B[0m \u001B[0;32min\u001B[0m \u001B[0mnumbers\u001B[0m\u001B[0;34m:\u001B[0m\u001B[0;34m\u001B[0m\u001B[0;34m\u001B[0m\u001B[0m\n\u001B[1;32m     10\u001B[0m         \u001B[0mremainder\u001B[0m \u001B[0;34m=\u001B[0m \u001B[0mtargetSum\u001B[0m \u001B[0;34m-\u001B[0m \u001B[0mnum\u001B[0m\u001B[0;34m\u001B[0m\u001B[0;34m\u001B[0m\u001B[0m\n\u001B[0;32m---> 11\u001B[0;31m         \u001B[0mremainderCombination\u001B[0m \u001B[0;34m=\u001B[0m \u001B[0mbestSum\u001B[0m\u001B[0;34m(\u001B[0m\u001B[0mremainder\u001B[0m\u001B[0;34m,\u001B[0m \u001B[0mnumbers\u001B[0m\u001B[0;34m)\u001B[0m\u001B[0;34m\u001B[0m\u001B[0;34m\u001B[0m\u001B[0m\n\u001B[0m\u001B[1;32m     12\u001B[0m         \u001B[0;32mif\u001B[0m \u001B[0;34m(\u001B[0m\u001B[0mremainderCombination\u001B[0m \u001B[0;32mis\u001B[0m \u001B[0;32mnot\u001B[0m \u001B[0;32mNone\u001B[0m\u001B[0;34m)\u001B[0m\u001B[0;34m:\u001B[0m\u001B[0;34m\u001B[0m\u001B[0;34m\u001B[0m\u001B[0m\n\u001B[1;32m     13\u001B[0m             \u001B[0mcombination\u001B[0m \u001B[0;34m=\u001B[0m \u001B[0mremainderCombination\u001B[0m \u001B[0;34m+\u001B[0m \u001B[0;34m[\u001B[0m\u001B[0mnum\u001B[0m\u001B[0;34m]\u001B[0m\u001B[0;34m\u001B[0m\u001B[0;34m\u001B[0m\u001B[0m\n",
      "\u001B[0;32m<ipython-input-4-7c1be54291d6>\u001B[0m in \u001B[0;36mbestSum\u001B[0;34m(targetSum, numbers)\u001B[0m\n\u001B[1;32m      9\u001B[0m     \u001B[0;32mfor\u001B[0m \u001B[0mnum\u001B[0m \u001B[0;32min\u001B[0m \u001B[0mnumbers\u001B[0m\u001B[0;34m:\u001B[0m\u001B[0;34m\u001B[0m\u001B[0;34m\u001B[0m\u001B[0m\n\u001B[1;32m     10\u001B[0m         \u001B[0mremainder\u001B[0m \u001B[0;34m=\u001B[0m \u001B[0mtargetSum\u001B[0m \u001B[0;34m-\u001B[0m \u001B[0mnum\u001B[0m\u001B[0;34m\u001B[0m\u001B[0;34m\u001B[0m\u001B[0m\n\u001B[0;32m---> 11\u001B[0;31m         \u001B[0mremainderCombination\u001B[0m \u001B[0;34m=\u001B[0m \u001B[0mbestSum\u001B[0m\u001B[0;34m(\u001B[0m\u001B[0mremainder\u001B[0m\u001B[0;34m,\u001B[0m \u001B[0mnumbers\u001B[0m\u001B[0;34m)\u001B[0m\u001B[0;34m\u001B[0m\u001B[0;34m\u001B[0m\u001B[0m\n\u001B[0m\u001B[1;32m     12\u001B[0m         \u001B[0;32mif\u001B[0m \u001B[0;34m(\u001B[0m\u001B[0mremainderCombination\u001B[0m \u001B[0;32mis\u001B[0m \u001B[0;32mnot\u001B[0m \u001B[0;32mNone\u001B[0m\u001B[0;34m)\u001B[0m\u001B[0;34m:\u001B[0m\u001B[0;34m\u001B[0m\u001B[0;34m\u001B[0m\u001B[0m\n\u001B[1;32m     13\u001B[0m             \u001B[0mcombination\u001B[0m \u001B[0;34m=\u001B[0m \u001B[0mremainderCombination\u001B[0m \u001B[0;34m+\u001B[0m \u001B[0;34m[\u001B[0m\u001B[0mnum\u001B[0m\u001B[0;34m]\u001B[0m\u001B[0;34m\u001B[0m\u001B[0;34m\u001B[0m\u001B[0m\n",
      "\u001B[0;32m<ipython-input-4-7c1be54291d6>\u001B[0m in \u001B[0;36mbestSum\u001B[0;34m(targetSum, numbers)\u001B[0m\n\u001B[1;32m      9\u001B[0m     \u001B[0;32mfor\u001B[0m \u001B[0mnum\u001B[0m \u001B[0;32min\u001B[0m \u001B[0mnumbers\u001B[0m\u001B[0;34m:\u001B[0m\u001B[0;34m\u001B[0m\u001B[0;34m\u001B[0m\u001B[0m\n\u001B[1;32m     10\u001B[0m         \u001B[0mremainder\u001B[0m \u001B[0;34m=\u001B[0m \u001B[0mtargetSum\u001B[0m \u001B[0;34m-\u001B[0m \u001B[0mnum\u001B[0m\u001B[0;34m\u001B[0m\u001B[0;34m\u001B[0m\u001B[0m\n\u001B[0;32m---> 11\u001B[0;31m         \u001B[0mremainderCombination\u001B[0m \u001B[0;34m=\u001B[0m \u001B[0mbestSum\u001B[0m\u001B[0;34m(\u001B[0m\u001B[0mremainder\u001B[0m\u001B[0;34m,\u001B[0m \u001B[0mnumbers\u001B[0m\u001B[0;34m)\u001B[0m\u001B[0;34m\u001B[0m\u001B[0;34m\u001B[0m\u001B[0m\n\u001B[0m\u001B[1;32m     12\u001B[0m         \u001B[0;32mif\u001B[0m \u001B[0;34m(\u001B[0m\u001B[0mremainderCombination\u001B[0m \u001B[0;32mis\u001B[0m \u001B[0;32mnot\u001B[0m \u001B[0;32mNone\u001B[0m\u001B[0;34m)\u001B[0m\u001B[0;34m:\u001B[0m\u001B[0;34m\u001B[0m\u001B[0;34m\u001B[0m\u001B[0m\n\u001B[1;32m     13\u001B[0m             \u001B[0mcombination\u001B[0m \u001B[0;34m=\u001B[0m \u001B[0mremainderCombination\u001B[0m \u001B[0;34m+\u001B[0m \u001B[0;34m[\u001B[0m\u001B[0mnum\u001B[0m\u001B[0;34m]\u001B[0m\u001B[0;34m\u001B[0m\u001B[0;34m\u001B[0m\u001B[0m\n",
      "\u001B[0;32m<ipython-input-4-7c1be54291d6>\u001B[0m in \u001B[0;36mbestSum\u001B[0;34m(targetSum, numbers)\u001B[0m\n\u001B[1;32m      9\u001B[0m     \u001B[0;32mfor\u001B[0m \u001B[0mnum\u001B[0m \u001B[0;32min\u001B[0m \u001B[0mnumbers\u001B[0m\u001B[0;34m:\u001B[0m\u001B[0;34m\u001B[0m\u001B[0;34m\u001B[0m\u001B[0m\n\u001B[1;32m     10\u001B[0m         \u001B[0mremainder\u001B[0m \u001B[0;34m=\u001B[0m \u001B[0mtargetSum\u001B[0m \u001B[0;34m-\u001B[0m \u001B[0mnum\u001B[0m\u001B[0;34m\u001B[0m\u001B[0;34m\u001B[0m\u001B[0m\n\u001B[0;32m---> 11\u001B[0;31m         \u001B[0mremainderCombination\u001B[0m \u001B[0;34m=\u001B[0m \u001B[0mbestSum\u001B[0m\u001B[0;34m(\u001B[0m\u001B[0mremainder\u001B[0m\u001B[0;34m,\u001B[0m \u001B[0mnumbers\u001B[0m\u001B[0;34m)\u001B[0m\u001B[0;34m\u001B[0m\u001B[0;34m\u001B[0m\u001B[0m\n\u001B[0m\u001B[1;32m     12\u001B[0m         \u001B[0;32mif\u001B[0m \u001B[0;34m(\u001B[0m\u001B[0mremainderCombination\u001B[0m \u001B[0;32mis\u001B[0m \u001B[0;32mnot\u001B[0m \u001B[0;32mNone\u001B[0m\u001B[0;34m)\u001B[0m\u001B[0;34m:\u001B[0m\u001B[0;34m\u001B[0m\u001B[0;34m\u001B[0m\u001B[0m\n\u001B[1;32m     13\u001B[0m             \u001B[0mcombination\u001B[0m \u001B[0;34m=\u001B[0m \u001B[0mremainderCombination\u001B[0m \u001B[0;34m+\u001B[0m \u001B[0;34m[\u001B[0m\u001B[0mnum\u001B[0m\u001B[0;34m]\u001B[0m\u001B[0;34m\u001B[0m\u001B[0;34m\u001B[0m\u001B[0m\n",
      "\u001B[0;32m<ipython-input-4-7c1be54291d6>\u001B[0m in \u001B[0;36mbestSum\u001B[0;34m(targetSum, numbers)\u001B[0m\n\u001B[1;32m      9\u001B[0m     \u001B[0;32mfor\u001B[0m \u001B[0mnum\u001B[0m \u001B[0;32min\u001B[0m \u001B[0mnumbers\u001B[0m\u001B[0;34m:\u001B[0m\u001B[0;34m\u001B[0m\u001B[0;34m\u001B[0m\u001B[0m\n\u001B[1;32m     10\u001B[0m         \u001B[0mremainder\u001B[0m \u001B[0;34m=\u001B[0m \u001B[0mtargetSum\u001B[0m \u001B[0;34m-\u001B[0m \u001B[0mnum\u001B[0m\u001B[0;34m\u001B[0m\u001B[0;34m\u001B[0m\u001B[0m\n\u001B[0;32m---> 11\u001B[0;31m         \u001B[0mremainderCombination\u001B[0m \u001B[0;34m=\u001B[0m \u001B[0mbestSum\u001B[0m\u001B[0;34m(\u001B[0m\u001B[0mremainder\u001B[0m\u001B[0;34m,\u001B[0m \u001B[0mnumbers\u001B[0m\u001B[0;34m)\u001B[0m\u001B[0;34m\u001B[0m\u001B[0;34m\u001B[0m\u001B[0m\n\u001B[0m\u001B[1;32m     12\u001B[0m         \u001B[0;32mif\u001B[0m \u001B[0;34m(\u001B[0m\u001B[0mremainderCombination\u001B[0m \u001B[0;32mis\u001B[0m \u001B[0;32mnot\u001B[0m \u001B[0;32mNone\u001B[0m\u001B[0;34m)\u001B[0m\u001B[0;34m:\u001B[0m\u001B[0;34m\u001B[0m\u001B[0;34m\u001B[0m\u001B[0m\n\u001B[1;32m     13\u001B[0m             \u001B[0mcombination\u001B[0m \u001B[0;34m=\u001B[0m \u001B[0mremainderCombination\u001B[0m \u001B[0;34m+\u001B[0m \u001B[0;34m[\u001B[0m\u001B[0mnum\u001B[0m\u001B[0;34m]\u001B[0m\u001B[0;34m\u001B[0m\u001B[0;34m\u001B[0m\u001B[0m\n",
      "\u001B[0;32m<ipython-input-4-7c1be54291d6>\u001B[0m in \u001B[0;36mbestSum\u001B[0;34m(targetSum, numbers)\u001B[0m\n\u001B[1;32m      9\u001B[0m     \u001B[0;32mfor\u001B[0m \u001B[0mnum\u001B[0m \u001B[0;32min\u001B[0m \u001B[0mnumbers\u001B[0m\u001B[0;34m:\u001B[0m\u001B[0;34m\u001B[0m\u001B[0;34m\u001B[0m\u001B[0m\n\u001B[1;32m     10\u001B[0m         \u001B[0mremainder\u001B[0m \u001B[0;34m=\u001B[0m \u001B[0mtargetSum\u001B[0m \u001B[0;34m-\u001B[0m \u001B[0mnum\u001B[0m\u001B[0;34m\u001B[0m\u001B[0;34m\u001B[0m\u001B[0m\n\u001B[0;32m---> 11\u001B[0;31m         \u001B[0mremainderCombination\u001B[0m \u001B[0;34m=\u001B[0m \u001B[0mbestSum\u001B[0m\u001B[0;34m(\u001B[0m\u001B[0mremainder\u001B[0m\u001B[0;34m,\u001B[0m \u001B[0mnumbers\u001B[0m\u001B[0;34m)\u001B[0m\u001B[0;34m\u001B[0m\u001B[0;34m\u001B[0m\u001B[0m\n\u001B[0m\u001B[1;32m     12\u001B[0m         \u001B[0;32mif\u001B[0m \u001B[0;34m(\u001B[0m\u001B[0mremainderCombination\u001B[0m \u001B[0;32mis\u001B[0m \u001B[0;32mnot\u001B[0m \u001B[0;32mNone\u001B[0m\u001B[0;34m)\u001B[0m\u001B[0;34m:\u001B[0m\u001B[0;34m\u001B[0m\u001B[0;34m\u001B[0m\u001B[0m\n\u001B[1;32m     13\u001B[0m             \u001B[0mcombination\u001B[0m \u001B[0;34m=\u001B[0m \u001B[0mremainderCombination\u001B[0m \u001B[0;34m+\u001B[0m \u001B[0;34m[\u001B[0m\u001B[0mnum\u001B[0m\u001B[0;34m]\u001B[0m\u001B[0;34m\u001B[0m\u001B[0;34m\u001B[0m\u001B[0m\n",
      "\u001B[0;32m<ipython-input-4-7c1be54291d6>\u001B[0m in \u001B[0;36mbestSum\u001B[0;34m(targetSum, numbers)\u001B[0m\n\u001B[1;32m      9\u001B[0m     \u001B[0;32mfor\u001B[0m \u001B[0mnum\u001B[0m \u001B[0;32min\u001B[0m \u001B[0mnumbers\u001B[0m\u001B[0;34m:\u001B[0m\u001B[0;34m\u001B[0m\u001B[0;34m\u001B[0m\u001B[0m\n\u001B[1;32m     10\u001B[0m         \u001B[0mremainder\u001B[0m \u001B[0;34m=\u001B[0m \u001B[0mtargetSum\u001B[0m \u001B[0;34m-\u001B[0m \u001B[0mnum\u001B[0m\u001B[0;34m\u001B[0m\u001B[0;34m\u001B[0m\u001B[0m\n\u001B[0;32m---> 11\u001B[0;31m         \u001B[0mremainderCombination\u001B[0m \u001B[0;34m=\u001B[0m \u001B[0mbestSum\u001B[0m\u001B[0;34m(\u001B[0m\u001B[0mremainder\u001B[0m\u001B[0;34m,\u001B[0m \u001B[0mnumbers\u001B[0m\u001B[0;34m)\u001B[0m\u001B[0;34m\u001B[0m\u001B[0;34m\u001B[0m\u001B[0m\n\u001B[0m\u001B[1;32m     12\u001B[0m         \u001B[0;32mif\u001B[0m \u001B[0;34m(\u001B[0m\u001B[0mremainderCombination\u001B[0m \u001B[0;32mis\u001B[0m \u001B[0;32mnot\u001B[0m \u001B[0;32mNone\u001B[0m\u001B[0;34m)\u001B[0m\u001B[0;34m:\u001B[0m\u001B[0;34m\u001B[0m\u001B[0;34m\u001B[0m\u001B[0m\n\u001B[1;32m     13\u001B[0m             \u001B[0mcombination\u001B[0m \u001B[0;34m=\u001B[0m \u001B[0mremainderCombination\u001B[0m \u001B[0;34m+\u001B[0m \u001B[0;34m[\u001B[0m\u001B[0mnum\u001B[0m\u001B[0;34m]\u001B[0m\u001B[0;34m\u001B[0m\u001B[0;34m\u001B[0m\u001B[0m\n",
      "\u001B[0;32m<ipython-input-4-7c1be54291d6>\u001B[0m in \u001B[0;36mbestSum\u001B[0;34m(targetSum, numbers)\u001B[0m\n\u001B[1;32m      9\u001B[0m     \u001B[0;32mfor\u001B[0m \u001B[0mnum\u001B[0m \u001B[0;32min\u001B[0m \u001B[0mnumbers\u001B[0m\u001B[0;34m:\u001B[0m\u001B[0;34m\u001B[0m\u001B[0;34m\u001B[0m\u001B[0m\n\u001B[1;32m     10\u001B[0m         \u001B[0mremainder\u001B[0m \u001B[0;34m=\u001B[0m \u001B[0mtargetSum\u001B[0m \u001B[0;34m-\u001B[0m \u001B[0mnum\u001B[0m\u001B[0;34m\u001B[0m\u001B[0;34m\u001B[0m\u001B[0m\n\u001B[0;32m---> 11\u001B[0;31m         \u001B[0mremainderCombination\u001B[0m \u001B[0;34m=\u001B[0m \u001B[0mbestSum\u001B[0m\u001B[0;34m(\u001B[0m\u001B[0mremainder\u001B[0m\u001B[0;34m,\u001B[0m \u001B[0mnumbers\u001B[0m\u001B[0;34m)\u001B[0m\u001B[0;34m\u001B[0m\u001B[0;34m\u001B[0m\u001B[0m\n\u001B[0m\u001B[1;32m     12\u001B[0m         \u001B[0;32mif\u001B[0m \u001B[0;34m(\u001B[0m\u001B[0mremainderCombination\u001B[0m \u001B[0;32mis\u001B[0m \u001B[0;32mnot\u001B[0m \u001B[0;32mNone\u001B[0m\u001B[0;34m)\u001B[0m\u001B[0;34m:\u001B[0m\u001B[0;34m\u001B[0m\u001B[0;34m\u001B[0m\u001B[0m\n\u001B[1;32m     13\u001B[0m             \u001B[0mcombination\u001B[0m \u001B[0;34m=\u001B[0m \u001B[0mremainderCombination\u001B[0m \u001B[0;34m+\u001B[0m \u001B[0;34m[\u001B[0m\u001B[0mnum\u001B[0m\u001B[0;34m]\u001B[0m\u001B[0;34m\u001B[0m\u001B[0;34m\u001B[0m\u001B[0m\n",
      "\u001B[0;32m<ipython-input-4-7c1be54291d6>\u001B[0m in \u001B[0;36mbestSum\u001B[0;34m(targetSum, numbers)\u001B[0m\n\u001B[1;32m      9\u001B[0m     \u001B[0;32mfor\u001B[0m \u001B[0mnum\u001B[0m \u001B[0;32min\u001B[0m \u001B[0mnumbers\u001B[0m\u001B[0;34m:\u001B[0m\u001B[0;34m\u001B[0m\u001B[0;34m\u001B[0m\u001B[0m\n\u001B[1;32m     10\u001B[0m         \u001B[0mremainder\u001B[0m \u001B[0;34m=\u001B[0m \u001B[0mtargetSum\u001B[0m \u001B[0;34m-\u001B[0m \u001B[0mnum\u001B[0m\u001B[0;34m\u001B[0m\u001B[0;34m\u001B[0m\u001B[0m\n\u001B[0;32m---> 11\u001B[0;31m         \u001B[0mremainderCombination\u001B[0m \u001B[0;34m=\u001B[0m \u001B[0mbestSum\u001B[0m\u001B[0;34m(\u001B[0m\u001B[0mremainder\u001B[0m\u001B[0;34m,\u001B[0m \u001B[0mnumbers\u001B[0m\u001B[0;34m)\u001B[0m\u001B[0;34m\u001B[0m\u001B[0;34m\u001B[0m\u001B[0m\n\u001B[0m\u001B[1;32m     12\u001B[0m         \u001B[0;32mif\u001B[0m \u001B[0;34m(\u001B[0m\u001B[0mremainderCombination\u001B[0m \u001B[0;32mis\u001B[0m \u001B[0;32mnot\u001B[0m \u001B[0;32mNone\u001B[0m\u001B[0;34m)\u001B[0m\u001B[0;34m:\u001B[0m\u001B[0;34m\u001B[0m\u001B[0;34m\u001B[0m\u001B[0m\n\u001B[1;32m     13\u001B[0m             \u001B[0mcombination\u001B[0m \u001B[0;34m=\u001B[0m \u001B[0mremainderCombination\u001B[0m \u001B[0;34m+\u001B[0m \u001B[0;34m[\u001B[0m\u001B[0mnum\u001B[0m\u001B[0;34m]\u001B[0m\u001B[0;34m\u001B[0m\u001B[0;34m\u001B[0m\u001B[0m\n",
      "\u001B[0;32m<ipython-input-4-7c1be54291d6>\u001B[0m in \u001B[0;36mbestSum\u001B[0;34m(targetSum, numbers)\u001B[0m\n\u001B[1;32m      9\u001B[0m     \u001B[0;32mfor\u001B[0m \u001B[0mnum\u001B[0m \u001B[0;32min\u001B[0m \u001B[0mnumbers\u001B[0m\u001B[0;34m:\u001B[0m\u001B[0;34m\u001B[0m\u001B[0;34m\u001B[0m\u001B[0m\n\u001B[1;32m     10\u001B[0m         \u001B[0mremainder\u001B[0m \u001B[0;34m=\u001B[0m \u001B[0mtargetSum\u001B[0m \u001B[0;34m-\u001B[0m \u001B[0mnum\u001B[0m\u001B[0;34m\u001B[0m\u001B[0;34m\u001B[0m\u001B[0m\n\u001B[0;32m---> 11\u001B[0;31m         \u001B[0mremainderCombination\u001B[0m \u001B[0;34m=\u001B[0m \u001B[0mbestSum\u001B[0m\u001B[0;34m(\u001B[0m\u001B[0mremainder\u001B[0m\u001B[0;34m,\u001B[0m \u001B[0mnumbers\u001B[0m\u001B[0;34m)\u001B[0m\u001B[0;34m\u001B[0m\u001B[0;34m\u001B[0m\u001B[0m\n\u001B[0m\u001B[1;32m     12\u001B[0m         \u001B[0;32mif\u001B[0m \u001B[0;34m(\u001B[0m\u001B[0mremainderCombination\u001B[0m \u001B[0;32mis\u001B[0m \u001B[0;32mnot\u001B[0m \u001B[0;32mNone\u001B[0m\u001B[0;34m)\u001B[0m\u001B[0;34m:\u001B[0m\u001B[0;34m\u001B[0m\u001B[0;34m\u001B[0m\u001B[0m\n\u001B[1;32m     13\u001B[0m             \u001B[0mcombination\u001B[0m \u001B[0;34m=\u001B[0m \u001B[0mremainderCombination\u001B[0m \u001B[0;34m+\u001B[0m \u001B[0;34m[\u001B[0m\u001B[0mnum\u001B[0m\u001B[0;34m]\u001B[0m\u001B[0;34m\u001B[0m\u001B[0;34m\u001B[0m\u001B[0m\n",
      "\u001B[0;32m<ipython-input-4-7c1be54291d6>\u001B[0m in \u001B[0;36mbestSum\u001B[0;34m(targetSum, numbers)\u001B[0m\n\u001B[1;32m      8\u001B[0m     \u001B[0mshortestCombination\u001B[0m \u001B[0;34m=\u001B[0m \u001B[0;32mNone\u001B[0m\u001B[0;34m\u001B[0m\u001B[0;34m\u001B[0m\u001B[0m\n\u001B[1;32m      9\u001B[0m     \u001B[0;32mfor\u001B[0m \u001B[0mnum\u001B[0m \u001B[0;32min\u001B[0m \u001B[0mnumbers\u001B[0m\u001B[0;34m:\u001B[0m\u001B[0;34m\u001B[0m\u001B[0;34m\u001B[0m\u001B[0m\n\u001B[0;32m---> 10\u001B[0;31m         \u001B[0mremainder\u001B[0m \u001B[0;34m=\u001B[0m \u001B[0mtargetSum\u001B[0m \u001B[0;34m-\u001B[0m \u001B[0mnum\u001B[0m\u001B[0;34m\u001B[0m\u001B[0;34m\u001B[0m\u001B[0m\n\u001B[0m\u001B[1;32m     11\u001B[0m         \u001B[0mremainderCombination\u001B[0m \u001B[0;34m=\u001B[0m \u001B[0mbestSum\u001B[0m\u001B[0;34m(\u001B[0m\u001B[0mremainder\u001B[0m\u001B[0;34m,\u001B[0m \u001B[0mnumbers\u001B[0m\u001B[0;34m)\u001B[0m\u001B[0;34m\u001B[0m\u001B[0;34m\u001B[0m\u001B[0m\n\u001B[1;32m     12\u001B[0m         \u001B[0;32mif\u001B[0m \u001B[0;34m(\u001B[0m\u001B[0mremainderCombination\u001B[0m \u001B[0;32mis\u001B[0m \u001B[0;32mnot\u001B[0m \u001B[0;32mNone\u001B[0m\u001B[0;34m)\u001B[0m\u001B[0;34m:\u001B[0m\u001B[0;34m\u001B[0m\u001B[0;34m\u001B[0m\u001B[0m\n",
      "\u001B[0;31mKeyboardInterrupt\u001B[0m: "
     ]
    }
   ],
   "source": [
    "bestSum(100, [25,1,2,5,4,7])"
   ],
   "metadata": {
    "collapsed": false,
    "pycharm": {
     "name": "#%%\n"
    }
   }
  },
  {
   "cell_type": "markdown",
   "source": [
    "bestSum with memo"
   ],
   "metadata": {
    "collapsed": false
   }
  },
  {
   "cell_type": "code",
   "execution_count": 16,
   "outputs": [
    {
     "data": {
      "text/plain": "'\\nm = targetSum\\nn = numbers.length\\ntime complexity: O(n^m * m)\\nspace complexity: O(m**2)\\n'"
     },
     "execution_count": 16,
     "metadata": {},
     "output_type": "execute_result"
    }
   ],
   "source": [
    "def bestSum(targetSum, numbers, memo={}):\n",
    "    if targetSum in memo:\n",
    "        return memo[targetSum]\n",
    "    if targetSum == 0:\n",
    "        return []\n",
    "\n",
    "    if targetSum < 0:\n",
    "        return None\n",
    "\n",
    "    shortestCombination = None\n",
    "    for num in numbers:\n",
    "        remainder = targetSum - num\n",
    "        remainderCombination = bestSum(remainder, numbers, memo)\n",
    "        if (remainderCombination is not None):\n",
    "            combination = remainderCombination + [num] # add the num into remainderCombination array\n",
    "            if ( shortestCombination==None or len(combination)<len(shortestCombination)):  #\n",
    "                shortestCombination = combination\n",
    "\n",
    "    memo[targetSum] = shortestCombination\n",
    "    return shortestCombination # return to the upper level\n",
    "\n",
    "\"\"\"\n",
    "m = targetSum\n",
    "n = numbers.length\n",
    "time complexity: O(m**2 * n )\n",
    "space complexity: O(m**2)\n",
    "\"\"\""
   ],
   "metadata": {
    "collapsed": false,
    "pycharm": {
     "name": "#%%\n"
    }
   }
  },
  {
   "cell_type": "code",
   "execution_count": 17,
   "outputs": [
    {
     "data": {
      "text/plain": "[25, 25, 25, 25]"
     },
     "execution_count": 17,
     "metadata": {},
     "output_type": "execute_result"
    }
   ],
   "source": [
    "bestSum(100, [25,1,2,5,4,7])"
   ],
   "metadata": {
    "collapsed": false,
    "pycharm": {
     "name": "#%%\n"
    }
   }
  },
  {
   "cell_type": "markdown",
   "source": [
    "## the following is about words\n",
    "\n",
    "from  can we find the right combination\n",
    "to how we find one of the combinations\n",
    "until is there any best combination"
   ],
   "metadata": {
    "collapsed": false
   }
  },
  {
   "cell_type": "markdown",
   "source": [],
   "metadata": {
    "collapsed": false
   }
  },
  {
   "cell_type": "code",
   "execution_count": 21,
   "outputs": [],
   "source": [
    "# step: base case; for loop, and remainder; update ?\n",
    "def canConstruct(target, wordBank):\n",
    "    if target == '':\n",
    "        return True\n",
    "\n",
    "    for word in wordBank:\n",
    "        # get index\n",
    "        if word in target and target.index(word) == 0:\n",
    "            remainder = target[len(word):]\n",
    "            # then recursive\n",
    "            if canConstruct(remainder, wordBank):\n",
    "                return True\n",
    "\n",
    "    return False\n",
    "# Time complexity: O(n^m*m)\n",
    "# Sapce complexity:O(m**2)"
   ],
   "metadata": {
    "collapsed": false,
    "pycharm": {
     "name": "#%%\n"
    }
   }
  },
  {
   "cell_type": "code",
   "execution_count": 22,
   "outputs": [
    {
     "data": {
      "text/plain": "True"
     },
     "execution_count": 22,
     "metadata": {},
     "output_type": "execute_result"
    }
   ],
   "source": [
    "canConstruct('abcdef', ['ab','abc','cd','def','abcd'])"
   ],
   "metadata": {
    "collapsed": false,
    "pycharm": {
     "name": "#%%\n"
    }
   }
  },
  {
   "cell_type": "code",
   "execution_count": 23,
   "outputs": [
    {
     "data": {
      "text/plain": "False"
     },
     "execution_count": 23,
     "metadata": {},
     "output_type": "execute_result"
    }
   ],
   "source": [
    "canConstruct('skateboard', ['bo','rd','ate','t','ska','sk','boar'])"
   ],
   "metadata": {
    "collapsed": false,
    "pycharm": {
     "name": "#%%\n"
    }
   }
  },
  {
   "cell_type": "code",
   "execution_count": 18,
   "outputs": [
    {
     "data": {
      "text/plain": "0"
     },
     "execution_count": 18,
     "metadata": {},
     "output_type": "execute_result"
    }
   ],
   "source": [
    "'abcdef'.index('abc')"
   ],
   "metadata": {
    "collapsed": false,
    "pycharm": {
     "name": "#%%\n"
    }
   }
  },
  {
   "cell_type": "markdown",
   "source": [
    "# improvement of canConstruct"
   ],
   "metadata": {
    "collapsed": false
   }
  },
  {
   "cell_type": "code",
   "execution_count": 30,
   "outputs": [],
   "source": [
    "# step: base case; for loop, and remainder; update ?\n",
    "def canConstructMemo(target, wordBank,memo={}):\n",
    "    if target in memo:\n",
    "        return memo[target]\n",
    "    if target == '':\n",
    "        return True\n",
    "\n",
    "    for word in wordBank:\n",
    "        # get index\n",
    "        if word in target and target.index(word) == 0:\n",
    "            remainder = target[len(word):]\n",
    "            # then recursive\n",
    "            if canConstructMemo(remainder, wordBank, memo):\n",
    "                memo[target] =True\n",
    "                return True\n",
    "    memo[target] = False\n",
    "    return False\n",
    "# Time complexity: O(n*m*m)\n",
    "# Sapce complexity:O(m**2)\n",
    "# method 2\n",
    "class Solution:\n",
    "    def __init__(self):\n",
    "        self.memo = {}\n",
    "\n",
    "    def wordBreak(self, target: str, wordBank: list) -> bool:\n",
    "        if target in self.memo:\n",
    "            return self.memo[target]\n",
    "        if target == '':\n",
    "            return True\n",
    "\n",
    "        for word in wordBank:\n",
    "            # get index\n",
    "            if word in target and target.index(word) == 0:\n",
    "                remainder = target[len(word):]\n",
    "                # then recursive\n",
    "                if self.wordBreak(remainder, wordBank):\n",
    "                    self.memo[target] =True\n",
    "                    return True\n",
    "\n",
    "        self.memo[target] = False\n",
    "        return None\n",
    "\n"
   ],
   "metadata": {
    "collapsed": false,
    "pycharm": {
     "name": "#%%\n"
    }
   }
  },
  {
   "cell_type": "code",
   "execution_count": 28,
   "outputs": [
    {
     "data": {
      "text/plain": "False"
     },
     "execution_count": 28,
     "metadata": {},
     "output_type": "execute_result"
    }
   ],
   "source": [
    "canConstruct('a',['b'])"
   ],
   "metadata": {
    "collapsed": false,
    "pycharm": {
     "name": "#%%\n"
    }
   }
  },
  {
   "cell_type": "markdown",
   "source": [
    "## countConstruct(target, wordBank) that accepts target string and an array of strings\n",
    "\n",
    "the function should return the number of ways that the target can be constructed elements of the word bank array"
   ],
   "metadata": {
    "collapsed": false
   }
  },
  {
   "cell_type": "code",
   "execution_count": 1,
   "outputs": [],
   "source": [
    "# the trick is to set the memo'vals into []\n",
    "class Solution:\n",
    "    def __init__(self):\n",
    "        self.memo = {}\n",
    "        self.res = []\n",
    "    def wordBreak(self, target: str, wordBank: list) -> bool:\n",
    "        if target == '':\n",
    "            return [[]]\n",
    "\n",
    "        # draw lessons from permutations\n",
    "        res = []\n",
    "        for word in wordBank:\n",
    "            if word in target and target.index(word) == 0:\n",
    "                remainder = target[len(word):]\n",
    "                temp =self.wordBreak(remainder,wordBank)\n",
    "                for t in temp:\n",
    "                    if word not in t:\n",
    "                        t.append(word)\n",
    "                res.extend(temp) # extend is different from append;\n",
    "                print(res)\n",
    "\n",
    "        return res\n",
    "\n"
   ],
   "metadata": {
    "collapsed": false,
    "pycharm": {
     "name": "#%%\n"
    }
   }
  },
  {
   "cell_type": "code",
   "execution_count": 2,
   "outputs": [],
   "source": [
    "s = Solution()\n",
    "# print(s.wordBreak('a',['b']))"
   ],
   "metadata": {
    "collapsed": false,
    "pycharm": {
     "name": "#%%\n"
    }
   }
  },
  {
   "cell_type": "code",
   "execution_count": 3,
   "outputs": [
    {
     "name": "stdout",
     "output_type": "stream",
     "text": [
      "[['dog']]\n",
      "[['dog', 'sand']]\n",
      "[['dog', 'sand', 'cat']]\n",
      "[['dog']]\n",
      "[['dog', 'and']]\n",
      "[['dog', 'sand', 'cat'], ['dog', 'and', 'cats']]\n"
     ]
    },
    {
     "data": {
      "text/plain": "[['dog', 'sand', 'cat'], ['dog', 'and', 'cats']]"
     },
     "execution_count": 3,
     "metadata": {},
     "output_type": "execute_result"
    }
   ],
   "source": [
    "s.wordBreak(\"catsanddog\",\n",
    "[\"cat\",\"cats\",\"and\",\"sand\",\"dog\"])"
   ],
   "metadata": {
    "collapsed": false,
    "pycharm": {
     "name": "#%%\n"
    }
   }
  },
  {
   "cell_type": "code",
   "execution_count": 137,
   "outputs": [],
   "source": [],
   "metadata": {
    "collapsed": false,
    "pycharm": {
     "name": "#%%\n"
    }
   }
  },
  {
   "cell_type": "code",
   "execution_count": null,
   "outputs": [],
   "source": [],
   "metadata": {
    "collapsed": false,
    "pycharm": {
     "name": "#%%\n"
    }
   }
  }
 ],
 "metadata": {
  "kernelspec": {
   "display_name": "Python 3",
   "language": "python",
   "name": "python3"
  },
  "language_info": {
   "codemirror_mode": {
    "name": "ipython",
    "version": 2
   },
   "file_extension": ".py",
   "mimetype": "text/x-python",
   "name": "python",
   "nbconvert_exporter": "python",
   "pygments_lexer": "ipython2",
   "version": "2.7.6"
  }
 },
 "nbformat": 4,
 "nbformat_minor": 0
}
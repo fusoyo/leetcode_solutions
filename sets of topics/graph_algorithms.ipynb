{
 "cells": [
  {
   "cell_type": "markdown",
   "source": [
    "depth or breadth first\n",
    "\n",
    "graph = nodes + edges\n",
    "\n",
    "directed and undirected graph"
   ],
   "metadata": {
    "collapsed": false
   }
  },
  {
   "cell_type": "code",
   "execution_count": 5,
   "metadata": {
    "collapsed": true
   },
   "outputs": [],
   "source": [
    "graph1 = {\n",
    "    'a': ['b', 'c'],\n",
    "    'b': ['d'],\n",
    "    'c': ['e'],\n",
    "    'd': ['f'],\n",
    "    'e': [],\n",
    "    'f': []\n",
    "}"
   ]
  },
  {
   "cell_type": "code",
   "execution_count": 12,
   "outputs": [],
   "source": [
    "def depth_first_graph(graph, source):\n",
    "    stack = [source]  # an initial node\n",
    "\n",
    "    while stack:\n",
    "        current = stack.pop()\n",
    "        print(current)\n",
    "        for neighbor in graph[current][::-1]:  # reverse order so that the result can go from the left to the right\n",
    "            stack.append(neighbor)\n",
    "\n",
    "\n",
    "def depth_first_graph_recursive(graph, source):\n",
    "    print(source)\n",
    "\n",
    "    for neighbor in graph[source]:  # when zero iteration, the recursive call will stop\n",
    "        depth_first_graph(graph, neighbor)"
   ],
   "metadata": {
    "collapsed": false,
    "pycharm": {
     "name": "#%%\n"
    }
   }
  },
  {
   "cell_type": "code",
   "execution_count": 14,
   "outputs": [
    {
     "name": "stdout",
     "output_type": "stream",
     "text": [
      "a\n",
      "b\n",
      "d\n",
      "f\n",
      "c\n",
      "e\n"
     ]
    }
   ],
   "source": [
    "depth_first_graph(graph1, 'a')"
   ],
   "metadata": {
    "collapsed": false,
    "pycharm": {
     "name": "#%%\n"
    }
   }
  },
  {
   "cell_type": "code",
   "execution_count": 15,
   "outputs": [
    {
     "name": "stdout",
     "output_type": "stream",
     "text": [
      "a\n",
      "b\n",
      "d\n",
      "f\n",
      "c\n",
      "e\n"
     ]
    }
   ],
   "source": [
    "depth_first_graph_recursive(graph1, 'a')"
   ],
   "metadata": {
    "collapsed": false,
    "pycharm": {
     "name": "#%%\n"
    }
   }
  },
  {
   "cell_type": "code",
   "execution_count": 18,
   "outputs": [],
   "source": [
    "def breadth_first_graph(graph, source):\n",
    "    queue = [source]\n",
    "\n",
    "    while queue:\n",
    "        current = queue.pop(0)  # this is equal to array shift in js\n",
    "        print(current)\n",
    "        for neighbor in graph[current]:\n",
    "            queue.append(neighbor)\n"
   ],
   "metadata": {
    "collapsed": false,
    "pycharm": {
     "name": "#%%\n"
    }
   }
  },
  {
   "cell_type": "code",
   "execution_count": 19,
   "outputs": [
    {
     "name": "stdout",
     "output_type": "stream",
     "text": [
      "a\n",
      "b\n",
      "c\n",
      "d\n",
      "e\n",
      "f\n"
     ]
    }
   ],
   "source": [
    "breadth_first_graph(graph1, 'a')"
   ],
   "metadata": {
    "collapsed": false,
    "pycharm": {
     "name": "#%%\n"
    }
   }
  },
  {
   "cell_type": "markdown",
   "source": [
    "cycle and acyclic graph"
   ],
   "metadata": {
    "collapsed": false
   }
  },
  {
   "cell_type": "code",
   "execution_count": 26,
   "outputs": [],
   "source": [
    "# this is a depth first solution\n",
    "def has_path(graph, src, dst):\n",
    "    if src == dst:\n",
    "        return True\n",
    "\n",
    "    for neighbor in graph[src]:\n",
    "        if has_path(graph, neighbor, dst):\n",
    "            return True\n",
    "    return False"
   ],
   "metadata": {
    "collapsed": false,
    "pycharm": {
     "name": "#%%\n"
    }
   }
  },
  {
   "cell_type": "code",
   "execution_count": 27,
   "outputs": [
    {
     "data": {
      "text/plain": "False"
     },
     "execution_count": 27,
     "metadata": {},
     "output_type": "execute_result"
    }
   ],
   "source": [
    "has_path(graph1, 'b', 'e')"
   ],
   "metadata": {
    "collapsed": false,
    "pycharm": {
     "name": "#%%\n"
    }
   }
  },
  {
   "cell_type": "code",
   "execution_count": 29,
   "outputs": [],
   "source": [
    "# this is the breadth first solution\n",
    "def has_path2(graph, src, dst):\n",
    "    queue = [src]\n",
    "\n",
    "    while queue:\n",
    "        current = queue.pop(0)\n",
    "\n",
    "        if current == dst: return True\n",
    "        for neighbor in graph[current]:\n",
    "            queue.append(neighbor)\n",
    "\n",
    "    return False"
   ],
   "metadata": {
    "collapsed": false,
    "pycharm": {
     "name": "#%%\n"
    }
   }
  },
  {
   "cell_type": "code",
   "execution_count": 31,
   "outputs": [
    {
     "data": {
      "text/plain": "True"
     },
     "execution_count": 31,
     "metadata": {},
     "output_type": "execute_result"
    }
   ],
   "source": [
    "has_path2(graph1, 'a', 'e')"
   ],
   "metadata": {
    "collapsed": false,
    "pycharm": {
     "name": "#%%\n"
    }
   }
  },
  {
   "cell_type": "code",
   "execution_count": 33,
   "outputs": [],
   "source": [
    "# edges1 = {\n",
    "#     'i': ['j', 'k'],\n",
    "#     'j': ['i'],\n",
    "#     'k': ['i', 'm', 'l'],\n",
    "#     'm': ['k'],\n",
    "#     'l': ['k'],\n",
    "#     'o': ['n'],\n",
    "#     'n': ['o']\n",
    "# }\n",
    "\n",
    "edges1 = [\n",
    "    ['i', 'j'],\n",
    "    ['k', 'i'],\n",
    "    ['k', 'l'],\n",
    "    ['m', 'k'],\n",
    "]"
   ],
   "metadata": {
    "collapsed": false,
    "pycharm": {
     "name": "#%%\n"
    }
   }
  },
  {
   "cell_type": "code",
   "execution_count": 65,
   "outputs": [],
   "source": [
    "# set is really useful to stop endless loop or multiple request management;\n",
    "# here the func is for undirected graph\n",
    "def undirected_path(edges, nodeA, nodeB):\n",
    "    graph = build_graph(edges)\n",
    "    visited = set()\n",
    "\n",
    "    return has_path1(graph, nodeA, nodeB, visited)\n",
    "\n",
    "\n",
    "def has_path1(graph, src, dst, visited):\n",
    "    if src == dst:\n",
    "        return True\n",
    "\n",
    "    if src in visited:\n",
    "        return False\n",
    "\n",
    "    visited.add(src)\n",
    "\n",
    "    for neighbor in graph[src]:\n",
    "        if has_path1(graph, neighbor, dst, visited):\n",
    "            return True\n",
    "    return False\n",
    "\n",
    "\n",
    "def build_graph(edges):\n",
    "    graph = {}\n",
    "\n",
    "    for edge in edges:\n",
    "        a, b = edge\n",
    "\n",
    "        if a not in graph: graph[a] = []\n",
    "        if b not in graph: graph[b] = []\n",
    "\n",
    "        graph[a].append(b)\n",
    "        graph[b].append(a)\n",
    "    return graph"
   ],
   "metadata": {
    "collapsed": false,
    "pycharm": {
     "name": "#%%\n"
    }
   }
  },
  {
   "cell_type": "code",
   "execution_count": 64,
   "outputs": [
    {
     "data": {
      "text/plain": "True"
     },
     "execution_count": 64,
     "metadata": {},
     "output_type": "execute_result"
    }
   ],
   "source": [
    "undirected_path(edges1, 'i', 'j')"
   ],
   "metadata": {
    "collapsed": false,
    "pycharm": {
     "name": "#%%\n"
    }
   }
  },
  {
   "cell_type": "code",
   "execution_count": 77,
   "outputs": [],
   "source": [
    "def connected_component_count(graph):\n",
    "    visited = set()\n",
    "    count = 0\n",
    "\n",
    "    for node in graph:\n",
    "        if explore(graph, node, visited):\n",
    "            count += 1\n",
    "\n",
    "    return count\n",
    "\n",
    "def explore(graph, current, visited):\n",
    "    if current in visited:\n",
    "        return False\n",
    "    print(current)\n",
    "    visited.add(str(current))  # to avoid str and int in the same set\n",
    "\n",
    "    for neighbor in graph[current]:\n",
    "        explore(graph, neighbor, visited)\n",
    "\n",
    "    return True"
   ],
   "metadata": {
    "collapsed": false,
    "pycharm": {
     "name": "#%%\n"
    }
   }
  },
  {
   "cell_type": "code",
   "execution_count": 78,
   "outputs": [
    {
     "data": {
      "text/plain": "[8, 1, 5]"
     },
     "execution_count": 78,
     "metadata": {},
     "output_type": "execute_result"
    }
   ],
   "source": [
    "graph2[0]"
   ],
   "metadata": {
    "collapsed": false,
    "pycharm": {
     "name": "#%%\n"
    }
   }
  },
  {
   "cell_type": "code",
   "execution_count": 83,
   "outputs": [],
   "source": [
    "graph2 = {\n",
    "    '0': ['8', '1', '5'],\n",
    "   '1': ['0'],\n",
    "    '5': ['0', '8'],\n",
    "    '8': ['0', '5'],\n",
    "    '2': ['3', '4'],\n",
    "    '3': ['2', '4'],\n",
    "    '4': ['3', '2']\n",
    "}"
   ],
   "metadata": {
    "collapsed": false,
    "pycharm": {
     "name": "#%%\n"
    }
   }
  },
  {
   "cell_type": "code",
   "execution_count": 84,
   "outputs": [
    {
     "name": "stdout",
     "output_type": "stream",
     "text": [
      "0\n",
      "8\n",
      "5\n",
      "1\n",
      "2\n",
      "3\n",
      "4\n"
     ]
    },
    {
     "data": {
      "text/plain": "2"
     },
     "execution_count": 84,
     "metadata": {},
     "output_type": "execute_result"
    }
   ],
   "source": [
    "connected_component_count(graph2)"
   ],
   "metadata": {
    "collapsed": false,
    "pycharm": {
     "name": "#%%\n"
    }
   }
  },
  {
   "cell_type": "code",
   "execution_count": null,
   "outputs": [],
   "source": [],
   "metadata": {
    "collapsed": false,
    "pycharm": {
     "name": "#%%\n"
    }
   }
  }
 ],
 "metadata": {
  "kernelspec": {
   "display_name": "Python 3",
   "language": "python",
   "name": "python3"
  },
  "language_info": {
   "codemirror_mode": {
    "name": "ipython",
    "version": 2
   },
   "file_extension": ".py",
   "mimetype": "text/x-python",
   "name": "python",
   "nbconvert_exporter": "python",
   "pygments_lexer": "ipython2",
   "version": "2.7.6"
  }
 },
 "nbformat": 4,
 "nbformat_minor": 0
}
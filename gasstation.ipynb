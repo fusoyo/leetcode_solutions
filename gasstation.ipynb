{
 "cells": [
  {
   "cell_type": "code",
   "execution_count": null,
   "metadata": {},
   "outputs": [],
   "source": [
    "def can_traverse(gas, cost, start):\n",
    "    n = len(gas)\n",
    "    remaining = 0 # how much gas remains\n",
    "    i = start\n",
    "    started = False\n",
    "    while i != start or not started:\n",
    "        started = True\n",
    "        remaining += gas[i] - cost[i]\n",
    "        if remaining < 0:\n",
    "            return False\n",
    "        i = (i+1) % n\n",
    "    return True\n",
    "\n",
    "def gas_station(gas, cost):\n",
    "    remaining = 0 \n",
    "    candidate = 0 \n",
    "    for i in range(len(gas)):\n",
    "        remaining += gas[i] - cost[i]\n",
    "        if remaining < 0:\n",
    "            candidate = i +1\n",
    "            remaining = 0  # start again\n",
    "    prev_remaining = sum(gas[:candidate]) - sum(cost[:candidate])\n",
    "    if candidate == len(gas) or remaining + prev_remaining < 0:\n",
    "        return -1 \n",
    "    else:\n",
    "        return candidate"
   ]
  },
  {
   "cell_type": "code",
   "execution_count": null,
   "metadata": {},
   "outputs": [],
   "source": [
    "gas = [1,5,3,3,5,3,1,3,4,5]\n",
    "cost = [5,2,2,8,2,4,2,5,1,2]\n",
    "gas_station(gas, cost)"
   ]
  },
  {
   "cell_type": "code",
   "execution_count": null,
   "metadata": {},
   "outputs": [],
   "source": []
  }
 ],
 "metadata": {
  "language_info": {
   "name": "python"
  },
  "orig_nbformat": 4
 },
 "nbformat": 4,
 "nbformat_minor": 2
}

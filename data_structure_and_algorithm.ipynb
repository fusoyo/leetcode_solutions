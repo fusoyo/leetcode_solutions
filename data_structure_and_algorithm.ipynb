{
 "cells": [
  {
   "cell_type": "markdown",
   "metadata": {},
   "source": [
    "# Data Structure"
   ]
  },
  {
   "cell_type": "markdown",
   "metadata": {},
   "source": [
    "## Array"
   ]
  },
  {
   "cell_type": "code",
   "execution_count": 1,
   "metadata": {},
   "outputs": [],
   "source": [
    "new_list = [1, 2, 3, 4, 5, 6, 7, 8, 9]"
   ]
  },
  {
   "cell_type": "code",
   "execution_count": 2,
   "metadata": {},
   "outputs": [
    {
     "data": {
      "text/plain": [
       "9"
      ]
     },
     "execution_count": 2,
     "metadata": {},
     "output_type": "execute_result"
    }
   ],
   "source": [
    "new_list[-1]"
   ]
  },
  {
   "cell_type": "code",
   "execution_count": 3,
   "metadata": {},
   "outputs": [
    {
     "name": "stdout",
     "output_type": "stream",
     "text": [
      "True\n",
      "0.000997781753540039\n"
     ]
    }
   ],
   "source": [
    "import time\n",
    "\n",
    "start = time.time()\n",
    "if 1 in new_list:\n",
    "    print(True)\n",
    "print(time.time() - start)"
   ]
  },
  {
   "cell_type": "code",
   "execution_count": 7,
   "metadata": {},
   "outputs": [
    {
     "name": "stdout",
     "output_type": "stream",
     "text": [
      "True\n",
      "0.0\n"
     ]
    }
   ],
   "source": [
    "start = time.time()\n",
    "for i in range(len(new_list)):\n",
    "    if new_list[i] == 6:\n",
    "        print(True)\n",
    "\n",
    "print(time.time() - start)"
   ]
  },
  {
   "cell_type": "markdown",
   "metadata": {},
   "source": [
    "## Linked List"
   ]
  },
  {
   "cell_type": "code",
   "execution_count": 6,
   "metadata": {},
   "outputs": [],
   "source": [
    "class Node:\n",
    "    data = None\n",
    "    next_node = None\n",
    "\n",
    "    def __init__(self, data):\n",
    "        self.data = data\n",
    "\n",
    "    def __repr__(self):\n",
    "        return \"<Node data:{}>\".format(self.data)"
   ]
  },
  {
   "cell_type": "code",
   "execution_count": 15,
   "metadata": {},
   "outputs": [],
   "source": [
    "N1 = Node(10)"
   ]
  },
  {
   "cell_type": "code",
   "execution_count": 16,
   "metadata": {},
   "outputs": [
    {
     "name": "stdout",
     "output_type": "stream",
     "text": [
      "<Node data:10>\n"
     ]
    }
   ],
   "source": [
    "print(N1)"
   ]
  },
  {
   "cell_type": "code",
   "execution_count": 17,
   "metadata": {},
   "outputs": [],
   "source": [
    "N2 = Node(12)\n",
    "N1.next_node = N2"
   ]
  },
  {
   "cell_type": "code",
   "execution_count": 18,
   "metadata": {},
   "outputs": [
    {
     "data": {
      "text/plain": [
       "<Node data:12>"
      ]
     },
     "execution_count": 18,
     "metadata": {},
     "output_type": "execute_result"
    }
   ],
   "source": [
    "N1.next_node"
   ]
  },
  {
   "cell_type": "code",
   "execution_count": 81,
   "metadata": {},
   "outputs": [],
   "source": [
    "class LinkedList:\n",
    "    \"\"\"\n",
    "    \"\"\"\n",
    "\n",
    "    def __init__(self):\n",
    "        self.head = None\n",
    "\n",
    "    def is_empty(self):\n",
    "        return self.head == None\n",
    "\n",
    "    def size(self):\n",
    "        \"\"\"takes O(n) time\"\"\"\n",
    "        current = self.head\n",
    "        count = 0\n",
    "        while current != None:\n",
    "            count += 1\n",
    "            current = current.next_node\n",
    "        return count\n",
    "\n",
    "    def add(self, data):\n",
    "        \"\"\"add new Node containing data at head of the list\"\"\"\n",
    "        new_node = Node(data)\n",
    "        new_node.next_node = self.head\n",
    "        self.head = new_node\n",
    "\n",
    "    def search(self, key):\n",
    "        current = self.head\n",
    "        while current:\n",
    "            if current.data == key:\n",
    "                return current\n",
    "            else:\n",
    "                current = current.next_node\n",
    "        return None\n",
    "\n",
    "    def insert(self, data, index):\n",
    "        if index == 0:\n",
    "            self.add(data)\n",
    "\n",
    "        if index > 0:\n",
    "            count = 0\n",
    "            current = self.head\n",
    "\n",
    "            while current:\n",
    "\n",
    "                if count == index - 1:\n",
    "                    next_node = current.next_node\n",
    "                    current.next_node = Node(data)\n",
    "                    current.next_node.next_node = next_node\n",
    "                    break\n",
    "                count += 1\n",
    "                current = current.next_node\n",
    "\n",
    "    def remove(self, key):\n",
    "        current = self.head\n",
    "        found = False\n",
    "        previous = None\n",
    "\n",
    "        while current and not found:\n",
    "            if current.data == key and current is self.head:\n",
    "                found = True\n",
    "                self.head = current.next_node\n",
    "            elif current.data == key:\n",
    "                found = True\n",
    "                previous.next_node = current.next_node\n",
    "            else:\n",
    "                previous = current\n",
    "                current = current.next_node\n",
    "\n",
    "    def __repr__(self):\n",
    "        nodes = []\n",
    "        current = self.head\n",
    "        while current != None:\n",
    "            if current is self.head:\n",
    "                nodes.append(\"[Head: %s]\" % current.data)\n",
    "            elif current.next_node is None:\n",
    "                nodes.append(\"[Tail: %s]\" % current.data)\n",
    "            else:\n",
    "                nodes.append(\"[%s]\" % current.data)\n",
    "            current = current.next_node\n",
    "        return '-> '.join(nodes)\n",
    "\n"
   ]
  },
  {
   "cell_type": "code",
   "execution_count": 83,
   "metadata": {},
   "outputs": [],
   "source": [
    "l = LinkedList()"
   ]
  },
  {
   "cell_type": "code",
   "execution_count": 84,
   "metadata": {},
   "outputs": [
    {
     "data": {
      "text/plain": [
       "0"
      ]
     },
     "execution_count": 84,
     "metadata": {},
     "output_type": "execute_result"
    }
   ],
   "source": [
    "l.size()"
   ]
  },
  {
   "cell_type": "code",
   "execution_count": 87,
   "metadata": {},
   "outputs": [],
   "source": [
    "l.add(3)\n",
    "l.add(14)\n",
    "l.add(15)"
   ]
  },
  {
   "cell_type": "code",
   "execution_count": 88,
   "metadata": {},
   "outputs": [
    {
     "data": {
      "text/plain": [
       "<Node data:15>"
      ]
     },
     "execution_count": 88,
     "metadata": {},
     "output_type": "execute_result"
    }
   ],
   "source": [
    "l.search(15)"
   ]
  },
  {
   "cell_type": "code",
   "execution_count": 89,
   "metadata": {},
   "outputs": [
    {
     "data": {
      "text/plain": [
       "3"
      ]
     },
     "execution_count": 89,
     "metadata": {},
     "output_type": "execute_result"
    }
   ],
   "source": [
    "l.size()"
   ]
  },
  {
   "cell_type": "code",
   "execution_count": 91,
   "metadata": {},
   "outputs": [],
   "source": [
    "l.insert(2, 1)\n"
   ]
  },
  {
   "cell_type": "code",
   "execution_count": 92,
   "metadata": {},
   "outputs": [
    {
     "data": {
      "text/plain": [
       "[Head: 15]-> [2]-> [2]-> [14]-> [Tail: 3]"
      ]
     },
     "execution_count": 92,
     "metadata": {},
     "output_type": "execute_result"
    }
   ],
   "source": [
    "l"
   ]
  },
  {
   "cell_type": "code",
   "execution_count": 95,
   "metadata": {},
   "outputs": [],
   "source": [
    "l.remove(2)"
   ]
  },
  {
   "cell_type": "code",
   "execution_count": 96,
   "metadata": {},
   "outputs": [
    {
     "data": {
      "text/plain": [
       "[Head: 15]-> [14]-> [Tail: 3]"
      ]
     },
     "execution_count": 96,
     "metadata": {},
     "output_type": "execute_result"
    }
   ],
   "source": [
    "l"
   ]
  },
  {
   "cell_type": "markdown",
   "metadata": {},
   "source": [
    "## Merge sort \n",
    "\n",
    "divide and conquer and combine\n",
    "\n",
    "cost: "
   ]
  },
  {
   "cell_type": "code",
   "execution_count": 97,
   "metadata": {},
   "outputs": [],
   "source": [
    "def merge_sort(list):\n",
    "    \"\"\"sorts a list in ascending order, returns a new sorted list.\n",
    "        Divide: \n",
    "        Conquer:\n",
    "        Combine:\n",
    "    \"\"\"\n",
    "    if len(list) <= 1:\n",
    "        return list\n",
    "\n",
    "    left_half, right_half = split(list)\n",
    "\n",
    "    left = merge_sort(left_half)\n",
    "    right = merge_sort(right_half)\n",
    "\n",
    "    return merge(left, right)\n",
    "\n",
    "\n",
    "def merge(left, right):\n",
    "    l = []\n",
    "    i = 0\n",
    "    j = 0\n",
    "    while i < len(left) and j < len(right):\n",
    "        if left[i] <= right[j]:\n",
    "            l.append(left[i])\n",
    "            i += 1\n",
    "        else:\n",
    "            l.append(right[j])\n",
    "            j += 1\n",
    "    while i < len(left):\n",
    "        l.append(left[i])\n",
    "        i += 1\n",
    "    while j < len(right):\n",
    "        l.append(right[j])\n",
    "        j += 1\n",
    "\n",
    "    return l\n",
    "\n",
    "\n",
    "def split(list):\n",
    "    \"\"\"sublists of lists\"\"\"\n",
    "    mid = len(list) // 2\n",
    "    left = list[:mid]\n",
    "    right = list[mid:]\n",
    "\n",
    "    return left, right\n",
    "\n",
    "\n",
    "\n"
   ]
  },
  {
   "cell_type": "code",
   "execution_count": 99,
   "metadata": {},
   "outputs": [
    {
     "data": {
      "text/plain": [
       "[1, 1, 2, 2, 3, 3, 4, 4, 6, 9, 23, 45, 65, 67, 344]"
      ]
     },
     "execution_count": 99,
     "metadata": {},
     "output_type": "execute_result"
    }
   ],
   "source": [
    "l = [4, 23, 4, 6, 1, 2, 9, 3, 2, 3, 67, 1, 65, 45, 344]\n",
    "merge_sort(l)"
   ]
  },
  {
   "cell_type": "code",
   "execution_count": 2,
   "outputs": [],
   "source": [
    "class Node:\n",
    "    data = None\n",
    "    next_node = None\n",
    "\n",
    "    def __init__(self, data):\n",
    "        self.data = data\n",
    "\n",
    "    def __repr__(self):\n",
    "        return \"<Node data:{}>\".format(self.data)\n",
    "\n",
    "\n",
    "class LinkedList:\n",
    "    \"\"\"\n",
    "    \"\"\"\n",
    "\n",
    "    def __init__(self):\n",
    "        self.head = None\n",
    "\n",
    "    def is_empty(self):\n",
    "        return self.head == None\n",
    "\n",
    "    def size(self):\n",
    "        \"\"\"takes O(n) time\"\"\"\n",
    "        current = self.head\n",
    "        count = 0\n",
    "        while current != None:\n",
    "            count += 1\n",
    "            current = current.next_node\n",
    "        return count\n",
    "\n",
    "    def add(self, data):\n",
    "        \"\"\"add new Node containing data at head of the list\"\"\"\n",
    "        new_node = Node(data)\n",
    "        new_node.next_node = self.head\n",
    "        self.head = new_node\n",
    "\n",
    "    def search(self, key):\n",
    "        current = self.head\n",
    "        while current:\n",
    "            if current.data == key:\n",
    "                return current\n",
    "            else:\n",
    "                current = current.next_node\n",
    "        return None\n",
    "\n",
    "    def insert(self, data, index):\n",
    "        if index == 0:\n",
    "            self.add(data)\n",
    "\n",
    "        if index > 0:\n",
    "            count = 0\n",
    "            current = self.head\n",
    "\n",
    "            while current:\n",
    "\n",
    "                if count == index - 1:\n",
    "                    next_node = current.next_node\n",
    "                    current.next_node = Node(data)\n",
    "                    current.next_node.next_node = next_node\n",
    "                    break\n",
    "                count += 1\n",
    "                current = current.next_node\n",
    "\n",
    "    def remove(self, key):\n",
    "        current = self.head\n",
    "        found = False\n",
    "        previous = None\n",
    "\n",
    "        while current and not found:\n",
    "            if current.data == key and current is self.head:\n",
    "                found = True\n",
    "                self.head = current.next_node\n",
    "            elif current.data == key:\n",
    "                found = True\n",
    "                previous.next_node = current.next_node\n",
    "            else:\n",
    "                previous = current\n",
    "                current = current.next_node\n",
    "\n",
    "    def node_at_index(self, index):\n",
    "        if index == 0:\n",
    "            return self.head\n",
    "        else:\n",
    "            current = self.head\n",
    "            position = 0\n",
    "            while position < index:\n",
    "                current = current.next_node\n",
    "                position = position + 1\n",
    "            return current\n",
    "\n",
    "    def __repr__(self):\n",
    "        nodes = []\n",
    "        current = self.head\n",
    "        while current != None:\n",
    "            if current is self.head:\n",
    "                nodes.append(\"[Head: %s]\" % current.data)\n",
    "            elif current.next_node is None:\n",
    "                nodes.append(\"[Tail: %s]\" % current.data)\n",
    "            else:\n",
    "                nodes.append(\"[%s]\" % current.data)\n",
    "            current = current.next_node\n",
    "        return '-> '.join(nodes)\n",
    "\n"
   ],
   "metadata": {
    "collapsed": false,
    "pycharm": {
     "name": "#%%\n"
    }
   }
  },
  {
   "cell_type": "code",
   "execution_count": 69,
   "metadata": {},
   "outputs": [],
<<<<<<< HEAD
   "source": []
  },
  {
   "cell_type": "markdown",
   "metadata": {},
   "source": [
    "## Stack"
=======
   "source": [
    "def linkedlist_merge_sort(linked_list):\n",
    "    \"\"\"\n",
    "    sorts a linked list in ascending order.\n",
    "    -- recursively divide the linked list into sublists containing a single node\n",
    "    -- repeatedly merge the sublists to produce sorted sublists until one remains\n",
    "    :param linkedlist:\n",
    "    :return:\n",
    "    \"\"\"\n",
    "    if linked_list.size() == 1:\n",
    "        return linked_list\n",
    "    elif linked_list is None:\n",
    "        return linked_list\n",
    "\n",
    "    left_half, right_half = split(linked_list)\n",
    "    left = linkedlist_merge_sort(left_half)\n",
    "    right = linkedlist_merge_sort(right_half)\n",
    "\n",
    "    return merge(left, right)\n",
    "\n",
    "\n",
    "def split(linked_list):\n",
    "    \"\"\"\n",
    "    divde\n",
    "    :param linked_list:\n",
    "    :return:\n",
    "    \"\"\"\n",
    "    if linked_list == None or linked_list.head == None:\n",
    "        left_half = linked_list\n",
    "        right_half = None\n",
    "\n",
    "        return left_half, right_half\n",
    "    else:\n",
    "        size = linked_list.size()\n",
    "        mid = size // 2\n",
    "        mid_node = linked_list.node_at_index(mid - 1)\n",
    "        left_half = linked_list\n",
    "        right_half = LinkedList()\n",
    "        right_half.head = mid_node.next_node\n",
    "        mid_node.next_node = None\n",
    "\n",
    "        return left_half, right_half\n",
    "\n",
    "\n",
    "def merge(left, right):\n",
    "    \"\"\"\n",
    "    merge two linked list\n",
    "    :param left:\n",
    "    :param right:\n",
    "    :return:\n",
    "    \"\"\"\n",
    "    merged = LinkedList()\n",
    "    merged.add(8)\n",
    "\n",
    "    current = merged.head\n",
    "\n",
    "    current_left = left.head\n",
    "    current_right = right.head\n",
    "\n",
    "    while current_left or current_right:\n",
    "        # deal with tail\n",
    "        if current_left is None:\n",
    "            current.next_node = current_right\n",
    "            # call next on right to set loop condition to false;\n",
    "            current_right = current_right.next_node\n",
    "        elif current_right is None:\n",
    "            current.next_node = current_left\n",
    "            # call next on left to set loop condition to false\n",
    "            current_left = current_left.next_node\n",
    "        else:\n",
    "            left_data = current_left.data\n",
    "            right_data = current_right.data\n",
    "            if left_data < right_data:\n",
    "                current.next_node = current_left\n",
    "                current_left = current_left.next_node\n",
    "            else:\n",
    "                current.next_node = current_right\n",
    "                current_right = current_right.next_node\n",
    "            current = current.next_node\n",
    "    head = merged.head.next_node\n",
    "    merged.head = head\n",
    "\n",
    "    return merged\n",
    "\n"
>>>>>>> 332007e89d874aec396fa7c60e86c6888014d2ff
   ]
  },
  {
   "cell_type": "code",
<<<<<<< HEAD
   "execution_count": null,
   "metadata": {},
   "outputs": [],
   "source": [
    "from sys import maxsize\n",
    "\n",
    "class Stack:\n",
    "    "
   ]
=======
   "execution_count": 70,
   "outputs": [],
   "source": [
    "import random\n",
    "\n",
    "linked_list = LinkedList()\n",
    "for _ in range(10):\n",
    "    linked_list.add(random.randint(0, 100))"
   ],
   "metadata": {
    "collapsed": false,
    "pycharm": {
     "name": "#%%\n"
    }
   }
  },
  {
   "cell_type": "code",
   "execution_count": 71,
   "outputs": [
    {
     "data": {
      "text/plain": "[Head: 82]-> [7]-> [92]-> [17]-> [81]-> [40]-> [38]-> [91]-> [50]-> [Tail: 100]"
     },
     "execution_count": 71,
     "metadata": {},
     "output_type": "execute_result"
    }
   ],
   "source": [
    "linked_list"
   ],
   "metadata": {
    "collapsed": false,
    "pycharm": {
     "name": "#%%\n"
    }
   }
  },
  {
   "cell_type": "code",
   "execution_count": 72,
   "outputs": [
    {
     "data": {
      "text/plain": "[Head: 7]-> [17]-> [38]-> [40]-> [81]-> [82]-> [92]-> [Tail: 100]"
     },
     "execution_count": 72,
     "metadata": {},
     "output_type": "execute_result"
    }
   ],
   "source": [
    "linkedlist_merge_sort(linked_list)"
   ],
   "metadata": {
    "collapsed": false,
    "pycharm": {
     "name": "#%%\n"
    }
   }
>>>>>>> 332007e89d874aec396fa7c60e86c6888014d2ff
  },
  {
   "cell_type": "code",
   "execution_count": null,
<<<<<<< HEAD
   "metadata": {},
   "outputs": [],
   "source": []
=======
   "outputs": [],
   "source": [],
   "metadata": {
    "collapsed": false,
    "pycharm": {
     "name": "#%%\n"
    }
   }
>>>>>>> 332007e89d874aec396fa7c60e86c6888014d2ff
  }
 ],
 "metadata": {
  "interpreter": {
   "hash": "90530115b0fc1967bcca638ed1474a41d3fb7ba0906789120a5cbacdea810315"
  },
  "kernelspec": {
   "display_name": "Python 3.8.6 64-bit",
   "language": "python",
   "name": "python3"
  },
  "language_info": {
   "codemirror_mode": {
    "name": "ipython",
    "version": 3
   },
   "file_extension": ".py",
   "mimetype": "text/x-python",
   "name": "python",
   "nbconvert_exporter": "python",
   "pygments_lexer": "ipython3",
   "version": "3.8.5"
  },
  "orig_nbformat": 4
 },
 "nbformat": 4,
 "nbformat_minor": 2
}